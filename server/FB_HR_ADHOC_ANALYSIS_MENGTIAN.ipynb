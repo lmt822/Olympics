{
 "cells": [
  {
   "cell_type": "code",
   "execution_count": 814,
   "metadata": {},
   "outputs": [
    {
     "name": "stdout",
     "output_type": "stream",
     "text": [
      "Requirement already satisfied: numpy in /usr/local/anaconda3/lib/python3.8/site-packages (1.19.2)\n",
      "Collecting package metadata (current_repodata.json): done\n",
      "Solving environment: done\n",
      "\n",
      "## Package Plan ##\n",
      "\n",
      "  environment location: /usr/local/anaconda3\n",
      "\n",
      "  added / updated specs:\n",
      "    - wordcloud\n",
      "\n",
      "\n",
      "The following packages will be downloaded:\n",
      "\n",
      "    package                    |            build\n",
      "    ---------------------------|-----------------\n",
      "    ca-certificates-2020.12.5  |       h033912b_0         138 KB  conda-forge\n",
      "    certifi-2020.12.5          |   py38h50d1736_1         143 KB  conda-forge\n",
      "    openssl-1.1.1j             |       hbcf498f_0         1.9 MB  conda-forge\n",
      "    wordcloud-1.8.1            |   py38h5406a74_1         170 KB  conda-forge\n",
      "    ------------------------------------------------------------\n",
      "                                           Total:         2.3 MB\n",
      "\n",
      "The following NEW packages will be INSTALLED:\n",
      "\n",
      "  wordcloud          conda-forge/osx-64::wordcloud-1.8.1-py38h5406a74_1\n",
      "\n",
      "The following packages will be UPDATED:\n",
      "\n",
      "  ca-certificates    anaconda::ca-certificates-2020.10.14-0 --> conda-forge::ca-certificates-2020.12.5-h033912b_0\n",
      "  certifi                anaconda::certifi-2020.6.20-py38_0 --> conda-forge::certifi-2020.12.5-py38h50d1736_1\n",
      "  openssl               anaconda::openssl-1.1.1h-haf1e3a3_0 --> conda-forge::openssl-1.1.1j-hbcf498f_0\n",
      "\n",
      "\n",
      "Proceed ([y]/n)? \n",
      "\n",
      "Downloading and Extracting Packages\n",
      "ca-certificates-2020 | 138 KB    | ##################################### | 100% \n",
      "openssl-1.1.1j       | 1.9 MB    | ##################################### | 100% \n",
      "certifi-2020.12.5    | 143 KB    | ##################################### | 100% \n",
      "wordcloud-1.8.1      | 170 KB    | ##################################### | 100% \n",
      "Preparing transaction: done\n",
      "Verifying transaction: / WARNING conda.core.path_actions:verify(962): Unable to create environments file. Path not writable.\n",
      "  environment location: /Users/mengtianli/.conda/environments.txt\n",
      "\n",
      "done\n",
      "Executing transaction: done\n"
     ]
    }
   ],
   "source": [
    "!pip3 install numpy\n",
    "!echo 'y' | conda install -c conda-forge wordcloud\n"
   ]
  },
  {
   "cell_type": "code",
   "execution_count": 817,
   "metadata": {},
   "outputs": [],
   "source": [
    "import numpy as np\n",
    "import pandas as pd\n",
    "import matplotlib.pyplot as plt\n",
    "from sklearn.model_selection import train_test_split\n",
    "from sklearn.linear_model import LogisticRegression\n",
    "import wordcloud"
   ]
  },
  {
   "cell_type": "code",
   "execution_count": 697,
   "metadata": {},
   "outputs": [],
   "source": [
    "roster_df = pd.read_csv('/Users/mengtianli/Downloads/HR/HR Ultipro Data - Employee Roster.csv')\n",
    "new_hire_df = pd.read_csv('/Users/mengtianli/Downloads/HR/HR Ultipro Data - New Hires.csv')\n",
    "changes_df = pd.read_csv('/Users/mengtianli/Downloads/HR/HR Ultipro Data - Changes.csv')\n",
    "terms_df = pd.read_csv('/Users/mengtianli/Downloads/HR/HR Ultipro Data - Terms.csv')\n",
    "application_df = pd.read_csv('/Users/mengtianli/Downloads/HR/HR iCims Applicant Data.csv')\n",
    "merged_df = pd.read_csv('/Users/mengtianli/Downloads/HR/beast_v3.csv')\n",
    "salary_df = pd.read_csv('/Users/mengtianli/Downloads/HR/beast_v1.csv')\n",
    "senority_df = pd.read_csv('/Users/mengtianli/Downloads/HR/HR Ultipro Data - 2017 Employee Roster.csv')"
   ]
  },
  {
   "cell_type": "code",
   "execution_count": 698,
   "metadata": {},
   "outputs": [
    {
     "data": {
      "text/plain": [
       "Index(['eeid', 'region_hired', 'eoc', 'success_profile_hired', 'manager_hired',\n",
       "       'bu_hired', 'Voluntary/Involuntary', 'term_type', 'term_indicator',\n",
       "       'rehires_indicator', 'multiple_terms_indicator', 'demotions', 'lateral',\n",
       "       'promotions', 'supervisor_changes', 'org_changes',\n",
       "       'voluntary_separation', 'termed_for_cause', 'temp_job_ended',\n",
       "       'position_elimination', 'other_term_reason', 'num_applications',\n",
       "       'salary_grade_current', 'region_current', 'success_profile_current',\n",
       "       'bu_current', 'manager_current', 'last_change_date', 'start_date'],\n",
       "      dtype='object')"
      ]
     },
     "execution_count": 698,
     "metadata": {},
     "output_type": "execute_result"
    }
   ],
   "source": [
    "merged_df.columns"
   ]
  },
  {
   "cell_type": "code",
   "execution_count": 699,
   "metadata": {},
   "outputs": [],
   "source": [
    "salary_df = salary_df[['eeid', 'salary_grade_hired']]"
   ]
  },
  {
   "cell_type": "code",
   "execution_count": 700,
   "metadata": {},
   "outputs": [],
   "source": [
    "merged_df = merged_df.merge(salary_df, on='eeid', how='left')"
   ]
  },
  {
   "cell_type": "code",
   "execution_count": 701,
   "metadata": {},
   "outputs": [],
   "source": [
    "merged_df['salary_grade_current'] = merged_df.apply(lambda row: row.salary_grade_hired if pd.isnull(row.salary_grade_current) else row.salary_grade_current, axis=1)"
   ]
  },
  {
   "cell_type": "code",
   "execution_count": 702,
   "metadata": {},
   "outputs": [],
   "source": [
    "merged_df = merged_df.drop(columns=['manager_hired', 'manager_current', 'salary_grade_hired'])"
   ]
  },
  {
   "cell_type": "code",
   "execution_count": 703,
   "metadata": {},
   "outputs": [],
   "source": [
    "merged_df.num_applications = merged_df.num_applications.fillna(0)"
   ]
  },
  {
   "cell_type": "code",
   "execution_count": 704,
   "metadata": {},
   "outputs": [],
   "source": [
    "merged_df['start_date'] = pd.to_datetime(merged_df['start_date'], format='%Y-%m-%d', errors='coerce')\n",
    "merged_df['last_change_date'] = pd.to_datetime(merged_df['last_change_date'], format='%Y-%m-%d', errors='coerce')"
   ]
  },
  {
   "cell_type": "code",
   "execution_count": 705,
   "metadata": {},
   "outputs": [
    {
     "data": {
      "text/html": [
       "<div>\n",
       "<style scoped>\n",
       "    .dataframe tbody tr th:only-of-type {\n",
       "        vertical-align: middle;\n",
       "    }\n",
       "\n",
       "    .dataframe tbody tr th {\n",
       "        vertical-align: top;\n",
       "    }\n",
       "\n",
       "    .dataframe thead th {\n",
       "        text-align: right;\n",
       "    }\n",
       "</style>\n",
       "<table border=\"1\" class=\"dataframe\">\n",
       "  <thead>\n",
       "    <tr style=\"text-align: right;\">\n",
       "      <th></th>\n",
       "      <th>eeid</th>\n",
       "      <th>region_hired</th>\n",
       "      <th>eoc</th>\n",
       "      <th>success_profile_hired</th>\n",
       "      <th>bu_hired</th>\n",
       "      <th>Voluntary/Involuntary</th>\n",
       "      <th>term_type</th>\n",
       "      <th>term_indicator</th>\n",
       "      <th>rehires_indicator</th>\n",
       "      <th>multiple_terms_indicator</th>\n",
       "      <th>...</th>\n",
       "      <th>temp_job_ended</th>\n",
       "      <th>position_elimination</th>\n",
       "      <th>other_term_reason</th>\n",
       "      <th>num_applications</th>\n",
       "      <th>salary_grade_current</th>\n",
       "      <th>region_current</th>\n",
       "      <th>success_profile_current</th>\n",
       "      <th>bu_current</th>\n",
       "      <th>last_change_date</th>\n",
       "      <th>start_date</th>\n",
       "    </tr>\n",
       "  </thead>\n",
       "  <tbody>\n",
       "    <tr>\n",
       "      <th>0</th>\n",
       "      <td>00139bda1e4e47e192d87b3a17e0e68280dbb4d259fcfb...</td>\n",
       "      <td>DelMarVa</td>\n",
       "      <td>No</td>\n",
       "      <td>Success Profile 12</td>\n",
       "      <td>Business Unit 9</td>\n",
       "      <td>NaN</td>\n",
       "      <td>NaN</td>\n",
       "      <td>0</td>\n",
       "      <td>0</td>\n",
       "      <td>0</td>\n",
       "      <td>...</td>\n",
       "      <td>0</td>\n",
       "      <td>0</td>\n",
       "      <td>0</td>\n",
       "      <td>1.0</td>\n",
       "      <td>Salary Grade 43</td>\n",
       "      <td>DelMarVa</td>\n",
       "      <td>Success Profile 12</td>\n",
       "      <td>Business Unit 9</td>\n",
       "      <td>2018-07-01</td>\n",
       "      <td>2017-03-15</td>\n",
       "    </tr>\n",
       "    <tr>\n",
       "      <th>1</th>\n",
       "      <td>001a45dd8c745c17432b6e8bb3f7eae08cb216df1d4f64...</td>\n",
       "      <td>Central PA</td>\n",
       "      <td>No</td>\n",
       "      <td>Success Profile 8</td>\n",
       "      <td>Business Unit 3</td>\n",
       "      <td>NaN</td>\n",
       "      <td>NaN</td>\n",
       "      <td>0</td>\n",
       "      <td>0</td>\n",
       "      <td>0</td>\n",
       "      <td>...</td>\n",
       "      <td>0</td>\n",
       "      <td>0</td>\n",
       "      <td>0</td>\n",
       "      <td>0.0</td>\n",
       "      <td>Salary Grade 26</td>\n",
       "      <td>Central PA</td>\n",
       "      <td>Success Profile 8</td>\n",
       "      <td>Business Unit 9</td>\n",
       "      <td>2018-12-01</td>\n",
       "      <td>2013-09-03</td>\n",
       "    </tr>\n",
       "    <tr>\n",
       "      <th>2</th>\n",
       "      <td>0026a2ad36a89c2e8a7985caea92b9d6d95dd6c3273557...</td>\n",
       "      <td>Central PA</td>\n",
       "      <td>No</td>\n",
       "      <td>Success Profile 3</td>\n",
       "      <td>Business Unit 12</td>\n",
       "      <td>Voluntary</td>\n",
       "      <td>Voluntary Separation</td>\n",
       "      <td>1</td>\n",
       "      <td>0</td>\n",
       "      <td>0</td>\n",
       "      <td>...</td>\n",
       "      <td>0</td>\n",
       "      <td>0</td>\n",
       "      <td>0</td>\n",
       "      <td>0.0</td>\n",
       "      <td>Salary Grade 13</td>\n",
       "      <td>Central PA</td>\n",
       "      <td>Success Profile 3</td>\n",
       "      <td>Business Unit 12</td>\n",
       "      <td>2017-10-27</td>\n",
       "      <td>2000-05-01</td>\n",
       "    </tr>\n",
       "    <tr>\n",
       "      <th>3</th>\n",
       "      <td>0036c821b56239707ecc1dab277fc5de9c394b0fab71e4...</td>\n",
       "      <td>Southeastern PA</td>\n",
       "      <td>No</td>\n",
       "      <td>Success Profile 10</td>\n",
       "      <td>Business Unit 9</td>\n",
       "      <td>NaN</td>\n",
       "      <td>NaN</td>\n",
       "      <td>0</td>\n",
       "      <td>0</td>\n",
       "      <td>0</td>\n",
       "      <td>...</td>\n",
       "      <td>0</td>\n",
       "      <td>0</td>\n",
       "      <td>0</td>\n",
       "      <td>0.0</td>\n",
       "      <td>Salary Grade 33</td>\n",
       "      <td>Southeastern PA</td>\n",
       "      <td>Success Profile 7</td>\n",
       "      <td>Business Unit 9</td>\n",
       "      <td>2018-07-01</td>\n",
       "      <td>2010-04-26</td>\n",
       "    </tr>\n",
       "    <tr>\n",
       "      <th>4</th>\n",
       "      <td>00380f8c2cb63b8f2ae64ed1a916f792204e61233577d0...</td>\n",
       "      <td>New Jersey</td>\n",
       "      <td>Yes</td>\n",
       "      <td>Success Profile 5</td>\n",
       "      <td>Business Unit 5</td>\n",
       "      <td>Voluntary</td>\n",
       "      <td>Voluntary Separation</td>\n",
       "      <td>1</td>\n",
       "      <td>0</td>\n",
       "      <td>0</td>\n",
       "      <td>...</td>\n",
       "      <td>0</td>\n",
       "      <td>0</td>\n",
       "      <td>0</td>\n",
       "      <td>5.0</td>\n",
       "      <td>Salary Grade 41</td>\n",
       "      <td>New Jersey</td>\n",
       "      <td>Success Profile 5</td>\n",
       "      <td>Business Unit 5</td>\n",
       "      <td>2018-12-29</td>\n",
       "      <td>2017-11-27</td>\n",
       "    </tr>\n",
       "    <tr>\n",
       "      <th>...</th>\n",
       "      <td>...</td>\n",
       "      <td>...</td>\n",
       "      <td>...</td>\n",
       "      <td>...</td>\n",
       "      <td>...</td>\n",
       "      <td>...</td>\n",
       "      <td>...</td>\n",
       "      <td>...</td>\n",
       "      <td>...</td>\n",
       "      <td>...</td>\n",
       "      <td>...</td>\n",
       "      <td>...</td>\n",
       "      <td>...</td>\n",
       "      <td>...</td>\n",
       "      <td>...</td>\n",
       "      <td>...</td>\n",
       "      <td>...</td>\n",
       "      <td>...</td>\n",
       "      <td>...</td>\n",
       "      <td>...</td>\n",
       "      <td>...</td>\n",
       "    </tr>\n",
       "    <tr>\n",
       "      <th>5943</th>\n",
       "      <td>ffdf235139f852de522d8e413de512b46ea1e0f775bf83...</td>\n",
       "      <td>Central PA</td>\n",
       "      <td>No</td>\n",
       "      <td>Success Profile 6</td>\n",
       "      <td>Business Unit 5</td>\n",
       "      <td>NaN</td>\n",
       "      <td>NaN</td>\n",
       "      <td>0</td>\n",
       "      <td>0</td>\n",
       "      <td>0</td>\n",
       "      <td>...</td>\n",
       "      <td>0</td>\n",
       "      <td>0</td>\n",
       "      <td>0</td>\n",
       "      <td>0.0</td>\n",
       "      <td>Salary Grade 41</td>\n",
       "      <td>Central PA</td>\n",
       "      <td>Success Profile 5</td>\n",
       "      <td>Business Unit 5</td>\n",
       "      <td>2020-05-18</td>\n",
       "      <td>2019-07-08</td>\n",
       "    </tr>\n",
       "    <tr>\n",
       "      <th>5944</th>\n",
       "      <td>ffedfa589643253b5c54e128af7de402711373bdabec85...</td>\n",
       "      <td>Central PA</td>\n",
       "      <td>No</td>\n",
       "      <td>Success Profile 5</td>\n",
       "      <td>Business Unit 5</td>\n",
       "      <td>Voluntary</td>\n",
       "      <td>Voluntary Separation</td>\n",
       "      <td>1</td>\n",
       "      <td>0</td>\n",
       "      <td>0</td>\n",
       "      <td>...</td>\n",
       "      <td>0</td>\n",
       "      <td>0</td>\n",
       "      <td>0</td>\n",
       "      <td>0.0</td>\n",
       "      <td>Salary Grade 27</td>\n",
       "      <td>Central PA</td>\n",
       "      <td>Success Profile 5</td>\n",
       "      <td>Business Unit 5</td>\n",
       "      <td>2018-07-07</td>\n",
       "      <td>2018-04-02</td>\n",
       "    </tr>\n",
       "    <tr>\n",
       "      <th>5945</th>\n",
       "      <td>ffeef11a846f222d745d7a8b7ed1c0ce584cbb02184fea...</td>\n",
       "      <td>Central PA</td>\n",
       "      <td>No</td>\n",
       "      <td>Success Profile 5</td>\n",
       "      <td>Business Unit 5</td>\n",
       "      <td>Voluntary</td>\n",
       "      <td>Voluntary Separation</td>\n",
       "      <td>1</td>\n",
       "      <td>0</td>\n",
       "      <td>0</td>\n",
       "      <td>...</td>\n",
       "      <td>0</td>\n",
       "      <td>0</td>\n",
       "      <td>0</td>\n",
       "      <td>0.0</td>\n",
       "      <td>Salary Grade 13</td>\n",
       "      <td>Central PA</td>\n",
       "      <td>Success Profile 5</td>\n",
       "      <td>Business Unit 5</td>\n",
       "      <td>2017-05-12</td>\n",
       "      <td>2015-11-09</td>\n",
       "    </tr>\n",
       "    <tr>\n",
       "      <th>5946</th>\n",
       "      <td>fff24422dd53454cff9107833d1be20d42df0a8c6f8170...</td>\n",
       "      <td>Central PA</td>\n",
       "      <td>Yes</td>\n",
       "      <td>Success Profile 3</td>\n",
       "      <td>Business Unit 1</td>\n",
       "      <td>Voluntary</td>\n",
       "      <td>Voluntary Separation</td>\n",
       "      <td>1</td>\n",
       "      <td>0</td>\n",
       "      <td>0</td>\n",
       "      <td>...</td>\n",
       "      <td>0</td>\n",
       "      <td>0</td>\n",
       "      <td>0</td>\n",
       "      <td>0.0</td>\n",
       "      <td>Salary Grade 3</td>\n",
       "      <td>Central PA</td>\n",
       "      <td>Success Profile 3</td>\n",
       "      <td>Business Unit 1</td>\n",
       "      <td>2019-03-27</td>\n",
       "      <td>2013-05-28</td>\n",
       "    </tr>\n",
       "    <tr>\n",
       "      <th>5947</th>\n",
       "      <td>fffc5fa1342c846136848f769649ea20bae6ce0edd5db5...</td>\n",
       "      <td>Southeastern PA</td>\n",
       "      <td>Yes</td>\n",
       "      <td>Success Profile 5</td>\n",
       "      <td>Business Unit 5</td>\n",
       "      <td>Voluntary</td>\n",
       "      <td>Voluntary Separation</td>\n",
       "      <td>1</td>\n",
       "      <td>0</td>\n",
       "      <td>0</td>\n",
       "      <td>...</td>\n",
       "      <td>0</td>\n",
       "      <td>0</td>\n",
       "      <td>0</td>\n",
       "      <td>1.0</td>\n",
       "      <td>Salary Grade 41</td>\n",
       "      <td>Southeastern PA</td>\n",
       "      <td>Success Profile 5</td>\n",
       "      <td>Business Unit 5</td>\n",
       "      <td>2019-08-26</td>\n",
       "      <td>2019-08-05</td>\n",
       "    </tr>\n",
       "  </tbody>\n",
       "</table>\n",
       "<p>5948 rows × 27 columns</p>\n",
       "</div>"
      ],
      "text/plain": [
       "                                                   eeid     region_hired  eoc  \\\n",
       "0     00139bda1e4e47e192d87b3a17e0e68280dbb4d259fcfb...         DelMarVa   No   \n",
       "1     001a45dd8c745c17432b6e8bb3f7eae08cb216df1d4f64...       Central PA   No   \n",
       "2     0026a2ad36a89c2e8a7985caea92b9d6d95dd6c3273557...       Central PA   No   \n",
       "3     0036c821b56239707ecc1dab277fc5de9c394b0fab71e4...  Southeastern PA   No   \n",
       "4     00380f8c2cb63b8f2ae64ed1a916f792204e61233577d0...       New Jersey  Yes   \n",
       "...                                                 ...              ...  ...   \n",
       "5943  ffdf235139f852de522d8e413de512b46ea1e0f775bf83...       Central PA   No   \n",
       "5944  ffedfa589643253b5c54e128af7de402711373bdabec85...       Central PA   No   \n",
       "5945  ffeef11a846f222d745d7a8b7ed1c0ce584cbb02184fea...       Central PA   No   \n",
       "5946  fff24422dd53454cff9107833d1be20d42df0a8c6f8170...       Central PA  Yes   \n",
       "5947  fffc5fa1342c846136848f769649ea20bae6ce0edd5db5...  Southeastern PA  Yes   \n",
       "\n",
       "     success_profile_hired          bu_hired Voluntary/Involuntary  \\\n",
       "0       Success Profile 12   Business Unit 9                   NaN   \n",
       "1        Success Profile 8   Business Unit 3                   NaN   \n",
       "2        Success Profile 3  Business Unit 12             Voluntary   \n",
       "3       Success Profile 10   Business Unit 9                   NaN   \n",
       "4        Success Profile 5   Business Unit 5             Voluntary   \n",
       "...                    ...               ...                   ...   \n",
       "5943     Success Profile 6   Business Unit 5                   NaN   \n",
       "5944     Success Profile 5   Business Unit 5             Voluntary   \n",
       "5945     Success Profile 5   Business Unit 5             Voluntary   \n",
       "5946     Success Profile 3   Business Unit 1             Voluntary   \n",
       "5947     Success Profile 5   Business Unit 5             Voluntary   \n",
       "\n",
       "                 term_type  term_indicator  rehires_indicator  \\\n",
       "0                      NaN               0                  0   \n",
       "1                      NaN               0                  0   \n",
       "2     Voluntary Separation               1                  0   \n",
       "3                      NaN               0                  0   \n",
       "4     Voluntary Separation               1                  0   \n",
       "...                    ...             ...                ...   \n",
       "5943                   NaN               0                  0   \n",
       "5944  Voluntary Separation               1                  0   \n",
       "5945  Voluntary Separation               1                  0   \n",
       "5946  Voluntary Separation               1                  0   \n",
       "5947  Voluntary Separation               1                  0   \n",
       "\n",
       "      multiple_terms_indicator  ...  temp_job_ended  position_elimination  \\\n",
       "0                            0  ...               0                     0   \n",
       "1                            0  ...               0                     0   \n",
       "2                            0  ...               0                     0   \n",
       "3                            0  ...               0                     0   \n",
       "4                            0  ...               0                     0   \n",
       "...                        ...  ...             ...                   ...   \n",
       "5943                         0  ...               0                     0   \n",
       "5944                         0  ...               0                     0   \n",
       "5945                         0  ...               0                     0   \n",
       "5946                         0  ...               0                     0   \n",
       "5947                         0  ...               0                     0   \n",
       "\n",
       "      other_term_reason  num_applications  salary_grade_current  \\\n",
       "0                     0               1.0       Salary Grade 43   \n",
       "1                     0               0.0       Salary Grade 26   \n",
       "2                     0               0.0       Salary Grade 13   \n",
       "3                     0               0.0       Salary Grade 33   \n",
       "4                     0               5.0       Salary Grade 41   \n",
       "...                 ...               ...                   ...   \n",
       "5943                  0               0.0       Salary Grade 41   \n",
       "5944                  0               0.0       Salary Grade 27   \n",
       "5945                  0               0.0       Salary Grade 13   \n",
       "5946                  0               0.0        Salary Grade 3   \n",
       "5947                  0               1.0       Salary Grade 41   \n",
       "\n",
       "       region_current  success_profile_current        bu_current  \\\n",
       "0            DelMarVa       Success Profile 12   Business Unit 9   \n",
       "1          Central PA        Success Profile 8   Business Unit 9   \n",
       "2          Central PA        Success Profile 3  Business Unit 12   \n",
       "3     Southeastern PA        Success Profile 7   Business Unit 9   \n",
       "4          New Jersey        Success Profile 5   Business Unit 5   \n",
       "...               ...                      ...               ...   \n",
       "5943       Central PA        Success Profile 5   Business Unit 5   \n",
       "5944       Central PA        Success Profile 5   Business Unit 5   \n",
       "5945       Central PA        Success Profile 5   Business Unit 5   \n",
       "5946       Central PA        Success Profile 3   Business Unit 1   \n",
       "5947  Southeastern PA        Success Profile 5   Business Unit 5   \n",
       "\n",
       "      last_change_date  start_date  \n",
       "0           2018-07-01  2017-03-15  \n",
       "1           2018-12-01  2013-09-03  \n",
       "2           2017-10-27  2000-05-01  \n",
       "3           2018-07-01  2010-04-26  \n",
       "4           2018-12-29  2017-11-27  \n",
       "...                ...         ...  \n",
       "5943        2020-05-18  2019-07-08  \n",
       "5944        2018-07-07  2018-04-02  \n",
       "5945        2017-05-12  2015-11-09  \n",
       "5946        2019-03-27  2013-05-28  \n",
       "5947        2019-08-26  2019-08-05  \n",
       "\n",
       "[5948 rows x 27 columns]"
      ]
     },
     "execution_count": 705,
     "metadata": {},
     "output_type": "execute_result"
    }
   ],
   "source": [
    "merged_df"
   ]
  },
  {
   "cell_type": "code",
   "execution_count": 706,
   "metadata": {},
   "outputs": [
    {
     "data": {
      "text/plain": [
       "eeid                                object\n",
       "region_hired                        object\n",
       "eoc                                 object\n",
       "success_profile_hired               object\n",
       "bu_hired                            object\n",
       "Voluntary/Involuntary               object\n",
       "term_type                           object\n",
       "term_indicator                       int64\n",
       "rehires_indicator                    int64\n",
       "multiple_terms_indicator             int64\n",
       "demotions                            int64\n",
       "lateral                              int64\n",
       "promotions                           int64\n",
       "supervisor_changes                   int64\n",
       "org_changes                          int64\n",
       "voluntary_separation                 int64\n",
       "termed_for_cause                     int64\n",
       "temp_job_ended                       int64\n",
       "position_elimination                 int64\n",
       "other_term_reason                    int64\n",
       "num_applications                   float64\n",
       "salary_grade_current                object\n",
       "region_current                      object\n",
       "success_profile_current             object\n",
       "bu_current                          object\n",
       "last_change_date            datetime64[ns]\n",
       "start_date                  datetime64[ns]\n",
       "dtype: object"
      ]
     },
     "execution_count": 706,
     "metadata": {},
     "output_type": "execute_result"
    }
   ],
   "source": [
    "merged_df.dtypes"
   ]
  },
  {
   "cell_type": "code",
   "execution_count": 733,
   "metadata": {},
   "outputs": [],
   "source": [
    "x_year = 2\n",
    "def time_in_position(row):\n",
    "    if row.term_indicator:\n",
    "        return pd.Timedelta(row.last_change_date - row.start_date).days\n",
    "    else:\n",
    "        return None\n",
    "\n",
    "merged_df['days_before_term'] = merged_df.apply(time_in_position, axis=1)\n",
    "merged_df['term_in_X_year'] = merged_df.apply(lambda row: 1 if row.days_before_term < 365 * x_year else 0, axis=1)"
   ]
  },
  {
   "cell_type": "code",
   "execution_count": 734,
   "metadata": {},
   "outputs": [
    {
     "data": {
      "text/plain": [
       "0    4750\n",
       "1    1198\n",
       "Name: term_in_X_year, dtype: int64"
      ]
     },
     "execution_count": 734,
     "metadata": {},
     "output_type": "execute_result"
    }
   ],
   "source": [
    "merged_df['term_in_X_year'].value_counts()"
   ]
  },
  {
   "cell_type": "code",
   "execution_count": 735,
   "metadata": {},
   "outputs": [],
   "source": [
    "merged_df = merged_df.drop(columns='days_before_term')"
   ]
  },
  {
   "cell_type": "code",
   "execution_count": 710,
   "metadata": {},
   "outputs": [],
   "source": [
    "merged_df.eoc = merged_df.apply(lambda row: 1 if row.eoc == 'Yes' else 0, axis=1)"
   ]
  },
  {
   "cell_type": "code",
   "execution_count": 736,
   "metadata": {},
   "outputs": [],
   "source": [
    "X=pd.get_dummies(merged_df[['region_hired', 'eoc', 'success_profile_hired', 'bu_hired',\n",
    "       'rehires_indicator', 'multiple_terms_indicator', 'demotions', 'lateral',\n",
    "       'promotions', 'supervisor_changes', 'org_changes',\n",
    "       'num_applications', 'region_current', 'success_profile_current', 'salary_grade_current',\n",
    "       'bu_current']], dummy_na=True)"
   ]
  },
  {
   "cell_type": "code",
   "execution_count": 737,
   "metadata": {},
   "outputs": [
    {
     "data": {
      "text/plain": [
       "Index(['eoc', 'rehires_indicator', 'multiple_terms_indicator', 'demotions',\n",
       "       'lateral', 'promotions', 'supervisor_changes', 'org_changes',\n",
       "       'num_applications', 'region_hired_Central PA',\n",
       "       ...\n",
       "       'bu_current_Business Unit 13', 'bu_current_Business Unit 2',\n",
       "       'bu_current_Business Unit 3', 'bu_current_Business Unit 4',\n",
       "       'bu_current_Business Unit 5', 'bu_current_Business Unit 6',\n",
       "       'bu_current_Business Unit 7', 'bu_current_Business Unit 8',\n",
       "       'bu_current_Business Unit 9', 'bu_current_nan'],\n",
       "      dtype='object', length=117)"
      ]
     },
     "execution_count": 737,
     "metadata": {},
     "output_type": "execute_result"
    }
   ],
   "source": [
    "X.columns"
   ]
  },
  {
   "cell_type": "code",
   "execution_count": 738,
   "metadata": {},
   "outputs": [],
   "source": [
    "y = merged_df.term_in_X_year"
   ]
  },
  {
   "cell_type": "code",
   "execution_count": 739,
   "metadata": {},
   "outputs": [
    {
     "data": {
      "text/plain": [
       "(5948,)"
      ]
     },
     "execution_count": 739,
     "metadata": {},
     "output_type": "execute_result"
    }
   ],
   "source": [
    "y.shape"
   ]
  },
  {
   "cell_type": "code",
   "execution_count": 740,
   "metadata": {},
   "outputs": [],
   "source": []
  },
  {
   "cell_type": "code",
   "execution_count": 750,
   "metadata": {},
   "outputs": [
    {
     "data": {
      "text/plain": [
       "0.8848352387357095"
      ]
     },
     "execution_count": 750,
     "metadata": {},
     "output_type": "execute_result"
    }
   ],
   "source": [
    "log_clf = LogisticRegression(random_state=0, max_iter=10000).fit(X, y)\n",
    "log_clf.score(X, y)"
   ]
  },
  {
   "cell_type": "code",
   "execution_count": 743,
   "metadata": {},
   "outputs": [
    {
     "data": {
      "text/plain": [
       "Index(['eoc', 'rehires_indicator', 'multiple_terms_indicator', 'demotions',\n",
       "       'lateral', 'promotions', 'supervisor_changes', 'org_changes',\n",
       "       'num_applications', 'region_hired_Central PA',\n",
       "       ...\n",
       "       'bu_current_Business Unit 13', 'bu_current_Business Unit 2',\n",
       "       'bu_current_Business Unit 3', 'bu_current_Business Unit 4',\n",
       "       'bu_current_Business Unit 5', 'bu_current_Business Unit 6',\n",
       "       'bu_current_Business Unit 7', 'bu_current_Business Unit 8',\n",
       "       'bu_current_Business Unit 9', 'bu_current_nan'],\n",
       "      dtype='object', length=117)"
      ]
     },
     "execution_count": 743,
     "metadata": {},
     "output_type": "execute_result"
    }
   ],
   "source": [
    "X.columns"
   ]
  },
  {
   "cell_type": "code",
   "execution_count": 838,
   "metadata": {},
   "outputs": [],
   "source": [
    "importance = log_clf.coef_[0]\n",
    "feature_importance=pd.DataFrame(columns=['feature', 'score'])\n",
    "# summarize feature importance\n",
    "for i,v in enumerate(importance):\n",
    "    feature_importance.loc[i] = [X.columns[i]] + [v]\n",
    "feature_importance.score = feature_importance.score * -1 * 100"
   ]
  },
  {
   "cell_type": "code",
   "execution_count": 841,
   "metadata": {},
   "outputs": [
    {
     "data": {
      "image/png": "[encoded data removed]",
      "text/plain": [
       "<Figure size 432x288 with 1 Axes>"
      ]
     },
     "metadata": {
      "needs_background": "light"
     },
     "output_type": "display_data"
    }
   ],
   "source": [
    "from wordcloud import WordCloud, STOPWORDS, ImageColorGenerator\n",
    "\n",
    "wc = WordCloud(background_color=\"white\", max_words=1000).generate_from_frequencies(feature_importance.set_index('feature')['score'].to_dict())\n",
    "# Display the generated image:\n",
    "plt.imshow(wc, interpolation='bilinear')\n",
    "plt.axis(\"off\")\n",
    "plt.show()"
   ]
  },
  {
   "cell_type": "code",
   "execution_count": null,
   "metadata": {},
   "outputs": [],
   "source": []
  },
  {
   "cell_type": "code",
   "execution_count": 868,
   "metadata": {},
   "outputs": [],
   "source": [
    "all_employee_negative = feature_importance.sort_values('score')[:10]"
   ]
  },
  {
   "cell_type": "code",
   "execution_count": 842,
   "metadata": {},
   "outputs": [],
   "source": [
    "all_employee_positive = feature_importance.sort_values('score', ascending=False)[:10]"
   ]
  },
  {
   "cell_type": "code",
   "execution_count": 847,
   "metadata": {},
   "outputs": [
    {
     "data": {
      "text/html": [
       "<div>\n",
       "<style scoped>\n",
       "    .dataframe tbody tr th:only-of-type {\n",
       "        vertical-align: middle;\n",
       "    }\n",
       "\n",
       "    .dataframe tbody tr th {\n",
       "        vertical-align: top;\n",
       "    }\n",
       "\n",
       "    .dataframe thead th {\n",
       "        text-align: right;\n",
       "    }\n",
       "</style>\n",
       "<table border=\"1\" class=\"dataframe\">\n",
       "  <thead>\n",
       "    <tr style=\"text-align: right;\">\n",
       "      <th></th>\n",
       "      <th>feature</th>\n",
       "      <th>score</th>\n",
       "    </tr>\n",
       "  </thead>\n",
       "  <tbody>\n",
       "    <tr>\n",
       "      <th>6</th>\n",
       "      <td>supervisor_changes</td>\n",
       "      <td>239.545964</td>\n",
       "    </tr>\n",
       "    <tr>\n",
       "      <th>4</th>\n",
       "      <td>lateral</td>\n",
       "      <td>129.923996</td>\n",
       "    </tr>\n",
       "    <tr>\n",
       "      <th>5</th>\n",
       "      <td>promotions</td>\n",
       "      <td>122.301010</td>\n",
       "    </tr>\n",
       "    <tr>\n",
       "      <th>81</th>\n",
       "      <td>salary_grade_current_Salary Grade 32</td>\n",
       "      <td>121.303625</td>\n",
       "    </tr>\n",
       "    <tr>\n",
       "      <th>77</th>\n",
       "      <td>salary_grade_current_Salary Grade 29</td>\n",
       "      <td>119.585576</td>\n",
       "    </tr>\n",
       "    <tr>\n",
       "      <th>3</th>\n",
       "      <td>demotions</td>\n",
       "      <td>103.151015</td>\n",
       "    </tr>\n",
       "    <tr>\n",
       "      <th>17</th>\n",
       "      <td>success_profile_hired_Success Profile 12</td>\n",
       "      <td>90.585942</td>\n",
       "    </tr>\n",
       "    <tr>\n",
       "      <th>43</th>\n",
       "      <td>region_current_Southeastern PA</td>\n",
       "      <td>75.491213</td>\n",
       "    </tr>\n",
       "    <tr>\n",
       "      <th>93</th>\n",
       "      <td>salary_grade_current_Salary Grade 43</td>\n",
       "      <td>68.986814</td>\n",
       "    </tr>\n",
       "    <tr>\n",
       "      <th>24</th>\n",
       "      <td>success_profile_hired_Success Profile 9</td>\n",
       "      <td>66.198043</td>\n",
       "    </tr>\n",
       "  </tbody>\n",
       "</table>\n",
       "</div>"
      ],
      "text/plain": [
       "                                     feature       score\n",
       "6                         supervisor_changes  239.545964\n",
       "4                                    lateral  129.923996\n",
       "5                                 promotions  122.301010\n",
       "81      salary_grade_current_Salary Grade 32  121.303625\n",
       "77      salary_grade_current_Salary Grade 29  119.585576\n",
       "3                                  demotions  103.151015\n",
       "17  success_profile_hired_Success Profile 12   90.585942\n",
       "43            region_current_Southeastern PA   75.491213\n",
       "93      salary_grade_current_Salary Grade 43   68.986814\n",
       "24   success_profile_hired_Success Profile 9   66.198043"
      ]
     },
     "execution_count": 847,
     "metadata": {},
     "output_type": "execute_result"
    }
   ],
   "source": [
    "all_employee_positive"
   ]
  },
  {
   "cell_type": "code",
   "execution_count": 798,
   "metadata": {},
   "outputs": [],
   "source": [
    "all_employee_eoc = feature_importance[feature_importance.feature == 'eoc']"
   ]
  },
  {
   "cell_type": "code",
   "execution_count": 779,
   "metadata": {},
   "outputs": [],
   "source": [
    "X_non_bus_5 = X[X['bu_current_Business Unit 5'] == 0]\n",
    "y_non_bus_5 = merged_df[merged_df['bu_current'] != 'Business Unit 5'].term_in_X_year"
   ]
  },
  {
   "cell_type": "code",
   "execution_count": 780,
   "metadata": {},
   "outputs": [
    {
     "data": {
      "text/plain": [
       "0.9114285714285715"
      ]
     },
     "execution_count": 780,
     "metadata": {},
     "output_type": "execute_result"
    }
   ],
   "source": [
    "log_clf_non_bu_5 = LogisticRegression(random_state=0, max_iter=10000).fit(X_non_bus_5, y_non_bus_5)\n",
    "log_clf_non_bu_5.score(X_non_bus_5, y_non_bus_5)"
   ]
  },
  {
   "cell_type": "code",
   "execution_count": 856,
   "metadata": {},
   "outputs": [],
   "source": [
    "importance_non_bu_5 = log_clf_non_bu_5.coef_[0]\n",
    "feature_importance_non_bu_5=pd.DataFrame(columns=['feature', 'score'])\n",
    "# summarize feature importance\n",
    "for i,v in enumerate(importance_non_bu_5):\n",
    "    feature_importance_non_bu_5.loc[i] = [X_non_bus_5.columns[i]] + [v]\n",
    "feature_importance_non_bu_5.score = feature_importance_non_bu_5.score * -1 * 100"
   ]
  },
  {
   "cell_type": "code",
   "execution_count": 857,
   "metadata": {},
   "outputs": [],
   "source": [
    "non_bu_5_employee_negative = feature_importance_non_bu_5.sort_values('score')[:10]"
   ]
  },
  {
   "cell_type": "code",
   "execution_count": 858,
   "metadata": {},
   "outputs": [],
   "source": [
    "non_bu_5_employee_positive = feature_importance_non_bu_5.sort_values('score', ascending=False)[:10]"
   ]
  },
  {
   "cell_type": "code",
   "execution_count": 812,
   "metadata": {},
   "outputs": [],
   "source": [
    "non_bu_5_employee_eoc = feature_importance_non_bu_5[feature_importance_non_bu_5.feature == 'eoc']"
   ]
  },
  {
   "cell_type": "code",
   "execution_count": 785,
   "metadata": {},
   "outputs": [],
   "source": [
    "X_bus_5 = X[X['bu_current_Business Unit 5'] == 1]\n",
    "y_bus_5 = merged_df[merged_df['bu_current'] == 'Business Unit 5'].term_in_X_year"
   ]
  },
  {
   "cell_type": "code",
   "execution_count": 786,
   "metadata": {},
   "outputs": [
    {
     "data": {
      "text/plain": [
       "0.8581129378127234"
      ]
     },
     "execution_count": 786,
     "metadata": {},
     "output_type": "execute_result"
    }
   ],
   "source": [
    "log_clf_bu_5 = LogisticRegression(random_state=0, max_iter=10000).fit(X_bus_5, y_bus_5)\n",
    "log_clf_bu_5.score(X_bus_5, y_bus_5)"
   ]
  },
  {
   "cell_type": "code",
   "execution_count": 859,
   "metadata": {},
   "outputs": [],
   "source": [
    "importance_bu_5 = log_clf_bu_5.coef_[0]\n",
    "feature_importance_bu_5=pd.DataFrame(columns=['feature', 'score'])\n",
    "# summarize feature importance\n",
    "for i,v in enumerate(importance_bu_5):\n",
    "    feature_importance_bu_5.loc[i] = [X_bus_5.columns[i]] + [v]\n",
    "feature_importance_bu_5.score = feature_importance_bu_5.score * -1 * 100"
   ]
  },
  {
   "cell_type": "code",
   "execution_count": 861,
   "metadata": {},
   "outputs": [],
   "source": [
    "bu_5_employee_negative = feature_importance_bu_5.sort_values('score')[:10]"
   ]
  },
  {
   "cell_type": "code",
   "execution_count": 860,
   "metadata": {},
   "outputs": [],
   "source": [
    "bu_5_employee_positive = feature_importance_bu_5.sort_values('score', ascending=False)[:10]"
   ]
  },
  {
   "cell_type": "code",
   "execution_count": 813,
   "metadata": {},
   "outputs": [],
   "source": [
    "bu_5_employee_eoc = feature_importance_non_bu_5[feature_importance_bu_5.feature == 'eoc']"
   ]
  },
  {
   "cell_type": "code",
   "execution_count": 803,
   "metadata": {},
   "outputs": [],
   "source": [
    "import seaborn as sns\n",
    "\n",
    "def plot_feature_importance(importance,model_type,model_cat):\n",
    "\n",
    "    #Define size of bar plot\n",
    "    plt.figure(figsize=(10,8))\n",
    "    #Plot Searborn bar chart\n",
    "    sns.barplot(x=importance['score'], y=importance['feature'])\n",
    "    #Add chart labels\n",
    "    plt.title(model_cat + ' ' + 'Top 10 ' + model_type + ' factors for retention')\n",
    "    plt.xlabel('Factor importance')\n",
    "    plt.ylabel('Factor name')"
   ]
  },
  {
   "cell_type": "code",
   "execution_count": 843,
   "metadata": {},
   "outputs": [
    {
     "data": {
      "image/png": "[encoded data removed]",
      "text/plain": [
       "<Figure size 720x576 with 1 Axes>"
      ]
     },
     "metadata": {
      "needs_background": "light"
     },
     "output_type": "display_data"
    }
   ],
   "source": [
    "plot_feature_importance(all_employee_positive, 'positive', 'All employee')"
   ]
  },
  {
   "cell_type": "code",
   "execution_count": 869,
   "metadata": {},
   "outputs": [
    {
     "data": {
      "image/png": "[encoded data removed]",
      "text/plain": [
       "<Figure size 720x576 with 1 Axes>"
      ]
     },
     "metadata": {
      "needs_background": "light"
     },
     "output_type": "display_data"
    }
   ],
   "source": [
    "plot_feature_importance(all_employee_negative, 'negative', 'All employee')"
   ]
  },
  {
   "cell_type": "code",
   "execution_count": 864,
   "metadata": {},
   "outputs": [
    {
     "data": {
      "image/png": "[encoded data removed]",
      "text/plain": [
       "<Figure size 720x576 with 1 Axes>"
      ]
     },
     "metadata": {
      "needs_background": "light"
     },
     "output_type": "display_data"
    }
   ],
   "source": [
    "plot_feature_importance(non_bu_5_employee_positive, 'positive', 'Non BU 5 employee')"
   ]
  },
  {
   "cell_type": "code",
   "execution_count": 863,
   "metadata": {},
   "outputs": [
    {
     "data": {
      "image/png": "[encoded data removed]",
      "text/plain": [
       "<Figure size 720x576 with 1 Axes>"
      ]
     },
     "metadata": {
      "needs_background": "light"
     },
     "output_type": "display_data"
    }
   ],
   "source": [
    "plot_feature_importance(non_bu_5_employee_negative, 'negative', 'Non BU 5 employee')"
   ]
  },
  {
   "cell_type": "code",
   "execution_count": 865,
   "metadata": {},
   "outputs": [
    {
     "data": {
      "image/png": "[encoded data removed]",
      "text/plain": [
       "<Figure size 720x576 with 1 Axes>"
      ]
     },
     "metadata": {
      "needs_background": "light"
     },
     "output_type": "display_data"
    }
   ],
   "source": [
    "plot_feature_importance(bu_5_employee_positive, 'positive', 'BU 5 employee')"
   ]
  },
  {
   "cell_type": "code",
   "execution_count": 866,
   "metadata": {},
   "outputs": [
    {
     "data": {
      "image/png": "[encoded data removed]",
      "text/plain": [
       "<Figure size 720x576 with 1 Axes>"
      ]
     },
     "metadata": {
      "needs_background": "light"
     },
     "output_type": "display_data"
    }
   ],
   "source": [
    "plot_feature_importance(non_bu_5_employee_negative, 'negative', 'BU 5 employee')"
   ]
  },
  {
   "cell_type": "code",
   "execution_count": 831,
   "metadata": {},
   "outputs": [
    {
     "data": {
      "text/plain": [
       "{20: 'success_profile_hired_Success Profile 5',\n",
       " 1: 'rehires_indicator',\n",
       " 98: 'salary_grade_current_Salary Grade 6',\n",
       " 78: 'salary_grade_current_Salary Grade 3',\n",
       " 75: 'salary_grade_current_Salary Grade 27',\n",
       " 53: 'success_profile_current_Success Profile 6',\n",
       " 7: 'org_changes',\n",
       " 36: 'bu_hired_Business Unit 7',\n",
       " 71: 'salary_grade_current_Salary Grade 23',\n",
       " 12: 'region_hired_Southeastern PA'}"
      ]
     },
     "execution_count": 831,
     "metadata": {},
     "output_type": "execute_result"
    }
   ],
   "source": [
    "all_employee_negative.to_dict()['feature']"
   ]
  },
  {
   "cell_type": "code",
   "execution_count": 415,
   "metadata": {},
   "outputs": [],
   "source": [
    "employee_start_date_df['Seniority Date'] = pd.to_datetime(employee_start_date_df['Seniority Date'], format = '%m/%d/%Y', errors='ignore')\n",
    "employee_start_date_df['Effective Date y'] = pd.to_datetime(employee_start_date_df['Effective Date y'], format = '%m/%d/%Y', errors='ignore')"
   ]
  },
  {
   "cell_type": "code",
   "execution_count": 419,
   "metadata": {},
   "outputs": [],
   "source": [
    "employee_start_date_df = employee_start_date_df.groupby('EEID Hash').min().reset_index()"
   ]
  },
  {
   "cell_type": "code",
   "execution_count": 422,
   "metadata": {},
   "outputs": [],
   "source": [
    "def tmp(row):\n",
    "    if pd.isnull(row['Seniority Date']):\n",
    "        if pd.isnull(row['Effective Date y']):\n",
    "            return 0\n",
    "        else:\n",
    "            return row['Effective Date y']\n",
    "    elif pd.isnull(row['Effective Date y']):\n",
    "        return row['Seniority Date']\n",
    "    else:\n",
    "        if row['Seniority Date'] < row['Effective Date y']:\n",
    "            return row['Seniority Date']\n",
    "        else:\n",
    "            row['Effective Date y']\n",
    "employee_start_date_df['start_date'] = employee_start_date_df.apply(tmp, axis=1)"
   ]
  },
  {
   "cell_type": "code",
   "execution_count": 425,
   "metadata": {},
   "outputs": [],
   "source": [
    "employee_start_date_df = employee_start_date_df[['EEID Hash', 'start_date']]"
   ]
  },
  {
   "cell_type": "code",
   "execution_count": 436,
   "metadata": {},
   "outputs": [],
   "source": [
    "employee_start_date_df.to_csv('/Users/mengtianli/Downloads/HR/employee_start_date.csv', index=False)"
   ]
  },
  {
   "cell_type": "code",
   "execution_count": 333,
   "metadata": {},
   "outputs": [
    {
     "data": {
      "text/plain": [
       "Index(['Unnamed: 0_x', 'Unnamed: 0.1', 'Unnamed: 0.1.1', 'EEID Hash',\n",
       "       'Unnamed: 0 x', 'Data Year x', 'Region x', 'State x',\n",
       "       'Employee of Color x', 'Randomized Key Job Code x',\n",
       "       'Randomized Key Success Profile x', 'Manager EEID Hash x',\n",
       "       'Randomized Key Company Code x', 'Randomized Key Division Code x',\n",
       "       'Randomized Key Department Code x', 'Randomized Key Function Code x',\n",
       "       'Randomized Key Cost Center x', 'Randomized Key Business Unit x',\n",
       "       'Randomized Key Location x', 'Randomized Key Market x',\n",
       "       'System ID Hash', 'Effective Date x', 'Change Reason_x', 'Req ID Hash',\n",
       "       'exclude x', 'rehire', 'Unnamed: 0 y', 'Data Year y',\n",
       "       'Effective Date y', 'Voluntary/Involuntary', 'Termination Type',\n",
       "       'Region y', 'State y', 'Employee of Color y',\n",
       "       'Randomized Key Job Code y', 'Randomized Key Success Profile y',\n",
       "       'Manager EEID Hash y', 'Randomized Key Company Code y',\n",
       "       'Randomized Key Division Code y', 'Randomized Key Department Code y',\n",
       "       'Randomized Key Function Code y', 'Randomized Key Cost Center y',\n",
       "       'Randomized Key Business Unit y', 'Randomized Key Location y',\n",
       "       'Randomized Key Market y', 'exclude y', 'multiple terms', ' merge',\n",
       "       'term indicator', 'rehires indicator', 'multiple terms indicator',\n",
       "       'Demotion', 'Lateral', 'Promotion', 'Supervisor Change',\n",
       "       'Org Level Change', 'num application', 'Job Status x',\n",
       "       'Job Evaluation Completion Date (JbcUDField3) x',\n",
       "       'Randomized Key Job Code x.1', 'Randomized Key Salary Grade x',\n",
       "       'Randomized Key Success Profile x.1', 'Job Status y',\n",
       "       'Job Evaluation Completion Date (JbcUDField3) y',\n",
       "       'Randomized Key Job Code y.1', 'Randomized Key Salary Grade y',\n",
       "       'Randomized Key Success Profile y.1', 'Voluntary Separation',\n",
       "       'Termed for Cause', 'Temporary Job Ended', 'Position Elimination',\n",
       "       'Other', 'Unnamed: 0_y', 'Data Year', 'Effective Date',\n",
       "       'Change Reason_y', 'Region', 'State', 'Employee of Color',\n",
       "       'Randomized Key Job Title', 'Randomized Key Success Profile',\n",
       "       'Manager EEID Hash', 'Randomized Key Company Code',\n",
       "       'Randomized Key Division Code', 'Randomized Key Department Code',\n",
       "       'Randomized Key Function Code', 'Randomized Key Cost Center',\n",
       "       'Randomized Key Business Unit', 'Randomized Key Location',\n",
       "       'Randomized Key Market'],\n",
       "      dtype='object')"
      ]
     },
     "execution_count": 333,
     "metadata": {},
     "output_type": "execute_result"
    }
   ],
   "source": [
    "merged_df.columns"
   ]
  },
  {
   "cell_type": "code",
   "execution_count": 342,
   "metadata": {},
   "outputs": [
    {
     "data": {
      "text/plain": [
       "0     944\n",
       "2     770\n",
       "1     765\n",
       "3     757\n",
       "4     732\n",
       "5     635\n",
       "6     489\n",
       "7     368\n",
       "8     234\n",
       "9     144\n",
       "10     66\n",
       "11     45\n",
       "12     19\n",
       "13     12\n",
       "14      8\n",
       "15      4\n",
       "18      1\n",
       "19      1\n",
       "Name: Manager EEID Hash, dtype: int64"
      ]
     },
     "execution_count": 342,
     "metadata": {},
     "output_type": "execute_result"
    }
   ],
   "source": [
    "merged_df.groupby('EEID Hash')['Manager EEID Hash'].count().value_counts()"
   ]
  },
  {
   "cell_type": "code",
   "execution_count": 370,
   "metadata": {},
   "outputs": [],
   "source": [
    "merged_df = merged_df.dropna(axis=1, how='all')"
   ]
  },
  {
   "cell_type": "code",
   "execution_count": 429,
   "metadata": {},
   "outputs": [
    {
     "data": {
      "text/html": [
       "<div>\n",
       "<style scoped>\n",
       "    .dataframe tbody tr th:only-of-type {\n",
       "        vertical-align: middle;\n",
       "    }\n",
       "\n",
       "    .dataframe tbody tr th {\n",
       "        vertical-align: top;\n",
       "    }\n",
       "\n",
       "    .dataframe thead th {\n",
       "        text-align: right;\n",
       "    }\n",
       "</style>\n",
       "<table border=\"1\" class=\"dataframe\">\n",
       "  <thead>\n",
       "    <tr style=\"text-align: right;\">\n",
       "      <th></th>\n",
       "      <th>EEID Hash</th>\n",
       "      <th>num_applications</th>\n",
       "    </tr>\n",
       "  </thead>\n",
       "  <tbody>\n",
       "    <tr>\n",
       "      <th>1176</th>\n",
       "      <td>4e3779de27018c2637a4a51dd794274e1bf792a4f3680d...</td>\n",
       "      <td>1</td>\n",
       "    </tr>\n",
       "    <tr>\n",
       "      <th>1533</th>\n",
       "      <td>663b101e2c6f27b7aa29e274a6513bf06ca74e098317ec...</td>\n",
       "      <td>1</td>\n",
       "    </tr>\n",
       "    <tr>\n",
       "      <th>1532</th>\n",
       "      <td>66279cdd33de21f3e3c7092c4d2c8aeab6bb527d0b2a37...</td>\n",
       "      <td>1</td>\n",
       "    </tr>\n",
       "    <tr>\n",
       "      <th>1531</th>\n",
       "      <td>661eda34f0a58514a9282064f863800b3dbe5678551947...</td>\n",
       "      <td>1</td>\n",
       "    </tr>\n",
       "    <tr>\n",
       "      <th>1530</th>\n",
       "      <td>661ccdbe29d75f79ccda8e449dba561ae787186959983e...</td>\n",
       "      <td>1</td>\n",
       "    </tr>\n",
       "    <tr>\n",
       "      <th>...</th>\n",
       "      <td>...</td>\n",
       "      <td>...</td>\n",
       "    </tr>\n",
       "    <tr>\n",
       "      <th>3363</th>\n",
       "      <td>dedbe2deec1edc1b3810b00b0c472fc0a207bfe46678df...</td>\n",
       "      <td>20</td>\n",
       "    </tr>\n",
       "    <tr>\n",
       "      <th>3814</th>\n",
       "      <td>fd823ecc7de948871d8f787d63eb9edc10fc731036510a...</td>\n",
       "      <td>21</td>\n",
       "    </tr>\n",
       "    <tr>\n",
       "      <th>1493</th>\n",
       "      <td>641177500dd88c165e318876934d2fa96c3e4d39a68566...</td>\n",
       "      <td>22</td>\n",
       "    </tr>\n",
       "    <tr>\n",
       "      <th>2714</th>\n",
       "      <td>b2e85f3a1338ca0ee4ea6b8dd35f4737a16e6e166aba37...</td>\n",
       "      <td>23</td>\n",
       "    </tr>\n",
       "    <tr>\n",
       "      <th>766</th>\n",
       "      <td>32c25952689e0ddf49502139524d9d72f6cf0953464ce7...</td>\n",
       "      <td>62</td>\n",
       "    </tr>\n",
       "  </tbody>\n",
       "</table>\n",
       "<p>3852 rows × 2 columns</p>\n",
       "</div>"
      ],
      "text/plain": [
       "                                              EEID Hash  num_applications\n",
       "1176  4e3779de27018c2637a4a51dd794274e1bf792a4f3680d...                 1\n",
       "1533  663b101e2c6f27b7aa29e274a6513bf06ca74e098317ec...                 1\n",
       "1532  66279cdd33de21f3e3c7092c4d2c8aeab6bb527d0b2a37...                 1\n",
       "1531  661eda34f0a58514a9282064f863800b3dbe5678551947...                 1\n",
       "1530  661ccdbe29d75f79ccda8e449dba561ae787186959983e...                 1\n",
       "...                                                 ...               ...\n",
       "3363  dedbe2deec1edc1b3810b00b0c472fc0a207bfe46678df...                20\n",
       "3814  fd823ecc7de948871d8f787d63eb9edc10fc731036510a...                21\n",
       "1493  641177500dd88c165e318876934d2fa96c3e4d39a68566...                22\n",
       "2714  b2e85f3a1338ca0ee4ea6b8dd35f4737a16e6e166aba37...                23\n",
       "766   32c25952689e0ddf49502139524d9d72f6cf0953464ce7...                62\n",
       "\n",
       "[3852 rows x 2 columns]"
      ]
     },
     "execution_count": 429,
     "metadata": {},
     "output_type": "execute_result"
    }
   ],
   "source": [
    "internal_applications_df = application_df[application_df['EEID Hash'] != 'e4d1ed3c58a81958714201209ad0cfe4c84800d07afa929f615cc19c92d391ee'].groupby('EEID Hash')['Application Date'].count().reset_index().rename(columns={'Application Date': 'num_applications'})\n",
    "internal_applications_df.sort_values('num_applications')"
   ]
  },
  {
   "cell_type": "code",
   "execution_count": 433,
   "metadata": {},
   "outputs": [],
   "source": [
    "internal_applications_df.num_applications = internal_applications_df.num_applications - 1"
   ]
  },
  {
   "cell_type": "code",
   "execution_count": 435,
   "metadata": {},
   "outputs": [],
   "source": [
    "internal_applications_df.to_csv('/Users/mengtianli/Downloads/HR/num_applications.csv', index=False)"
   ]
  },
  {
   "cell_type": "code",
   "execution_count": 368,
   "metadata": {},
   "outputs": [
    {
     "data": {
      "text/plain": [
       "1      544\n",
       "2      504\n",
       "4      320\n",
       "3      289\n",
       "6      271\n",
       "      ... \n",
       "117      1\n",
       "88       1\n",
       "84       1\n",
       "52       1\n",
       "135      1\n",
       "Name: Application Date, Length: 65, dtype: int64"
      ]
     },
     "execution_count": 368,
     "metadata": {},
     "output_type": "execute_result"
    }
   ],
   "source": [
    "applications_df['Application Date'].value_counts()"
   ]
  },
  {
   "cell_type": "code",
   "execution_count": 356,
   "metadata": {},
   "outputs": [],
   "source": [
    "merged_df = merged_df.merge(applications_df, on='EEID Hash', how='left')"
   ]
  },
  {
   "cell_type": "code",
   "execution_count": 360,
   "metadata": {},
   "outputs": [
    {
     "data": {
      "text/plain": [
       "Index(['Unnamed: 0_x', 'Unnamed: 0.1', 'Unnamed: 0.1.1', 'EEID Hash',\n",
       "       'Unnamed: 0 x', 'Data Year x', 'Region x', 'State x',\n",
       "       'Employee of Color x', 'Randomized Key Job Code x',\n",
       "       'Randomized Key Success Profile x', 'Manager EEID Hash x',\n",
       "       'Randomized Key Company Code x', 'Randomized Key Division Code x',\n",
       "       'Randomized Key Department Code x', 'Randomized Key Function Code x',\n",
       "       'Randomized Key Cost Center x', 'Randomized Key Business Unit x',\n",
       "       'Randomized Key Location x', 'Randomized Key Market x',\n",
       "       'System ID Hash', 'Effective Date x', 'Change Reason_x', 'Req ID Hash',\n",
       "       'exclude x', 'rehire', 'Unnamed: 0 y', 'Data Year y',\n",
       "       'Effective Date y', 'Voluntary/Involuntary', 'Termination Type',\n",
       "       'Region y', 'State y', 'Employee of Color y',\n",
       "       'Randomized Key Job Code y', 'Randomized Key Success Profile y',\n",
       "       'Manager EEID Hash y', 'Randomized Key Company Code y',\n",
       "       'Randomized Key Division Code y', 'Randomized Key Department Code y',\n",
       "       'Randomized Key Function Code y', 'Randomized Key Cost Center y',\n",
       "       'Randomized Key Business Unit y', 'Randomized Key Location y',\n",
       "       'Randomized Key Market y', 'exclude y', 'multiple terms', ' merge',\n",
       "       'term indicator', 'rehires indicator', 'multiple terms indicator',\n",
       "       'Demotion', 'Lateral', 'Promotion', 'Supervisor Change',\n",
       "       'Org Level Change', 'num application', 'Job Status x',\n",
       "       'Job Evaluation Completion Date (JbcUDField3) x',\n",
       "       'Randomized Key Job Code x.1', 'Randomized Key Salary Grade x',\n",
       "       'Randomized Key Success Profile x.1', 'Job Status y',\n",
       "       'Job Evaluation Completion Date (JbcUDField3) y',\n",
       "       'Randomized Key Job Code y.1', 'Randomized Key Salary Grade y',\n",
       "       'Randomized Key Success Profile y.1', 'Voluntary Separation',\n",
       "       'Termed for Cause', 'Temporary Job Ended', 'Position Elimination',\n",
       "       'Other', 'Unnamed: 0_y', 'Data Year', 'Effective Date',\n",
       "       'Change Reason_y', 'Region', 'State', 'Employee of Color',\n",
       "       'Randomized Key Job Title', 'Randomized Key Success Profile',\n",
       "       'Manager EEID Hash', 'Randomized Key Company Code',\n",
       "       'Randomized Key Division Code', 'Randomized Key Department Code',\n",
       "       'Randomized Key Function Code', 'Randomized Key Cost Center',\n",
       "       'Randomized Key Business Unit', 'Randomized Key Location',\n",
       "       'Randomized Key Market', 'Application Date'],\n",
       "      dtype='object')"
      ]
     },
     "execution_count": 360,
     "metadata": {},
     "output_type": "execute_result"
    }
   ],
   "source": [
    "merged_df.columns"
   ]
  },
  {
   "cell_type": "code",
   "execution_count": 362,
   "metadata": {},
   "outputs": [],
   "source": [
    "merged_df = merged_df.drop(columns='num application', axis=1)"
   ]
  },
  {
   "cell_type": "code",
   "execution_count": 364,
   "metadata": {},
   "outputs": [
    {
     "data": {
      "text/plain": [
       "0        6.0\n",
       "1        6.0\n",
       "2        6.0\n",
       "3        5.0\n",
       "4        5.0\n",
       "        ... \n",
       "22044    4.0\n",
       "22045    4.0\n",
       "22046    4.0\n",
       "22047    4.0\n",
       "22048    2.0\n",
       "Name: num_applications, Length: 22049, dtype: float64"
      ]
     },
     "execution_count": 364,
     "metadata": {},
     "output_type": "execute_result"
    }
   ],
   "source": [
    "merged_df = merged_df.rename(columns={\"Application Date\": \"num_applications\"})\n",
    "merged_df.num_applications.fillna(0)\n",
    "                          "
   ]
  },
  {
   "cell_type": "code",
   "execution_count": 365,
   "metadata": {},
   "outputs": [
    {
     "data": {
      "text/plain": [
       "6.0      1049\n",
       "4.0       956\n",
       "2.0       770\n",
       "8.0       770\n",
       "5.0       736\n",
       "         ... \n",
       "63.0        9\n",
       "128.0       8\n",
       "98.0        7\n",
       "84.0        7\n",
       "114.0       6\n",
       "Name: num_applications, Length: 65, dtype: int64"
      ]
     },
     "execution_count": 365,
     "metadata": {},
     "output_type": "execute_result"
    }
   ],
   "source": [
    "merged_df.num_applications.value_counts()"
   ]
  },
  {
   "cell_type": "code",
   "execution_count": 345,
   "metadata": {},
   "outputs": [
    {
     "data": {
      "text/plain": [
       "Applicant        1696\n",
       "Internal Hire     783\n",
       "External Hire      96\n",
       "Name: Candidate Type, dtype: int64"
      ]
     },
     "execution_count": 345,
     "metadata": {},
     "output_type": "execute_result"
    }
   ],
   "source": [
    "internal_application['Candidate Type'].value_counts()"
   ]
  },
  {
   "cell_type": "code",
   "execution_count": 316,
   "metadata": {},
   "outputs": [],
   "source": [
    "merged_df.to_csv('/Users/mengtianli/Downloads/HR/final_table.csv', index=False)"
   ]
  },
  {
   "cell_type": "code",
   "execution_count": 315,
   "metadata": {},
   "outputs": [
    {
     "data": {
      "text/plain": [
       "1    12815\n",
       "2     4315\n",
       "0     3639\n",
       "3      918\n",
       "5      184\n",
       "4      145\n",
       "6       33\n",
       "Name: Org Level Change, dtype: int64"
      ]
     },
     "execution_count": 315,
     "metadata": {},
     "output_type": "execute_result"
    }
   ],
   "source": [
    "merged_df['Org Level Change'].value_counts()"
   ]
  },
  {
   "cell_type": "code",
   "execution_count": 93,
   "metadata": {},
   "outputs": [],
   "source": [
    "attrition_df = pd.read_csv('/Users/mengtianli/Downloads/HR/attrition.csv')"
   ]
  },
  {
   "cell_type": "code",
   "execution_count": 95,
   "metadata": {},
   "outputs": [
    {
     "data": {
      "text/plain": [
       "Index(['Unnamed: 0_x', 'Data Year_x', 'Effective Date_x', 'Change Reason',\n",
       "       'Region_x', 'State_x', 'Employee of Color_x', 'Req ID Hash',\n",
       "       'Randomized Key Job Code_x', 'Job Title_x',\n",
       "       'Randomized Key Success Profile_x', 'Manager EEID Hash_x',\n",
       "       'Manager Name_x', 'Randomized Key Company Code_x',\n",
       "       'Randomized Key Division Code_x', 'Division_x',\n",
       "       'Randomized Key Department Code_x', 'Department_x',\n",
       "       'Randomized Key Function Code_x', 'Function_x',\n",
       "       'Randomized Key Cost Center_x', 'Randomized Key Business Unit_x',\n",
       "       'Location Code_x', 'Randomized Key Location_x',\n",
       "       'Randomized Key Market_x', 'EEID Hash', 'First Name_x', 'Last Name_x',\n",
       "       'Race/Ethnicity_x', 'Gender_x', 'Disabled_x', 'Veteran_x',\n",
       "       'Unnamed: 0_y', 'Data Year_y', 'Effective Date_y',\n",
       "       'Voluntary/Involuntary', 'Termination Type', 'Region_y', 'State_y',\n",
       "       'Employee of Color_y', 'Randomized Key Job Code_y', 'Job Title_y',\n",
       "       'Randomized Key Success Profile_y', 'Manager EEID Hash_y',\n",
       "       'Manager Name_y', 'Term Reason', 'Randomized Key Company Code_y',\n",
       "       'Randomized Key Division Code_y', 'Division_y',\n",
       "       'Randomized Key Department Code_y', 'Department_y',\n",
       "       'Randomized Key Function Code_y', 'Function_y',\n",
       "       'Randomized Key Cost Center_y', 'Randomized Key Business Unit_y',\n",
       "       'Location Code_y', 'Randomized Key Location_y',\n",
       "       'Randomized Key Market_y', 'First Name_y', 'Last Name_y',\n",
       "       'Race/Ethnicity_y', 'Gender_y', 'Disabled_y', 'Veteran_y', '_merge',\n",
       "       'status', 'time_delta'],\n",
       "      dtype='object')"
      ]
     },
     "execution_count": 95,
     "metadata": {},
     "output_type": "execute_result"
    }
   ],
   "source": [
    "attrition_df.columns"
   ]
  },
  {
   "cell_type": "code",
   "execution_count": 99,
   "metadata": {},
   "outputs": [
    {
     "data": {
      "text/plain": [
       "Temporary Job Ended     1658\n",
       "Voluntary Separation     873\n",
       "Termed for Cause         201\n",
       "Position Elimination      29\n",
       "Other                      8\n",
       "Name: Termination Type_y, dtype: int64"
      ]
     },
     "execution_count": 99,
     "metadata": {},
     "output_type": "execute_result"
    }
   ],
   "source": [
    "attrition_df.merge(terms_df, on='EEID Hash').dropna(axis=1)['Termination Type_y'].value_counts()"
   ]
  },
  {
   "cell_type": "code",
   "execution_count": 346,
   "metadata": {},
   "outputs": [
    {
     "data": {
      "text/plain": [
       "cc6efc6c423116c7a0b4374102cbc28795dc94ac032717e6d0bf130098ffd7a1        1\n",
       "090ca7f8da79d69cf728eb4df0f8479ce18fc77e463db893efb67d4dae2c0fa2        1\n",
       "cf3e74fc10d437d8bbc49822b99696da1d5b3164b34559604b36d2ea5b00ed75        1\n",
       "475c39d521018ec42fa71ad6008fab24a4b7d4fec7bc24b197f7e15c7eb7a41f        1\n",
       "2fe86af20091bd13fd7c103605c582bd1fbef8c8796000a13817b99b15fbb70a        1\n",
       "                                                                    ...  \n",
       "fd823ecc7de948871d8f787d63eb9edc10fc731036510ac355b26bdc7c7f2f6d       21\n",
       "641177500dd88c165e318876934d2fa96c3e4d39a6856697b0e9572b0800afd5       22\n",
       "b2e85f3a1338ca0ee4ea6b8dd35f4737a16e6e166aba37c9d5a90efac4294498       23\n",
       "32c25952689e0ddf49502139524d9d72f6cf0953464ce78df742246830782f93       62\n",
       "e4d1ed3c58a81958714201209ad0cfe4c84800d07afa929f615cc19c92d391ee    36836\n",
       "Name: EEID Hash, Length: 3853, dtype: int64"
      ]
     },
     "execution_count": 346,
     "metadata": {},
     "output_type": "execute_result"
    }
   ],
   "source": [
    "application_df['EEID Hash'].value_counts().sort_values()"
   ]
  },
  {
   "cell_type": "code",
   "execution_count": 104,
   "metadata": {},
   "outputs": [],
   "source": [
    "application_df = application_df.dropna(axis=1)"
   ]
  },
  {
   "cell_type": "code",
   "execution_count": 106,
   "metadata": {},
   "outputs": [
    {
     "data": {
      "text/html": [
       "<div>\n",
       "<style scoped>\n",
       "    .dataframe tbody tr th:only-of-type {\n",
       "        vertical-align: middle;\n",
       "    }\n",
       "\n",
       "    .dataframe tbody tr th {\n",
       "        vertical-align: top;\n",
       "    }\n",
       "\n",
       "    .dataframe thead th {\n",
       "        text-align: right;\n",
       "    }\n",
       "</style>\n",
       "<table border=\"1\" class=\"dataframe\">\n",
       "  <thead>\n",
       "    <tr style=\"text-align: right;\">\n",
       "      <th></th>\n",
       "      <th>Unnamed: 0</th>\n",
       "      <th>Data Year</th>\n",
       "      <th>Position Type</th>\n",
       "      <th>Application Date</th>\n",
       "      <th>Candidate Type</th>\n",
       "      <th>Workflow Bin</th>\n",
       "      <th>Workflow Status</th>\n",
       "      <th>Workflow Disposition Code</th>\n",
       "      <th>Workflow Disposition Reason</th>\n",
       "      <th>Hire Month</th>\n",
       "      <th>...</th>\n",
       "      <th>TA EEID Hash</th>\n",
       "      <th>Manager EEID Hash</th>\n",
       "      <th>Randomized Key Division Code</th>\n",
       "      <th>Randomized Key Department Code</th>\n",
       "      <th>Randomized Key Function Code</th>\n",
       "      <th>Randomized Key Cost Center</th>\n",
       "      <th>Randomized Key Business Unit</th>\n",
       "      <th>Randomized Key Location</th>\n",
       "      <th>System ID Hash</th>\n",
       "      <th>EEID Hash</th>\n",
       "    </tr>\n",
       "  </thead>\n",
       "  <tbody>\n",
       "    <tr>\n",
       "      <th>13</th>\n",
       "      <td>13</td>\n",
       "      <td>2018</td>\n",
       "      <td>Full-Time</td>\n",
       "      <td>01/16/2018</td>\n",
       "      <td>Internal Hire</td>\n",
       "      <td>Hired</td>\n",
       "      <td>*Onboarding Completed-Internal</td>\n",
       "      <td>HIRED-INTERNAL</td>\n",
       "      <td>Hired-Internal</td>\n",
       "      <td>January</td>\n",
       "      <td>...</td>\n",
       "      <td>bffca19398e7a8ec73d6d38c9f8dd4e55a76d52e1f3d5e...</td>\n",
       "      <td>f094c2b3f92c59192217d05fe70e321608ff9aefca5b13...</td>\n",
       "      <td>Division Code 29</td>\n",
       "      <td>Department Code 374</td>\n",
       "      <td>Function Code 367</td>\n",
       "      <td>Cost Center 226</td>\n",
       "      <td>Business Unit 12</td>\n",
       "      <td>Location 29</td>\n",
       "      <td>c7bc50a85ea938d4dbda61f9eec19b57f2cde78e0a5644...</td>\n",
       "      <td>da87ae7a35147816e664f537759ebeb62a3819e073aa74...</td>\n",
       "    </tr>\n",
       "    <tr>\n",
       "      <th>72</th>\n",
       "      <td>72</td>\n",
       "      <td>2017</td>\n",
       "      <td>Full-Time</td>\n",
       "      <td>11/15/2017</td>\n",
       "      <td>Internal Hire</td>\n",
       "      <td>Hired</td>\n",
       "      <td>*Onboarding Completed-Internal</td>\n",
       "      <td>HIRED-INTERNAL</td>\n",
       "      <td>Hired-Internal</td>\n",
       "      <td>December</td>\n",
       "      <td>...</td>\n",
       "      <td>377898fa8095969191442cc5d917ea8dd19c2394de3a27...</td>\n",
       "      <td>f094c2b3f92c59192217d05fe70e321608ff9aefca5b13...</td>\n",
       "      <td>Division Code 29</td>\n",
       "      <td>Department Code 374</td>\n",
       "      <td>Function Code 367</td>\n",
       "      <td>Cost Center 226</td>\n",
       "      <td>Business Unit 12</td>\n",
       "      <td>Location 29</td>\n",
       "      <td>b1c8f769c5ac242892595d7ed96e8f51b7ab66f849ce4a...</td>\n",
       "      <td>a5549b936f41592323dfdddcc8eb5a47232362417b75c6...</td>\n",
       "    </tr>\n",
       "    <tr>\n",
       "      <th>131</th>\n",
       "      <td>131</td>\n",
       "      <td>2017</td>\n",
       "      <td>Full-Time</td>\n",
       "      <td>01/26/2017</td>\n",
       "      <td>Internal Hire</td>\n",
       "      <td>Hired</td>\n",
       "      <td>*Onboarding Completed-Internal</td>\n",
       "      <td>HIRED-INTERNAL</td>\n",
       "      <td>Hired-Internal</td>\n",
       "      <td>March</td>\n",
       "      <td>...</td>\n",
       "      <td>1142b14c6fa274e95f1adc01743c8046a336d4e6bab4d4...</td>\n",
       "      <td>f094c2b3f92c59192217d05fe70e321608ff9aefca5b13...</td>\n",
       "      <td>Division Code 29</td>\n",
       "      <td>Department Code 374</td>\n",
       "      <td>Function Code 367</td>\n",
       "      <td>Cost Center 226</td>\n",
       "      <td>Business Unit 12</td>\n",
       "      <td>Location 29</td>\n",
       "      <td>923ca5fcd8f318c43ba8670d7e0aaf8c0681209d525f60...</td>\n",
       "      <td>1ed9f8e9ee47c09e7c33eb97a60ccdad188d8bb8784581...</td>\n",
       "    </tr>\n",
       "    <tr>\n",
       "      <th>350</th>\n",
       "      <td>350</td>\n",
       "      <td>2018</td>\n",
       "      <td>Full-Time</td>\n",
       "      <td>05/21/2018</td>\n",
       "      <td>Internal Hire</td>\n",
       "      <td>Hired</td>\n",
       "      <td>*Push to Ultipro - Internal</td>\n",
       "      <td>HIRED-INTERNAL</td>\n",
       "      <td>Hired-Internal</td>\n",
       "      <td>July</td>\n",
       "      <td>...</td>\n",
       "      <td>377898fa8095969191442cc5d917ea8dd19c2394de3a27...</td>\n",
       "      <td>06824c7f9dc59b7f77b9646f3972e0c4ec7a8c5c48a46e...</td>\n",
       "      <td>Division Code 18</td>\n",
       "      <td>Department Code 212</td>\n",
       "      <td>Function Code 216</td>\n",
       "      <td>Cost Center 372</td>\n",
       "      <td>Business Unit 9</td>\n",
       "      <td>Location 29</td>\n",
       "      <td>81b9b71f012abb17e7a168373f6999a1ffb1c2da62711c...</td>\n",
       "      <td>1b38f34722f89f99efadfd5ffa82520ba31e03da4c28d1...</td>\n",
       "    </tr>\n",
       "    <tr>\n",
       "      <th>414</th>\n",
       "      <td>414</td>\n",
       "      <td>2019</td>\n",
       "      <td>Full-Time</td>\n",
       "      <td>05/04/2019</td>\n",
       "      <td>Internal Hire</td>\n",
       "      <td>Hired</td>\n",
       "      <td>*Push to Ultipro - Internal</td>\n",
       "      <td>HIRED-INTERNAL</td>\n",
       "      <td>Hired-Internal</td>\n",
       "      <td>June</td>\n",
       "      <td>...</td>\n",
       "      <td>377898fa8095969191442cc5d917ea8dd19c2394de3a27...</td>\n",
       "      <td>311436b43e32b1c156a5fbacf96dff74e896d1b10a5135...</td>\n",
       "      <td>Division Code 18</td>\n",
       "      <td>Department Code 221</td>\n",
       "      <td>Function Code 216</td>\n",
       "      <td>Cost Center 414</td>\n",
       "      <td>Business Unit 9</td>\n",
       "      <td>Location 29</td>\n",
       "      <td>d41343c168aced0516fb96c6c0a94e2852ced837bc2d19...</td>\n",
       "      <td>e1895f1e513f5b631434b1294286a29c68b56184836243...</td>\n",
       "    </tr>\n",
       "    <tr>\n",
       "      <th>...</th>\n",
       "      <td>...</td>\n",
       "      <td>...</td>\n",
       "      <td>...</td>\n",
       "      <td>...</td>\n",
       "      <td>...</td>\n",
       "      <td>...</td>\n",
       "      <td>...</td>\n",
       "      <td>...</td>\n",
       "      <td>...</td>\n",
       "      <td>...</td>\n",
       "      <td>...</td>\n",
       "      <td>...</td>\n",
       "      <td>...</td>\n",
       "      <td>...</td>\n",
       "      <td>...</td>\n",
       "      <td>...</td>\n",
       "      <td>...</td>\n",
       "      <td>...</td>\n",
       "      <td>...</td>\n",
       "      <td>...</td>\n",
       "      <td>...</td>\n",
       "    </tr>\n",
       "    <tr>\n",
       "      <th>44622</th>\n",
       "      <td>44622</td>\n",
       "      <td>2017</td>\n",
       "      <td>Full-Time</td>\n",
       "      <td>06/10/2017</td>\n",
       "      <td>Internal Hire</td>\n",
       "      <td>Hired</td>\n",
       "      <td>*Onboarding Completed-Internal</td>\n",
       "      <td>HIRED-INTERNAL</td>\n",
       "      <td>Hired-Internal</td>\n",
       "      <td>June</td>\n",
       "      <td>...</td>\n",
       "      <td>defc308f6a7685a86afc58630f90dc5c1d0e14a7c5c400...</td>\n",
       "      <td>dd16f70fc1dcbe6b52a54807b9f0ab9eef962a26ba0c92...</td>\n",
       "      <td>Division Code 25</td>\n",
       "      <td>Department Code 210</td>\n",
       "      <td>Function Code 33</td>\n",
       "      <td>Cost Center 244</td>\n",
       "      <td>Business Unit 5</td>\n",
       "      <td>Location 48</td>\n",
       "      <td>4de5dcff318c0ea35f38081688fa3384c7d1f837aaf5a8...</td>\n",
       "      <td>a5c0c7efeff9842720046a21d590a1622af19ab55cfcd4...</td>\n",
       "    </tr>\n",
       "    <tr>\n",
       "      <th>44624</th>\n",
       "      <td>44624</td>\n",
       "      <td>2018</td>\n",
       "      <td>Full-Time</td>\n",
       "      <td>04/11/2018</td>\n",
       "      <td>Internal Hire</td>\n",
       "      <td>Hired</td>\n",
       "      <td>*Push to Ultipro - Internal</td>\n",
       "      <td>HIRED-INTERNAL</td>\n",
       "      <td>Hired-Internal</td>\n",
       "      <td>April</td>\n",
       "      <td>...</td>\n",
       "      <td>defc308f6a7685a86afc58630f90dc5c1d0e14a7c5c400...</td>\n",
       "      <td>dd16f70fc1dcbe6b52a54807b9f0ab9eef962a26ba0c92...</td>\n",
       "      <td>Division Code 25</td>\n",
       "      <td>Department Code 210</td>\n",
       "      <td>Function Code 33</td>\n",
       "      <td>Cost Center 244</td>\n",
       "      <td>Business Unit 5</td>\n",
       "      <td>Location 48</td>\n",
       "      <td>bfa336fee5aebb07bbe328545207bb9f6b9757b2ef5ff6...</td>\n",
       "      <td>bb7e114606a748e6dbe99083260a398df8bcdffd417b1f...</td>\n",
       "    </tr>\n",
       "    <tr>\n",
       "      <th>44736</th>\n",
       "      <td>44736</td>\n",
       "      <td>2019</td>\n",
       "      <td>Full-Time</td>\n",
       "      <td>05/23/2019</td>\n",
       "      <td>Internal Hire</td>\n",
       "      <td>Hired</td>\n",
       "      <td>*Push to Ultipro - Internal</td>\n",
       "      <td>HIRED-INTERNAL</td>\n",
       "      <td>Hired-Internal</td>\n",
       "      <td>July</td>\n",
       "      <td>...</td>\n",
       "      <td>e0590fbf909a4a70e65d215d6f03d46fe3703707e61165...</td>\n",
       "      <td>a72850bacebae4410bfaba744a8cfa1c96dcac23e353fb...</td>\n",
       "      <td>Division Code 48</td>\n",
       "      <td>Department Code 189</td>\n",
       "      <td>Function Code 232</td>\n",
       "      <td>Cost Center 430</td>\n",
       "      <td>Business Unit 6</td>\n",
       "      <td>Location 69</td>\n",
       "      <td>b42fee1479002405746b3a429636bde587886d2a0053c3...</td>\n",
       "      <td>679f0b415a94f2353ac7381e56a5c9c17206ea132282dc...</td>\n",
       "    </tr>\n",
       "    <tr>\n",
       "      <th>44746</th>\n",
       "      <td>44746</td>\n",
       "      <td>2019</td>\n",
       "      <td>Full-Time</td>\n",
       "      <td>03/02/2019</td>\n",
       "      <td>Internal Hire</td>\n",
       "      <td>Hired</td>\n",
       "      <td>*Push to Ultipro - Internal</td>\n",
       "      <td>HIRED-INTERNAL</td>\n",
       "      <td>Hired-Internal</td>\n",
       "      <td>May</td>\n",
       "      <td>...</td>\n",
       "      <td>c93067539e269fa4fc1e0e603cf64dec3904e4b4985528...</td>\n",
       "      <td>82c7f18a10cc964a1b3b73a518d536d282b25c42e5e28f...</td>\n",
       "      <td>Division Code 48</td>\n",
       "      <td>Department Code 189</td>\n",
       "      <td>Function Code 232</td>\n",
       "      <td>Cost Center 430</td>\n",
       "      <td>Business Unit 6</td>\n",
       "      <td>Location 101</td>\n",
       "      <td>03ae6a7675c66c69cfe793efb64735822f94c5b4505a94...</td>\n",
       "      <td>a92adef2ec20e312990ead04d0c969f91501d5a9fc560f...</td>\n",
       "    </tr>\n",
       "    <tr>\n",
       "      <th>45144</th>\n",
       "      <td>45144</td>\n",
       "      <td>2018</td>\n",
       "      <td>Temporary</td>\n",
       "      <td>04/13/2018</td>\n",
       "      <td>Internal Hire</td>\n",
       "      <td>Hired</td>\n",
       "      <td>*Push to Ultipro - Internal</td>\n",
       "      <td>HIRED-INTERNAL</td>\n",
       "      <td>Hired-Internal</td>\n",
       "      <td>May</td>\n",
       "      <td>...</td>\n",
       "      <td>26fdd2ab1e08b08d84e34e15b1bb2b4d9cd1c94054e019...</td>\n",
       "      <td>69582f754b65bdd3c475e6830c807e49dad0c397f8b7a8...</td>\n",
       "      <td>Division Code 89</td>\n",
       "      <td>Department Code 72</td>\n",
       "      <td>Function Code 241</td>\n",
       "      <td>Cost Center 69</td>\n",
       "      <td>Business Unit 5</td>\n",
       "      <td>Location 300</td>\n",
       "      <td>1f8e71123799af8ef4840f6096d3f4809fc259d6ec85d5...</td>\n",
       "      <td>b819ae7796ff7d092ba680e4bdbd443918f090539a125b...</td>\n",
       "    </tr>\n",
       "  </tbody>\n",
       "</table>\n",
       "<p>1115 rows × 26 columns</p>\n",
       "</div>"
      ],
      "text/plain": [
       "       Unnamed: 0  Data Year Position Type Application Date Candidate Type  \\\n",
       "13             13       2018     Full-Time       01/16/2018  Internal Hire   \n",
       "72             72       2017     Full-Time       11/15/2017  Internal Hire   \n",
       "131           131       2017     Full-Time       01/26/2017  Internal Hire   \n",
       "350           350       2018     Full-Time       05/21/2018  Internal Hire   \n",
       "414           414       2019     Full-Time       05/04/2019  Internal Hire   \n",
       "...           ...        ...           ...              ...            ...   \n",
       "44622       44622       2017     Full-Time       06/10/2017  Internal Hire   \n",
       "44624       44624       2018     Full-Time       04/11/2018  Internal Hire   \n",
       "44736       44736       2019     Full-Time       05/23/2019  Internal Hire   \n",
       "44746       44746       2019     Full-Time       03/02/2019  Internal Hire   \n",
       "45144       45144       2018     Temporary       04/13/2018  Internal Hire   \n",
       "\n",
       "      Workflow Bin                 Workflow Status Workflow Disposition Code  \\\n",
       "13           Hired  *Onboarding Completed-Internal            HIRED-INTERNAL   \n",
       "72           Hired  *Onboarding Completed-Internal            HIRED-INTERNAL   \n",
       "131          Hired  *Onboarding Completed-Internal            HIRED-INTERNAL   \n",
       "350          Hired     *Push to Ultipro - Internal            HIRED-INTERNAL   \n",
       "414          Hired     *Push to Ultipro - Internal            HIRED-INTERNAL   \n",
       "...            ...                             ...                       ...   \n",
       "44622        Hired  *Onboarding Completed-Internal            HIRED-INTERNAL   \n",
       "44624        Hired     *Push to Ultipro - Internal            HIRED-INTERNAL   \n",
       "44736        Hired     *Push to Ultipro - Internal            HIRED-INTERNAL   \n",
       "44746        Hired     *Push to Ultipro - Internal            HIRED-INTERNAL   \n",
       "45144        Hired     *Push to Ultipro - Internal            HIRED-INTERNAL   \n",
       "\n",
       "      Workflow Disposition Reason Hire Month  ...  \\\n",
       "13                 Hired-Internal    January  ...   \n",
       "72                 Hired-Internal   December  ...   \n",
       "131                Hired-Internal      March  ...   \n",
       "350                Hired-Internal       July  ...   \n",
       "414                Hired-Internal       June  ...   \n",
       "...                           ...        ...  ...   \n",
       "44622              Hired-Internal       June  ...   \n",
       "44624              Hired-Internal      April  ...   \n",
       "44736              Hired-Internal       July  ...   \n",
       "44746              Hired-Internal        May  ...   \n",
       "45144              Hired-Internal        May  ...   \n",
       "\n",
       "                                            TA EEID Hash  \\\n",
       "13     bffca19398e7a8ec73d6d38c9f8dd4e55a76d52e1f3d5e...   \n",
       "72     377898fa8095969191442cc5d917ea8dd19c2394de3a27...   \n",
       "131    1142b14c6fa274e95f1adc01743c8046a336d4e6bab4d4...   \n",
       "350    377898fa8095969191442cc5d917ea8dd19c2394de3a27...   \n",
       "414    377898fa8095969191442cc5d917ea8dd19c2394de3a27...   \n",
       "...                                                  ...   \n",
       "44622  defc308f6a7685a86afc58630f90dc5c1d0e14a7c5c400...   \n",
       "44624  defc308f6a7685a86afc58630f90dc5c1d0e14a7c5c400...   \n",
       "44736  e0590fbf909a4a70e65d215d6f03d46fe3703707e61165...   \n",
       "44746  c93067539e269fa4fc1e0e603cf64dec3904e4b4985528...   \n",
       "45144  26fdd2ab1e08b08d84e34e15b1bb2b4d9cd1c94054e019...   \n",
       "\n",
       "                                       Manager EEID Hash  \\\n",
       "13     f094c2b3f92c59192217d05fe70e321608ff9aefca5b13...   \n",
       "72     f094c2b3f92c59192217d05fe70e321608ff9aefca5b13...   \n",
       "131    f094c2b3f92c59192217d05fe70e321608ff9aefca5b13...   \n",
       "350    06824c7f9dc59b7f77b9646f3972e0c4ec7a8c5c48a46e...   \n",
       "414    311436b43e32b1c156a5fbacf96dff74e896d1b10a5135...   \n",
       "...                                                  ...   \n",
       "44622  dd16f70fc1dcbe6b52a54807b9f0ab9eef962a26ba0c92...   \n",
       "44624  dd16f70fc1dcbe6b52a54807b9f0ab9eef962a26ba0c92...   \n",
       "44736  a72850bacebae4410bfaba744a8cfa1c96dcac23e353fb...   \n",
       "44746  82c7f18a10cc964a1b3b73a518d536d282b25c42e5e28f...   \n",
       "45144  69582f754b65bdd3c475e6830c807e49dad0c397f8b7a8...   \n",
       "\n",
       "      Randomized Key Division Code Randomized Key Department Code  \\\n",
       "13                Division Code 29            Department Code 374   \n",
       "72                Division Code 29            Department Code 374   \n",
       "131               Division Code 29            Department Code 374   \n",
       "350               Division Code 18            Department Code 212   \n",
       "414               Division Code 18            Department Code 221   \n",
       "...                            ...                            ...   \n",
       "44622             Division Code 25            Department Code 210   \n",
       "44624             Division Code 25            Department Code 210   \n",
       "44736             Division Code 48            Department Code 189   \n",
       "44746             Division Code 48            Department Code 189   \n",
       "45144             Division Code 89             Department Code 72   \n",
       "\n",
       "      Randomized Key Function Code Randomized Key Cost Center  \\\n",
       "13               Function Code 367            Cost Center 226   \n",
       "72               Function Code 367            Cost Center 226   \n",
       "131              Function Code 367            Cost Center 226   \n",
       "350              Function Code 216            Cost Center 372   \n",
       "414              Function Code 216            Cost Center 414   \n",
       "...                            ...                        ...   \n",
       "44622             Function Code 33            Cost Center 244   \n",
       "44624             Function Code 33            Cost Center 244   \n",
       "44736            Function Code 232            Cost Center 430   \n",
       "44746            Function Code 232            Cost Center 430   \n",
       "45144            Function Code 241             Cost Center 69   \n",
       "\n",
       "      Randomized Key Business Unit Randomized Key Location  \\\n",
       "13                Business Unit 12             Location 29   \n",
       "72                Business Unit 12             Location 29   \n",
       "131               Business Unit 12             Location 29   \n",
       "350                Business Unit 9             Location 29   \n",
       "414                Business Unit 9             Location 29   \n",
       "...                            ...                     ...   \n",
       "44622              Business Unit 5             Location 48   \n",
       "44624              Business Unit 5             Location 48   \n",
       "44736              Business Unit 6             Location 69   \n",
       "44746              Business Unit 6            Location 101   \n",
       "45144              Business Unit 5            Location 300   \n",
       "\n",
       "                                          System ID Hash  \\\n",
       "13     c7bc50a85ea938d4dbda61f9eec19b57f2cde78e0a5644...   \n",
       "72     b1c8f769c5ac242892595d7ed96e8f51b7ab66f849ce4a...   \n",
       "131    923ca5fcd8f318c43ba8670d7e0aaf8c0681209d525f60...   \n",
       "350    81b9b71f012abb17e7a168373f6999a1ffb1c2da62711c...   \n",
       "414    d41343c168aced0516fb96c6c0a94e2852ced837bc2d19...   \n",
       "...                                                  ...   \n",
       "44622  4de5dcff318c0ea35f38081688fa3384c7d1f837aaf5a8...   \n",
       "44624  bfa336fee5aebb07bbe328545207bb9f6b9757b2ef5ff6...   \n",
       "44736  b42fee1479002405746b3a429636bde587886d2a0053c3...   \n",
       "44746  03ae6a7675c66c69cfe793efb64735822f94c5b4505a94...   \n",
       "45144  1f8e71123799af8ef4840f6096d3f4809fc259d6ec85d5...   \n",
       "\n",
       "                                               EEID Hash  \n",
       "13     da87ae7a35147816e664f537759ebeb62a3819e073aa74...  \n",
       "72     a5549b936f41592323dfdddcc8eb5a47232362417b75c6...  \n",
       "131    1ed9f8e9ee47c09e7c33eb97a60ccdad188d8bb8784581...  \n",
       "350    1b38f34722f89f99efadfd5ffa82520ba31e03da4c28d1...  \n",
       "414    e1895f1e513f5b631434b1294286a29c68b56184836243...  \n",
       "...                                                  ...  \n",
       "44622  a5c0c7efeff9842720046a21d590a1622af19ab55cfcd4...  \n",
       "44624  bb7e114606a748e6dbe99083260a398df8bcdffd417b1f...  \n",
       "44736  679f0b415a94f2353ac7381e56a5c9c17206ea132282dc...  \n",
       "44746  a92adef2ec20e312990ead04d0c969f91501d5a9fc560f...  \n",
       "45144  b819ae7796ff7d092ba680e4bdbd443918f090539a125b...  \n",
       "\n",
       "[1115 rows x 26 columns]"
      ]
     },
     "execution_count": 106,
     "metadata": {},
     "output_type": "execute_result"
    }
   ],
   "source": [
    "application_df[application_df['Candidate Type'] == 'Internal Hire']"
   ]
  },
  {
   "cell_type": "code",
   "execution_count": 110,
   "metadata": {},
   "outputs": [],
   "source": [
    "application_internal_df = application_df[(application_df['Candidate Type'] == 'Internal Hire') & (application_df['Position Type'] != 'Temporary')]"
   ]
  },
  {
   "cell_type": "code",
   "execution_count": 111,
   "metadata": {},
   "outputs": [
    {
     "data": {
      "text/plain": [
       "(1111, 26)"
      ]
     },
     "execution_count": 111,
     "metadata": {},
     "output_type": "execute_result"
    }
   ],
   "source": [
    "application_internal_df.shape"
   ]
  },
  {
   "cell_type": "code",
   "execution_count": 117,
   "metadata": {},
   "outputs": [],
   "source": [
    "applicantion_count_per_EEID = application_internal_df['EEID Hash'].value_counts()"
   ]
  },
  {
   "cell_type": "code",
   "execution_count": 118,
   "metadata": {},
   "outputs": [
    {
     "name": "stderr",
     "output_type": "stream",
     "text": [
      "<ipython-input-118-565b10fb3dca>:1: SettingWithCopyWarning: \n",
      "A value is trying to be set on a copy of a slice from a DataFrame.\n",
      "Try using .loc[row_indexer,col_indexer] = value instead\n",
      "\n",
      "See the caveats in the documentation: https://pandas.pydata.org/pandas-docs/stable/user_guide/indexing.html#returning-a-view-versus-a-copy\n",
      "  application_internal_df['num_application'] = application_internal_df.apply(lambda row: applicantion_count_per_EEID[row['EEID Hash']], axis=1)\n"
     ]
    }
   ],
   "source": [
    "application_internal_df['num_application'] = application_internal_df.apply(lambda row: applicantion_count_per_EEID[row['EEID Hash']], axis=1)"
   ]
  },
  {
   "cell_type": "code",
   "execution_count": 125,
   "metadata": {},
   "outputs": [],
   "source": [
    "application_internal_df = application_internal_df[['EEID Hash', 'num_application']].drop_duplicates()"
   ]
  },
  {
   "cell_type": "code",
   "execution_count": 129,
   "metadata": {},
   "outputs": [
    {
     "data": {
      "text/html": [
       "<div>\n",
       "<style scoped>\n",
       "    .dataframe tbody tr th:only-of-type {\n",
       "        vertical-align: middle;\n",
       "    }\n",
       "\n",
       "    .dataframe tbody tr th {\n",
       "        vertical-align: top;\n",
       "    }\n",
       "\n",
       "    .dataframe thead th {\n",
       "        text-align: right;\n",
       "    }\n",
       "</style>\n",
       "<table border=\"1\" class=\"dataframe\">\n",
       "  <thead>\n",
       "    <tr style=\"text-align: right;\">\n",
       "      <th></th>\n",
       "      <th>EEID Hash</th>\n",
       "      <th>num_application</th>\n",
       "    </tr>\n",
       "  </thead>\n",
       "  <tbody>\n",
       "    <tr>\n",
       "      <th>13</th>\n",
       "      <td>da87ae7a35147816e664f537759ebeb62a3819e073aa74...</td>\n",
       "      <td>1</td>\n",
       "    </tr>\n",
       "    <tr>\n",
       "      <th>72</th>\n",
       "      <td>a5549b936f41592323dfdddcc8eb5a47232362417b75c6...</td>\n",
       "      <td>1</td>\n",
       "    </tr>\n",
       "    <tr>\n",
       "      <th>131</th>\n",
       "      <td>1ed9f8e9ee47c09e7c33eb97a60ccdad188d8bb8784581...</td>\n",
       "      <td>1</td>\n",
       "    </tr>\n",
       "    <tr>\n",
       "      <th>350</th>\n",
       "      <td>1b38f34722f89f99efadfd5ffa82520ba31e03da4c28d1...</td>\n",
       "      <td>1</td>\n",
       "    </tr>\n",
       "    <tr>\n",
       "      <th>414</th>\n",
       "      <td>e1895f1e513f5b631434b1294286a29c68b56184836243...</td>\n",
       "      <td>1</td>\n",
       "    </tr>\n",
       "    <tr>\n",
       "      <th>...</th>\n",
       "      <td>...</td>\n",
       "      <td>...</td>\n",
       "    </tr>\n",
       "    <tr>\n",
       "      <th>44518</th>\n",
       "      <td>ddca23a9740c19b4a87aae4664a155a81d898729bbb953...</td>\n",
       "      <td>1</td>\n",
       "    </tr>\n",
       "    <tr>\n",
       "      <th>44545</th>\n",
       "      <td>cd5a3f74126969bb6d532e03704252eefb2d15e05b4a83...</td>\n",
       "      <td>1</td>\n",
       "    </tr>\n",
       "    <tr>\n",
       "      <th>44599</th>\n",
       "      <td>3d19e2fc5aecf7024eae63f94ae2401d668acf15abf2f6...</td>\n",
       "      <td>1</td>\n",
       "    </tr>\n",
       "    <tr>\n",
       "      <th>44736</th>\n",
       "      <td>679f0b415a94f2353ac7381e56a5c9c17206ea132282dc...</td>\n",
       "      <td>1</td>\n",
       "    </tr>\n",
       "    <tr>\n",
       "      <th>44746</th>\n",
       "      <td>a92adef2ec20e312990ead04d0c969f91501d5a9fc560f...</td>\n",
       "      <td>1</td>\n",
       "    </tr>\n",
       "  </tbody>\n",
       "</table>\n",
       "<p>946 rows × 2 columns</p>\n",
       "</div>"
      ],
      "text/plain": [
       "                                               EEID Hash  num_application\n",
       "13     da87ae7a35147816e664f537759ebeb62a3819e073aa74...                1\n",
       "72     a5549b936f41592323dfdddcc8eb5a47232362417b75c6...                1\n",
       "131    1ed9f8e9ee47c09e7c33eb97a60ccdad188d8bb8784581...                1\n",
       "350    1b38f34722f89f99efadfd5ffa82520ba31e03da4c28d1...                1\n",
       "414    e1895f1e513f5b631434b1294286a29c68b56184836243...                1\n",
       "...                                                  ...              ...\n",
       "44518  ddca23a9740c19b4a87aae4664a155a81d898729bbb953...                1\n",
       "44545  cd5a3f74126969bb6d532e03704252eefb2d15e05b4a83...                1\n",
       "44599  3d19e2fc5aecf7024eae63f94ae2401d668acf15abf2f6...                1\n",
       "44736  679f0b415a94f2353ac7381e56a5c9c17206ea132282dc...                1\n",
       "44746  a92adef2ec20e312990ead04d0c969f91501d5a9fc560f...                1\n",
       "\n",
       "[946 rows x 2 columns]"
      ]
     },
     "execution_count": 129,
     "metadata": {},
     "output_type": "execute_result"
    }
   ],
   "source": [
    "application_internal_df"
   ]
  },
  {
   "cell_type": "code",
   "execution_count": 134,
   "metadata": {},
   "outputs": [],
   "source": [
    "application_internal_df.to_csv('/Users/mengtianli/Downloads/HR/application_internal.csv', index=False)"
   ]
  },
  {
   "cell_type": "code",
   "execution_count": 132,
   "metadata": {},
   "outputs": [],
   "source": [
    "roster_df = roster_df[roster_df['Randomized Key Success Profile'] != 'Success Profile 2']"
   ]
  },
  {
   "cell_type": "code",
   "execution_count": 143,
   "metadata": {},
   "outputs": [
    {
     "data": {
      "text/html": [
       "<div>\n",
       "<style scoped>\n",
       "    .dataframe tbody tr th:only-of-type {\n",
       "        vertical-align: middle;\n",
       "    }\n",
       "\n",
       "    .dataframe tbody tr th {\n",
       "        vertical-align: top;\n",
       "    }\n",
       "\n",
       "    .dataframe thead th {\n",
       "        text-align: right;\n",
       "    }\n",
       "</style>\n",
       "<table border=\"1\" class=\"dataframe\">\n",
       "  <thead>\n",
       "    <tr style=\"text-align: right;\">\n",
       "      <th></th>\n",
       "      <th>Unnamed: 0</th>\n",
       "      <th>Data Year</th>\n",
       "      <th>Region</th>\n",
       "      <th>State</th>\n",
       "      <th>Employee of Color</th>\n",
       "      <th>Randomized Key Job Code</th>\n",
       "      <th>Job Title</th>\n",
       "      <th>Randomized Key Success Profile</th>\n",
       "      <th>Manager EEID Hash</th>\n",
       "      <th>Manager Name</th>\n",
       "      <th>...</th>\n",
       "      <th>Randomized Key Location</th>\n",
       "      <th>Randomized Key Market</th>\n",
       "      <th>System ID Hash</th>\n",
       "      <th>EEID Hash</th>\n",
       "      <th>First Name</th>\n",
       "      <th>Last Name</th>\n",
       "      <th>Race/Ethnicity</th>\n",
       "      <th>Gender</th>\n",
       "      <th>Disabled</th>\n",
       "      <th>Veteran</th>\n",
       "    </tr>\n",
       "  </thead>\n",
       "  <tbody>\n",
       "    <tr>\n",
       "      <th>0</th>\n",
       "      <td>0</td>\n",
       "      <td>2017</td>\n",
       "      <td>Central PA</td>\n",
       "      <td>PA</td>\n",
       "      <td>No</td>\n",
       "      <td>Job Code 3972</td>\n",
       "      <td>NaN</td>\n",
       "      <td>Success Profile 3</td>\n",
       "      <td>ee605efa196bda7c1fcc67c8901e302f36354ec718ee82...</td>\n",
       "      <td>NaN</td>\n",
       "      <td>...</td>\n",
       "      <td>Location 29</td>\n",
       "      <td>Market 3</td>\n",
       "      <td>5abe33fa767e839a152a0aecf3219eb49cda01d3fb3d20...</td>\n",
       "      <td>0026a2ad36a89c2e8a7985caea92b9d6d95dd6c3273557...</td>\n",
       "      <td>NaN</td>\n",
       "      <td>NaN</td>\n",
       "      <td>NaN</td>\n",
       "      <td>NaN</td>\n",
       "      <td>NaN</td>\n",
       "      <td>NaN</td>\n",
       "    </tr>\n",
       "    <tr>\n",
       "      <th>1</th>\n",
       "      <td>1</td>\n",
       "      <td>2017</td>\n",
       "      <td>Central PA</td>\n",
       "      <td>PA</td>\n",
       "      <td>No</td>\n",
       "      <td>Job Code 7888</td>\n",
       "      <td>NaN</td>\n",
       "      <td>Success Profile 8</td>\n",
       "      <td>af1ba03df1e2fa4125d1c4726e56dd94f2bf0f95ba703d...</td>\n",
       "      <td>NaN</td>\n",
       "      <td>...</td>\n",
       "      <td>Location 29</td>\n",
       "      <td>Market 3</td>\n",
       "      <td>f06547d9e1c10ec610f75517dbf77cceaa1e49618f32dc...</td>\n",
       "      <td>5c7e6f28691b3cf25225ec6860946b8d324d9ac7bd6e13...</td>\n",
       "      <td>NaN</td>\n",
       "      <td>NaN</td>\n",
       "      <td>NaN</td>\n",
       "      <td>NaN</td>\n",
       "      <td>NaN</td>\n",
       "      <td>NaN</td>\n",
       "    </tr>\n",
       "    <tr>\n",
       "      <th>2</th>\n",
       "      <td>2</td>\n",
       "      <td>2018</td>\n",
       "      <td>Central PA</td>\n",
       "      <td>PA</td>\n",
       "      <td>No</td>\n",
       "      <td>Job Code 5409</td>\n",
       "      <td>NaN</td>\n",
       "      <td>Success Profile 8</td>\n",
       "      <td>af1ba03df1e2fa4125d1c4726e56dd94f2bf0f95ba703d...</td>\n",
       "      <td>NaN</td>\n",
       "      <td>...</td>\n",
       "      <td>Location 29</td>\n",
       "      <td>Market 3</td>\n",
       "      <td>f06547d9e1c10ec610f75517dbf77cceaa1e49618f32dc...</td>\n",
       "      <td>5c7e6f28691b3cf25225ec6860946b8d324d9ac7bd6e13...</td>\n",
       "      <td>NaN</td>\n",
       "      <td>NaN</td>\n",
       "      <td>NaN</td>\n",
       "      <td>NaN</td>\n",
       "      <td>NaN</td>\n",
       "      <td>NaN</td>\n",
       "    </tr>\n",
       "    <tr>\n",
       "      <th>3</th>\n",
       "      <td>3</td>\n",
       "      <td>2019</td>\n",
       "      <td>Central PA</td>\n",
       "      <td>PA</td>\n",
       "      <td>No</td>\n",
       "      <td>Job Code 5409</td>\n",
       "      <td>NaN</td>\n",
       "      <td>Success Profile 8</td>\n",
       "      <td>af1ba03df1e2fa4125d1c4726e56dd94f2bf0f95ba703d...</td>\n",
       "      <td>NaN</td>\n",
       "      <td>...</td>\n",
       "      <td>Location 29</td>\n",
       "      <td>Market 3</td>\n",
       "      <td>f06547d9e1c10ec610f75517dbf77cceaa1e49618f32dc...</td>\n",
       "      <td>5c7e6f28691b3cf25225ec6860946b8d324d9ac7bd6e13...</td>\n",
       "      <td>NaN</td>\n",
       "      <td>NaN</td>\n",
       "      <td>NaN</td>\n",
       "      <td>NaN</td>\n",
       "      <td>NaN</td>\n",
       "      <td>NaN</td>\n",
       "    </tr>\n",
       "    <tr>\n",
       "      <th>4</th>\n",
       "      <td>4</td>\n",
       "      <td>2020</td>\n",
       "      <td>Central PA</td>\n",
       "      <td>PA</td>\n",
       "      <td>No</td>\n",
       "      <td>Job Code 5409</td>\n",
       "      <td>NaN</td>\n",
       "      <td>Success Profile 8</td>\n",
       "      <td>af1ba03df1e2fa4125d1c4726e56dd94f2bf0f95ba703d...</td>\n",
       "      <td>NaN</td>\n",
       "      <td>...</td>\n",
       "      <td>Location 29</td>\n",
       "      <td>Market 3</td>\n",
       "      <td>f06547d9e1c10ec610f75517dbf77cceaa1e49618f32dc...</td>\n",
       "      <td>5c7e6f28691b3cf25225ec6860946b8d324d9ac7bd6e13...</td>\n",
       "      <td>NaN</td>\n",
       "      <td>NaN</td>\n",
       "      <td>NaN</td>\n",
       "      <td>NaN</td>\n",
       "      <td>NaN</td>\n",
       "      <td>NaN</td>\n",
       "    </tr>\n",
       "    <tr>\n",
       "      <th>...</th>\n",
       "      <td>...</td>\n",
       "      <td>...</td>\n",
       "      <td>...</td>\n",
       "      <td>...</td>\n",
       "      <td>...</td>\n",
       "      <td>...</td>\n",
       "      <td>...</td>\n",
       "      <td>...</td>\n",
       "      <td>...</td>\n",
       "      <td>...</td>\n",
       "      <td>...</td>\n",
       "      <td>...</td>\n",
       "      <td>...</td>\n",
       "      <td>...</td>\n",
       "      <td>...</td>\n",
       "      <td>...</td>\n",
       "      <td>...</td>\n",
       "      <td>...</td>\n",
       "      <td>...</td>\n",
       "      <td>...</td>\n",
       "      <td>...</td>\n",
       "    </tr>\n",
       "    <tr>\n",
       "      <th>14765</th>\n",
       "      <td>14765</td>\n",
       "      <td>2017</td>\n",
       "      <td>Central PA</td>\n",
       "      <td>PA</td>\n",
       "      <td>No</td>\n",
       "      <td>Job Code 6229</td>\n",
       "      <td>NaN</td>\n",
       "      <td>Success Profile 3</td>\n",
       "      <td>b03686268efe0c804a5af502b21513c234c4278ddfd871...</td>\n",
       "      <td>NaN</td>\n",
       "      <td>...</td>\n",
       "      <td>Location 294</td>\n",
       "      <td>Market 3</td>\n",
       "      <td>7675c9d4c4072f6a91113ed4918009d3032da6b058b725...</td>\n",
       "      <td>1f71c3b5b33f5773508def1fdf8f88e4a6440432301e8d...</td>\n",
       "      <td>NaN</td>\n",
       "      <td>NaN</td>\n",
       "      <td>NaN</td>\n",
       "      <td>NaN</td>\n",
       "      <td>NaN</td>\n",
       "      <td>NaN</td>\n",
       "    </tr>\n",
       "    <tr>\n",
       "      <th>14766</th>\n",
       "      <td>14766</td>\n",
       "      <td>2018</td>\n",
       "      <td>Central PA</td>\n",
       "      <td>PA</td>\n",
       "      <td>No</td>\n",
       "      <td>Job Code 6229</td>\n",
       "      <td>NaN</td>\n",
       "      <td>Success Profile 3</td>\n",
       "      <td>b03686268efe0c804a5af502b21513c234c4278ddfd871...</td>\n",
       "      <td>NaN</td>\n",
       "      <td>...</td>\n",
       "      <td>Location 294</td>\n",
       "      <td>Market 3</td>\n",
       "      <td>7675c9d4c4072f6a91113ed4918009d3032da6b058b725...</td>\n",
       "      <td>1f71c3b5b33f5773508def1fdf8f88e4a6440432301e8d...</td>\n",
       "      <td>NaN</td>\n",
       "      <td>NaN</td>\n",
       "      <td>NaN</td>\n",
       "      <td>NaN</td>\n",
       "      <td>NaN</td>\n",
       "      <td>NaN</td>\n",
       "    </tr>\n",
       "    <tr>\n",
       "      <th>14767</th>\n",
       "      <td>14767</td>\n",
       "      <td>2019</td>\n",
       "      <td>Central PA</td>\n",
       "      <td>PA</td>\n",
       "      <td>No</td>\n",
       "      <td>Job Code 6229</td>\n",
       "      <td>NaN</td>\n",
       "      <td>Success Profile 3</td>\n",
       "      <td>b03686268efe0c804a5af502b21513c234c4278ddfd871...</td>\n",
       "      <td>NaN</td>\n",
       "      <td>...</td>\n",
       "      <td>Location 294</td>\n",
       "      <td>Market 3</td>\n",
       "      <td>7675c9d4c4072f6a91113ed4918009d3032da6b058b725...</td>\n",
       "      <td>1f71c3b5b33f5773508def1fdf8f88e4a6440432301e8d...</td>\n",
       "      <td>NaN</td>\n",
       "      <td>NaN</td>\n",
       "      <td>NaN</td>\n",
       "      <td>NaN</td>\n",
       "      <td>NaN</td>\n",
       "      <td>NaN</td>\n",
       "    </tr>\n",
       "    <tr>\n",
       "      <th>14768</th>\n",
       "      <td>14768</td>\n",
       "      <td>2020</td>\n",
       "      <td>Central PA</td>\n",
       "      <td>PA</td>\n",
       "      <td>No</td>\n",
       "      <td>Job Code 2589</td>\n",
       "      <td>NaN</td>\n",
       "      <td>Success Profile 3</td>\n",
       "      <td>f7608660f1ad2c1231f98d37fb4a0a0c6b52dde05c5f68...</td>\n",
       "      <td>NaN</td>\n",
       "      <td>...</td>\n",
       "      <td>Location 294</td>\n",
       "      <td>Market 3</td>\n",
       "      <td>7675c9d4c4072f6a91113ed4918009d3032da6b058b725...</td>\n",
       "      <td>1f71c3b5b33f5773508def1fdf8f88e4a6440432301e8d...</td>\n",
       "      <td>NaN</td>\n",
       "      <td>NaN</td>\n",
       "      <td>NaN</td>\n",
       "      <td>NaN</td>\n",
       "      <td>NaN</td>\n",
       "      <td>NaN</td>\n",
       "    </tr>\n",
       "    <tr>\n",
       "      <th>14769</th>\n",
       "      <td>14769</td>\n",
       "      <td>2018</td>\n",
       "      <td>Central PA</td>\n",
       "      <td>PA</td>\n",
       "      <td>No</td>\n",
       "      <td>Job Code 6293</td>\n",
       "      <td>NaN</td>\n",
       "      <td>Success Profile 3</td>\n",
       "      <td>009c91b9eae2deb72c987f246378a7fdf361594443c564...</td>\n",
       "      <td>NaN</td>\n",
       "      <td>...</td>\n",
       "      <td>Location 294</td>\n",
       "      <td>Market 3</td>\n",
       "      <td>57ac67af3f714f834cf325b9742bc476b619a828b410cc...</td>\n",
       "      <td>90ba6df486e516f180675b0d28eeacbe3ad9cc8335e859...</td>\n",
       "      <td>NaN</td>\n",
       "      <td>NaN</td>\n",
       "      <td>NaN</td>\n",
       "      <td>NaN</td>\n",
       "      <td>NaN</td>\n",
       "      <td>NaN</td>\n",
       "    </tr>\n",
       "  </tbody>\n",
       "</table>\n",
       "<p>14588 rows × 30 columns</p>\n",
       "</div>"
      ],
      "text/plain": [
       "       Unnamed: 0  Data Year      Region State Employee of Color  \\\n",
       "0               0       2017  Central PA    PA                No   \n",
       "1               1       2017  Central PA    PA                No   \n",
       "2               2       2018  Central PA    PA                No   \n",
       "3               3       2019  Central PA    PA                No   \n",
       "4               4       2020  Central PA    PA                No   \n",
       "...           ...        ...         ...   ...               ...   \n",
       "14765       14765       2017  Central PA    PA                No   \n",
       "14766       14766       2018  Central PA    PA                No   \n",
       "14767       14767       2019  Central PA    PA                No   \n",
       "14768       14768       2020  Central PA    PA                No   \n",
       "14769       14769       2018  Central PA    PA                No   \n",
       "\n",
       "      Randomized Key Job Code  Job Title Randomized Key Success Profile  \\\n",
       "0               Job Code 3972        NaN              Success Profile 3   \n",
       "1               Job Code 7888        NaN              Success Profile 8   \n",
       "2               Job Code 5409        NaN              Success Profile 8   \n",
       "3               Job Code 5409        NaN              Success Profile 8   \n",
       "4               Job Code 5409        NaN              Success Profile 8   \n",
       "...                       ...        ...                            ...   \n",
       "14765           Job Code 6229        NaN              Success Profile 3   \n",
       "14766           Job Code 6229        NaN              Success Profile 3   \n",
       "14767           Job Code 6229        NaN              Success Profile 3   \n",
       "14768           Job Code 2589        NaN              Success Profile 3   \n",
       "14769           Job Code 6293        NaN              Success Profile 3   \n",
       "\n",
       "                                       Manager EEID Hash  Manager Name  ...  \\\n",
       "0      ee605efa196bda7c1fcc67c8901e302f36354ec718ee82...           NaN  ...   \n",
       "1      af1ba03df1e2fa4125d1c4726e56dd94f2bf0f95ba703d...           NaN  ...   \n",
       "2      af1ba03df1e2fa4125d1c4726e56dd94f2bf0f95ba703d...           NaN  ...   \n",
       "3      af1ba03df1e2fa4125d1c4726e56dd94f2bf0f95ba703d...           NaN  ...   \n",
       "4      af1ba03df1e2fa4125d1c4726e56dd94f2bf0f95ba703d...           NaN  ...   \n",
       "...                                                  ...           ...  ...   \n",
       "14765  b03686268efe0c804a5af502b21513c234c4278ddfd871...           NaN  ...   \n",
       "14766  b03686268efe0c804a5af502b21513c234c4278ddfd871...           NaN  ...   \n",
       "14767  b03686268efe0c804a5af502b21513c234c4278ddfd871...           NaN  ...   \n",
       "14768  f7608660f1ad2c1231f98d37fb4a0a0c6b52dde05c5f68...           NaN  ...   \n",
       "14769  009c91b9eae2deb72c987f246378a7fdf361594443c564...           NaN  ...   \n",
       "\n",
       "      Randomized Key Location Randomized Key Market  \\\n",
       "0                 Location 29              Market 3   \n",
       "1                 Location 29              Market 3   \n",
       "2                 Location 29              Market 3   \n",
       "3                 Location 29              Market 3   \n",
       "4                 Location 29              Market 3   \n",
       "...                       ...                   ...   \n",
       "14765            Location 294              Market 3   \n",
       "14766            Location 294              Market 3   \n",
       "14767            Location 294              Market 3   \n",
       "14768            Location 294              Market 3   \n",
       "14769            Location 294              Market 3   \n",
       "\n",
       "                                          System ID Hash  \\\n",
       "0      5abe33fa767e839a152a0aecf3219eb49cda01d3fb3d20...   \n",
       "1      f06547d9e1c10ec610f75517dbf77cceaa1e49618f32dc...   \n",
       "2      f06547d9e1c10ec610f75517dbf77cceaa1e49618f32dc...   \n",
       "3      f06547d9e1c10ec610f75517dbf77cceaa1e49618f32dc...   \n",
       "4      f06547d9e1c10ec610f75517dbf77cceaa1e49618f32dc...   \n",
       "...                                                  ...   \n",
       "14765  7675c9d4c4072f6a91113ed4918009d3032da6b058b725...   \n",
       "14766  7675c9d4c4072f6a91113ed4918009d3032da6b058b725...   \n",
       "14767  7675c9d4c4072f6a91113ed4918009d3032da6b058b725...   \n",
       "14768  7675c9d4c4072f6a91113ed4918009d3032da6b058b725...   \n",
       "14769  57ac67af3f714f834cf325b9742bc476b619a828b410cc...   \n",
       "\n",
       "                                               EEID Hash  First Name  \\\n",
       "0      0026a2ad36a89c2e8a7985caea92b9d6d95dd6c3273557...         NaN   \n",
       "1      5c7e6f28691b3cf25225ec6860946b8d324d9ac7bd6e13...         NaN   \n",
       "2      5c7e6f28691b3cf25225ec6860946b8d324d9ac7bd6e13...         NaN   \n",
       "3      5c7e6f28691b3cf25225ec6860946b8d324d9ac7bd6e13...         NaN   \n",
       "4      5c7e6f28691b3cf25225ec6860946b8d324d9ac7bd6e13...         NaN   \n",
       "...                                                  ...         ...   \n",
       "14765  1f71c3b5b33f5773508def1fdf8f88e4a6440432301e8d...         NaN   \n",
       "14766  1f71c3b5b33f5773508def1fdf8f88e4a6440432301e8d...         NaN   \n",
       "14767  1f71c3b5b33f5773508def1fdf8f88e4a6440432301e8d...         NaN   \n",
       "14768  1f71c3b5b33f5773508def1fdf8f88e4a6440432301e8d...         NaN   \n",
       "14769  90ba6df486e516f180675b0d28eeacbe3ad9cc8335e859...         NaN   \n",
       "\n",
       "      Last Name  Race/Ethnicity Gender Disabled  Veteran  \n",
       "0           NaN             NaN    NaN      NaN      NaN  \n",
       "1           NaN             NaN    NaN      NaN      NaN  \n",
       "2           NaN             NaN    NaN      NaN      NaN  \n",
       "3           NaN             NaN    NaN      NaN      NaN  \n",
       "4           NaN             NaN    NaN      NaN      NaN  \n",
       "...         ...             ...    ...      ...      ...  \n",
       "14765       NaN             NaN    NaN      NaN      NaN  \n",
       "14766       NaN             NaN    NaN      NaN      NaN  \n",
       "14767       NaN             NaN    NaN      NaN      NaN  \n",
       "14768       NaN             NaN    NaN      NaN      NaN  \n",
       "14769       NaN             NaN    NaN      NaN      NaN  \n",
       "\n",
       "[14588 rows x 30 columns]"
      ]
     },
     "execution_count": 143,
     "metadata": {},
     "output_type": "execute_result"
    }
   ],
   "source": []
  },
  {
   "cell_type": "code",
   "execution_count": 130,
   "metadata": {},
   "outputs": [
    {
     "data": {
      "text/html": [
       "<div>\n",
       "<style scoped>\n",
       "    .dataframe tbody tr th:only-of-type {\n",
       "        vertical-align: middle;\n",
       "    }\n",
       "\n",
       "    .dataframe tbody tr th {\n",
       "        vertical-align: top;\n",
       "    }\n",
       "\n",
       "    .dataframe thead th {\n",
       "        text-align: right;\n",
       "    }\n",
       "</style>\n",
       "<table border=\"1\" class=\"dataframe\">\n",
       "  <thead>\n",
       "    <tr style=\"text-align: right;\">\n",
       "      <th></th>\n",
       "      <th>Unnamed: 0</th>\n",
       "      <th>Data Year</th>\n",
       "      <th>Region</th>\n",
       "      <th>State</th>\n",
       "      <th>Employee of Color</th>\n",
       "      <th>Randomized Key Job Code</th>\n",
       "      <th>Job Title</th>\n",
       "      <th>Randomized Key Success Profile</th>\n",
       "      <th>Manager EEID Hash</th>\n",
       "      <th>Manager Name</th>\n",
       "      <th>...</th>\n",
       "      <th>Randomized Key Location</th>\n",
       "      <th>Randomized Key Market</th>\n",
       "      <th>System ID Hash</th>\n",
       "      <th>EEID Hash</th>\n",
       "      <th>First Name</th>\n",
       "      <th>Last Name</th>\n",
       "      <th>Race/Ethnicity</th>\n",
       "      <th>Gender</th>\n",
       "      <th>Disabled</th>\n",
       "      <th>Veteran</th>\n",
       "    </tr>\n",
       "  </thead>\n",
       "  <tbody>\n",
       "    <tr>\n",
       "      <th>8799</th>\n",
       "      <td>8799</td>\n",
       "      <td>2017</td>\n",
       "      <td>Central PA</td>\n",
       "      <td>PA</td>\n",
       "      <td>No</td>\n",
       "      <td>Job Code 1871</td>\n",
       "      <td>NaN</td>\n",
       "      <td>Success Profile 3</td>\n",
       "      <td>665ba6a1d35d69b097de110a5e64da55fef735b30a73ff...</td>\n",
       "      <td>NaN</td>\n",
       "      <td>...</td>\n",
       "      <td>NaN</td>\n",
       "      <td>Market 3</td>\n",
       "      <td>9a37050867f8fe52dc393e87002f357ead4d16dfe89e04...</td>\n",
       "      <td>801eade1192f5b3d2ec091ee75e06f245dcad18d674948...</td>\n",
       "      <td>NaN</td>\n",
       "      <td>NaN</td>\n",
       "      <td>NaN</td>\n",
       "      <td>NaN</td>\n",
       "      <td>NaN</td>\n",
       "      <td>NaN</td>\n",
       "    </tr>\n",
       "    <tr>\n",
       "      <th>8800</th>\n",
       "      <td>8800</td>\n",
       "      <td>2018</td>\n",
       "      <td>Central PA</td>\n",
       "      <td>PA</td>\n",
       "      <td>No</td>\n",
       "      <td>Job Code 1871</td>\n",
       "      <td>NaN</td>\n",
       "      <td>Success Profile 3</td>\n",
       "      <td>7309fc867fd9710716b7318422aa4ec23b461de620c230...</td>\n",
       "      <td>NaN</td>\n",
       "      <td>...</td>\n",
       "      <td>NaN</td>\n",
       "      <td>Market 3</td>\n",
       "      <td>9a37050867f8fe52dc393e87002f357ead4d16dfe89e04...</td>\n",
       "      <td>801eade1192f5b3d2ec091ee75e06f245dcad18d674948...</td>\n",
       "      <td>NaN</td>\n",
       "      <td>NaN</td>\n",
       "      <td>NaN</td>\n",
       "      <td>NaN</td>\n",
       "      <td>NaN</td>\n",
       "      <td>NaN</td>\n",
       "    </tr>\n",
       "    <tr>\n",
       "      <th>8801</th>\n",
       "      <td>8801</td>\n",
       "      <td>2019</td>\n",
       "      <td>Central PA</td>\n",
       "      <td>PA</td>\n",
       "      <td>No</td>\n",
       "      <td>Job Code 1871</td>\n",
       "      <td>NaN</td>\n",
       "      <td>Success Profile 3</td>\n",
       "      <td>7309fc867fd9710716b7318422aa4ec23b461de620c230...</td>\n",
       "      <td>NaN</td>\n",
       "      <td>...</td>\n",
       "      <td>NaN</td>\n",
       "      <td>Market 3</td>\n",
       "      <td>9a37050867f8fe52dc393e87002f357ead4d16dfe89e04...</td>\n",
       "      <td>801eade1192f5b3d2ec091ee75e06f245dcad18d674948...</td>\n",
       "      <td>NaN</td>\n",
       "      <td>NaN</td>\n",
       "      <td>NaN</td>\n",
       "      <td>NaN</td>\n",
       "      <td>NaN</td>\n",
       "      <td>NaN</td>\n",
       "    </tr>\n",
       "    <tr>\n",
       "      <th>12804</th>\n",
       "      <td>12804</td>\n",
       "      <td>2020</td>\n",
       "      <td>Central PA</td>\n",
       "      <td>PA</td>\n",
       "      <td>No</td>\n",
       "      <td>Job Code 7314</td>\n",
       "      <td>NaN</td>\n",
       "      <td>Success Profile 8</td>\n",
       "      <td>95bd9eaa2a253e4f69dcc39aa8a1aa401655b369f61419...</td>\n",
       "      <td>NaN</td>\n",
       "      <td>...</td>\n",
       "      <td>Location 103</td>\n",
       "      <td>Market 1</td>\n",
       "      <td>9a37050867f8fe52dc393e87002f357ead4d16dfe89e04...</td>\n",
       "      <td>801eade1192f5b3d2ec091ee75e06f245dcad18d674948...</td>\n",
       "      <td>NaN</td>\n",
       "      <td>NaN</td>\n",
       "      <td>NaN</td>\n",
       "      <td>NaN</td>\n",
       "      <td>NaN</td>\n",
       "      <td>NaN</td>\n",
       "    </tr>\n",
       "  </tbody>\n",
       "</table>\n",
       "<p>4 rows × 30 columns</p>\n",
       "</div>"
      ],
      "text/plain": [
       "       Unnamed: 0  Data Year      Region State Employee of Color  \\\n",
       "8799         8799       2017  Central PA    PA                No   \n",
       "8800         8800       2018  Central PA    PA                No   \n",
       "8801         8801       2019  Central PA    PA                No   \n",
       "12804       12804       2020  Central PA    PA                No   \n",
       "\n",
       "      Randomized Key Job Code  Job Title Randomized Key Success Profile  \\\n",
       "8799            Job Code 1871        NaN              Success Profile 3   \n",
       "8800            Job Code 1871        NaN              Success Profile 3   \n",
       "8801            Job Code 1871        NaN              Success Profile 3   \n",
       "12804           Job Code 7314        NaN              Success Profile 8   \n",
       "\n",
       "                                       Manager EEID Hash  Manager Name  ...  \\\n",
       "8799   665ba6a1d35d69b097de110a5e64da55fef735b30a73ff...           NaN  ...   \n",
       "8800   7309fc867fd9710716b7318422aa4ec23b461de620c230...           NaN  ...   \n",
       "8801   7309fc867fd9710716b7318422aa4ec23b461de620c230...           NaN  ...   \n",
       "12804  95bd9eaa2a253e4f69dcc39aa8a1aa401655b369f61419...           NaN  ...   \n",
       "\n",
       "      Randomized Key Location Randomized Key Market  \\\n",
       "8799                      NaN              Market 3   \n",
       "8800                      NaN              Market 3   \n",
       "8801                      NaN              Market 3   \n",
       "12804            Location 103              Market 1   \n",
       "\n",
       "                                          System ID Hash  \\\n",
       "8799   9a37050867f8fe52dc393e87002f357ead4d16dfe89e04...   \n",
       "8800   9a37050867f8fe52dc393e87002f357ead4d16dfe89e04...   \n",
       "8801   9a37050867f8fe52dc393e87002f357ead4d16dfe89e04...   \n",
       "12804  9a37050867f8fe52dc393e87002f357ead4d16dfe89e04...   \n",
       "\n",
       "                                               EEID Hash  First Name  \\\n",
       "8799   801eade1192f5b3d2ec091ee75e06f245dcad18d674948...         NaN   \n",
       "8800   801eade1192f5b3d2ec091ee75e06f245dcad18d674948...         NaN   \n",
       "8801   801eade1192f5b3d2ec091ee75e06f245dcad18d674948...         NaN   \n",
       "12804  801eade1192f5b3d2ec091ee75e06f245dcad18d674948...         NaN   \n",
       "\n",
       "      Last Name  Race/Ethnicity Gender Disabled  Veteran  \n",
       "8799        NaN             NaN    NaN      NaN      NaN  \n",
       "8800        NaN             NaN    NaN      NaN      NaN  \n",
       "8801        NaN             NaN    NaN      NaN      NaN  \n",
       "12804       NaN             NaN    NaN      NaN      NaN  \n",
       "\n",
       "[4 rows x 30 columns]"
      ]
     },
     "execution_count": 130,
     "metadata": {},
     "output_type": "execute_result"
    }
   ],
   "source": [
    "roster_df[roster_df['EEID Hash'] == '801eade1192f5b3d2ec091ee75e06f245dcad18d674948dc524d0c84390bc320']"
   ]
  },
  {
   "cell_type": "code",
   "execution_count": 44,
   "metadata": {},
   "outputs": [
    {
     "data": {
      "text/plain": [
       "array(['Voluntary Separation', 'Termed for Cause', 'Temporary Job Ended',\n",
       "       'Position Elimination', 'Other'], dtype=object)"
      ]
     },
     "execution_count": 44,
     "metadata": {},
     "output_type": "execute_result"
    }
   ],
   "source": [
    "terms_df['Termination Type'].unique()"
   ]
  },
  {
   "cell_type": "code",
   "execution_count": 47,
   "metadata": {},
   "outputs": [],
   "source": [
    "terms_df = terms_df.dropna(axis=1)\n",
    "terms_df = terms_df[terms_df['Termination Type'] != 'Temporary Job Ended']"
   ]
  },
  {
   "cell_type": "code",
   "execution_count": 48,
   "metadata": {},
   "outputs": [
    {
     "data": {
      "text/plain": [
       "array(['Voluntary Separation', 'Termed for Cause', 'Position Elimination',\n",
       "       'Other'], dtype=object)"
      ]
     },
     "execution_count": 48,
     "metadata": {},
     "output_type": "execute_result"
    }
   ],
   "source": [
    "terms_df['Termination Type'].unique()"
   ]
  },
  {
   "cell_type": "code",
   "execution_count": 49,
   "metadata": {},
   "outputs": [
    {
     "data": {
      "text/plain": [
       "EEID Hash\n",
       "40c015229c5a8ca6e4fe6429b62813c14c4377a548d8c36d89f826dbc40118b7    3\n",
       "4c76943575befdb54e8e65ff4b5a3cb6a4079cba6cc6359fe7b8c0e5e6d01e0d    2\n",
       "d6c97b95939943d61841603e6c841bc610b67b15af4a55809437be52ef85c4a7    2\n",
       "bb1155a2fd347bd77fb25a0a552d0ffb1d74f93d4f3518610ecbef894c99397b    2\n",
       "794576a82498358fc1bf557c76ef9f1122d9beda4d9a9538dbf6b222ff6ee5fe    2\n",
       "                                                                   ..\n",
       "a87d70e7d6bc182c191e201aa5f739e4cfa8d9ff0e413a2a128c979d4e2d3be9    1\n",
       "a860ac7cb585d0f21ad9e5083edb72331624ff9d4e3b13d0488cd97a4e3864b4    1\n",
       "a8426d4a8b96a223ec9e92319d643374cf0357181c02cb6628de41ae873f997c    1\n",
       "a8302d1754ab3896da03415ab2733730f51a5f987f2a4d60ed57abe89d5c61a7    1\n",
       "0026a2ad36a89c2e8a7985caea92b9d6d95dd6c32735570f010faa344590deb0    1\n",
       "Name: Termination Type, Length: 2520, dtype: int64"
      ]
     },
     "execution_count": 49,
     "metadata": {},
     "output_type": "execute_result"
    }
   ],
   "source": [
    "terms_df.groupby('EEID Hash')['Termination Type'].count()"
   ]
  },
  {
   "cell_type": "code",
   "execution_count": 51,
   "metadata": {},
   "outputs": [
    {
     "data": {
      "text/html": [
       "<div>\n",
       "<style scoped>\n",
       "    .dataframe tbody tr th:only-of-type {\n",
       "        vertical-align: middle;\n",
       "    }\n",
       "\n",
       "    .dataframe tbody tr th {\n",
       "        vertical-align: top;\n",
       "    }\n",
       "\n",
       "    .dataframe thead th {\n",
       "        text-align: right;\n",
       "    }\n",
       "</style>\n",
       "<table border=\"1\" class=\"dataframe\">\n",
       "  <thead>\n",
       "    <tr style=\"text-align: right;\">\n",
       "      <th></th>\n",
       "      <th>Unnamed: 0</th>\n",
       "      <th>Data Year</th>\n",
       "      <th>Effective Date</th>\n",
       "      <th>Voluntary/Involuntary</th>\n",
       "      <th>Termination Type</th>\n",
       "      <th>Region</th>\n",
       "      <th>State</th>\n",
       "      <th>Employee of Color</th>\n",
       "      <th>Randomized Key Job Code</th>\n",
       "      <th>Randomized Key Success Profile</th>\n",
       "      <th>Manager EEID Hash</th>\n",
       "      <th>Randomized Key Company Code</th>\n",
       "      <th>Randomized Key Division Code</th>\n",
       "      <th>Randomized Key Department Code</th>\n",
       "      <th>Randomized Key Function Code</th>\n",
       "      <th>Randomized Key Cost Center</th>\n",
       "      <th>Randomized Key Business Unit</th>\n",
       "      <th>Randomized Key Location</th>\n",
       "      <th>Randomized Key Market</th>\n",
       "      <th>EEID Hash</th>\n",
       "    </tr>\n",
       "  </thead>\n",
       "  <tbody>\n",
       "    <tr>\n",
       "      <th>48</th>\n",
       "      <td>48</td>\n",
       "      <td>2018</td>\n",
       "      <td>01/18/2018</td>\n",
       "      <td>Voluntary</td>\n",
       "      <td>Voluntary Separation</td>\n",
       "      <td>Southeastern PA</td>\n",
       "      <td>PA</td>\n",
       "      <td>No</td>\n",
       "      <td>Job Code 4476</td>\n",
       "      <td>Success Profile 5</td>\n",
       "      <td>dd13be2f55c2232b50f6deda8c0896ed7587d220260e51...</td>\n",
       "      <td>Company Code 11</td>\n",
       "      <td>Division Code 31</td>\n",
       "      <td>Department Code 276</td>\n",
       "      <td>Function Code 297</td>\n",
       "      <td>Cost Center 239</td>\n",
       "      <td>Business Unit 5</td>\n",
       "      <td>Location 344</td>\n",
       "      <td>Market 7</td>\n",
       "      <td>40c015229c5a8ca6e4fe6429b62813c14c4377a548d8c3...</td>\n",
       "    </tr>\n",
       "    <tr>\n",
       "      <th>62</th>\n",
       "      <td>62</td>\n",
       "      <td>2017</td>\n",
       "      <td>08/15/2017</td>\n",
       "      <td>Voluntary</td>\n",
       "      <td>Voluntary Separation</td>\n",
       "      <td>Southeastern PA</td>\n",
       "      <td>PA</td>\n",
       "      <td>No</td>\n",
       "      <td>Job Code 4476</td>\n",
       "      <td>Success Profile 5</td>\n",
       "      <td>dd13be2f55c2232b50f6deda8c0896ed7587d220260e51...</td>\n",
       "      <td>Company Code 11</td>\n",
       "      <td>Division Code 31</td>\n",
       "      <td>Department Code 276</td>\n",
       "      <td>Function Code 297</td>\n",
       "      <td>Cost Center 239</td>\n",
       "      <td>Business Unit 5</td>\n",
       "      <td>Location 344</td>\n",
       "      <td>Market 7</td>\n",
       "      <td>40c015229c5a8ca6e4fe6429b62813c14c4377a548d8c3...</td>\n",
       "    </tr>\n",
       "    <tr>\n",
       "      <th>2392</th>\n",
       "      <td>2392</td>\n",
       "      <td>2019</td>\n",
       "      <td>11/12/2019</td>\n",
       "      <td>Voluntary</td>\n",
       "      <td>Voluntary Separation</td>\n",
       "      <td>Southeastern PA</td>\n",
       "      <td>PA</td>\n",
       "      <td>No</td>\n",
       "      <td>Job Code 4126</td>\n",
       "      <td>Success Profile 5</td>\n",
       "      <td>a4ee4eb813063e34a1e7bfe1c61d7e012f42ba573251e8...</td>\n",
       "      <td>Company Code 11</td>\n",
       "      <td>Division Code 48</td>\n",
       "      <td>Department Code 189</td>\n",
       "      <td>Function Code 232</td>\n",
       "      <td>Cost Center 171</td>\n",
       "      <td>Business Unit 5</td>\n",
       "      <td>Location 256</td>\n",
       "      <td>Market 7</td>\n",
       "      <td>40c015229c5a8ca6e4fe6429b62813c14c4377a548d8c3...</td>\n",
       "    </tr>\n",
       "  </tbody>\n",
       "</table>\n",
       "</div>"
      ],
      "text/plain": [
       "      Unnamed: 0  Data Year Effective Date Voluntary/Involuntary  \\\n",
       "48            48       2018     01/18/2018             Voluntary   \n",
       "62            62       2017     08/15/2017             Voluntary   \n",
       "2392        2392       2019     11/12/2019             Voluntary   \n",
       "\n",
       "          Termination Type           Region State Employee of Color  \\\n",
       "48    Voluntary Separation  Southeastern PA    PA                No   \n",
       "62    Voluntary Separation  Southeastern PA    PA                No   \n",
       "2392  Voluntary Separation  Southeastern PA    PA                No   \n",
       "\n",
       "     Randomized Key Job Code Randomized Key Success Profile  \\\n",
       "48             Job Code 4476              Success Profile 5   \n",
       "62             Job Code 4476              Success Profile 5   \n",
       "2392           Job Code 4126              Success Profile 5   \n",
       "\n",
       "                                      Manager EEID Hash  \\\n",
       "48    dd13be2f55c2232b50f6deda8c0896ed7587d220260e51...   \n",
       "62    dd13be2f55c2232b50f6deda8c0896ed7587d220260e51...   \n",
       "2392  a4ee4eb813063e34a1e7bfe1c61d7e012f42ba573251e8...   \n",
       "\n",
       "     Randomized Key Company Code Randomized Key Division Code  \\\n",
       "48               Company Code 11             Division Code 31   \n",
       "62               Company Code 11             Division Code 31   \n",
       "2392             Company Code 11             Division Code 48   \n",
       "\n",
       "     Randomized Key Department Code Randomized Key Function Code  \\\n",
       "48              Department Code 276            Function Code 297   \n",
       "62              Department Code 276            Function Code 297   \n",
       "2392            Department Code 189            Function Code 232   \n",
       "\n",
       "     Randomized Key Cost Center Randomized Key Business Unit  \\\n",
       "48              Cost Center 239              Business Unit 5   \n",
       "62              Cost Center 239              Business Unit 5   \n",
       "2392            Cost Center 171              Business Unit 5   \n",
       "\n",
       "     Randomized Key Location Randomized Key Market  \\\n",
       "48              Location 344              Market 7   \n",
       "62              Location 344              Market 7   \n",
       "2392            Location 256              Market 7   \n",
       "\n",
       "                                              EEID Hash  \n",
       "48    40c015229c5a8ca6e4fe6429b62813c14c4377a548d8c3...  \n",
       "62    40c015229c5a8ca6e4fe6429b62813c14c4377a548d8c3...  \n",
       "2392  40c015229c5a8ca6e4fe6429b62813c14c4377a548d8c3...  "
      ]
     },
     "execution_count": 51,
     "metadata": {},
     "output_type": "execute_result"
    }
   ],
   "source": [
    "terms_df[terms_df['EEID Hash'] == '40c015229c5a8ca6e4fe6429b62813c14c4377a548d8c36d89f826dbc40118b7']"
   ]
  },
  {
   "cell_type": "code",
   "execution_count": 144,
   "metadata": {},
   "outputs": [
    {
     "data": {
      "text/html": [
       "<div>\n",
       "<style scoped>\n",
       "    .dataframe tbody tr th:only-of-type {\n",
       "        vertical-align: middle;\n",
       "    }\n",
       "\n",
       "    .dataframe tbody tr th {\n",
       "        vertical-align: top;\n",
       "    }\n",
       "\n",
       "    .dataframe thead th {\n",
       "        text-align: right;\n",
       "    }\n",
       "</style>\n",
       "<table border=\"1\" class=\"dataframe\">\n",
       "  <thead>\n",
       "    <tr style=\"text-align: right;\">\n",
       "      <th></th>\n",
       "      <th>Unnamed: 0</th>\n",
       "      <th>Data Year</th>\n",
       "      <th>Effective Date</th>\n",
       "      <th>Change Reason</th>\n",
       "      <th>Region</th>\n",
       "      <th>State</th>\n",
       "      <th>Employee of Color</th>\n",
       "      <th>Req ID Hash</th>\n",
       "      <th>Randomized Key Job Code</th>\n",
       "      <th>Job Title</th>\n",
       "      <th>...</th>\n",
       "      <th>Location Code</th>\n",
       "      <th>Randomized Key Location</th>\n",
       "      <th>Randomized Key Market</th>\n",
       "      <th>EEID Hash</th>\n",
       "      <th>First Name</th>\n",
       "      <th>Last Name</th>\n",
       "      <th>Race/Ethnicity</th>\n",
       "      <th>Gender</th>\n",
       "      <th>Disabled</th>\n",
       "      <th>Veteran</th>\n",
       "    </tr>\n",
       "  </thead>\n",
       "  <tbody>\n",
       "    <tr>\n",
       "      <th>62</th>\n",
       "      <td>62</td>\n",
       "      <td>2017</td>\n",
       "      <td>11/27/2017</td>\n",
       "      <td>New Hire</td>\n",
       "      <td>Central PA</td>\n",
       "      <td>PA</td>\n",
       "      <td>No</td>\n",
       "      <td>e4f5b0f834054c9fa24103c157cb5ed2d5f896a1931201...</td>\n",
       "      <td>Job Code 3403</td>\n",
       "      <td>NaN</td>\n",
       "      <td>...</td>\n",
       "      <td>NaN</td>\n",
       "      <td>Location 14</td>\n",
       "      <td>Market 14</td>\n",
       "      <td>40c015229c5a8ca6e4fe6429b62813c14c4377a548d8c3...</td>\n",
       "      <td>NaN</td>\n",
       "      <td>NaN</td>\n",
       "      <td>NaN</td>\n",
       "      <td>NaN</td>\n",
       "      <td>NaN</td>\n",
       "      <td>NaN</td>\n",
       "    </tr>\n",
       "    <tr>\n",
       "      <th>921</th>\n",
       "      <td>921</td>\n",
       "      <td>2018</td>\n",
       "      <td>12/18/2018</td>\n",
       "      <td>Rehire</td>\n",
       "      <td>Southeastern PA</td>\n",
       "      <td>PA</td>\n",
       "      <td>No</td>\n",
       "      <td>c3dbc7033deb0f3fdd13242eef7b56878febc491083d07...</td>\n",
       "      <td>Job Code 4775</td>\n",
       "      <td>NaN</td>\n",
       "      <td>...</td>\n",
       "      <td>NaN</td>\n",
       "      <td>Location 256</td>\n",
       "      <td>Market 7</td>\n",
       "      <td>40c015229c5a8ca6e4fe6429b62813c14c4377a548d8c3...</td>\n",
       "      <td>NaN</td>\n",
       "      <td>NaN</td>\n",
       "      <td>NaN</td>\n",
       "      <td>NaN</td>\n",
       "      <td>NaN</td>\n",
       "      <td>NaN</td>\n",
       "    </tr>\n",
       "    <tr>\n",
       "      <th>932</th>\n",
       "      <td>932</td>\n",
       "      <td>2018</td>\n",
       "      <td>06/08/2018</td>\n",
       "      <td>Rehire</td>\n",
       "      <td>Southeastern PA</td>\n",
       "      <td>PA</td>\n",
       "      <td>No</td>\n",
       "      <td>c710bb9edf8c9d392ae02274612d0bb6c573b1ca71de6f...</td>\n",
       "      <td>Job Code 3403</td>\n",
       "      <td>NaN</td>\n",
       "      <td>...</td>\n",
       "      <td>NaN</td>\n",
       "      <td>Location 419</td>\n",
       "      <td>Market 4</td>\n",
       "      <td>40c015229c5a8ca6e4fe6429b62813c14c4377a548d8c3...</td>\n",
       "      <td>NaN</td>\n",
       "      <td>NaN</td>\n",
       "      <td>NaN</td>\n",
       "      <td>NaN</td>\n",
       "      <td>NaN</td>\n",
       "      <td>NaN</td>\n",
       "    </tr>\n",
       "  </tbody>\n",
       "</table>\n",
       "<p>3 rows × 32 columns</p>\n",
       "</div>"
      ],
      "text/plain": [
       "     Unnamed: 0  Data Year Effective Date Change Reason           Region  \\\n",
       "62           62       2017     11/27/2017      New Hire       Central PA   \n",
       "921         921       2018     12/18/2018        Rehire  Southeastern PA   \n",
       "932         932       2018     06/08/2018        Rehire  Southeastern PA   \n",
       "\n",
       "    State Employee of Color  \\\n",
       "62     PA                No   \n",
       "921    PA                No   \n",
       "932    PA                No   \n",
       "\n",
       "                                           Req ID Hash  \\\n",
       "62   e4f5b0f834054c9fa24103c157cb5ed2d5f896a1931201...   \n",
       "921  c3dbc7033deb0f3fdd13242eef7b56878febc491083d07...   \n",
       "932  c710bb9edf8c9d392ae02274612d0bb6c573b1ca71de6f...   \n",
       "\n",
       "    Randomized Key Job Code  Job Title  ... Location Code  \\\n",
       "62            Job Code 3403        NaN  ...           NaN   \n",
       "921           Job Code 4775        NaN  ...           NaN   \n",
       "932           Job Code 3403        NaN  ...           NaN   \n",
       "\n",
       "    Randomized Key Location  Randomized Key Market  \\\n",
       "62              Location 14              Market 14   \n",
       "921            Location 256               Market 7   \n",
       "932            Location 419               Market 4   \n",
       "\n",
       "                                             EEID Hash First Name  Last Name  \\\n",
       "62   40c015229c5a8ca6e4fe6429b62813c14c4377a548d8c3...        NaN        NaN   \n",
       "921  40c015229c5a8ca6e4fe6429b62813c14c4377a548d8c3...        NaN        NaN   \n",
       "932  40c015229c5a8ca6e4fe6429b62813c14c4377a548d8c3...        NaN        NaN   \n",
       "\n",
       "    Race/Ethnicity  Gender Disabled  Veteran  \n",
       "62             NaN     NaN      NaN      NaN  \n",
       "921            NaN     NaN      NaN      NaN  \n",
       "932            NaN     NaN      NaN      NaN  \n",
       "\n",
       "[3 rows x 32 columns]"
      ]
     },
     "execution_count": 144,
     "metadata": {},
     "output_type": "execute_result"
    }
   ],
   "source": [
    "new_hire_df[new_hire_df['EEID Hash'] == '40c015229c5a8ca6e4fe6429b62813c14c4377a548d8c36d89f826dbc40118b7']"
   ]
  },
  {
   "cell_type": "code",
   "execution_count": 31,
   "metadata": {},
   "outputs": [
    {
     "data": {
      "text/html": [
       "<div>\n",
       "<style scoped>\n",
       "    .dataframe tbody tr th:only-of-type {\n",
       "        vertical-align: middle;\n",
       "    }\n",
       "\n",
       "    .dataframe tbody tr th {\n",
       "        vertical-align: top;\n",
       "    }\n",
       "\n",
       "    .dataframe thead th {\n",
       "        text-align: right;\n",
       "    }\n",
       "</style>\n",
       "<table border=\"1\" class=\"dataframe\">\n",
       "  <thead>\n",
       "    <tr style=\"text-align: right;\">\n",
       "      <th></th>\n",
       "      <th>Unnamed: 0</th>\n",
       "      <th>Data Year</th>\n",
       "      <th>Position Type</th>\n",
       "      <th>Application Date</th>\n",
       "      <th>Workflow Bin</th>\n",
       "      <th>Workflow Status</th>\n",
       "      <th>Workflow Disposition Code</th>\n",
       "      <th>Workflow Disposition Reason</th>\n",
       "      <th>Hire Month</th>\n",
       "      <th>Start Date</th>\n",
       "      <th>...</th>\n",
       "      <th>Randomized Key Location</th>\n",
       "      <th>Market</th>\n",
       "      <th>System ID Hash</th>\n",
       "      <th>EEID Hash</th>\n",
       "      <th>First Name</th>\n",
       "      <th>Last Name</th>\n",
       "      <th>Race/Ethnicity</th>\n",
       "      <th>Gender</th>\n",
       "      <th>Disabled</th>\n",
       "      <th>Veteran</th>\n",
       "    </tr>\n",
       "    <tr>\n",
       "      <th>Candidate Type</th>\n",
       "      <th></th>\n",
       "      <th></th>\n",
       "      <th></th>\n",
       "      <th></th>\n",
       "      <th></th>\n",
       "      <th></th>\n",
       "      <th></th>\n",
       "      <th></th>\n",
       "      <th></th>\n",
       "      <th></th>\n",
       "      <th></th>\n",
       "      <th></th>\n",
       "      <th></th>\n",
       "      <th></th>\n",
       "      <th></th>\n",
       "      <th></th>\n",
       "      <th></th>\n",
       "      <th></th>\n",
       "      <th></th>\n",
       "      <th></th>\n",
       "      <th></th>\n",
       "    </tr>\n",
       "  </thead>\n",
       "  <tbody>\n",
       "    <tr>\n",
       "      <th>Applicant</th>\n",
       "      <td>41607</td>\n",
       "      <td>41607</td>\n",
       "      <td>41607</td>\n",
       "      <td>41607</td>\n",
       "      <td>41607</td>\n",
       "      <td>41607</td>\n",
       "      <td>41607</td>\n",
       "      <td>41607</td>\n",
       "      <td>41607</td>\n",
       "      <td>352</td>\n",
       "      <td>...</td>\n",
       "      <td>41607</td>\n",
       "      <td>0</td>\n",
       "      <td>41607</td>\n",
       "      <td>41607</td>\n",
       "      <td>0</td>\n",
       "      <td>0</td>\n",
       "      <td>0</td>\n",
       "      <td>0</td>\n",
       "      <td>0</td>\n",
       "      <td>0</td>\n",
       "    </tr>\n",
       "    <tr>\n",
       "      <th>External Hire</th>\n",
       "      <td>2594</td>\n",
       "      <td>2594</td>\n",
       "      <td>2594</td>\n",
       "      <td>2594</td>\n",
       "      <td>2594</td>\n",
       "      <td>2594</td>\n",
       "      <td>2594</td>\n",
       "      <td>2594</td>\n",
       "      <td>2594</td>\n",
       "      <td>2594</td>\n",
       "      <td>...</td>\n",
       "      <td>2594</td>\n",
       "      <td>0</td>\n",
       "      <td>2594</td>\n",
       "      <td>2594</td>\n",
       "      <td>0</td>\n",
       "      <td>0</td>\n",
       "      <td>0</td>\n",
       "      <td>0</td>\n",
       "      <td>0</td>\n",
       "      <td>0</td>\n",
       "    </tr>\n",
       "    <tr>\n",
       "      <th>Internal Hire</th>\n",
       "      <td>1115</td>\n",
       "      <td>1115</td>\n",
       "      <td>1115</td>\n",
       "      <td>1115</td>\n",
       "      <td>1115</td>\n",
       "      <td>1115</td>\n",
       "      <td>1115</td>\n",
       "      <td>1115</td>\n",
       "      <td>1115</td>\n",
       "      <td>1115</td>\n",
       "      <td>...</td>\n",
       "      <td>1115</td>\n",
       "      <td>0</td>\n",
       "      <td>1115</td>\n",
       "      <td>1115</td>\n",
       "      <td>0</td>\n",
       "      <td>0</td>\n",
       "      <td>0</td>\n",
       "      <td>0</td>\n",
       "      <td>0</td>\n",
       "      <td>0</td>\n",
       "    </tr>\n",
       "  </tbody>\n",
       "</table>\n",
       "<p>3 rows × 41 columns</p>\n",
       "</div>"
      ],
      "text/plain": [
       "                Unnamed: 0  Data Year  Position Type  Application Date  \\\n",
       "Candidate Type                                                           \n",
       "Applicant            41607      41607          41607             41607   \n",
       "External Hire         2594       2594           2594              2594   \n",
       "Internal Hire         1115       1115           1115              1115   \n",
       "\n",
       "                Workflow Bin  Workflow Status  Workflow Disposition Code  \\\n",
       "Candidate Type                                                             \n",
       "Applicant              41607            41607                      41607   \n",
       "External Hire           2594             2594                       2594   \n",
       "Internal Hire           1115             1115                       1115   \n",
       "\n",
       "                Workflow Disposition Reason  Hire Month  Start Date  ...  \\\n",
       "Candidate Type                                                       ...   \n",
       "Applicant                             41607       41607         352  ...   \n",
       "External Hire                          2594        2594        2594  ...   \n",
       "Internal Hire                          1115        1115        1115  ...   \n",
       "\n",
       "                Randomized Key Location  Market  System ID Hash  EEID Hash  \\\n",
       "Candidate Type                                                               \n",
       "Applicant                         41607       0           41607      41607   \n",
       "External Hire                      2594       0            2594       2594   \n",
       "Internal Hire                      1115       0            1115       1115   \n",
       "\n",
       "                First Name  Last Name  Race/Ethnicity  Gender  Disabled  \\\n",
       "Candidate Type                                                            \n",
       "Applicant                0          0               0       0         0   \n",
       "External Hire            0          0               0       0         0   \n",
       "Internal Hire            0          0               0       0         0   \n",
       "\n",
       "                Veteran  \n",
       "Candidate Type           \n",
       "Applicant             0  \n",
       "External Hire         0  \n",
       "Internal Hire         0  \n",
       "\n",
       "[3 rows x 41 columns]"
      ]
     },
     "execution_count": 31,
     "metadata": {},
     "output_type": "execute_result"
    }
   ],
   "source": [
    "job_applications_df.groupby('Candidate Type').count()"
   ]
  },
  {
   "cell_type": "code",
   "execution_count": 16,
   "metadata": {},
   "outputs": [
    {
     "data": {
      "text/html": [
       "<div>\n",
       "<style scoped>\n",
       "    .dataframe tbody tr th:only-of-type {\n",
       "        vertical-align: middle;\n",
       "    }\n",
       "\n",
       "    .dataframe tbody tr th {\n",
       "        vertical-align: top;\n",
       "    }\n",
       "\n",
       "    .dataframe thead th {\n",
       "        text-align: right;\n",
       "    }\n",
       "</style>\n",
       "<table border=\"1\" class=\"dataframe\">\n",
       "  <thead>\n",
       "    <tr style=\"text-align: right;\">\n",
       "      <th></th>\n",
       "      <th>Randomized Key Success Profile</th>\n",
       "    </tr>\n",
       "  </thead>\n",
       "  <tbody>\n",
       "    <tr>\n",
       "      <th>0</th>\n",
       "      <td>Success Profile 8</td>\n",
       "    </tr>\n",
       "    <tr>\n",
       "      <th>1</th>\n",
       "      <td>Success Profile 8</td>\n",
       "    </tr>\n",
       "    <tr>\n",
       "      <th>2</th>\n",
       "      <td>Success Profile 8</td>\n",
       "    </tr>\n",
       "    <tr>\n",
       "      <th>3</th>\n",
       "      <td>Success Profile 8</td>\n",
       "    </tr>\n",
       "    <tr>\n",
       "      <th>4</th>\n",
       "      <td>Success Profile 8</td>\n",
       "    </tr>\n",
       "    <tr>\n",
       "      <th>...</th>\n",
       "      <td>...</td>\n",
       "    </tr>\n",
       "    <tr>\n",
       "      <th>45311</th>\n",
       "      <td>Success Profile 2</td>\n",
       "    </tr>\n",
       "    <tr>\n",
       "      <th>45312</th>\n",
       "      <td>Success Profile 2</td>\n",
       "    </tr>\n",
       "    <tr>\n",
       "      <th>45313</th>\n",
       "      <td>Success Profile 2</td>\n",
       "    </tr>\n",
       "    <tr>\n",
       "      <th>45314</th>\n",
       "      <td>Success Profile 2</td>\n",
       "    </tr>\n",
       "    <tr>\n",
       "      <th>45315</th>\n",
       "      <td>Success Profile 2</td>\n",
       "    </tr>\n",
       "  </tbody>\n",
       "</table>\n",
       "<p>45316 rows × 1 columns</p>\n",
       "</div>"
      ],
      "text/plain": [
       "      Randomized Key Success Profile\n",
       "0                  Success Profile 8\n",
       "1                  Success Profile 8\n",
       "2                  Success Profile 8\n",
       "3                  Success Profile 8\n",
       "4                  Success Profile 8\n",
       "...                              ...\n",
       "45311              Success Profile 2\n",
       "45312              Success Profile 2\n",
       "45313              Success Profile 2\n",
       "45314              Success Profile 2\n",
       "45315              Success Profile 2\n",
       "\n",
       "[45316 rows x 1 columns]"
      ]
     },
     "execution_count": 16,
     "metadata": {},
     "output_type": "execute_result"
    }
   ],
   "source": [
    "job_applications_df.dropna(axis=1)[['Randomized Key Success Profile']]"
   ]
  },
  {
   "cell_type": "code",
   "execution_count": null,
   "metadata": {},
   "outputs": [],
   "source": []
  },
  {
   "cell_type": "code",
   "execution_count": 13,
   "metadata": {},
   "outputs": [],
   "source": [
    "EOC_2017_df = pd.read_csv('/Users/mengtianli/Downloads/HR/HR Quantum BU - EOC 2017.csv')"
   ]
  },
  {
   "cell_type": "code",
   "execution_count": 24,
   "metadata": {},
   "outputs": [],
   "source": [
    "EOC_2018_df = pd.read_csv('/Users/mengtianli/Downloads/HR/HR Quantum BU - EOC 2018.csv')"
   ]
  },
  {
   "cell_type": "code",
   "execution_count": 25,
   "metadata": {},
   "outputs": [],
   "source": [
    "EOC_2019_df = pd.read_csv('/Users/mengtianli/Downloads/HR/HR Quantum BU - EOC 2019.csv')"
   ]
  },
  {
   "cell_type": "code",
   "execution_count": 17,
   "metadata": {},
   "outputs": [
    {
     "data": {
      "text/plain": [
       "Index(['Unnamed: 0', 'Employee of Color', 'Report Sequence', 'Category',\n",
       "       'Series', 'Valid N', 'Count of Responses', 'Average Score',\n",
       "       'Favorable Percent', 'Neutral Percent', 'Unfavorable Percent',\n",
       "       '6. Strongly Agree', '5. Agree', '4. Somewhat Agree',\n",
       "       '3. Somewhat Disagree', '2. Disagree', '1. Strongly Disagree',\n",
       "       '6. Strongly Agree %', '5. Agree %', '4. Somewhat Agree %',\n",
       "       '3. Somewhat Disagree %', '2. Disagree %', '1. Strongly Disagree %',\n",
       "       'Unnamed: 23', 'Randomized Key Business Unit'],\n",
       "      dtype='object')"
      ]
     },
     "execution_count": 17,
     "metadata": {},
     "output_type": "execute_result"
    }
   ],
   "source": [
    "EOC_2017_df.columns"
   ]
  },
  {
   "cell_type": "code",
   "execution_count": 23,
   "metadata": {},
   "outputs": [
    {
     "data": {
      "text/plain": [
       "(378, 25)"
      ]
     },
     "execution_count": 23,
     "metadata": {},
     "output_type": "execute_result"
    }
   ],
   "source": [
    "EOC_2017_df.shape"
   ]
  },
  {
   "cell_type": "code",
   "execution_count": 26,
   "metadata": {},
   "outputs": [
    {
     "data": {
      "text/plain": [
       "(405, 24)"
      ]
     },
     "execution_count": 26,
     "metadata": {},
     "output_type": "execute_result"
    }
   ],
   "source": [
    "EOC_2018_df.shape"
   ]
  },
  {
   "cell_type": "code",
   "execution_count": 28,
   "metadata": {},
   "outputs": [
    {
     "data": {
      "text/html": [
       "<div>\n",
       "<style scoped>\n",
       "    .dataframe tbody tr th:only-of-type {\n",
       "        vertical-align: middle;\n",
       "    }\n",
       "\n",
       "    .dataframe tbody tr th {\n",
       "        vertical-align: top;\n",
       "    }\n",
       "\n",
       "    .dataframe thead th {\n",
       "        text-align: right;\n",
       "    }\n",
       "</style>\n",
       "<table border=\"1\" class=\"dataframe\">\n",
       "  <thead>\n",
       "    <tr style=\"text-align: right;\">\n",
       "      <th></th>\n",
       "      <th>Unnamed: 0</th>\n",
       "      <th>Employee of Color</th>\n",
       "      <th>Report Sequence</th>\n",
       "      <th>Category</th>\n",
       "      <th>Series</th>\n",
       "      <th>Valid N</th>\n",
       "      <th>Count of Responses</th>\n",
       "      <th>Average Score</th>\n",
       "      <th>Favorable Percent</th>\n",
       "      <th>Neutral Percent</th>\n",
       "      <th>...</th>\n",
       "      <th>3. Somewhat Disagree</th>\n",
       "      <th>2. Disagree</th>\n",
       "      <th>1. Strongly Disagree</th>\n",
       "      <th>6. Strongly Agree %</th>\n",
       "      <th>5. Agree %</th>\n",
       "      <th>4. Somewhat Agree %</th>\n",
       "      <th>3. Somewhat Disagree %</th>\n",
       "      <th>2. Disagree %</th>\n",
       "      <th>1. Strongly Disagree %</th>\n",
       "      <th>Randomized Key Business Unit</th>\n",
       "    </tr>\n",
       "  </thead>\n",
       "  <tbody>\n",
       "    <tr>\n",
       "      <th>0</th>\n",
       "      <td>0</td>\n",
       "      <td>No</td>\n",
       "      <td>1</td>\n",
       "      <td>Alignment with Goals</td>\n",
       "      <td>Fulton Financial (Filtered)</td>\n",
       "      <td>2283.0</td>\n",
       "      <td>4565.0</td>\n",
       "      <td>4.56</td>\n",
       "      <td>59.58%</td>\n",
       "      <td>35.22%</td>\n",
       "      <td>...</td>\n",
       "      <td>383.0</td>\n",
       "      <td>165.0</td>\n",
       "      <td>72.0</td>\n",
       "      <td>17.09%</td>\n",
       "      <td>42.50%</td>\n",
       "      <td>26.83%</td>\n",
       "      <td>8.39%</td>\n",
       "      <td>3.61%</td>\n",
       "      <td>1.58%</td>\n",
       "      <td>NaN</td>\n",
       "    </tr>\n",
       "    <tr>\n",
       "      <th>1</th>\n",
       "      <td>1</td>\n",
       "      <td>No</td>\n",
       "      <td>2</td>\n",
       "      <td>Alignment with Goals</td>\n",
       "      <td>Fulton Financial (Filtered)</td>\n",
       "      <td>27.0</td>\n",
       "      <td>54.0</td>\n",
       "      <td>4.80</td>\n",
       "      <td>68.52%</td>\n",
       "      <td>29.63%</td>\n",
       "      <td>...</td>\n",
       "      <td>3.0</td>\n",
       "      <td>0.0</td>\n",
       "      <td>1.0</td>\n",
       "      <td>22.22%</td>\n",
       "      <td>46.30%</td>\n",
       "      <td>24.07%</td>\n",
       "      <td>5.56%</td>\n",
       "      <td>0.00%</td>\n",
       "      <td>1.85%</td>\n",
       "      <td>Business Unit 12</td>\n",
       "    </tr>\n",
       "    <tr>\n",
       "      <th>2</th>\n",
       "      <td>2</td>\n",
       "      <td>No</td>\n",
       "      <td>3</td>\n",
       "      <td>Alignment with Goals</td>\n",
       "      <td>Fulton Financial (Filtered)</td>\n",
       "      <td>422.0</td>\n",
       "      <td>844.0</td>\n",
       "      <td>4.59</td>\n",
       "      <td>61.02%</td>\n",
       "      <td>34.12%</td>\n",
       "      <td>...</td>\n",
       "      <td>76.0</td>\n",
       "      <td>30.0</td>\n",
       "      <td>11.0</td>\n",
       "      <td>17.89%</td>\n",
       "      <td>43.13%</td>\n",
       "      <td>25.12%</td>\n",
       "      <td>9.00%</td>\n",
       "      <td>3.55%</td>\n",
       "      <td>1.30%</td>\n",
       "      <td>Business Unit 9</td>\n",
       "    </tr>\n",
       "    <tr>\n",
       "      <th>3</th>\n",
       "      <td>3</td>\n",
       "      <td>No</td>\n",
       "      <td>4</td>\n",
       "      <td>Alignment with Goals</td>\n",
       "      <td>Fulton Financial (Filtered)</td>\n",
       "      <td>754.0</td>\n",
       "      <td>1507.0</td>\n",
       "      <td>4.57</td>\n",
       "      <td>60.32%</td>\n",
       "      <td>34.57%</td>\n",
       "      <td>...</td>\n",
       "      <td>138.0</td>\n",
       "      <td>47.0</td>\n",
       "      <td>30.0</td>\n",
       "      <td>18.12%</td>\n",
       "      <td>42.20%</td>\n",
       "      <td>25.41%</td>\n",
       "      <td>9.16%</td>\n",
       "      <td>3.12%</td>\n",
       "      <td>1.99%</td>\n",
       "      <td>Business Unit 5</td>\n",
       "    </tr>\n",
       "    <tr>\n",
       "      <th>4</th>\n",
       "      <td>4</td>\n",
       "      <td>No</td>\n",
       "      <td>5</td>\n",
       "      <td>Alignment with Goals</td>\n",
       "      <td>Fulton Financial (Filtered)</td>\n",
       "      <td>127.0</td>\n",
       "      <td>254.0</td>\n",
       "      <td>4.64</td>\n",
       "      <td>62.20%</td>\n",
       "      <td>32.68%</td>\n",
       "      <td>...</td>\n",
       "      <td>17.0</td>\n",
       "      <td>12.0</td>\n",
       "      <td>1.0</td>\n",
       "      <td>19.29%</td>\n",
       "      <td>42.91%</td>\n",
       "      <td>25.98%</td>\n",
       "      <td>6.69%</td>\n",
       "      <td>4.72%</td>\n",
       "      <td>0.39%</td>\n",
       "      <td>Business Unit 6</td>\n",
       "    </tr>\n",
       "  </tbody>\n",
       "</table>\n",
       "<p>5 rows × 24 columns</p>\n",
       "</div>"
      ],
      "text/plain": [
       "   Unnamed: 0 Employee of Color  Report Sequence              Category  \\\n",
       "0           0                No                1  Alignment with Goals   \n",
       "1           1                No                2  Alignment with Goals   \n",
       "2           2                No                3  Alignment with Goals   \n",
       "3           3                No                4  Alignment with Goals   \n",
       "4           4                No                5  Alignment with Goals   \n",
       "\n",
       "                        Series  Valid N  Count of Responses  Average Score  \\\n",
       "0  Fulton Financial (Filtered)   2283.0              4565.0           4.56   \n",
       "1  Fulton Financial (Filtered)     27.0                54.0           4.80   \n",
       "2  Fulton Financial (Filtered)    422.0               844.0           4.59   \n",
       "3  Fulton Financial (Filtered)    754.0              1507.0           4.57   \n",
       "4  Fulton Financial (Filtered)    127.0               254.0           4.64   \n",
       "\n",
       "  Favorable Percent Neutral Percent  ... 3. Somewhat Disagree  2. Disagree  \\\n",
       "0            59.58%          35.22%  ...                383.0        165.0   \n",
       "1            68.52%          29.63%  ...                  3.0          0.0   \n",
       "2            61.02%          34.12%  ...                 76.0         30.0   \n",
       "3            60.32%          34.57%  ...                138.0         47.0   \n",
       "4            62.20%          32.68%  ...                 17.0         12.0   \n",
       "\n",
       "   1. Strongly Disagree  6. Strongly Agree %  5. Agree %  4. Somewhat Agree %  \\\n",
       "0                  72.0               17.09%      42.50%               26.83%   \n",
       "1                   1.0               22.22%      46.30%               24.07%   \n",
       "2                  11.0               17.89%      43.13%               25.12%   \n",
       "3                  30.0               18.12%      42.20%               25.41%   \n",
       "4                   1.0               19.29%      42.91%               25.98%   \n",
       "\n",
       "   3. Somewhat Disagree % 2. Disagree % 1. Strongly Disagree %  \\\n",
       "0                   8.39%         3.61%                  1.58%   \n",
       "1                   5.56%         0.00%                  1.85%   \n",
       "2                   9.00%         3.55%                  1.30%   \n",
       "3                   9.16%         3.12%                  1.99%   \n",
       "4                   6.69%         4.72%                  0.39%   \n",
       "\n",
       "  Randomized Key Business Unit  \n",
       "0                          NaN  \n",
       "1             Business Unit 12  \n",
       "2              Business Unit 9  \n",
       "3              Business Unit 5  \n",
       "4              Business Unit 6  \n",
       "\n",
       "[5 rows x 24 columns]"
      ]
     },
     "execution_count": 28,
     "metadata": {},
     "output_type": "execute_result"
    }
   ],
   "source": [
    "EOC_2019_df.head()"
   ]
  },
  {
   "cell_type": "code",
   "execution_count": 160,
   "metadata": {},
   "outputs": [],
   "source": [
    "merged_df = merged_df.dropna(axis=1)"
   ]
  },
  {
   "cell_type": "code",
   "execution_count": 252,
   "metadata": {},
   "outputs": [
    {
     "data": {
      "text/plain": [
       "(5994, 80)"
      ]
     },
     "execution_count": 252,
     "metadata": {},
     "output_type": "execute_result"
    }
   ],
   "source": [
    "merged_df.shape"
   ]
  },
  {
   "cell_type": "code",
   "execution_count": 251,
   "metadata": {},
   "outputs": [],
   "source": [
    "merged_df = merged_df.merge(application_internal_df, on='EEID Hash', how='left')"
   ]
  },
  {
   "cell_type": "code",
   "execution_count": 253,
   "metadata": {},
   "outputs": [],
   "source": [
    "merged_df['num_application'] = merged_df['num_application'].fillna(0)"
   ]
  },
  {
   "cell_type": "code",
   "execution_count": 254,
   "metadata": {},
   "outputs": [],
   "source": [
    "merged_df=merged_df.dropna(axis=1, how='all')"
   ]
  },
  {
   "cell_type": "code",
   "execution_count": 255,
   "metadata": {},
   "outputs": [
    {
     "data": {
      "text/plain": [
       "55"
      ]
     },
     "execution_count": 255,
     "metadata": {},
     "output_type": "execute_result"
    }
   ],
   "source": [
    "len(merged_df.columns)"
   ]
  },
  {
   "cell_type": "code",
   "execution_count": 299,
   "metadata": {},
   "outputs": [],
   "source": [
    "merged_df.to_csv('/Users/mengtianli/Downloads/HR/fill_job_code_y.csv', index=False)"
   ]
  },
  {
   "cell_type": "code",
   "execution_count": 303,
   "metadata": {},
   "outputs": [
    {
     "data": {
      "text/plain": [
       "Index(['Unnamed: 0_x', 'Unnamed: 0.1', 'Unnamed: 0.1.1', 'EEID Hash',\n",
       "       'Unnamed: 0 x', 'Data Year x', 'Region x', 'State x',\n",
       "       'Employee of Color x', 'Randomized Key Job Code x',\n",
       "       ...\n",
       "       'Randomized Key Business Unit', 'Location Code',\n",
       "       'Randomized Key Location', 'Randomized Key Market', 'First Name',\n",
       "       'Last Name', 'Race/Ethnicity', 'Gender', 'Disabled', 'Veteran'],\n",
       "      dtype='object', length=103)"
      ]
     },
     "execution_count": 303,
     "metadata": {},
     "output_type": "execute_result"
    }
   ],
   "source": [
    "merged_df.columns"
   ]
  },
  {
   "cell_type": "code",
   "execution_count": 304,
   "metadata": {},
   "outputs": [
    {
     "data": {
      "text/plain": [
       "103"
      ]
     },
     "execution_count": 304,
     "metadata": {},
     "output_type": "execute_result"
    }
   ],
   "source": [
    "len(merged_df.columns)"
   ]
  },
  {
   "cell_type": "code",
   "execution_count": 300,
   "metadata": {},
   "outputs": [
    {
     "data": {
      "text/plain": [
       "(22049, 103)"
      ]
     },
     "execution_count": 300,
     "metadata": {},
     "output_type": "execute_result"
    }
   ],
   "source": [
    "merged_df.shape"
   ]
  },
  {
   "cell_type": "code",
   "execution_count": 277,
   "metadata": {},
   "outputs": [
    {
     "ename": "AttributeError",
     "evalue": "'DataFrame' object has no attribute 'multiple_terms'",
     "output_type": "error",
     "traceback": [
      "\u001b[0;31m---------------------------------------------------------------------------\u001b[0m",
      "\u001b[0;31mAttributeError\u001b[0m                            Traceback (most recent call last)",
      "\u001b[0;32m<ipython-input-277-a0b76858a679>\u001b[0m in \u001b[0;36m<module>\u001b[0;34m\u001b[0m\n\u001b[0;32m----> 1\u001b[0;31m \u001b[0mmerged_df\u001b[0m\u001b[0;34m.\u001b[0m\u001b[0mmultiple_terms\u001b[0m\u001b[0;34m.\u001b[0m\u001b[0misna\u001b[0m\u001b[0;34m(\u001b[0m\u001b[0;34m)\u001b[0m\u001b[0;34m.\u001b[0m\u001b[0mvalue_counts\u001b[0m\u001b[0;34m(\u001b[0m\u001b[0;34m)\u001b[0m\u001b[0;34m\u001b[0m\u001b[0;34m\u001b[0m\u001b[0m\n\u001b[0m",
      "\u001b[0;32m/usr/local/anaconda3/lib/python3.8/site-packages/pandas/core/generic.py\u001b[0m in \u001b[0;36m__getattr__\u001b[0;34m(self, name)\u001b[0m\n\u001b[1;32m   5137\u001b[0m             \u001b[0;32mif\u001b[0m \u001b[0mself\u001b[0m\u001b[0;34m.\u001b[0m\u001b[0m_info_axis\u001b[0m\u001b[0;34m.\u001b[0m\u001b[0m_can_hold_identifiers_and_holds_name\u001b[0m\u001b[0;34m(\u001b[0m\u001b[0mname\u001b[0m\u001b[0;34m)\u001b[0m\u001b[0;34m:\u001b[0m\u001b[0;34m\u001b[0m\u001b[0;34m\u001b[0m\u001b[0m\n\u001b[1;32m   5138\u001b[0m                 \u001b[0;32mreturn\u001b[0m \u001b[0mself\u001b[0m\u001b[0;34m[\u001b[0m\u001b[0mname\u001b[0m\u001b[0;34m]\u001b[0m\u001b[0;34m\u001b[0m\u001b[0;34m\u001b[0m\u001b[0m\n\u001b[0;32m-> 5139\u001b[0;31m             \u001b[0;32mreturn\u001b[0m \u001b[0mobject\u001b[0m\u001b[0;34m.\u001b[0m\u001b[0m__getattribute__\u001b[0m\u001b[0;34m(\u001b[0m\u001b[0mself\u001b[0m\u001b[0;34m,\u001b[0m \u001b[0mname\u001b[0m\u001b[0;34m)\u001b[0m\u001b[0;34m\u001b[0m\u001b[0;34m\u001b[0m\u001b[0m\n\u001b[0m\u001b[1;32m   5140\u001b[0m \u001b[0;34m\u001b[0m\u001b[0m\n\u001b[1;32m   5141\u001b[0m     \u001b[0;32mdef\u001b[0m \u001b[0m__setattr__\u001b[0m\u001b[0;34m(\u001b[0m\u001b[0mself\u001b[0m\u001b[0;34m,\u001b[0m \u001b[0mname\u001b[0m\u001b[0;34m:\u001b[0m \u001b[0mstr\u001b[0m\u001b[0;34m,\u001b[0m \u001b[0mvalue\u001b[0m\u001b[0;34m)\u001b[0m \u001b[0;34m->\u001b[0m \u001b[0;32mNone\u001b[0m\u001b[0;34m:\u001b[0m\u001b[0;34m\u001b[0m\u001b[0;34m\u001b[0m\u001b[0m\n",
      "\u001b[0;31mAttributeError\u001b[0m: 'DataFrame' object has no attribute 'multiple_terms'"
     ]
    }
   ],
   "source": [
    "merged_df.multiple_terms.isna().value_counts()"
   ]
  },
  {
   "cell_type": "code",
   "execution_count": 223,
   "metadata": {},
   "outputs": [],
   "source": [
    "job_code_df = merged_df[['Randomized Key Job Code x', 'Randomized Key Job Code y']].dropna()"
   ]
  },
  {
   "cell_type": "code",
   "execution_count": 224,
   "metadata": {},
   "outputs": [
    {
     "data": {
      "text/plain": [
       "False    1898\n",
       "True      579\n",
       "dtype: int64"
      ]
     },
     "execution_count": 224,
     "metadata": {},
     "output_type": "execute_result"
    }
   ],
   "source": [
    "(job_code_df['Randomized Key Job Code x'] != job_code_df['Randomized Key Job Code y']).value_counts()"
   ]
  },
  {
   "cell_type": "code",
   "execution_count": 225,
   "metadata": {},
   "outputs": [
    {
     "data": {
      "text/plain": [
       "Index(['Unnamed: 0', 'Data Year', 'Effective Date', 'Change Reason', 'Region',\n",
       "       'State', 'Employee of Color', 'Randomized Key Job Title', 'Job Title',\n",
       "       'Randomized Key Success Profile', 'Manager EEID Hash', 'Manager Name',\n",
       "       'Job Change Reason', 'Randomized Key Company Code',\n",
       "       'Randomized Key Division Code', 'Division',\n",
       "       'Randomized Key Department Code', 'Department',\n",
       "       'Randomized Key Function Code', 'Function',\n",
       "       'Randomized Key Cost Center', 'Randomized Key Business Unit',\n",
       "       'Location Code', 'Randomized Key Location', 'Randomized Key Market',\n",
       "       'EEID Hash', 'First Name', 'Last Name', 'Race/Ethnicity', 'Gender',\n",
       "       'Disabled', 'Veteran'],\n",
       "      dtype='object')"
      ]
     },
     "execution_count": 225,
     "metadata": {},
     "output_type": "execute_result"
    }
   ],
   "source": [
    "changes_df.columns"
   ]
  },
  {
   "cell_type": "code",
   "execution_count": 286,
   "metadata": {},
   "outputs": [],
   "source": [
    "df_latest_job_code = changes_df.sort_values('Effective Date').groupby('EEID Hash').last().reset_index()[['EEID Hash', 'Randomized Key Job Title']]"
   ]
  },
  {
   "cell_type": "code",
   "execution_count": 287,
   "metadata": {},
   "outputs": [],
   "source": [
    "merged_df = merged_df.merge(changes_df, how='left', on='EEID Hash')"
   ]
  },
  {
   "cell_type": "code",
   "execution_count": 291,
   "metadata": {
    "scrolled": false
   },
   "outputs": [],
   "source": [
    "merged_df['Randomized Key Job Code y'] = merged_df.apply(lambda row: row['Randomized Key Job Title'] if pd.isnull(row['Randomized Key Job Code y']) else row['Randomized Key Job Code y'], axis=1)"
   ]
  },
  {
   "cell_type": "code",
   "execution_count": 298,
   "metadata": {},
   "outputs": [
    {
     "data": {
      "text/plain": [
       "False    22049\n",
       "Name: Randomized Key Job Code y, dtype: int64"
      ]
     },
     "execution_count": 298,
     "metadata": {},
     "output_type": "execute_result"
    }
   ],
   "source": [
    "merged_df['Randomized Key Job Code y'].isna().value_counts()"
   ]
  },
  {
   "cell_type": "code",
   "execution_count": 297,
   "metadata": {},
   "outputs": [],
   "source": [
    "merged_df['Randomized Key Job Code y'] = merged_df.apply(lambda row: row['Randomized Key Job Code x'] if pd.isnull(row['Randomized Key Job Code y']) else row['Randomized Key Job Code y'], axis=1)"
   ]
  },
  {
   "cell_type": "code",
   "execution_count": 282,
   "metadata": {},
   "outputs": [
    {
     "data": {
      "text/plain": [
       "True     3222\n",
       "False     267\n",
       "Name: EEID Hash, dtype: int64"
      ]
     },
     "execution_count": 282,
     "metadata": {},
     "output_type": "execute_result"
    }
   ],
   "source": [
    "merged_df[merged_df['Randomized Key Job Code y'].isna()]['EEID Hash'].isin(df_latest_job_code['EEID Hash']).value_counts()"
   ]
  },
  {
   "cell_type": "code",
   "execution_count": 267,
   "metadata": {},
   "outputs": [
    {
     "data": {
      "text/plain": [
       "EEID Hash                                                         Randomized Key Job Title\n",
       "fff24422dd53454cff9107833d1be20d42df0a8c6f817043f084cb62d405b9f1  Job Code 7285               1\n",
       "549357e291f8d1755f8090f1f33e0e886641f1dfd6e8e20da8d2f2345cdbadaa  Job Code 3064               1\n",
       "555f7170d912e39cf356083d4fb6f484c0c20827317b812511af82bb9161f005  Job Code 5802               1\n",
       "55640ac0b996cffcb6b4ddb4397b6cdbabc36856b0c4161814d7fb5f2de642b5  Job Code 4449               1\n",
       "556799f941b7934be1b613e7d7dad69482db940be9349b84014688b76590443b  Job Code 7761               1\n",
       "                                                                                             ..\n",
       "aaa93bfccce329c28cc9d7ffb85a1f4937aa49817dcaecb36da5f3436fce145c  Job Code 4164               1\n",
       "aab9b3b4205a71adcb938503d2f8bab6678b77425a435207ccf9a074e30e7aea  Job Code 4861               1\n",
       "aabc9884511f8841c733618b099ded9c4126e58701dee3d6a79e3a54e61ad3eb  Job Code 1546               1\n",
       "aacc24d2636e27a0ba0dc096c3f9b035a7226cfb84395532c77111c138732488  Job Code 1530               1\n",
       "00139bda1e4e47e192d87b3a17e0e68280dbb4d259fcfb04ec1d0d8aa482bc33  Job Code 1774               1\n",
       "Length: 5183, dtype: int64"
      ]
     },
     "execution_count": 267,
     "metadata": {},
     "output_type": "execute_result"
    }
   ],
   "source": [
    "df_latest_job_code.value_counts()"
   ]
  },
  {
   "cell_type": "code",
   "execution_count": null,
   "metadata": {},
   "outputs": [],
   "source": []
  },
  {
   "cell_type": "code",
   "execution_count": 301,
   "metadata": {},
   "outputs": [
    {
     "data": {
      "text/html": [
       "<div>\n",
       "<style scoped>\n",
       "    .dataframe tbody tr th:only-of-type {\n",
       "        vertical-align: middle;\n",
       "    }\n",
       "\n",
       "    .dataframe tbody tr th {\n",
       "        vertical-align: top;\n",
       "    }\n",
       "\n",
       "    .dataframe thead th {\n",
       "        text-align: right;\n",
       "    }\n",
       "</style>\n",
       "<table border=\"1\" class=\"dataframe\">\n",
       "  <thead>\n",
       "    <tr style=\"text-align: right;\">\n",
       "      <th></th>\n",
       "      <th>Unnamed: 0_x</th>\n",
       "      <th>Unnamed: 0.1</th>\n",
       "      <th>Unnamed: 0.1.1</th>\n",
       "      <th>EEID Hash</th>\n",
       "      <th>Unnamed: 0 x</th>\n",
       "      <th>Data Year x</th>\n",
       "      <th>Region x</th>\n",
       "      <th>State x</th>\n",
       "      <th>Employee of Color x</th>\n",
       "      <th>Randomized Key Job Code x</th>\n",
       "      <th>...</th>\n",
       "      <th>Randomized Key Business Unit</th>\n",
       "      <th>Location Code</th>\n",
       "      <th>Randomized Key Location</th>\n",
       "      <th>Randomized Key Market</th>\n",
       "      <th>First Name</th>\n",
       "      <th>Last Name</th>\n",
       "      <th>Race/Ethnicity</th>\n",
       "      <th>Gender</th>\n",
       "      <th>Disabled</th>\n",
       "      <th>Veteran</th>\n",
       "    </tr>\n",
       "  </thead>\n",
       "  <tbody>\n",
       "    <tr>\n",
       "      <th>0</th>\n",
       "      <td>0</td>\n",
       "      <td>0</td>\n",
       "      <td>0</td>\n",
       "      <td>00139bda1e4e47e192d87b3a17e0e68280dbb4d259fcfb...</td>\n",
       "      <td>697</td>\n",
       "      <td>2017</td>\n",
       "      <td>DelMarVa</td>\n",
       "      <td>VA</td>\n",
       "      <td>No</td>\n",
       "      <td>Job Code 5976</td>\n",
       "      <td>...</td>\n",
       "      <td>Business Unit 9</td>\n",
       "      <td>NaN</td>\n",
       "      <td>Location 188</td>\n",
       "      <td>Market 12</td>\n",
       "      <td>NaN</td>\n",
       "      <td>NaN</td>\n",
       "      <td>NaN</td>\n",
       "      <td>NaN</td>\n",
       "      <td>NaN</td>\n",
       "      <td>NaN</td>\n",
       "    </tr>\n",
       "    <tr>\n",
       "      <th>1</th>\n",
       "      <td>0</td>\n",
       "      <td>0</td>\n",
       "      <td>0</td>\n",
       "      <td>00139bda1e4e47e192d87b3a17e0e68280dbb4d259fcfb...</td>\n",
       "      <td>697</td>\n",
       "      <td>2017</td>\n",
       "      <td>DelMarVa</td>\n",
       "      <td>VA</td>\n",
       "      <td>No</td>\n",
       "      <td>Job Code 5976</td>\n",
       "      <td>...</td>\n",
       "      <td>Business Unit 9</td>\n",
       "      <td>NaN</td>\n",
       "      <td>Location 188</td>\n",
       "      <td>Market 12</td>\n",
       "      <td>NaN</td>\n",
       "      <td>NaN</td>\n",
       "      <td>NaN</td>\n",
       "      <td>NaN</td>\n",
       "      <td>NaN</td>\n",
       "      <td>NaN</td>\n",
       "    </tr>\n",
       "    <tr>\n",
       "      <th>2</th>\n",
       "      <td>0</td>\n",
       "      <td>0</td>\n",
       "      <td>0</td>\n",
       "      <td>00139bda1e4e47e192d87b3a17e0e68280dbb4d259fcfb...</td>\n",
       "      <td>697</td>\n",
       "      <td>2017</td>\n",
       "      <td>DelMarVa</td>\n",
       "      <td>VA</td>\n",
       "      <td>No</td>\n",
       "      <td>Job Code 5976</td>\n",
       "      <td>...</td>\n",
       "      <td>Business Unit 9</td>\n",
       "      <td>NaN</td>\n",
       "      <td>Location 188</td>\n",
       "      <td>Market 12</td>\n",
       "      <td>NaN</td>\n",
       "      <td>NaN</td>\n",
       "      <td>NaN</td>\n",
       "      <td>NaN</td>\n",
       "      <td>NaN</td>\n",
       "      <td>NaN</td>\n",
       "    </tr>\n",
       "    <tr>\n",
       "      <th>3</th>\n",
       "      <td>1</td>\n",
       "      <td>1</td>\n",
       "      <td>1</td>\n",
       "      <td>001a45dd8c745c17432b6e8bb3f7eae08cb216df1d4f64...</td>\n",
       "      <td>12915</td>\n",
       "      <td>2017</td>\n",
       "      <td>Central PA</td>\n",
       "      <td>PA</td>\n",
       "      <td>No</td>\n",
       "      <td>Job Code 7114</td>\n",
       "      <td>...</td>\n",
       "      <td>Business Unit 9</td>\n",
       "      <td>NaN</td>\n",
       "      <td>Location 457</td>\n",
       "      <td>Market 7</td>\n",
       "      <td>NaN</td>\n",
       "      <td>NaN</td>\n",
       "      <td>NaN</td>\n",
       "      <td>NaN</td>\n",
       "      <td>NaN</td>\n",
       "      <td>NaN</td>\n",
       "    </tr>\n",
       "    <tr>\n",
       "      <th>4</th>\n",
       "      <td>1</td>\n",
       "      <td>1</td>\n",
       "      <td>1</td>\n",
       "      <td>001a45dd8c745c17432b6e8bb3f7eae08cb216df1d4f64...</td>\n",
       "      <td>12915</td>\n",
       "      <td>2017</td>\n",
       "      <td>Central PA</td>\n",
       "      <td>PA</td>\n",
       "      <td>No</td>\n",
       "      <td>Job Code 7114</td>\n",
       "      <td>...</td>\n",
       "      <td>Business Unit 9</td>\n",
       "      <td>NaN</td>\n",
       "      <td>Location 401</td>\n",
       "      <td>Market 6</td>\n",
       "      <td>NaN</td>\n",
       "      <td>NaN</td>\n",
       "      <td>NaN</td>\n",
       "      <td>NaN</td>\n",
       "      <td>NaN</td>\n",
       "      <td>NaN</td>\n",
       "    </tr>\n",
       "  </tbody>\n",
       "</table>\n",
       "<p>5 rows × 103 columns</p>\n",
       "</div>"
      ],
      "text/plain": [
       "   Unnamed: 0_x  Unnamed: 0.1  Unnamed: 0.1.1  \\\n",
       "0             0             0               0   \n",
       "1             0             0               0   \n",
       "2             0             0               0   \n",
       "3             1             1               1   \n",
       "4             1             1               1   \n",
       "\n",
       "                                           EEID Hash  Unnamed: 0 x  \\\n",
       "0  00139bda1e4e47e192d87b3a17e0e68280dbb4d259fcfb...           697   \n",
       "1  00139bda1e4e47e192d87b3a17e0e68280dbb4d259fcfb...           697   \n",
       "2  00139bda1e4e47e192d87b3a17e0e68280dbb4d259fcfb...           697   \n",
       "3  001a45dd8c745c17432b6e8bb3f7eae08cb216df1d4f64...         12915   \n",
       "4  001a45dd8c745c17432b6e8bb3f7eae08cb216df1d4f64...         12915   \n",
       "\n",
       "   Data Year x    Region x State x Employee of Color x  \\\n",
       "0         2017    DelMarVa      VA                  No   \n",
       "1         2017    DelMarVa      VA                  No   \n",
       "2         2017    DelMarVa      VA                  No   \n",
       "3         2017  Central PA      PA                  No   \n",
       "4         2017  Central PA      PA                  No   \n",
       "\n",
       "  Randomized Key Job Code x  ... Randomized Key Business Unit Location Code  \\\n",
       "0             Job Code 5976  ...              Business Unit 9           NaN   \n",
       "1             Job Code 5976  ...              Business Unit 9           NaN   \n",
       "2             Job Code 5976  ...              Business Unit 9           NaN   \n",
       "3             Job Code 7114  ...              Business Unit 9           NaN   \n",
       "4             Job Code 7114  ...              Business Unit 9           NaN   \n",
       "\n",
       "  Randomized Key Location Randomized Key Market First Name Last Name  \\\n",
       "0            Location 188             Market 12        NaN       NaN   \n",
       "1            Location 188             Market 12        NaN       NaN   \n",
       "2            Location 188             Market 12        NaN       NaN   \n",
       "3            Location 457              Market 7        NaN       NaN   \n",
       "4            Location 401              Market 6        NaN       NaN   \n",
       "\n",
       "  Race/Ethnicity Gender Disabled Veteran  \n",
       "0            NaN    NaN      NaN     NaN  \n",
       "1            NaN    NaN      NaN     NaN  \n",
       "2            NaN    NaN      NaN     NaN  \n",
       "3            NaN    NaN      NaN     NaN  \n",
       "4            NaN    NaN      NaN     NaN  \n",
       "\n",
       "[5 rows x 103 columns]"
      ]
     },
     "execution_count": 301,
     "metadata": {},
     "output_type": "execute_result"
    }
   ],
   "source": [
    "merged_df.head()"
   ]
  },
  {
   "cell_type": "code",
   "execution_count": null,
   "metadata": {},
   "outputs": [],
   "source": []
  }
 ],
 "metadata": {
  "kernelspec": {
   "display_name": "Python 3",
   "language": "python",
   "name": "python3"
  },
  "language_info": {
   "codemirror_mode": {
    "name": "ipython",
    "version": 3
   },
   "file_extension": ".py",
   "mimetype": "text/x-python",
   "name": "python",
   "nbconvert_exporter": "python",
   "pygments_lexer": "ipython3",
   "version": "3.8.5"
  }
 },
 "nbformat": 4,
 "nbformat_minor": 5
}
