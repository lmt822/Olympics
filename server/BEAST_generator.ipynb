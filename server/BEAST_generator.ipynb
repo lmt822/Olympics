{
 "cells": [
  {
   "cell_type": "code",
   "execution_count": 1,
   "metadata": {},
   "outputs": [],
   "source": [
    "import pandas as pd\n",
    "import os\n",
    "import numpy as np\n",
    "import datetime"
   ]
  },
  {
   "cell_type": "code",
   "execution_count": 2,
   "metadata": {
    "scrolled": true
   },
   "outputs": [],
   "source": [
    "os.chdir(r'/Users/mengtianli/Downloads/HR/')"
   ]
  },
  {
   "cell_type": "code",
   "execution_count": 3,
   "metadata": {},
   "outputs": [],
   "source": [
    "df1 = pd.read_csv('HR Ultipro Data - New Hires.csv')"
   ]
  },
  {
   "cell_type": "code",
   "execution_count": 4,
   "metadata": {},
   "outputs": [],
   "source": [
    "df2 = pd.read_csv('HR Ultipro Data - Terms.csv')"
   ]
  },
  {
   "cell_type": "code",
   "execution_count": 5,
   "metadata": {},
   "outputs": [],
   "source": [
    "df3 = pd.read_csv('HR Ultipro Data - Employee Roster.csv')"
   ]
  },
  {
   "cell_type": "code",
   "execution_count": 6,
   "metadata": {},
   "outputs": [],
   "source": [
    "df4 = pd.read_csv('HR Ultipro Data - Changes.csv')"
   ]
  },
  {
   "cell_type": "code",
   "execution_count": 7,
   "metadata": {},
   "outputs": [
    {
     "data": {
      "text/plain": [
       "Index(['Unnamed: 0', 'Data Year', 'Region', 'State', 'Employee of Color',\n",
       "       'Randomized Key Job Code', 'Job Title',\n",
       "       'Randomized Key Success Profile', 'Manager EEID Hash', 'Manager Name',\n",
       "       'Randomized Key Company Code', 'Randomized Key Division Code',\n",
       "       'Division', 'Randomized Key Department Code', 'Department',\n",
       "       'Randomized Key Function Code', 'Function',\n",
       "       'Randomized Key Cost Center', 'Randomized Key Business Unit',\n",
       "       'Location Code', 'Randomized Key Location', 'Randomized Key Market',\n",
       "       'System ID Hash', 'EEID Hash', 'First Name', 'Last Name',\n",
       "       'Race/Ethnicity', 'Gender', 'Disabled', 'Veteran'],\n",
       "      dtype='object')"
      ]
     },
     "execution_count": 7,
     "metadata": {},
     "output_type": "execute_result"
    }
   ],
   "source": [
    "df3.columns"
   ]
  },
  {
   "cell_type": "code",
   "execution_count": 8,
   "metadata": {},
   "outputs": [],
   "source": [
    "df3 = df3[df3['Data Year'] == '2017']"
   ]
  },
  {
   "cell_type": "code",
   "execution_count": 9,
   "metadata": {},
   "outputs": [
    {
     "data": {
      "text/plain": [
       "True"
      ]
     },
     "execution_count": 9,
     "metadata": {},
     "output_type": "execute_result"
    }
   ],
   "source": [
    "df3['EEID Hash'].is_unique"
   ]
  },
  {
   "cell_type": "code",
   "execution_count": 10,
   "metadata": {},
   "outputs": [
    {
     "ename": "KeyError",
     "evalue": "'exclude'",
     "output_type": "error",
     "traceback": [
      "\u001b[0;31m---------------------------------------------------------------------------\u001b[0m",
      "\u001b[0;31mKeyError\u001b[0m                                  Traceback (most recent call last)",
      "\u001b[0;32m/usr/local/anaconda3/lib/python3.8/site-packages/pandas/core/indexes/base.py\u001b[0m in \u001b[0;36mget_loc\u001b[0;34m(self, key, method, tolerance)\u001b[0m\n\u001b[1;32m   2894\u001b[0m             \u001b[0;32mtry\u001b[0m\u001b[0;34m:\u001b[0m\u001b[0;34m\u001b[0m\u001b[0;34m\u001b[0m\u001b[0m\n\u001b[0;32m-> 2895\u001b[0;31m                 \u001b[0;32mreturn\u001b[0m \u001b[0mself\u001b[0m\u001b[0;34m.\u001b[0m\u001b[0m_engine\u001b[0m\u001b[0;34m.\u001b[0m\u001b[0mget_loc\u001b[0m\u001b[0;34m(\u001b[0m\u001b[0mcasted_key\u001b[0m\u001b[0;34m)\u001b[0m\u001b[0;34m\u001b[0m\u001b[0;34m\u001b[0m\u001b[0m\n\u001b[0m\u001b[1;32m   2896\u001b[0m             \u001b[0;32mexcept\u001b[0m \u001b[0mKeyError\u001b[0m \u001b[0;32mas\u001b[0m \u001b[0merr\u001b[0m\u001b[0;34m:\u001b[0m\u001b[0;34m\u001b[0m\u001b[0;34m\u001b[0m\u001b[0m\n",
      "\u001b[0;32mpandas/_libs/index.pyx\u001b[0m in \u001b[0;36mpandas._libs.index.IndexEngine.get_loc\u001b[0;34m()\u001b[0m\n",
      "\u001b[0;32mpandas/_libs/index.pyx\u001b[0m in \u001b[0;36mpandas._libs.index.IndexEngine.get_loc\u001b[0;34m()\u001b[0m\n",
      "\u001b[0;32mpandas/_libs/hashtable_class_helper.pxi\u001b[0m in \u001b[0;36mpandas._libs.hashtable.PyObjectHashTable.get_item\u001b[0;34m()\u001b[0m\n",
      "\u001b[0;32mpandas/_libs/hashtable_class_helper.pxi\u001b[0m in \u001b[0;36mpandas._libs.hashtable.PyObjectHashTable.get_item\u001b[0;34m()\u001b[0m\n",
      "\u001b[0;31mKeyError\u001b[0m: 'exclude'",
      "\nThe above exception was the direct cause of the following exception:\n",
      "\u001b[0;31mKeyError\u001b[0m                                  Traceback (most recent call last)",
      "\u001b[0;32m<ipython-input-10-be31471ad565>\u001b[0m in \u001b[0;36m<module>\u001b[0;34m\u001b[0m\n\u001b[0;32m----> 1\u001b[0;31m \u001b[0mrehires\u001b[0m \u001b[0;34m=\u001b[0m \u001b[0mdf1\u001b[0m\u001b[0;34m[\u001b[0m\u001b[0;34m'EEID Hash'\u001b[0m\u001b[0;34m]\u001b[0m\u001b[0;34m[\u001b[0m\u001b[0mdf1\u001b[0m\u001b[0;34m[\u001b[0m\u001b[0;34m'exclude'\u001b[0m\u001b[0;34m]\u001b[0m \u001b[0;34m==\u001b[0m \u001b[0;36m0\u001b[0m\u001b[0;34m]\u001b[0m\u001b[0;34m.\u001b[0m\u001b[0mvalue_counts\u001b[0m\u001b[0;34m(\u001b[0m\u001b[0;34m)\u001b[0m\u001b[0;34m\u001b[0m\u001b[0;34m\u001b[0m\u001b[0m\n\u001b[0m",
      "\u001b[0;32m/usr/local/anaconda3/lib/python3.8/site-packages/pandas/core/frame.py\u001b[0m in \u001b[0;36m__getitem__\u001b[0;34m(self, key)\u001b[0m\n\u001b[1;32m   2900\u001b[0m             \u001b[0;32mif\u001b[0m \u001b[0mself\u001b[0m\u001b[0;34m.\u001b[0m\u001b[0mcolumns\u001b[0m\u001b[0;34m.\u001b[0m\u001b[0mnlevels\u001b[0m \u001b[0;34m>\u001b[0m \u001b[0;36m1\u001b[0m\u001b[0;34m:\u001b[0m\u001b[0;34m\u001b[0m\u001b[0;34m\u001b[0m\u001b[0m\n\u001b[1;32m   2901\u001b[0m                 \u001b[0;32mreturn\u001b[0m \u001b[0mself\u001b[0m\u001b[0;34m.\u001b[0m\u001b[0m_getitem_multilevel\u001b[0m\u001b[0;34m(\u001b[0m\u001b[0mkey\u001b[0m\u001b[0;34m)\u001b[0m\u001b[0;34m\u001b[0m\u001b[0;34m\u001b[0m\u001b[0m\n\u001b[0;32m-> 2902\u001b[0;31m             \u001b[0mindexer\u001b[0m \u001b[0;34m=\u001b[0m \u001b[0mself\u001b[0m\u001b[0;34m.\u001b[0m\u001b[0mcolumns\u001b[0m\u001b[0;34m.\u001b[0m\u001b[0mget_loc\u001b[0m\u001b[0;34m(\u001b[0m\u001b[0mkey\u001b[0m\u001b[0;34m)\u001b[0m\u001b[0;34m\u001b[0m\u001b[0;34m\u001b[0m\u001b[0m\n\u001b[0m\u001b[1;32m   2903\u001b[0m             \u001b[0;32mif\u001b[0m \u001b[0mis_integer\u001b[0m\u001b[0;34m(\u001b[0m\u001b[0mindexer\u001b[0m\u001b[0;34m)\u001b[0m\u001b[0;34m:\u001b[0m\u001b[0;34m\u001b[0m\u001b[0;34m\u001b[0m\u001b[0m\n\u001b[1;32m   2904\u001b[0m                 \u001b[0mindexer\u001b[0m \u001b[0;34m=\u001b[0m \u001b[0;34m[\u001b[0m\u001b[0mindexer\u001b[0m\u001b[0;34m]\u001b[0m\u001b[0;34m\u001b[0m\u001b[0;34m\u001b[0m\u001b[0m\n",
      "\u001b[0;32m/usr/local/anaconda3/lib/python3.8/site-packages/pandas/core/indexes/base.py\u001b[0m in \u001b[0;36mget_loc\u001b[0;34m(self, key, method, tolerance)\u001b[0m\n\u001b[1;32m   2895\u001b[0m                 \u001b[0;32mreturn\u001b[0m \u001b[0mself\u001b[0m\u001b[0;34m.\u001b[0m\u001b[0m_engine\u001b[0m\u001b[0;34m.\u001b[0m\u001b[0mget_loc\u001b[0m\u001b[0;34m(\u001b[0m\u001b[0mcasted_key\u001b[0m\u001b[0;34m)\u001b[0m\u001b[0;34m\u001b[0m\u001b[0;34m\u001b[0m\u001b[0m\n\u001b[1;32m   2896\u001b[0m             \u001b[0;32mexcept\u001b[0m \u001b[0mKeyError\u001b[0m \u001b[0;32mas\u001b[0m \u001b[0merr\u001b[0m\u001b[0;34m:\u001b[0m\u001b[0;34m\u001b[0m\u001b[0;34m\u001b[0m\u001b[0m\n\u001b[0;32m-> 2897\u001b[0;31m                 \u001b[0;32mraise\u001b[0m \u001b[0mKeyError\u001b[0m\u001b[0;34m(\u001b[0m\u001b[0mkey\u001b[0m\u001b[0;34m)\u001b[0m \u001b[0;32mfrom\u001b[0m \u001b[0merr\u001b[0m\u001b[0;34m\u001b[0m\u001b[0;34m\u001b[0m\u001b[0m\n\u001b[0m\u001b[1;32m   2898\u001b[0m \u001b[0;34m\u001b[0m\u001b[0m\n\u001b[1;32m   2899\u001b[0m         \u001b[0;32mif\u001b[0m \u001b[0mtolerance\u001b[0m \u001b[0;32mis\u001b[0m \u001b[0;32mnot\u001b[0m \u001b[0;32mNone\u001b[0m\u001b[0;34m:\u001b[0m\u001b[0;34m\u001b[0m\u001b[0;34m\u001b[0m\u001b[0m\n",
      "\u001b[0;31mKeyError\u001b[0m: 'exclude'"
     ]
    }
   ],
   "source": [
    "rehires = df1['EEID Hash'][df1['exclude'] == 0].value_counts()"
   ]
  },
  {
   "cell_type": "code",
   "execution_count": 11,
   "metadata": {
    "scrolled": true
   },
   "outputs": [
    {
     "ename": "KeyError",
     "evalue": "'exclude'",
     "output_type": "error",
     "traceback": [
      "\u001b[0;31m---------------------------------------------------------------------------\u001b[0m",
      "\u001b[0;31mKeyError\u001b[0m                                  Traceback (most recent call last)",
      "\u001b[0;32m/usr/local/anaconda3/lib/python3.8/site-packages/pandas/core/indexes/base.py\u001b[0m in \u001b[0;36mget_loc\u001b[0;34m(self, key, method, tolerance)\u001b[0m\n\u001b[1;32m   2894\u001b[0m             \u001b[0;32mtry\u001b[0m\u001b[0;34m:\u001b[0m\u001b[0;34m\u001b[0m\u001b[0;34m\u001b[0m\u001b[0m\n\u001b[0;32m-> 2895\u001b[0;31m                 \u001b[0;32mreturn\u001b[0m \u001b[0mself\u001b[0m\u001b[0;34m.\u001b[0m\u001b[0m_engine\u001b[0m\u001b[0;34m.\u001b[0m\u001b[0mget_loc\u001b[0m\u001b[0;34m(\u001b[0m\u001b[0mcasted_key\u001b[0m\u001b[0;34m)\u001b[0m\u001b[0;34m\u001b[0m\u001b[0;34m\u001b[0m\u001b[0m\n\u001b[0m\u001b[1;32m   2896\u001b[0m             \u001b[0;32mexcept\u001b[0m \u001b[0mKeyError\u001b[0m \u001b[0;32mas\u001b[0m \u001b[0merr\u001b[0m\u001b[0;34m:\u001b[0m\u001b[0;34m\u001b[0m\u001b[0;34m\u001b[0m\u001b[0m\n",
      "\u001b[0;32mpandas/_libs/index.pyx\u001b[0m in \u001b[0;36mpandas._libs.index.IndexEngine.get_loc\u001b[0;34m()\u001b[0m\n",
      "\u001b[0;32mpandas/_libs/index.pyx\u001b[0m in \u001b[0;36mpandas._libs.index.IndexEngine.get_loc\u001b[0;34m()\u001b[0m\n",
      "\u001b[0;32mpandas/_libs/hashtable_class_helper.pxi\u001b[0m in \u001b[0;36mpandas._libs.hashtable.PyObjectHashTable.get_item\u001b[0;34m()\u001b[0m\n",
      "\u001b[0;32mpandas/_libs/hashtable_class_helper.pxi\u001b[0m in \u001b[0;36mpandas._libs.hashtable.PyObjectHashTable.get_item\u001b[0;34m()\u001b[0m\n",
      "\u001b[0;31mKeyError\u001b[0m: 'exclude'",
      "\nThe above exception was the direct cause of the following exception:\n",
      "\u001b[0;31mKeyError\u001b[0m                                  Traceback (most recent call last)",
      "\u001b[0;32m<ipython-input-11-fc3691fc8bc5>\u001b[0m in \u001b[0;36m<module>\u001b[0;34m\u001b[0m\n\u001b[0;32m----> 1\u001b[0;31m \u001b[0mdf1\u001b[0m\u001b[0;34m[\u001b[0m\u001b[0;34m'EEID Hash'\u001b[0m\u001b[0;34m]\u001b[0m\u001b[0;34m[\u001b[0m\u001b[0mdf1\u001b[0m\u001b[0;34m[\u001b[0m\u001b[0;34m'exclude'\u001b[0m\u001b[0;34m]\u001b[0m \u001b[0;34m==\u001b[0m \u001b[0;36m0\u001b[0m\u001b[0;34m]\u001b[0m\u001b[0;34m.\u001b[0m\u001b[0mvalue_counts\u001b[0m\u001b[0;34m(\u001b[0m\u001b[0;34m)\u001b[0m\u001b[0;34m\u001b[0m\u001b[0;34m\u001b[0m\u001b[0m\n\u001b[0m",
      "\u001b[0;32m/usr/local/anaconda3/lib/python3.8/site-packages/pandas/core/frame.py\u001b[0m in \u001b[0;36m__getitem__\u001b[0;34m(self, key)\u001b[0m\n\u001b[1;32m   2900\u001b[0m             \u001b[0;32mif\u001b[0m \u001b[0mself\u001b[0m\u001b[0;34m.\u001b[0m\u001b[0mcolumns\u001b[0m\u001b[0;34m.\u001b[0m\u001b[0mnlevels\u001b[0m \u001b[0;34m>\u001b[0m \u001b[0;36m1\u001b[0m\u001b[0;34m:\u001b[0m\u001b[0;34m\u001b[0m\u001b[0;34m\u001b[0m\u001b[0m\n\u001b[1;32m   2901\u001b[0m                 \u001b[0;32mreturn\u001b[0m \u001b[0mself\u001b[0m\u001b[0;34m.\u001b[0m\u001b[0m_getitem_multilevel\u001b[0m\u001b[0;34m(\u001b[0m\u001b[0mkey\u001b[0m\u001b[0;34m)\u001b[0m\u001b[0;34m\u001b[0m\u001b[0;34m\u001b[0m\u001b[0m\n\u001b[0;32m-> 2902\u001b[0;31m             \u001b[0mindexer\u001b[0m \u001b[0;34m=\u001b[0m \u001b[0mself\u001b[0m\u001b[0;34m.\u001b[0m\u001b[0mcolumns\u001b[0m\u001b[0;34m.\u001b[0m\u001b[0mget_loc\u001b[0m\u001b[0;34m(\u001b[0m\u001b[0mkey\u001b[0m\u001b[0;34m)\u001b[0m\u001b[0;34m\u001b[0m\u001b[0;34m\u001b[0m\u001b[0m\n\u001b[0m\u001b[1;32m   2903\u001b[0m             \u001b[0;32mif\u001b[0m \u001b[0mis_integer\u001b[0m\u001b[0;34m(\u001b[0m\u001b[0mindexer\u001b[0m\u001b[0;34m)\u001b[0m\u001b[0;34m:\u001b[0m\u001b[0;34m\u001b[0m\u001b[0;34m\u001b[0m\u001b[0m\n\u001b[1;32m   2904\u001b[0m                 \u001b[0mindexer\u001b[0m \u001b[0;34m=\u001b[0m \u001b[0;34m[\u001b[0m\u001b[0mindexer\u001b[0m\u001b[0;34m]\u001b[0m\u001b[0;34m\u001b[0m\u001b[0;34m\u001b[0m\u001b[0m\n",
      "\u001b[0;32m/usr/local/anaconda3/lib/python3.8/site-packages/pandas/core/indexes/base.py\u001b[0m in \u001b[0;36mget_loc\u001b[0;34m(self, key, method, tolerance)\u001b[0m\n\u001b[1;32m   2895\u001b[0m                 \u001b[0;32mreturn\u001b[0m \u001b[0mself\u001b[0m\u001b[0;34m.\u001b[0m\u001b[0m_engine\u001b[0m\u001b[0;34m.\u001b[0m\u001b[0mget_loc\u001b[0m\u001b[0;34m(\u001b[0m\u001b[0mcasted_key\u001b[0m\u001b[0;34m)\u001b[0m\u001b[0;34m\u001b[0m\u001b[0;34m\u001b[0m\u001b[0m\n\u001b[1;32m   2896\u001b[0m             \u001b[0;32mexcept\u001b[0m \u001b[0mKeyError\u001b[0m \u001b[0;32mas\u001b[0m \u001b[0merr\u001b[0m\u001b[0;34m:\u001b[0m\u001b[0;34m\u001b[0m\u001b[0;34m\u001b[0m\u001b[0m\n\u001b[0;32m-> 2897\u001b[0;31m                 \u001b[0;32mraise\u001b[0m \u001b[0mKeyError\u001b[0m\u001b[0;34m(\u001b[0m\u001b[0mkey\u001b[0m\u001b[0;34m)\u001b[0m \u001b[0;32mfrom\u001b[0m \u001b[0merr\u001b[0m\u001b[0;34m\u001b[0m\u001b[0;34m\u001b[0m\u001b[0m\n\u001b[0m\u001b[1;32m   2898\u001b[0m \u001b[0;34m\u001b[0m\u001b[0m\n\u001b[1;32m   2899\u001b[0m         \u001b[0;32mif\u001b[0m \u001b[0mtolerance\u001b[0m \u001b[0;32mis\u001b[0m \u001b[0;32mnot\u001b[0m \u001b[0;32mNone\u001b[0m\u001b[0;34m:\u001b[0m\u001b[0;34m\u001b[0m\u001b[0;34m\u001b[0m\u001b[0m\n",
      "\u001b[0;31mKeyError\u001b[0m: 'exclude'"
     ]
    }
   ],
   "source": [
    "df1['EEID Hash'][df1['exclude'] == 0].value_counts()"
   ]
  },
  {
   "cell_type": "code",
   "execution_count": 12,
   "metadata": {},
   "outputs": [],
   "source": [
    "excluded_sp = ['Success Profile 2']"
   ]
  },
  {
   "cell_type": "code",
   "execution_count": 13,
   "metadata": {},
   "outputs": [],
   "source": [
    "df1['exclude'] = np.where(df1['Randomized Key Success Profile'].isin(excluded_sp), 1, 0)"
   ]
  },
  {
   "cell_type": "code",
   "execution_count": 14,
   "metadata": {
    "scrolled": true
   },
   "outputs": [],
   "source": [
    "df1 = df1[df1['exclude']== 0]"
   ]
  },
  {
   "cell_type": "code",
   "execution_count": 15,
   "metadata": {},
   "outputs": [],
   "source": [
    "merge = df1.merge(df2, how = \"left\", on = 'EEID Hash', indicator = True)"
   ]
  },
  {
   "cell_type": "code",
   "execution_count": 16,
   "metadata": {
    "scrolled": true
   },
   "outputs": [
    {
     "data": {
      "text/plain": [
       "left_only     1298\n",
       "both          1092\n",
       "right_only       0\n",
       "Name: _merge, dtype: int64"
      ]
     },
     "execution_count": 16,
     "metadata": {},
     "output_type": "execute_result"
    }
   ],
   "source": [
    "merge['_merge'].value_counts()"
   ]
  },
  {
   "cell_type": "code",
   "execution_count": 17,
   "metadata": {},
   "outputs": [],
   "source": [
    "attrition = merge[merge['_merge'] == 'both']"
   ]
  },
  {
   "cell_type": "code",
   "execution_count": 18,
   "metadata": {
    "scrolled": true
   },
   "outputs": [
    {
     "data": {
      "text/plain": [
       "No     709\n",
       "Yes    383\n",
       "Name: Employee of Color_x, dtype: int64"
      ]
     },
     "execution_count": 18,
     "metadata": {},
     "output_type": "execute_result"
    }
   ],
   "source": [
    "attrition['Employee of Color_x'].value_counts()"
   ]
  },
  {
   "cell_type": "code",
   "execution_count": 19,
   "metadata": {},
   "outputs": [
    {
     "data": {
      "text/plain": [
       "Index(['Unnamed: 0_x', 'Data Year_x', 'Effective Date_x', 'Change Reason',\n",
       "       'Region_x', 'State_x', 'Employee of Color_x', 'Req ID Hash',\n",
       "       'Randomized Key Job Code_x', 'Job Title_x',\n",
       "       'Randomized Key Success Profile_x', 'Manager EEID Hash_x',\n",
       "       'Manager Name_x', 'Randomized Key Company Code_x',\n",
       "       'Randomized Key Division Code_x', 'Division_x',\n",
       "       'Randomized Key Department Code_x', 'Department_x',\n",
       "       'Randomized Key Function Code_x', 'Function_x',\n",
       "       'Randomized Key Cost Center_x', 'Randomized Key Business Unit_x',\n",
       "       'Location Code_x', 'Randomized Key Location_x',\n",
       "       'Randomized Key Market_x', 'EEID Hash', 'First Name_x', 'Last Name_x',\n",
       "       'Race/Ethnicity_x', 'Gender_x', 'Disabled_x', 'Veteran_x', 'exclude',\n",
       "       'Unnamed: 0_y', 'Data Year_y', 'Effective Date_y',\n",
       "       'Voluntary/Involuntary', 'Termination Type', 'Region_y', 'State_y',\n",
       "       'Employee of Color_y', 'Randomized Key Job Code_y', 'Job Title_y',\n",
       "       'Randomized Key Success Profile_y', 'Manager EEID Hash_y',\n",
       "       'Manager Name_y', 'Term Reason', 'Randomized Key Company Code_y',\n",
       "       'Randomized Key Division Code_y', 'Division_y',\n",
       "       'Randomized Key Department Code_y', 'Department_y',\n",
       "       'Randomized Key Function Code_y', 'Function_y',\n",
       "       'Randomized Key Cost Center_y', 'Randomized Key Business Unit_y',\n",
       "       'Location Code_y', 'Randomized Key Location_y',\n",
       "       'Randomized Key Market_y', 'First Name_y', 'Last Name_y',\n",
       "       'Race/Ethnicity_y', 'Gender_y', 'Disabled_y', 'Veteran_y', '_merge'],\n",
       "      dtype='object')"
      ]
     },
     "execution_count": 19,
     "metadata": {},
     "output_type": "execute_result"
    }
   ],
   "source": [
    "attrition.columns"
   ]
  },
  {
   "cell_type": "code",
   "execution_count": 20,
   "metadata": {
    "scrolled": true
   },
   "outputs": [
    {
     "name": "stderr",
     "output_type": "stream",
     "text": [
      "<ipython-input-20-9c126d4fa85d>:1: SettingWithCopyWarning: \n",
      "A value is trying to be set on a copy of a slice from a DataFrame.\n",
      "Try using .loc[row_indexer,col_indexer] = value instead\n",
      "\n",
      "See the caveats in the documentation: https://pandas.pydata.org/pandas-docs/stable/user_guide/indexing.html#returning-a-view-versus-a-copy\n",
      "  attrition['status'] = np.where(attrition['_merge'] == 'both', 1, 0)\n"
     ]
    }
   ],
   "source": [
    "attrition['status'] = np.where(attrition['_merge'] == 'both', 1, 0)"
   ]
  },
  {
   "cell_type": "code",
   "execution_count": 21,
   "metadata": {},
   "outputs": [
    {
     "data": {
      "text/plain": [
       "2       09/11/2017\n",
       "4       02/27/2017\n",
       "5       06/19/2017\n",
       "6       05/14/2017\n",
       "7       04/10/2017\n",
       "           ...    \n",
       "2332    01/05/2020\n",
       "2369    03/02/2020\n",
       "2386    01/08/2020\n",
       "2387    02/04/2020\n",
       "2389    01/13/2020\n",
       "Name: Effective Date_x, Length: 1092, dtype: object"
      ]
     },
     "execution_count": 21,
     "metadata": {},
     "output_type": "execute_result"
    }
   ],
   "source": [
    "attrition['Effective Date_x']"
   ]
  },
  {
   "cell_type": "code",
   "execution_count": 22,
   "metadata": {},
   "outputs": [
    {
     "data": {
      "text/plain": [
       "1    1092\n",
       "Name: status, dtype: int64"
      ]
     },
     "execution_count": 22,
     "metadata": {},
     "output_type": "execute_result"
    }
   ],
   "source": [
    "attrition['status'].value_counts()"
   ]
  },
  {
   "cell_type": "code",
   "execution_count": 23,
   "metadata": {},
   "outputs": [
    {
     "name": "stderr",
     "output_type": "stream",
     "text": [
      "<ipython-input-23-94a3473aebfd>:1: SettingWithCopyWarning: \n",
      "A value is trying to be set on a copy of a slice from a DataFrame.\n",
      "Try using .loc[row_indexer,col_indexer] = value instead\n",
      "\n",
      "See the caveats in the documentation: https://pandas.pydata.org/pandas-docs/stable/user_guide/indexing.html#returning-a-view-versus-a-copy\n",
      "  attrition['Effective Date_x'] = pd.to_datetime(attrition['Effective Date_x'])\n",
      "<ipython-input-23-94a3473aebfd>:2: SettingWithCopyWarning: \n",
      "A value is trying to be set on a copy of a slice from a DataFrame.\n",
      "Try using .loc[row_indexer,col_indexer] = value instead\n",
      "\n",
      "See the caveats in the documentation: https://pandas.pydata.org/pandas-docs/stable/user_guide/indexing.html#returning-a-view-versus-a-copy\n",
      "  attrition['Effective Date_y'] = pd.to_datetime(attrition['Effective Date_y'])\n",
      "<ipython-input-23-94a3473aebfd>:5: SettingWithCopyWarning: \n",
      "A value is trying to be set on a copy of a slice from a DataFrame.\n",
      "Try using .loc[row_indexer,col_indexer] = value instead\n",
      "\n",
      "See the caveats in the documentation: https://pandas.pydata.org/pandas-docs/stable/user_guide/indexing.html#returning-a-view-versus-a-copy\n",
      "  attrition['time_delta'] = attrition['Effective Date_x'] - attrition['Effective Date_y']\n"
     ]
    }
   ],
   "source": [
    "attrition['Effective Date_x'] = pd.to_datetime(attrition['Effective Date_x'])\n",
    "attrition['Effective Date_y'] = pd.to_datetime(attrition['Effective Date_y'])\n",
    "attrition.dtypes\n",
    "attrition['Effective Date_x'] - attrition['Effective Date_y']\n",
    "attrition['time_delta'] = attrition['Effective Date_x'] - attrition['Effective Date_y']\n",
    "\n"
   ]
  },
  {
   "cell_type": "code",
   "execution_count": 31,
   "metadata": {},
   "outputs": [],
   "source": [
    "attrition.to_csv(r'../attrition(1).csv', index = False)"
   ]
  },
  {
   "cell_type": "code",
   "execution_count": 37,
   "metadata": {},
   "outputs": [],
   "source": [
    "attrition = pd.read_csv('attrition.csv')"
   ]
  },
  {
   "cell_type": "code",
   "execution_count": 38,
   "metadata": {},
   "outputs": [
    {
     "data": {
      "text/html": [
       "<div>\n",
       "<style scoped>\n",
       "    .dataframe tbody tr th:only-of-type {\n",
       "        vertical-align: middle;\n",
       "    }\n",
       "\n",
       "    .dataframe tbody tr th {\n",
       "        vertical-align: top;\n",
       "    }\n",
       "\n",
       "    .dataframe thead th {\n",
       "        text-align: right;\n",
       "    }\n",
       "</style>\n",
       "<table border=\"1\" class=\"dataframe\">\n",
       "  <thead>\n",
       "    <tr style=\"text-align: right;\">\n",
       "      <th></th>\n",
       "      <th>Unnamed: 0_x</th>\n",
       "      <th>Data Year_x</th>\n",
       "      <th>Effective Date_x</th>\n",
       "      <th>Change Reason</th>\n",
       "      <th>Region_x</th>\n",
       "      <th>State_x</th>\n",
       "      <th>Employee of Color_x</th>\n",
       "      <th>Req ID Hash</th>\n",
       "      <th>Randomized Key Job Code_x</th>\n",
       "      <th>Job Title_x</th>\n",
       "      <th>...</th>\n",
       "      <th>Randomized Key Market_y</th>\n",
       "      <th>First Name_y</th>\n",
       "      <th>Last Name_y</th>\n",
       "      <th>Race/Ethnicity_y</th>\n",
       "      <th>Gender_y</th>\n",
       "      <th>Disabled_y</th>\n",
       "      <th>Veteran_y</th>\n",
       "      <th>_merge</th>\n",
       "      <th>status</th>\n",
       "      <th>time_delta</th>\n",
       "    </tr>\n",
       "  </thead>\n",
       "  <tbody>\n",
       "    <tr>\n",
       "      <th>0</th>\n",
       "      <td>2</td>\n",
       "      <td>2017</td>\n",
       "      <td>2017-09-11</td>\n",
       "      <td>New Hire</td>\n",
       "      <td>Central PA</td>\n",
       "      <td>PA</td>\n",
       "      <td>No</td>\n",
       "      <td>66de99275436bf479ccd5e622f174606cf601d76f6f5bb...</td>\n",
       "      <td>Job Code 8020</td>\n",
       "      <td>NaN</td>\n",
       "      <td>...</td>\n",
       "      <td>Market 3</td>\n",
       "      <td>NaN</td>\n",
       "      <td>NaN</td>\n",
       "      <td>NaN</td>\n",
       "      <td>NaN</td>\n",
       "      <td>NaN</td>\n",
       "      <td>NaN</td>\n",
       "      <td>both</td>\n",
       "      <td>1</td>\n",
       "      <td>267</td>\n",
       "    </tr>\n",
       "    <tr>\n",
       "      <th>1</th>\n",
       "      <td>4</td>\n",
       "      <td>2017</td>\n",
       "      <td>2017-05-15</td>\n",
       "      <td>New Hire</td>\n",
       "      <td>Central PA</td>\n",
       "      <td>PA</td>\n",
       "      <td>No</td>\n",
       "      <td>c8de6c4bc9f967dc778ae0f80480ee361037d19f13251a...</td>\n",
       "      <td>Job Code 3403</td>\n",
       "      <td>NaN</td>\n",
       "      <td>...</td>\n",
       "      <td>Market 5</td>\n",
       "      <td>NaN</td>\n",
       "      <td>NaN</td>\n",
       "      <td>NaN</td>\n",
       "      <td>NaN</td>\n",
       "      <td>NaN</td>\n",
       "      <td>NaN</td>\n",
       "      <td>both</td>\n",
       "      <td>1</td>\n",
       "      <td>501</td>\n",
       "    </tr>\n",
       "    <tr>\n",
       "      <th>2</th>\n",
       "      <td>4</td>\n",
       "      <td>2017</td>\n",
       "      <td>2017-05-15</td>\n",
       "      <td>New Hire</td>\n",
       "      <td>Central PA</td>\n",
       "      <td>PA</td>\n",
       "      <td>No</td>\n",
       "      <td>c8de6c4bc9f967dc778ae0f80480ee361037d19f13251a...</td>\n",
       "      <td>Job Code 3403</td>\n",
       "      <td>NaN</td>\n",
       "      <td>...</td>\n",
       "      <td>Market 5</td>\n",
       "      <td>NaN</td>\n",
       "      <td>NaN</td>\n",
       "      <td>NaN</td>\n",
       "      <td>NaN</td>\n",
       "      <td>NaN</td>\n",
       "      <td>NaN</td>\n",
       "      <td>both</td>\n",
       "      <td>1</td>\n",
       "      <td>95</td>\n",
       "    </tr>\n",
       "    <tr>\n",
       "      <th>3</th>\n",
       "      <td>5</td>\n",
       "      <td>2017</td>\n",
       "      <td>2017-05-22</td>\n",
       "      <td>New Hire</td>\n",
       "      <td>Central PA</td>\n",
       "      <td>PA</td>\n",
       "      <td>No</td>\n",
       "      <td>f5beecf7cc89e8c11a3f8cff5c2db1808785f3b51246bc...</td>\n",
       "      <td>Job Code 3403</td>\n",
       "      <td>NaN</td>\n",
       "      <td>...</td>\n",
       "      <td>Market 5</td>\n",
       "      <td>NaN</td>\n",
       "      <td>NaN</td>\n",
       "      <td>NaN</td>\n",
       "      <td>NaN</td>\n",
       "      <td>NaN</td>\n",
       "      <td>NaN</td>\n",
       "      <td>both</td>\n",
       "      <td>1</td>\n",
       "      <td>81</td>\n",
       "    </tr>\n",
       "    <tr>\n",
       "      <th>4</th>\n",
       "      <td>6</td>\n",
       "      <td>2017</td>\n",
       "      <td>2017-06-06</td>\n",
       "      <td>New Hire</td>\n",
       "      <td>Central PA</td>\n",
       "      <td>PA</td>\n",
       "      <td>No</td>\n",
       "      <td>4de89a402327bdfcac1f6676453b80a2b7a8894d0af2e1...</td>\n",
       "      <td>Job Code 3403</td>\n",
       "      <td>NaN</td>\n",
       "      <td>...</td>\n",
       "      <td>Market 5</td>\n",
       "      <td>NaN</td>\n",
       "      <td>NaN</td>\n",
       "      <td>NaN</td>\n",
       "      <td>NaN</td>\n",
       "      <td>NaN</td>\n",
       "      <td>NaN</td>\n",
       "      <td>both</td>\n",
       "      <td>1</td>\n",
       "      <td>79</td>\n",
       "    </tr>\n",
       "    <tr>\n",
       "      <th>...</th>\n",
       "      <td>...</td>\n",
       "      <td>...</td>\n",
       "      <td>...</td>\n",
       "      <td>...</td>\n",
       "      <td>...</td>\n",
       "      <td>...</td>\n",
       "      <td>...</td>\n",
       "      <td>...</td>\n",
       "      <td>...</td>\n",
       "      <td>...</td>\n",
       "      <td>...</td>\n",
       "      <td>...</td>\n",
       "      <td>...</td>\n",
       "      <td>...</td>\n",
       "      <td>...</td>\n",
       "      <td>...</td>\n",
       "      <td>...</td>\n",
       "      <td>...</td>\n",
       "      <td>...</td>\n",
       "      <td>...</td>\n",
       "      <td>...</td>\n",
       "    </tr>\n",
       "    <tr>\n",
       "      <th>1630</th>\n",
       "      <td>2701</td>\n",
       "      <td>2020</td>\n",
       "      <td>2020-03-16</td>\n",
       "      <td>New hire</td>\n",
       "      <td>Central PA</td>\n",
       "      <td>PA</td>\n",
       "      <td>No</td>\n",
       "      <td>e9371117384643bf8600fed030ff0280ff7769d6ada134...</td>\n",
       "      <td>Job Code 2758</td>\n",
       "      <td>NaN</td>\n",
       "      <td>...</td>\n",
       "      <td>Market 3</td>\n",
       "      <td>NaN</td>\n",
       "      <td>NaN</td>\n",
       "      <td>NaN</td>\n",
       "      <td>NaN</td>\n",
       "      <td>NaN</td>\n",
       "      <td>NaN</td>\n",
       "      <td>both</td>\n",
       "      <td>1</td>\n",
       "      <td>2</td>\n",
       "    </tr>\n",
       "    <tr>\n",
       "      <th>1631</th>\n",
       "      <td>2750</td>\n",
       "      <td>2020</td>\n",
       "      <td>2020-01-20</td>\n",
       "      <td>Rehire</td>\n",
       "      <td>New Jersey</td>\n",
       "      <td>NJ</td>\n",
       "      <td>No</td>\n",
       "      <td>d26ce2f555152384610400ec93af54b6f81d1427a440e3...</td>\n",
       "      <td>Job Code 2334</td>\n",
       "      <td>NaN</td>\n",
       "      <td>...</td>\n",
       "      <td>Market 17</td>\n",
       "      <td>NaN</td>\n",
       "      <td>NaN</td>\n",
       "      <td>NaN</td>\n",
       "      <td>NaN</td>\n",
       "      <td>NaN</td>\n",
       "      <td>NaN</td>\n",
       "      <td>both</td>\n",
       "      <td>1</td>\n",
       "      <td>60</td>\n",
       "    </tr>\n",
       "    <tr>\n",
       "      <th>1632</th>\n",
       "      <td>2752</td>\n",
       "      <td>2020</td>\n",
       "      <td>2020-01-02</td>\n",
       "      <td>New hire</td>\n",
       "      <td>Southeastern PA</td>\n",
       "      <td>PA</td>\n",
       "      <td>Yes</td>\n",
       "      <td>4f071e412bf77cdff499f8f40f06615cec72ca6075baed...</td>\n",
       "      <td>Job Code 4775</td>\n",
       "      <td>NaN</td>\n",
       "      <td>...</td>\n",
       "      <td>Market 18</td>\n",
       "      <td>NaN</td>\n",
       "      <td>NaN</td>\n",
       "      <td>NaN</td>\n",
       "      <td>NaN</td>\n",
       "      <td>NaN</td>\n",
       "      <td>NaN</td>\n",
       "      <td>both</td>\n",
       "      <td>1</td>\n",
       "      <td>15</td>\n",
       "    </tr>\n",
       "    <tr>\n",
       "      <th>1633</th>\n",
       "      <td>2753</td>\n",
       "      <td>2020</td>\n",
       "      <td>2020-01-05</td>\n",
       "      <td>New hire</td>\n",
       "      <td>DelMarVa</td>\n",
       "      <td>MD</td>\n",
       "      <td>No</td>\n",
       "      <td>23c83e09287eee9405b44214becb8373bd1ab1831294e6...</td>\n",
       "      <td>Job Code 5357</td>\n",
       "      <td>NaN</td>\n",
       "      <td>...</td>\n",
       "      <td>Market 9</td>\n",
       "      <td>NaN</td>\n",
       "      <td>NaN</td>\n",
       "      <td>NaN</td>\n",
       "      <td>NaN</td>\n",
       "      <td>NaN</td>\n",
       "      <td>NaN</td>\n",
       "      <td>both</td>\n",
       "      <td>1</td>\n",
       "      <td>40</td>\n",
       "    </tr>\n",
       "    <tr>\n",
       "      <th>1634</th>\n",
       "      <td>2790</td>\n",
       "      <td>2020</td>\n",
       "      <td>2020-03-02</td>\n",
       "      <td>New hire</td>\n",
       "      <td>Central PA</td>\n",
       "      <td>PA</td>\n",
       "      <td>Yes</td>\n",
       "      <td>4aa61c0bfce39e797ba406308ace5b4e73ae7a976aef87...</td>\n",
       "      <td>Job Code 1546</td>\n",
       "      <td>NaN</td>\n",
       "      <td>...</td>\n",
       "      <td>Market 3</td>\n",
       "      <td>NaN</td>\n",
       "      <td>NaN</td>\n",
       "      <td>NaN</td>\n",
       "      <td>NaN</td>\n",
       "      <td>NaN</td>\n",
       "      <td>NaN</td>\n",
       "      <td>both</td>\n",
       "      <td>1</td>\n",
       "      <td>109</td>\n",
       "    </tr>\n",
       "  </tbody>\n",
       "</table>\n",
       "<p>1635 rows × 67 columns</p>\n",
       "</div>"
      ],
      "text/plain": [
       "      Unnamed: 0_x  Data Year_x Effective Date_x Change Reason  \\\n",
       "0                2         2017       2017-09-11      New Hire   \n",
       "1                4         2017       2017-05-15      New Hire   \n",
       "2                4         2017       2017-05-15      New Hire   \n",
       "3                5         2017       2017-05-22      New Hire   \n",
       "4                6         2017       2017-06-06      New Hire   \n",
       "...            ...          ...              ...           ...   \n",
       "1630          2701         2020       2020-03-16      New hire   \n",
       "1631          2750         2020       2020-01-20        Rehire   \n",
       "1632          2752         2020       2020-01-02      New hire   \n",
       "1633          2753         2020       2020-01-05      New hire   \n",
       "1634          2790         2020       2020-03-02      New hire   \n",
       "\n",
       "             Region_x State_x Employee of Color_x  \\\n",
       "0          Central PA      PA                  No   \n",
       "1          Central PA      PA                  No   \n",
       "2          Central PA      PA                  No   \n",
       "3          Central PA      PA                  No   \n",
       "4          Central PA      PA                  No   \n",
       "...               ...     ...                 ...   \n",
       "1630       Central PA      PA                  No   \n",
       "1631       New Jersey      NJ                  No   \n",
       "1632  Southeastern PA      PA                 Yes   \n",
       "1633         DelMarVa      MD                  No   \n",
       "1634       Central PA      PA                 Yes   \n",
       "\n",
       "                                            Req ID Hash  \\\n",
       "0     66de99275436bf479ccd5e622f174606cf601d76f6f5bb...   \n",
       "1     c8de6c4bc9f967dc778ae0f80480ee361037d19f13251a...   \n",
       "2     c8de6c4bc9f967dc778ae0f80480ee361037d19f13251a...   \n",
       "3     f5beecf7cc89e8c11a3f8cff5c2db1808785f3b51246bc...   \n",
       "4     4de89a402327bdfcac1f6676453b80a2b7a8894d0af2e1...   \n",
       "...                                                 ...   \n",
       "1630  e9371117384643bf8600fed030ff0280ff7769d6ada134...   \n",
       "1631  d26ce2f555152384610400ec93af54b6f81d1427a440e3...   \n",
       "1632  4f071e412bf77cdff499f8f40f06615cec72ca6075baed...   \n",
       "1633  23c83e09287eee9405b44214becb8373bd1ab1831294e6...   \n",
       "1634  4aa61c0bfce39e797ba406308ace5b4e73ae7a976aef87...   \n",
       "\n",
       "     Randomized Key Job Code_x  Job Title_x  ... Randomized Key Market_y  \\\n",
       "0                Job Code 8020          NaN  ...                Market 3   \n",
       "1                Job Code 3403          NaN  ...                Market 5   \n",
       "2                Job Code 3403          NaN  ...                Market 5   \n",
       "3                Job Code 3403          NaN  ...                Market 5   \n",
       "4                Job Code 3403          NaN  ...                Market 5   \n",
       "...                        ...          ...  ...                     ...   \n",
       "1630             Job Code 2758          NaN  ...                Market 3   \n",
       "1631             Job Code 2334          NaN  ...               Market 17   \n",
       "1632             Job Code 4775          NaN  ...               Market 18   \n",
       "1633             Job Code 5357          NaN  ...                Market 9   \n",
       "1634             Job Code 1546          NaN  ...                Market 3   \n",
       "\n",
       "     First Name_y  Last Name_y Race/Ethnicity_y Gender_y  Disabled_y  \\\n",
       "0             NaN          NaN              NaN      NaN         NaN   \n",
       "1             NaN          NaN              NaN      NaN         NaN   \n",
       "2             NaN          NaN              NaN      NaN         NaN   \n",
       "3             NaN          NaN              NaN      NaN         NaN   \n",
       "4             NaN          NaN              NaN      NaN         NaN   \n",
       "...           ...          ...              ...      ...         ...   \n",
       "1630          NaN          NaN              NaN      NaN         NaN   \n",
       "1631          NaN          NaN              NaN      NaN         NaN   \n",
       "1632          NaN          NaN              NaN      NaN         NaN   \n",
       "1633          NaN          NaN              NaN      NaN         NaN   \n",
       "1634          NaN          NaN              NaN      NaN         NaN   \n",
       "\n",
       "     Veteran_y  _merge status  time_delta  \n",
       "0          NaN    both      1         267  \n",
       "1          NaN    both      1         501  \n",
       "2          NaN    both      1          95  \n",
       "3          NaN    both      1          81  \n",
       "4          NaN    both      1          79  \n",
       "...        ...     ...    ...         ...  \n",
       "1630       NaN    both      1           2  \n",
       "1631       NaN    both      1          60  \n",
       "1632       NaN    both      1          15  \n",
       "1633       NaN    both      1          40  \n",
       "1634       NaN    both      1         109  \n",
       "\n",
       "[1635 rows x 67 columns]"
      ]
     },
     "execution_count": 38,
     "metadata": {},
     "output_type": "execute_result"
    }
   ],
   "source": [
    "attrition"
   ]
  },
  {
   "cell_type": "code",
   "execution_count": null,
   "metadata": {},
   "outputs": [],
   "source": []
  }
 ],
 "metadata": {
  "kernelspec": {
   "display_name": "Python 3",
   "language": "python",
   "name": "python3"
  },
  "language_info": {
   "codemirror_mode": {
    "name": "ipython",
    "version": 3
   },
   "file_extension": ".py",
   "mimetype": "text/x-python",
   "name": "python",
   "nbconvert_exporter": "python",
   "pygments_lexer": "ipython3",
   "version": "3.8.5"
  }
 },
 "nbformat": 4,
 "nbformat_minor": 2
}
