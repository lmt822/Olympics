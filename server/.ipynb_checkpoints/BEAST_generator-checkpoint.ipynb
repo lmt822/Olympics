{
 "cells": [
  {
   "cell_type": "code",
   "execution_count": 32,
   "metadata": {},
   "outputs": [],
   "source": [
    "import pandas as pd\n",
    "import os\n",
    "import numpy as np\n",
    "import datetime"
   ]
  },
  {
   "cell_type": "code",
   "execution_count": 6,
   "metadata": {
    "scrolled": true
   },
   "outputs": [],
   "source": [
    "os.chdir(r'G:\\Shared\\Wharton Datathon\\FINAL DATASETS for DATATHON USE')"
   ]
  },
  {
   "cell_type": "code",
   "execution_count": 7,
   "metadata": {},
   "outputs": [],
   "source": [
    "df1 = pd.read_csv('HR Ultipro Data - New Hires.csv')"
   ]
  },
  {
   "cell_type": "code",
   "execution_count": 12,
   "metadata": {},
   "outputs": [],
   "source": [
    "df2 = pd.read_csv('HR Ultipro Data - Terms.csv')"
   ]
  },
  {
   "cell_type": "code",
   "execution_count": 39,
   "metadata": {},
   "outputs": [],
   "source": [
    "df3 = pd.read_csv('HR Ultipro Data - Employee Roster.csv')"
   ]
  },
  {
   "cell_type": "code",
   "execution_count": 40,
   "metadata": {},
   "outputs": [],
   "source": [
    "df4 = pd.read_csv('HR Ultipro Data - Changes.csv')"
   ]
  },
  {
   "cell_type": "code",
   "execution_count": 44,
   "metadata": {},
   "outputs": [
    {
     "data": {
      "text/plain": [
       "Index(['Unnamed: 0', 'Data Year', 'Region', 'State', 'Employee of Color',\n",
       "       'Randomized Key Job Code', 'Job Title',\n",
       "       'Randomized Key Success Profile', 'Manager EEID Hash', 'Manager Name',\n",
       "       'Randomized Key Company Code', 'Randomized Key Division Code',\n",
       "       'Division', 'Randomized Key Department Code', 'Department',\n",
       "       'Randomized Key Function Code', 'Function',\n",
       "       'Randomized Key Cost Center', 'Randomized Key Business Unit',\n",
       "       'Location Code', 'Randomized Key Location', 'Randomized Key Market',\n",
       "       'System ID Hash', 'EEID Hash', 'First Name', 'Last Name',\n",
       "       'Race/Ethnicity', 'Gender', 'Disabled', 'Veteran'],\n",
       "      dtype='object')"
      ]
     },
     "execution_count": 44,
     "metadata": {},
     "output_type": "execute_result"
    }
   ],
   "source": [
    "df3.columns"
   ]
  },
  {
   "cell_type": "code",
   "execution_count": 45,
   "metadata": {},
   "outputs": [
    {
     "name": "stderr",
     "output_type": "stream",
     "text": [
      "C:\\ProgramData\\Anaconda3\\lib\\site-packages\\pandas\\core\\ops\\array_ops.py:253: FutureWarning: elementwise comparison failed; returning scalar instead, but in the future will perform elementwise comparison\n",
      "  res_values = method(rvalues)\n"
     ]
    }
   ],
   "source": [
    "df3 = df3[df3['Data Year'] == '2017']"
   ]
  },
  {
   "cell_type": "code",
   "execution_count": 46,
   "metadata": {},
   "outputs": [
    {
     "data": {
      "text/plain": [
       "True"
      ]
     },
     "execution_count": 46,
     "metadata": {},
     "output_type": "execute_result"
    }
   ],
   "source": [
    "df3['EEID Hash'].is_unique"
   ]
  },
  {
   "cell_type": "code",
   "execution_count": 63,
   "metadata": {},
   "outputs": [],
   "source": [
    "rehires = df1['EEID Hash'][df1['exclude'] == 0].value_counts()"
   ]
  },
  {
   "cell_type": "code",
   "execution_count": 64,
   "metadata": {
    "scrolled": true
   },
   "outputs": [
    {
     "data": {
      "text/plain": [
       "a73aa9597b8ce4d12160b476ae991c6d62e6429afb02930d1212bb4ad403f526    2\n",
       "dce8d1dc3aaec6de56de28ee3db2d259ce1dafd1b457904c1c971434197255fd    2\n",
       "4c76943575befdb54e8e65ff4b5a3cb6a4079cba6cc6359fe7b8c0e5e6d01e0d    2\n",
       "08268c706bfab2d7d58e7a914bce1281ef79bf5d3bc0e1cdfecf79959d45fd9c    2\n",
       "ad660af6e4ffdc6440f666bd3ac874f6f6bc8d4b2e060866c04af90a60b64051    2\n",
       "                                                                   ..\n",
       "d74f6fb5c1cf8bbe31070ef7d8aa74726ec1f20981b27bc34dc6c71aececb60d    1\n",
       "963f89583a913b8ae725a9b1665fa7368a4e7e74acea7f4d554d9d4441449cc8    1\n",
       "df06160a2ee54f3f337efa7c41dce5576f8cf80414b23cc46667316a42bec31e    1\n",
       "fa165125efa53dc2a8604eb34a974e5755e3a923419cb9c4875c768207472790    1\n",
       "d4d4014878192c1b22ea6a95817ca24ec2fd1dbcb1d81e063f9f38ae437a57de    1\n",
       "Name: EEID Hash, Length: 2346, dtype: int64"
      ]
     },
     "execution_count": 64,
     "metadata": {},
     "output_type": "execute_result"
    }
   ],
   "source": [
    "df1['EEID Hash'][df1['exclude'] == 0].value_counts()"
   ]
  },
  {
   "cell_type": "code",
   "execution_count": 53,
   "metadata": {},
   "outputs": [],
   "source": [
    "excluded_sp = ['Success Profile 2']"
   ]
  },
  {
   "cell_type": "code",
   "execution_count": 56,
   "metadata": {},
   "outputs": [],
   "source": [
    "df1['exclude'] = np.where(df1['Randomized Key Success Profile'].isin(excluded_sp), 1, 0)"
   ]
  },
  {
   "cell_type": "code",
   "execution_count": 70,
   "metadata": {
    "scrolled": true
   },
   "outputs": [],
   "source": [
    "df1 = df1[df1['exclude']== 0]"
   ]
  },
  {
   "cell_type": "code",
   "execution_count": 16,
   "metadata": {},
   "outputs": [],
   "source": [
    "merge = df1.merge(df2, how = \"left\", on = 'EEID Hash', indicator = True)"
   ]
  },
  {
   "cell_type": "code",
   "execution_count": 18,
   "metadata": {
    "scrolled": true
   },
   "outputs": [
    {
     "data": {
      "text/plain": [
       "both          2030\n",
       "left_only     1347\n",
       "right_only       0\n",
       "Name: _merge, dtype: int64"
      ]
     },
     "execution_count": 18,
     "metadata": {},
     "output_type": "execute_result"
    }
   ],
   "source": [
    "merge['_merge'].value_counts()"
   ]
  },
  {
   "cell_type": "code",
   "execution_count": 20,
   "metadata": {},
   "outputs": [],
   "source": [
    "attrition = merge[merge['_merge'] == 'both']"
   ]
  },
  {
   "cell_type": "code",
   "execution_count": 22,
   "metadata": {
    "scrolled": true
   },
   "outputs": [
    {
     "data": {
      "text/plain": [
       "No     1354\n",
       "Yes     676\n",
       "Name: Employee of Color_x, dtype: int64"
      ]
     },
     "execution_count": 22,
     "metadata": {},
     "output_type": "execute_result"
    }
   ],
   "source": [
    "attrition['Employee of Color_x'].value_counts()"
   ]
  },
  {
   "cell_type": "code",
   "execution_count": 28,
   "metadata": {},
   "outputs": [
    {
     "data": {
      "text/plain": [
       "Index(['Unnamed: 0_x', 'Data Year_x', 'Effective Date_x', 'Change Reason',\n",
       "       'Region_x', 'State_x', 'Employee of Color_x', 'Req ID Hash',\n",
       "       'Randomized Key Job Code_x', 'Job Title_x',\n",
       "       'Randomized Key Success Profile_x', 'Manager EEID Hash_x',\n",
       "       'Manager Name_x', 'Randomized Key Company Code_x',\n",
       "       'Randomized Key Division Code_x', 'Division_x',\n",
       "       'Randomized Key Department Code_x', 'Department_x',\n",
       "       'Randomized Key Function Code_x', 'Function_x',\n",
       "       'Randomized Key Cost Center_x', 'Randomized Key Business Unit_x',\n",
       "       'Location Code_x', 'Randomized Key Location_x',\n",
       "       'Randomized Key Market_x', 'EEID Hash', 'First Name_x', 'Last Name_x',\n",
       "       'Race/Ethnicity_x', 'Gender_x', 'Disabled_x', 'Veteran_x',\n",
       "       'Unnamed: 0_y', 'Data Year_y', 'Effective Date_y',\n",
       "       'Voluntary/Involuntary', 'Termination Type', 'Region_y', 'State_y',\n",
       "       'Employee of Color_y', 'Randomized Key Job Code_y', 'Job Title_y',\n",
       "       'Randomized Key Success Profile_y', 'Manager EEID Hash_y',\n",
       "       'Manager Name_y', 'Term Reason', 'Randomized Key Company Code_y',\n",
       "       'Randomized Key Division Code_y', 'Division_y',\n",
       "       'Randomized Key Department Code_y', 'Department_y',\n",
       "       'Randomized Key Function Code_y', 'Function_y',\n",
       "       'Randomized Key Cost Center_y', 'Randomized Key Business Unit_y',\n",
       "       'Location Code_y', 'Randomized Key Location_y',\n",
       "       'Randomized Key Market_y', 'First Name_y', 'Last Name_y',\n",
       "       'Race/Ethnicity_y', 'Gender_y', 'Disabled_y', 'Veteran_y', '_merge',\n",
       "       'status'],\n",
       "      dtype='object')"
      ]
     },
     "execution_count": 28,
     "metadata": {},
     "output_type": "execute_result"
    }
   ],
   "source": [
    "attrition.columns"
   ]
  },
  {
   "cell_type": "code",
   "execution_count": 25,
   "metadata": {
    "scrolled": true
   },
   "outputs": [
    {
     "name": "stderr",
     "output_type": "stream",
     "text": [
      "__main__:1: SettingWithCopyWarning: \n",
      "A value is trying to be set on a copy of a slice from a DataFrame.\n",
      "Try using .loc[row_indexer,col_indexer] = value instead\n",
      "\n",
      "See the caveats in the documentation: https://pandas.pydata.org/pandas-docs/stable/user_guide/indexing.html#returning-a-view-versus-a-copy\n"
     ]
    }
   ],
   "source": [
    "attrition['status'] = np.where(attrition['_merge'] == 'both', 1, 0)"
   ]
  },
  {
   "cell_type": "code",
   "execution_count": 31,
   "metadata": {},
   "outputs": [
    {
     "data": {
      "text/plain": [
       "2       09/11/2017\n",
       "4       05/15/2017\n",
       "5       05/15/2017\n",
       "6       05/15/2017\n",
       "7       05/22/2017\n",
       "           ...    \n",
       "3372    05/20/2020\n",
       "3373    05/20/2020\n",
       "3374    01/13/2020\n",
       "3375    06/10/2020\n",
       "3376    06/10/2020\n",
       "Name: Effective Date_x, Length: 2030, dtype: object"
      ]
     },
     "execution_count": 31,
     "metadata": {},
     "output_type": "execute_result"
    }
   ],
   "source": [
    "attrition['Effective Date_x']"
   ]
  },
  {
   "cell_type": "code",
   "execution_count": 26,
   "metadata": {},
   "outputs": [
    {
     "data": {
      "text/plain": [
       "1    2030\n",
       "Name: status, dtype: int64"
      ]
     },
     "execution_count": 26,
     "metadata": {},
     "output_type": "execute_result"
    }
   ],
   "source": [
    "attrition['status'].value_counts()"
   ]
  },
  {
   "cell_type": "code",
   "execution_count": 35,
   "metadata": {},
   "outputs": [
    {
     "name": "stderr",
     "output_type": "stream",
     "text": [
      "__main__:1: SettingWithCopyWarning: \n",
      "A value is trying to be set on a copy of a slice from a DataFrame.\n",
      "Try using .loc[row_indexer,col_indexer] = value instead\n",
      "\n",
      "See the caveats in the documentation: https://pandas.pydata.org/pandas-docs/stable/user_guide/indexing.html#returning-a-view-versus-a-copy\n",
      "__main__:2: SettingWithCopyWarning: \n",
      "A value is trying to be set on a copy of a slice from a DataFrame.\n",
      "Try using .loc[row_indexer,col_indexer] = value instead\n",
      "\n",
      "See the caveats in the documentation: https://pandas.pydata.org/pandas-docs/stable/user_guide/indexing.html#returning-a-view-versus-a-copy\n",
      "__main__:5: SettingWithCopyWarning: \n",
      "A value is trying to be set on a copy of a slice from a DataFrame.\n",
      "Try using .loc[row_indexer,col_indexer] = value instead\n",
      "\n",
      "See the caveats in the documentation: https://pandas.pydata.org/pandas-docs/stable/user_guide/indexing.html#returning-a-view-versus-a-copy\n"
     ]
    }
   ],
   "source": [
    "attrition['Effective Date_x'] = pd.to_datetime(attrition['Effective Date_x'])\n",
    "attrition['Effective Date_y'] = pd.to_datetime(attrition['Effective Date_y'])\n",
    "attrition.dtypes\n",
    "attrition['Effective Date_x'] - attrition['Effective Date_y']\n",
    "attrition['time_delta'] = attrition['Effective Date_x'] - attrition['Effective Date_y']\n",
    "\n"
   ]
  },
  {
   "cell_type": "code",
   "execution_count": 37,
   "metadata": {},
   "outputs": [],
   "source": [
    "attrition.to_csv(r'G:\\Shared\\Data Governance\\Data Architecture\\USERS\\SM\\Working\\attrition.csv', index = False)"
   ]
  },
  {
   "cell_type": "code",
   "execution_count": null,
   "metadata": {},
   "outputs": [],
   "source": []
  }
 ],
 "metadata": {
  "kernelspec": {
   "display_name": "Python 3 (Spyder)",
   "language": "python3",
   "name": "python3"
  },
  "language_info": {
   "codemirror_mode": {
    "name": "ipython",
    "version": 3
   },
   "file_extension": ".py",
   "mimetype": "text/x-python",
   "name": "python",
   "nbconvert_exporter": "python",
   "pygments_lexer": "ipython3",
   "version": "3.7.4"
  }
 },
 "nbformat": 4,
 "nbformat_minor": 2
}
