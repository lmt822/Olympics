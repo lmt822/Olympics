{
  "nbformat": 4,
  "nbformat_minor": 0,
  "metadata": {
    "colab": {
      "name": "Athlete_Events.ipynb",
      "provenance": [],
      "collapsed_sections": [],
      "toc_visible": true,
      "include_colab_link": true
    },
    "kernelspec": {
      "name": "python3",
      "display_name": "Python 3"
    }
  },
  "cells": [
    {
      "cell_type": "markdown",
      "metadata": {
        "id": "view-in-github",
        "colab_type": "text"
      },
      "source": [
        "<a href=\"https://colab.research.google.com/github/lmt822/Olympics/blob/main/Athlete_Events.ipynb\" target=\"_parent\"><img src=\"https://colab.research.google.com/assets/colab-badge.svg\" alt=\"Open In Colab\"/></a>"
      ]
    },
    {
      "cell_type": "code",
      "metadata": {
        "colab": {
          "base_uri": "https://localhost:8080/"
        },
        "id": "X8W42yZyRw6y",
        "outputId": "17abc343-d043-4e3d-e82f-3e9d04893656"
      },
      "source": [
        "from google.colab import drive\n",
        "drive.mount('/content/drive')\n",
        "\n",
        "import pandas as pd"
      ],
      "execution_count": null,
      "outputs": [
        {
          "output_type": "stream",
          "text": [
            "Mounted at /content/drive\n"
          ],
          "name": "stdout"
        }
      ]
    },
    {
      "cell_type": "code",
      "metadata": {
        "colab": {
          "base_uri": "https://localhost:8080/"
        },
        "id": "uKNoK9-jT8bf",
        "outputId": "c8fbd89c-aec6-4161-c27c-1826920537cf"
      },
      "source": [
        "!pip install pycountry\n",
        "import pycountry"
      ],
      "execution_count": null,
      "outputs": [
        {
          "output_type": "stream",
          "text": [
            "Requirement already satisfied: pycountry in /usr/local/lib/python3.7/dist-packages (20.7.3)\n"
          ],
          "name": "stdout"
        }
      ]
    },
    {
      "cell_type": "code",
      "metadata": {
        "colab": {
          "base_uri": "https://localhost:8080/",
          "height": 623
        },
        "id": "TjmLvreMSJKS",
        "outputId": "738dda79-f34a-43a3-bf05-afe37e0b67bf"
      },
      "source": [
        "location = '/content/drive/My Drive/550 Project/Data'\n",
        "athlete_events = pd.read_csv('{}/athlete_events.csv'.format(location))\n",
        "athlete_events"
      ],
      "execution_count": null,
      "outputs": [
        {
          "output_type": "execute_result",
          "data": {
            "text/html": [
              "<div>\n",
              "<style scoped>\n",
              "    .dataframe tbody tr th:only-of-type {\n",
              "        vertical-align: middle;\n",
              "    }\n",
              "\n",
              "    .dataframe tbody tr th {\n",
              "        vertical-align: top;\n",
              "    }\n",
              "\n",
              "    .dataframe thead th {\n",
              "        text-align: right;\n",
              "    }\n",
              "</style>\n",
              "<table border=\"1\" class=\"dataframe\">\n",
              "  <thead>\n",
              "    <tr style=\"text-align: right;\">\n",
              "      <th></th>\n",
              "      <th>ID</th>\n",
              "      <th>Name</th>\n",
              "      <th>Sex</th>\n",
              "      <th>Age</th>\n",
              "      <th>Height</th>\n",
              "      <th>Weight</th>\n",
              "      <th>Team</th>\n",
              "      <th>NOC</th>\n",
              "      <th>Games</th>\n",
              "      <th>Year</th>\n",
              "      <th>Season</th>\n",
              "      <th>City</th>\n",
              "      <th>Sport</th>\n",
              "      <th>Event</th>\n",
              "      <th>Medal</th>\n",
              "    </tr>\n",
              "  </thead>\n",
              "  <tbody>\n",
              "    <tr>\n",
              "      <th>0</th>\n",
              "      <td>1</td>\n",
              "      <td>A Dijiang</td>\n",
              "      <td>M</td>\n",
              "      <td>24.0</td>\n",
              "      <td>180.0</td>\n",
              "      <td>80.0</td>\n",
              "      <td>China</td>\n",
              "      <td>CHN</td>\n",
              "      <td>1992 Summer</td>\n",
              "      <td>1992</td>\n",
              "      <td>Summer</td>\n",
              "      <td>Barcelona</td>\n",
              "      <td>Basketball</td>\n",
              "      <td>Basketball Men's Basketball</td>\n",
              "      <td>NaN</td>\n",
              "    </tr>\n",
              "    <tr>\n",
              "      <th>1</th>\n",
              "      <td>2</td>\n",
              "      <td>A Lamusi</td>\n",
              "      <td>M</td>\n",
              "      <td>23.0</td>\n",
              "      <td>170.0</td>\n",
              "      <td>60.0</td>\n",
              "      <td>China</td>\n",
              "      <td>CHN</td>\n",
              "      <td>2012 Summer</td>\n",
              "      <td>2012</td>\n",
              "      <td>Summer</td>\n",
              "      <td>London</td>\n",
              "      <td>Judo</td>\n",
              "      <td>Judo Men's Extra-Lightweight</td>\n",
              "      <td>NaN</td>\n",
              "    </tr>\n",
              "    <tr>\n",
              "      <th>2</th>\n",
              "      <td>3</td>\n",
              "      <td>Gunnar Nielsen Aaby</td>\n",
              "      <td>M</td>\n",
              "      <td>24.0</td>\n",
              "      <td>NaN</td>\n",
              "      <td>NaN</td>\n",
              "      <td>Denmark</td>\n",
              "      <td>DEN</td>\n",
              "      <td>1920 Summer</td>\n",
              "      <td>1920</td>\n",
              "      <td>Summer</td>\n",
              "      <td>Antwerpen</td>\n",
              "      <td>Football</td>\n",
              "      <td>Football Men's Football</td>\n",
              "      <td>NaN</td>\n",
              "    </tr>\n",
              "    <tr>\n",
              "      <th>3</th>\n",
              "      <td>4</td>\n",
              "      <td>Edgar Lindenau Aabye</td>\n",
              "      <td>M</td>\n",
              "      <td>34.0</td>\n",
              "      <td>NaN</td>\n",
              "      <td>NaN</td>\n",
              "      <td>Denmark/Sweden</td>\n",
              "      <td>DEN</td>\n",
              "      <td>1900 Summer</td>\n",
              "      <td>1900</td>\n",
              "      <td>Summer</td>\n",
              "      <td>Paris</td>\n",
              "      <td>Tug-Of-War</td>\n",
              "      <td>Tug-Of-War Men's Tug-Of-War</td>\n",
              "      <td>Gold</td>\n",
              "    </tr>\n",
              "    <tr>\n",
              "      <th>4</th>\n",
              "      <td>5</td>\n",
              "      <td>Christine Jacoba Aaftink</td>\n",
              "      <td>F</td>\n",
              "      <td>21.0</td>\n",
              "      <td>185.0</td>\n",
              "      <td>82.0</td>\n",
              "      <td>Netherlands</td>\n",
              "      <td>NED</td>\n",
              "      <td>1988 Winter</td>\n",
              "      <td>1988</td>\n",
              "      <td>Winter</td>\n",
              "      <td>Calgary</td>\n",
              "      <td>Speed Skating</td>\n",
              "      <td>Speed Skating Women's 500 metres</td>\n",
              "      <td>NaN</td>\n",
              "    </tr>\n",
              "    <tr>\n",
              "      <th>...</th>\n",
              "      <td>...</td>\n",
              "      <td>...</td>\n",
              "      <td>...</td>\n",
              "      <td>...</td>\n",
              "      <td>...</td>\n",
              "      <td>...</td>\n",
              "      <td>...</td>\n",
              "      <td>...</td>\n",
              "      <td>...</td>\n",
              "      <td>...</td>\n",
              "      <td>...</td>\n",
              "      <td>...</td>\n",
              "      <td>...</td>\n",
              "      <td>...</td>\n",
              "      <td>...</td>\n",
              "    </tr>\n",
              "    <tr>\n",
              "      <th>271111</th>\n",
              "      <td>135569</td>\n",
              "      <td>Andrzej ya</td>\n",
              "      <td>M</td>\n",
              "      <td>29.0</td>\n",
              "      <td>179.0</td>\n",
              "      <td>89.0</td>\n",
              "      <td>Poland-1</td>\n",
              "      <td>POL</td>\n",
              "      <td>1976 Winter</td>\n",
              "      <td>1976</td>\n",
              "      <td>Winter</td>\n",
              "      <td>Innsbruck</td>\n",
              "      <td>Luge</td>\n",
              "      <td>Luge Mixed (Men)'s Doubles</td>\n",
              "      <td>NaN</td>\n",
              "    </tr>\n",
              "    <tr>\n",
              "      <th>271112</th>\n",
              "      <td>135570</td>\n",
              "      <td>Piotr ya</td>\n",
              "      <td>M</td>\n",
              "      <td>27.0</td>\n",
              "      <td>176.0</td>\n",
              "      <td>59.0</td>\n",
              "      <td>Poland</td>\n",
              "      <td>POL</td>\n",
              "      <td>2014 Winter</td>\n",
              "      <td>2014</td>\n",
              "      <td>Winter</td>\n",
              "      <td>Sochi</td>\n",
              "      <td>Ski Jumping</td>\n",
              "      <td>Ski Jumping Men's Large Hill, Individual</td>\n",
              "      <td>NaN</td>\n",
              "    </tr>\n",
              "    <tr>\n",
              "      <th>271113</th>\n",
              "      <td>135570</td>\n",
              "      <td>Piotr ya</td>\n",
              "      <td>M</td>\n",
              "      <td>27.0</td>\n",
              "      <td>176.0</td>\n",
              "      <td>59.0</td>\n",
              "      <td>Poland</td>\n",
              "      <td>POL</td>\n",
              "      <td>2014 Winter</td>\n",
              "      <td>2014</td>\n",
              "      <td>Winter</td>\n",
              "      <td>Sochi</td>\n",
              "      <td>Ski Jumping</td>\n",
              "      <td>Ski Jumping Men's Large Hill, Team</td>\n",
              "      <td>NaN</td>\n",
              "    </tr>\n",
              "    <tr>\n",
              "      <th>271114</th>\n",
              "      <td>135571</td>\n",
              "      <td>Tomasz Ireneusz ya</td>\n",
              "      <td>M</td>\n",
              "      <td>30.0</td>\n",
              "      <td>185.0</td>\n",
              "      <td>96.0</td>\n",
              "      <td>Poland</td>\n",
              "      <td>POL</td>\n",
              "      <td>1998 Winter</td>\n",
              "      <td>1998</td>\n",
              "      <td>Winter</td>\n",
              "      <td>Nagano</td>\n",
              "      <td>Bobsleigh</td>\n",
              "      <td>Bobsleigh Men's Four</td>\n",
              "      <td>NaN</td>\n",
              "    </tr>\n",
              "    <tr>\n",
              "      <th>271115</th>\n",
              "      <td>135571</td>\n",
              "      <td>Tomasz Ireneusz ya</td>\n",
              "      <td>M</td>\n",
              "      <td>34.0</td>\n",
              "      <td>185.0</td>\n",
              "      <td>96.0</td>\n",
              "      <td>Poland</td>\n",
              "      <td>POL</td>\n",
              "      <td>2002 Winter</td>\n",
              "      <td>2002</td>\n",
              "      <td>Winter</td>\n",
              "      <td>Salt Lake City</td>\n",
              "      <td>Bobsleigh</td>\n",
              "      <td>Bobsleigh Men's Four</td>\n",
              "      <td>NaN</td>\n",
              "    </tr>\n",
              "  </tbody>\n",
              "</table>\n",
              "<p>271116 rows × 15 columns</p>\n",
              "</div>"
            ],
            "text/plain": [
              "            ID  ... Medal\n",
              "0            1  ...   NaN\n",
              "1            2  ...   NaN\n",
              "2            3  ...   NaN\n",
              "3            4  ...  Gold\n",
              "4            5  ...   NaN\n",
              "...        ...  ...   ...\n",
              "271111  135569  ...   NaN\n",
              "271112  135570  ...   NaN\n",
              "271113  135570  ...   NaN\n",
              "271114  135571  ...   NaN\n",
              "271115  135571  ...   NaN\n",
              "\n",
              "[271116 rows x 15 columns]"
            ]
          },
          "metadata": {
            "tags": []
          },
          "execution_count": 3
        }
      ]
    },
    {
      "cell_type": "code",
      "metadata": {
        "colab": {
          "base_uri": "https://localhost:8080/"
        },
        "id": "5IHJyLKMFGFu",
        "outputId": "914ef69f-d167-4b38-ab1a-73ebf0d90cb7"
      },
      "source": [
        "athlete_events = athlete_events.drop_duplicates()\n",
        "athlete_events.shape"
      ],
      "execution_count": null,
      "outputs": [
        {
          "output_type": "execute_result",
          "data": {
            "text/plain": [
              "(269731, 15)"
            ]
          },
          "metadata": {
            "tags": []
          },
          "execution_count": 4
        }
      ]
    },
    {
      "cell_type": "markdown",
      "metadata": {
        "id": "ovcWAdV5F_Np"
      },
      "source": [
        "##### **Exploratory Data Analysis**"
      ]
    },
    {
      "cell_type": "code",
      "metadata": {
        "id": "cLOK7ypdSbX7",
        "colab": {
          "base_uri": "https://localhost:8080/",
          "height": 297
        },
        "outputId": "b3601f2c-8480-44e2-ec49-7978424557ef"
      },
      "source": [
        "athlete_events.describe()"
      ],
      "execution_count": null,
      "outputs": [
        {
          "output_type": "execute_result",
          "data": {
            "text/html": [
              "<div>\n",
              "<style scoped>\n",
              "    .dataframe tbody tr th:only-of-type {\n",
              "        vertical-align: middle;\n",
              "    }\n",
              "\n",
              "    .dataframe tbody tr th {\n",
              "        vertical-align: top;\n",
              "    }\n",
              "\n",
              "    .dataframe thead th {\n",
              "        text-align: right;\n",
              "    }\n",
              "</style>\n",
              "<table border=\"1\" class=\"dataframe\">\n",
              "  <thead>\n",
              "    <tr style=\"text-align: right;\">\n",
              "      <th></th>\n",
              "      <th>ID</th>\n",
              "      <th>Age</th>\n",
              "      <th>Height</th>\n",
              "      <th>Weight</th>\n",
              "      <th>Year</th>\n",
              "    </tr>\n",
              "  </thead>\n",
              "  <tbody>\n",
              "    <tr>\n",
              "      <th>count</th>\n",
              "      <td>269731.000000</td>\n",
              "      <td>260416.000000</td>\n",
              "      <td>210917.000000</td>\n",
              "      <td>208204.000000</td>\n",
              "      <td>269731.000000</td>\n",
              "    </tr>\n",
              "    <tr>\n",
              "      <th>mean</th>\n",
              "      <td>68264.949591</td>\n",
              "      <td>25.454776</td>\n",
              "      <td>175.338953</td>\n",
              "      <td>70.701778</td>\n",
              "      <td>1978.623073</td>\n",
              "    </tr>\n",
              "    <tr>\n",
              "      <th>std</th>\n",
              "      <td>39026.253843</td>\n",
              "      <td>6.163869</td>\n",
              "      <td>10.518507</td>\n",
              "      <td>14.349027</td>\n",
              "      <td>29.752055</td>\n",
              "    </tr>\n",
              "    <tr>\n",
              "      <th>min</th>\n",
              "      <td>1.000000</td>\n",
              "      <td>10.000000</td>\n",
              "      <td>127.000000</td>\n",
              "      <td>25.000000</td>\n",
              "      <td>1896.000000</td>\n",
              "    </tr>\n",
              "    <tr>\n",
              "      <th>25%</th>\n",
              "      <td>34655.500000</td>\n",
              "      <td>21.000000</td>\n",
              "      <td>168.000000</td>\n",
              "      <td>60.000000</td>\n",
              "      <td>1960.000000</td>\n",
              "    </tr>\n",
              "    <tr>\n",
              "      <th>50%</th>\n",
              "      <td>68233.000000</td>\n",
              "      <td>24.000000</td>\n",
              "      <td>175.000000</td>\n",
              "      <td>70.000000</td>\n",
              "      <td>1988.000000</td>\n",
              "    </tr>\n",
              "    <tr>\n",
              "      <th>75%</th>\n",
              "      <td>102111.000000</td>\n",
              "      <td>28.000000</td>\n",
              "      <td>183.000000</td>\n",
              "      <td>79.000000</td>\n",
              "      <td>2002.000000</td>\n",
              "    </tr>\n",
              "    <tr>\n",
              "      <th>max</th>\n",
              "      <td>135571.000000</td>\n",
              "      <td>97.000000</td>\n",
              "      <td>226.000000</td>\n",
              "      <td>214.000000</td>\n",
              "      <td>2016.000000</td>\n",
              "    </tr>\n",
              "  </tbody>\n",
              "</table>\n",
              "</div>"
            ],
            "text/plain": [
              "                  ID            Age  ...         Weight           Year\n",
              "count  269731.000000  260416.000000  ...  208204.000000  269731.000000\n",
              "mean    68264.949591      25.454776  ...      70.701778    1978.623073\n",
              "std     39026.253843       6.163869  ...      14.349027      29.752055\n",
              "min         1.000000      10.000000  ...      25.000000    1896.000000\n",
              "25%     34655.500000      21.000000  ...      60.000000    1960.000000\n",
              "50%     68233.000000      24.000000  ...      70.000000    1988.000000\n",
              "75%    102111.000000      28.000000  ...      79.000000    2002.000000\n",
              "max    135571.000000      97.000000  ...     214.000000    2016.000000\n",
              "\n",
              "[8 rows x 5 columns]"
            ]
          },
          "metadata": {
            "tags": []
          },
          "execution_count": 5
        }
      ]
    },
    {
      "cell_type": "code",
      "metadata": {
        "colab": {
          "base_uri": "https://localhost:8080/"
        },
        "id": "xO_Qf0xZgh_B",
        "outputId": "181ab5ea-f1a3-4a66-cb93-5c484b39885c"
      },
      "source": [
        "male = athlete_events[athlete_events['Sex'] =='M']\n",
        "len(male)"
      ],
      "execution_count": null,
      "outputs": [
        {
          "output_type": "execute_result",
          "data": {
            "text/plain": [
              "195353"
            ]
          },
          "metadata": {
            "tags": []
          },
          "execution_count": 6
        }
      ]
    },
    {
      "cell_type": "code",
      "metadata": {
        "colab": {
          "base_uri": "https://localhost:8080/"
        },
        "id": "9RqQfKmtl5aC",
        "outputId": "82979575-3223-48cc-d078-35ab3223fe44"
      },
      "source": [
        "female = athlete_events[athlete_events['Sex'] =='F']\n",
        "len(female)"
      ],
      "execution_count": null,
      "outputs": [
        {
          "output_type": "execute_result",
          "data": {
            "text/plain": [
              "74378"
            ]
          },
          "metadata": {
            "tags": []
          },
          "execution_count": 7
        }
      ]
    },
    {
      "cell_type": "code",
      "metadata": {
        "colab": {
          "base_uri": "https://localhost:8080/"
        },
        "id": "pr8Acj69l7jJ",
        "outputId": "84c50508-712a-4981-9a6f-cefab5e9dc3b"
      },
      "source": [
        "athlete_events.Games.nunique()"
      ],
      "execution_count": null,
      "outputs": [
        {
          "output_type": "execute_result",
          "data": {
            "text/plain": [
              "51"
            ]
          },
          "metadata": {
            "tags": []
          },
          "execution_count": 8
        }
      ]
    },
    {
      "cell_type": "code",
      "metadata": {
        "colab": {
          "base_uri": "https://localhost:8080/"
        },
        "id": "z2Ob5doOmyEk",
        "outputId": "dbbf2d40-c465-4b06-a6fe-d9307a491dee"
      },
      "source": [
        "athlete_events.Year.nunique()"
      ],
      "execution_count": null,
      "outputs": [
        {
          "output_type": "execute_result",
          "data": {
            "text/plain": [
              "35"
            ]
          },
          "metadata": {
            "tags": []
          },
          "execution_count": 9
        }
      ]
    },
    {
      "cell_type": "code",
      "metadata": {
        "colab": {
          "base_uri": "https://localhost:8080/"
        },
        "id": "3BDcWJhmm1Py",
        "outputId": "f364c0ab-23dd-4632-b994-04a7da67fd46"
      },
      "source": [
        "athlete_events.Sport.nunique()"
      ],
      "execution_count": null,
      "outputs": [
        {
          "output_type": "execute_result",
          "data": {
            "text/plain": [
              "66"
            ]
          },
          "metadata": {
            "tags": []
          },
          "execution_count": 10
        }
      ]
    },
    {
      "cell_type": "code",
      "metadata": {
        "colab": {
          "base_uri": "https://localhost:8080/"
        },
        "id": "jvIlRTgam_r_",
        "outputId": "dd027430-da3c-4fb0-b346-b77d08e5122a"
      },
      "source": [
        "athlete_events.Event.nunique()"
      ],
      "execution_count": null,
      "outputs": [
        {
          "output_type": "execute_result",
          "data": {
            "text/plain": [
              "765"
            ]
          },
          "metadata": {
            "tags": []
          },
          "execution_count": 11
        }
      ]
    },
    {
      "cell_type": "code",
      "metadata": {
        "colab": {
          "base_uri": "https://localhost:8080/"
        },
        "id": "glJ-5Nk9nMoC",
        "outputId": "89388780-60ce-4f34-b690-d8c5b9bf0d7c"
      },
      "source": [
        "gold = athlete_events[athlete_events['Medal'] =='Gold']\n",
        "len(gold)"
      ],
      "execution_count": null,
      "outputs": [
        {
          "output_type": "execute_result",
          "data": {
            "text/plain": [
              "13369"
            ]
          },
          "metadata": {
            "tags": []
          },
          "execution_count": 12
        }
      ]
    },
    {
      "cell_type": "code",
      "metadata": {
        "colab": {
          "base_uri": "https://localhost:8080/"
        },
        "id": "sNkxVOSnnbFi",
        "outputId": "10464122-b90a-4534-eb82-d1ee97e3a697"
      },
      "source": [
        "silver = athlete_events[athlete_events['Medal'] =='Silver']\n",
        "len(silver)"
      ],
      "execution_count": null,
      "outputs": [
        {
          "output_type": "execute_result",
          "data": {
            "text/plain": [
              "13108"
            ]
          },
          "metadata": {
            "tags": []
          },
          "execution_count": 13
        }
      ]
    },
    {
      "cell_type": "code",
      "metadata": {
        "colab": {
          "base_uri": "https://localhost:8080/"
        },
        "id": "Sm4KdxZLndBL",
        "outputId": "bbd92ff9-bacf-410e-f25f-f9908ef6cc10"
      },
      "source": [
        "bronze = athlete_events[athlete_events['Medal'] =='Bronze']\n",
        "len(bronze)"
      ],
      "execution_count": null,
      "outputs": [
        {
          "output_type": "execute_result",
          "data": {
            "text/plain": [
              "13295"
            ]
          },
          "metadata": {
            "tags": []
          },
          "execution_count": 14
        }
      ]
    },
    {
      "cell_type": "markdown",
      "metadata": {
        "id": "c4NLaEzRGNiJ"
      },
      "source": [
        "##### **Data Cleaning**"
      ]
    },
    {
      "cell_type": "code",
      "metadata": {
        "id": "Z2Z70EqKnitt",
        "colab": {
          "base_uri": "https://localhost:8080/",
          "height": 623
        },
        "outputId": "d90f8f0b-15de-400d-eb1c-c27c5c3570cc"
      },
      "source": [
        "athlete_events"
      ],
      "execution_count": null,
      "outputs": [
        {
          "output_type": "execute_result",
          "data": {
            "text/html": [
              "<div>\n",
              "<style scoped>\n",
              "    .dataframe tbody tr th:only-of-type {\n",
              "        vertical-align: middle;\n",
              "    }\n",
              "\n",
              "    .dataframe tbody tr th {\n",
              "        vertical-align: top;\n",
              "    }\n",
              "\n",
              "    .dataframe thead th {\n",
              "        text-align: right;\n",
              "    }\n",
              "</style>\n",
              "<table border=\"1\" class=\"dataframe\">\n",
              "  <thead>\n",
              "    <tr style=\"text-align: right;\">\n",
              "      <th></th>\n",
              "      <th>ID</th>\n",
              "      <th>Name</th>\n",
              "      <th>Sex</th>\n",
              "      <th>Age</th>\n",
              "      <th>Height</th>\n",
              "      <th>Weight</th>\n",
              "      <th>Team</th>\n",
              "      <th>NOC</th>\n",
              "      <th>Games</th>\n",
              "      <th>Year</th>\n",
              "      <th>Season</th>\n",
              "      <th>City</th>\n",
              "      <th>Sport</th>\n",
              "      <th>Event</th>\n",
              "      <th>Medal</th>\n",
              "    </tr>\n",
              "  </thead>\n",
              "  <tbody>\n",
              "    <tr>\n",
              "      <th>0</th>\n",
              "      <td>1</td>\n",
              "      <td>A Dijiang</td>\n",
              "      <td>M</td>\n",
              "      <td>24.0</td>\n",
              "      <td>180.0</td>\n",
              "      <td>80.0</td>\n",
              "      <td>China</td>\n",
              "      <td>CHN</td>\n",
              "      <td>1992 Summer</td>\n",
              "      <td>1992</td>\n",
              "      <td>Summer</td>\n",
              "      <td>Barcelona</td>\n",
              "      <td>Basketball</td>\n",
              "      <td>Basketball Men's Basketball</td>\n",
              "      <td>NaN</td>\n",
              "    </tr>\n",
              "    <tr>\n",
              "      <th>1</th>\n",
              "      <td>2</td>\n",
              "      <td>A Lamusi</td>\n",
              "      <td>M</td>\n",
              "      <td>23.0</td>\n",
              "      <td>170.0</td>\n",
              "      <td>60.0</td>\n",
              "      <td>China</td>\n",
              "      <td>CHN</td>\n",
              "      <td>2012 Summer</td>\n",
              "      <td>2012</td>\n",
              "      <td>Summer</td>\n",
              "      <td>London</td>\n",
              "      <td>Judo</td>\n",
              "      <td>Judo Men's Extra-Lightweight</td>\n",
              "      <td>NaN</td>\n",
              "    </tr>\n",
              "    <tr>\n",
              "      <th>2</th>\n",
              "      <td>3</td>\n",
              "      <td>Gunnar Nielsen Aaby</td>\n",
              "      <td>M</td>\n",
              "      <td>24.0</td>\n",
              "      <td>NaN</td>\n",
              "      <td>NaN</td>\n",
              "      <td>Denmark</td>\n",
              "      <td>DEN</td>\n",
              "      <td>1920 Summer</td>\n",
              "      <td>1920</td>\n",
              "      <td>Summer</td>\n",
              "      <td>Antwerpen</td>\n",
              "      <td>Football</td>\n",
              "      <td>Football Men's Football</td>\n",
              "      <td>NaN</td>\n",
              "    </tr>\n",
              "    <tr>\n",
              "      <th>3</th>\n",
              "      <td>4</td>\n",
              "      <td>Edgar Lindenau Aabye</td>\n",
              "      <td>M</td>\n",
              "      <td>34.0</td>\n",
              "      <td>NaN</td>\n",
              "      <td>NaN</td>\n",
              "      <td>Denmark/Sweden</td>\n",
              "      <td>DEN</td>\n",
              "      <td>1900 Summer</td>\n",
              "      <td>1900</td>\n",
              "      <td>Summer</td>\n",
              "      <td>Paris</td>\n",
              "      <td>Tug-Of-War</td>\n",
              "      <td>Tug-Of-War Men's Tug-Of-War</td>\n",
              "      <td>Gold</td>\n",
              "    </tr>\n",
              "    <tr>\n",
              "      <th>4</th>\n",
              "      <td>5</td>\n",
              "      <td>Christine Jacoba Aaftink</td>\n",
              "      <td>F</td>\n",
              "      <td>21.0</td>\n",
              "      <td>185.0</td>\n",
              "      <td>82.0</td>\n",
              "      <td>Netherlands</td>\n",
              "      <td>NED</td>\n",
              "      <td>1988 Winter</td>\n",
              "      <td>1988</td>\n",
              "      <td>Winter</td>\n",
              "      <td>Calgary</td>\n",
              "      <td>Speed Skating</td>\n",
              "      <td>Speed Skating Women's 500 metres</td>\n",
              "      <td>NaN</td>\n",
              "    </tr>\n",
              "    <tr>\n",
              "      <th>...</th>\n",
              "      <td>...</td>\n",
              "      <td>...</td>\n",
              "      <td>...</td>\n",
              "      <td>...</td>\n",
              "      <td>...</td>\n",
              "      <td>...</td>\n",
              "      <td>...</td>\n",
              "      <td>...</td>\n",
              "      <td>...</td>\n",
              "      <td>...</td>\n",
              "      <td>...</td>\n",
              "      <td>...</td>\n",
              "      <td>...</td>\n",
              "      <td>...</td>\n",
              "      <td>...</td>\n",
              "    </tr>\n",
              "    <tr>\n",
              "      <th>271111</th>\n",
              "      <td>135569</td>\n",
              "      <td>Andrzej ya</td>\n",
              "      <td>M</td>\n",
              "      <td>29.0</td>\n",
              "      <td>179.0</td>\n",
              "      <td>89.0</td>\n",
              "      <td>Poland-1</td>\n",
              "      <td>POL</td>\n",
              "      <td>1976 Winter</td>\n",
              "      <td>1976</td>\n",
              "      <td>Winter</td>\n",
              "      <td>Innsbruck</td>\n",
              "      <td>Luge</td>\n",
              "      <td>Luge Mixed (Men)'s Doubles</td>\n",
              "      <td>NaN</td>\n",
              "    </tr>\n",
              "    <tr>\n",
              "      <th>271112</th>\n",
              "      <td>135570</td>\n",
              "      <td>Piotr ya</td>\n",
              "      <td>M</td>\n",
              "      <td>27.0</td>\n",
              "      <td>176.0</td>\n",
              "      <td>59.0</td>\n",
              "      <td>Poland</td>\n",
              "      <td>POL</td>\n",
              "      <td>2014 Winter</td>\n",
              "      <td>2014</td>\n",
              "      <td>Winter</td>\n",
              "      <td>Sochi</td>\n",
              "      <td>Ski Jumping</td>\n",
              "      <td>Ski Jumping Men's Large Hill, Individual</td>\n",
              "      <td>NaN</td>\n",
              "    </tr>\n",
              "    <tr>\n",
              "      <th>271113</th>\n",
              "      <td>135570</td>\n",
              "      <td>Piotr ya</td>\n",
              "      <td>M</td>\n",
              "      <td>27.0</td>\n",
              "      <td>176.0</td>\n",
              "      <td>59.0</td>\n",
              "      <td>Poland</td>\n",
              "      <td>POL</td>\n",
              "      <td>2014 Winter</td>\n",
              "      <td>2014</td>\n",
              "      <td>Winter</td>\n",
              "      <td>Sochi</td>\n",
              "      <td>Ski Jumping</td>\n",
              "      <td>Ski Jumping Men's Large Hill, Team</td>\n",
              "      <td>NaN</td>\n",
              "    </tr>\n",
              "    <tr>\n",
              "      <th>271114</th>\n",
              "      <td>135571</td>\n",
              "      <td>Tomasz Ireneusz ya</td>\n",
              "      <td>M</td>\n",
              "      <td>30.0</td>\n",
              "      <td>185.0</td>\n",
              "      <td>96.0</td>\n",
              "      <td>Poland</td>\n",
              "      <td>POL</td>\n",
              "      <td>1998 Winter</td>\n",
              "      <td>1998</td>\n",
              "      <td>Winter</td>\n",
              "      <td>Nagano</td>\n",
              "      <td>Bobsleigh</td>\n",
              "      <td>Bobsleigh Men's Four</td>\n",
              "      <td>NaN</td>\n",
              "    </tr>\n",
              "    <tr>\n",
              "      <th>271115</th>\n",
              "      <td>135571</td>\n",
              "      <td>Tomasz Ireneusz ya</td>\n",
              "      <td>M</td>\n",
              "      <td>34.0</td>\n",
              "      <td>185.0</td>\n",
              "      <td>96.0</td>\n",
              "      <td>Poland</td>\n",
              "      <td>POL</td>\n",
              "      <td>2002 Winter</td>\n",
              "      <td>2002</td>\n",
              "      <td>Winter</td>\n",
              "      <td>Salt Lake City</td>\n",
              "      <td>Bobsleigh</td>\n",
              "      <td>Bobsleigh Men's Four</td>\n",
              "      <td>NaN</td>\n",
              "    </tr>\n",
              "  </tbody>\n",
              "</table>\n",
              "<p>269731 rows × 15 columns</p>\n",
              "</div>"
            ],
            "text/plain": [
              "            ID  ... Medal\n",
              "0            1  ...   NaN\n",
              "1            2  ...   NaN\n",
              "2            3  ...   NaN\n",
              "3            4  ...  Gold\n",
              "4            5  ...   NaN\n",
              "...        ...  ...   ...\n",
              "271111  135569  ...   NaN\n",
              "271112  135570  ...   NaN\n",
              "271113  135570  ...   NaN\n",
              "271114  135571  ...   NaN\n",
              "271115  135571  ...   NaN\n",
              "\n",
              "[269731 rows x 15 columns]"
            ]
          },
          "metadata": {
            "tags": []
          },
          "execution_count": 15
        }
      ]
    },
    {
      "cell_type": "code",
      "metadata": {
        "colab": {
          "base_uri": "https://localhost:8080/"
        },
        "id": "52ete5QRL_XB",
        "outputId": "e53a56a6-60b2-462a-b538-cf609b0b9b1e"
      },
      "source": [
        "athlete_events = athlete_events[athlete_events['Age'].notna()]\n",
        "athlete_events = athlete_events[athlete_events.Year != 1906]\n",
        "athlete_events.shape"
      ],
      "execution_count": null,
      "outputs": [
        {
          "output_type": "execute_result",
          "data": {
            "text/plain": [
              "(259426, 15)"
            ]
          },
          "metadata": {
            "tags": []
          },
          "execution_count": 16
        }
      ]
    },
    {
      "cell_type": "code",
      "metadata": {
        "id": "MWooJhQwMGJU"
      },
      "source": [
        "athlete_events.loc[athlete_events.City == \"Stockholm\", \"City\"] = \"Melbourne / Stockholm\"\n",
        "athlete_events.loc[athlete_events.City == \"Melbourne\", \"City\"] = \"Melbourne / Stockholm\""
      ],
      "execution_count": null,
      "outputs": []
    },
    {
      "cell_type": "code",
      "metadata": {
        "id": "6d1fQBc8J4-H"
      },
      "source": [
        "athlete = athlete_events.copy()\n",
        "athlete['BirthYear'] = athlete['Year'] - athlete['Age']"
      ],
      "execution_count": null,
      "outputs": []
    },
    {
      "cell_type": "code",
      "metadata": {
        "colab": {
          "base_uri": "https://localhost:8080/"
        },
        "id": "_XYNXt4FLwoV",
        "outputId": "4e83e85d-798b-40cb-cbf1-cfe3b72a0eaa"
      },
      "source": [
        "athlete.columns[athlete.isna().any()].tolist()"
      ],
      "execution_count": null,
      "outputs": [
        {
          "output_type": "execute_result",
          "data": {
            "text/plain": [
              "['Height', 'Weight', 'Medal']"
            ]
          },
          "metadata": {
            "tags": []
          },
          "execution_count": 19
        }
      ]
    },
    {
      "cell_type": "code",
      "metadata": {
        "colab": {
          "base_uri": "https://localhost:8080/"
        },
        "id": "oV6fYMr3MFbl",
        "outputId": "b7382330-2906-4e11-fe77-5736fb9c9130"
      },
      "source": [
        "athlete.isnull().sum(axis = 0)"
      ],
      "execution_count": null,
      "outputs": [
        {
          "output_type": "execute_result",
          "data": {
            "text/plain": [
              "ID                0\n",
              "Name              0\n",
              "Sex               0\n",
              "Age               0\n",
              "Height        49638\n",
              "Weight        52288\n",
              "Team              0\n",
              "NOC               0\n",
              "Games             0\n",
              "Year              0\n",
              "Season            0\n",
              "City              0\n",
              "Sport             0\n",
              "Event             0\n",
              "Medal        220689\n",
              "BirthYear         0\n",
              "dtype: int64"
            ]
          },
          "metadata": {
            "tags": []
          },
          "execution_count": 20
        }
      ]
    },
    {
      "cell_type": "code",
      "metadata": {
        "colab": {
          "base_uri": "https://localhost:8080/",
          "height": 419
        },
        "id": "SH4GZah8JEjo",
        "outputId": "f1fbaf4f-f59e-4376-b364-99fd5587ee2b"
      },
      "source": [
        "athlete = athlete.drop(columns=['Team', 'Age', 'Games', 'Year', 'Season', 'City', 'Sport', 'Event', 'Medal'])\n",
        "# athlete = athlete[athlete['BirthYear'].notna()]\n",
        "athlete['BirthYear'] = athlete['BirthYear'].astype('int64')\n",
        "athlete"
      ],
      "execution_count": null,
      "outputs": [
        {
          "output_type": "execute_result",
          "data": {
            "text/html": [
              "<div>\n",
              "<style scoped>\n",
              "    .dataframe tbody tr th:only-of-type {\n",
              "        vertical-align: middle;\n",
              "    }\n",
              "\n",
              "    .dataframe tbody tr th {\n",
              "        vertical-align: top;\n",
              "    }\n",
              "\n",
              "    .dataframe thead th {\n",
              "        text-align: right;\n",
              "    }\n",
              "</style>\n",
              "<table border=\"1\" class=\"dataframe\">\n",
              "  <thead>\n",
              "    <tr style=\"text-align: right;\">\n",
              "      <th></th>\n",
              "      <th>ID</th>\n",
              "      <th>Name</th>\n",
              "      <th>Sex</th>\n",
              "      <th>Height</th>\n",
              "      <th>Weight</th>\n",
              "      <th>NOC</th>\n",
              "      <th>BirthYear</th>\n",
              "    </tr>\n",
              "  </thead>\n",
              "  <tbody>\n",
              "    <tr>\n",
              "      <th>0</th>\n",
              "      <td>1</td>\n",
              "      <td>A Dijiang</td>\n",
              "      <td>M</td>\n",
              "      <td>180.0</td>\n",
              "      <td>80.0</td>\n",
              "      <td>CHN</td>\n",
              "      <td>1968</td>\n",
              "    </tr>\n",
              "    <tr>\n",
              "      <th>1</th>\n",
              "      <td>2</td>\n",
              "      <td>A Lamusi</td>\n",
              "      <td>M</td>\n",
              "      <td>170.0</td>\n",
              "      <td>60.0</td>\n",
              "      <td>CHN</td>\n",
              "      <td>1989</td>\n",
              "    </tr>\n",
              "    <tr>\n",
              "      <th>2</th>\n",
              "      <td>3</td>\n",
              "      <td>Gunnar Nielsen Aaby</td>\n",
              "      <td>M</td>\n",
              "      <td>NaN</td>\n",
              "      <td>NaN</td>\n",
              "      <td>DEN</td>\n",
              "      <td>1896</td>\n",
              "    </tr>\n",
              "    <tr>\n",
              "      <th>3</th>\n",
              "      <td>4</td>\n",
              "      <td>Edgar Lindenau Aabye</td>\n",
              "      <td>M</td>\n",
              "      <td>NaN</td>\n",
              "      <td>NaN</td>\n",
              "      <td>DEN</td>\n",
              "      <td>1866</td>\n",
              "    </tr>\n",
              "    <tr>\n",
              "      <th>4</th>\n",
              "      <td>5</td>\n",
              "      <td>Christine Jacoba Aaftink</td>\n",
              "      <td>F</td>\n",
              "      <td>185.0</td>\n",
              "      <td>82.0</td>\n",
              "      <td>NED</td>\n",
              "      <td>1967</td>\n",
              "    </tr>\n",
              "    <tr>\n",
              "      <th>...</th>\n",
              "      <td>...</td>\n",
              "      <td>...</td>\n",
              "      <td>...</td>\n",
              "      <td>...</td>\n",
              "      <td>...</td>\n",
              "      <td>...</td>\n",
              "      <td>...</td>\n",
              "    </tr>\n",
              "    <tr>\n",
              "      <th>271111</th>\n",
              "      <td>135569</td>\n",
              "      <td>Andrzej ya</td>\n",
              "      <td>M</td>\n",
              "      <td>179.0</td>\n",
              "      <td>89.0</td>\n",
              "      <td>POL</td>\n",
              "      <td>1947</td>\n",
              "    </tr>\n",
              "    <tr>\n",
              "      <th>271112</th>\n",
              "      <td>135570</td>\n",
              "      <td>Piotr ya</td>\n",
              "      <td>M</td>\n",
              "      <td>176.0</td>\n",
              "      <td>59.0</td>\n",
              "      <td>POL</td>\n",
              "      <td>1987</td>\n",
              "    </tr>\n",
              "    <tr>\n",
              "      <th>271113</th>\n",
              "      <td>135570</td>\n",
              "      <td>Piotr ya</td>\n",
              "      <td>M</td>\n",
              "      <td>176.0</td>\n",
              "      <td>59.0</td>\n",
              "      <td>POL</td>\n",
              "      <td>1987</td>\n",
              "    </tr>\n",
              "    <tr>\n",
              "      <th>271114</th>\n",
              "      <td>135571</td>\n",
              "      <td>Tomasz Ireneusz ya</td>\n",
              "      <td>M</td>\n",
              "      <td>185.0</td>\n",
              "      <td>96.0</td>\n",
              "      <td>POL</td>\n",
              "      <td>1968</td>\n",
              "    </tr>\n",
              "    <tr>\n",
              "      <th>271115</th>\n",
              "      <td>135571</td>\n",
              "      <td>Tomasz Ireneusz ya</td>\n",
              "      <td>M</td>\n",
              "      <td>185.0</td>\n",
              "      <td>96.0</td>\n",
              "      <td>POL</td>\n",
              "      <td>1968</td>\n",
              "    </tr>\n",
              "  </tbody>\n",
              "</table>\n",
              "<p>259426 rows × 7 columns</p>\n",
              "</div>"
            ],
            "text/plain": [
              "            ID                      Name Sex  Height  Weight  NOC  BirthYear\n",
              "0            1                 A Dijiang   M   180.0    80.0  CHN       1968\n",
              "1            2                  A Lamusi   M   170.0    60.0  CHN       1989\n",
              "2            3       Gunnar Nielsen Aaby   M     NaN     NaN  DEN       1896\n",
              "3            4      Edgar Lindenau Aabye   M     NaN     NaN  DEN       1866\n",
              "4            5  Christine Jacoba Aaftink   F   185.0    82.0  NED       1967\n",
              "...        ...                       ...  ..     ...     ...  ...        ...\n",
              "271111  135569                Andrzej ya   M   179.0    89.0  POL       1947\n",
              "271112  135570                  Piotr ya   M   176.0    59.0  POL       1987\n",
              "271113  135570                  Piotr ya   M   176.0    59.0  POL       1987\n",
              "271114  135571        Tomasz Ireneusz ya   M   185.0    96.0  POL       1968\n",
              "271115  135571        Tomasz Ireneusz ya   M   185.0    96.0  POL       1968\n",
              "\n",
              "[259426 rows x 7 columns]"
            ]
          },
          "metadata": {
            "tags": []
          },
          "execution_count": 21
        }
      ]
    },
    {
      "cell_type": "code",
      "metadata": {
        "id": "99cJwSyytsxJ"
      },
      "source": [
        "b = athlete.groupby('ID')['BirthYear'].min().reset_index()\n",
        "athlete = athlete.drop(columns=['BirthYear'])\n",
        "athlete = athlete.merge(b, how='inner', on='ID')"
      ],
      "execution_count": null,
      "outputs": []
    },
    {
      "cell_type": "code",
      "metadata": {
        "colab": {
          "base_uri": "https://localhost:8080/"
        },
        "id": "dp3e4Hg4SOYk",
        "outputId": "67133836-1ba6-4c73-9b4e-a26bf2806f06"
      },
      "source": [
        "athlete = athlete.drop_duplicates()\n",
        "athlete.shape"
      ],
      "execution_count": null,
      "outputs": [
        {
          "output_type": "execute_result",
          "data": {
            "text/plain": [
              "(130682, 7)"
            ]
          },
          "metadata": {
            "tags": []
          },
          "execution_count": 23
        }
      ]
    },
    {
      "cell_type": "code",
      "metadata": {
        "id": "drv4jeQDXmv6"
      },
      "source": [
        " di = {}\n",
        " di[\"ALG\"] = \"DZA\" \n",
        " di[\"ASA\"] = \"ASM\"  \n",
        " di[\"ANG\"] = \"AGO\" \n",
        " di[\"ANT\"] = \"ATG\" \n",
        " di[\"ARU\"] = \"ABW\"   \n",
        " di[\"BAH\"] = \"BHS\"   \n",
        " di[\"BRN\"] = \"BHR\"   \n",
        " di[\"BAN\"] = \"BGD\"   \n",
        " di[\"BAR\"] = \"BRB\"   \n",
        " di[\"BIZ\"] = \"BLZ\"   \n",
        " di[\"BER\"] = \"BMU\"   \n",
        " di[\"BHU\"] = \"BTN\"   \n",
        " di[\"BOT\"] = \"BWA\"   \n",
        " di[\"IVB\"] = \"VGB\"   \n",
        " di[\"BRU\"] = \"BRN\"   \n",
        " di[\"BUL\"] = \"BGR\"   \n",
        " di[\"BUR\"] = \"BFA\"   \n",
        " di[\"CAM\"] = \"KHM\"   \n",
        " di[\"CAY\"] = \"CYM\"   \n",
        " di[\"CHA\"] = \"TCD\"   \n",
        " di[\"CHI\"] = \"CHL\"   \n",
        " di[\"CGO\"] = \"COG\"   \n",
        " di[\"CRC\"] = \"CRI\"   \n",
        " di[\"CRO\"] = \"HRV\"   \n",
        " di[\"DEN\"] = \"DNK\"   \n",
        " di[\"ESA\"] = \"SLV\"   \n",
        " di[\"GEQ\"] = \"GNQ\"   \n",
        " di[\"FIJ\"] = \"FJI\"   \n",
        " di[\"GAM\"] = \"GMB\"   \n",
        " di[\"GER\"] = \"DEU\"   \n",
        " di[\"GRE\"] = \"GRC\"   \n",
        " di[\"GRN\"] = \"GRD\"   \n",
        " di[\"GUA\"] = \"GTM\"   \n",
        " di[\"GUI\"] = \"GIN\"   \n",
        " di[\"GBS\"] = \"GNB\"   \n",
        " di[\"HAI\"] = \"HTI\"   \n",
        " di[\"HON\"] = \"HND\"   \n",
        " di[\"INA\"] = \"IDN\"   \n",
        " di[\"IRI\"] = \"IRN\"   \n",
        " di[\"KUW\"] = \"KWT\"   \n",
        " di[\"LAT\"] = \"LVA\"   \n",
        " di[\"LIB\"] = \"LBN\"   \n",
        " di[\"LES\"] = \"LSO\"   \n",
        " di[\"LBA\"] = \"LBY\"   \n",
        " di[\"MAD\"] = \"MDG\"   \n",
        " di[\"MAW\"] = \"MWI\"   \n",
        " di[\"MAS\"] = \"MYS\"   \n",
        " di[\"MTN\"] = \"MRT\"   \n",
        " di[\"MRI\"] = \"MUS\"   \n",
        " di[\"MON\"] = \"MCO\"   \n",
        " di[\"MGL\"] = \"MNG\"   \n",
        " di[\"MYA\"] = \"MMR\"   \n",
        " di[\"NEP\"] = \"NPL\"   \n",
        " di[\"NED\"] = \"NLD\"   \n",
        " di[\"NCA\"] = \"NIC\"   \n",
        " di[\"NIG\"] = \"NER\"   \n",
        " di[\"NGR\"] = \"NGA\"   \n",
        " di[\"OMA\"] = \"OMN\"   \n",
        " di[\"PLE\"] = \"PSE\"   \n",
        " di[\"PAR\"] = \"PRY\"   \n",
        " di[\"PHI\"] = \"PHL\"   \n",
        " di[\"POR\"] = \"PRT\"   \n",
        " di[\"PUR\"] = \"PRI\"   \n",
        " di[\"SKN\"] = \"KNA\"   \n",
        " di[\"VIN\"] = \"VCT\"   \n",
        " di[\"SAM\"] = \"WSM\"   \n",
        " di[\"KSA\"] = \"SAU\"   \n",
        " di[\"SEY\"] = \"SYC\"   \n",
        " di[\"SIN\"] = \"SGP\"   \n",
        " di[\"SLO\"] = \"SVN\"   \n",
        " di[\"SOL\"] = \"SLB\"   \n",
        " di[\"RSA\"] = \"ZAF\"   \n",
        " di[\"SRI\"] = \"LKA\"   \n",
        " di[\"SUD\"] = \"SDN\"   \n",
        " di[\"SUI\"] = \"CHE\"   \n",
        " di[\"TPE\"] = \"TWN\"   \n",
        " di[\"TAN\"] = \"TZA\"   \n",
        " di[\"TOG\"] = \"TGO\"   \n",
        " di[\"TGA\"] = \"TON\"   \n",
        " di[\"TRI\"] = \"TTO\"   \n",
        " di[\"UAE\"] = \"ARE\"   \n",
        " di[\"ISV\"] = \"VIR\"   \n",
        " di[\"URU\"] = \"URY\"   \n",
        " di[\"VAN\"] = \"VUT\"   \n",
        " di[\"VIE\"] = \"VNM\"   \n",
        " di[\"ZAM\"] = \"ZMB\"   \n",
        " di[\"ZIM\"] = \"ZWE\"   "
      ],
      "execution_count": null,
      "outputs": []
    },
    {
      "cell_type": "code",
      "metadata": {
        "id": "OnTCXBhtQvDy"
      },
      "source": [
        "list_alpha_3 = [i.alpha_3 for i in list(pycountry.countries)] \n",
        "\n",
        "def country_flag(df):\n",
        "    if (len(df['NOC'])==3 and df['NOC'] in list_alpha_3):\n",
        "        return pycountry.countries.get(alpha_3=df['NOC']).name\n",
        "    elif df['NOC'] in di.keys():\n",
        "        return pycountry.countries.get(alpha_3=di[df['NOC']]).name\n",
        "    else:\n",
        "        return 'ERR'\n",
        "\n",
        "athlete['Country']=athlete.apply(country_flag, axis = 1)"
      ],
      "execution_count": null,
      "outputs": []
    },
    {
      "cell_type": "code",
      "metadata": {
        "colab": {
          "base_uri": "https://localhost:8080/",
          "height": 419
        },
        "id": "0s5VS0OnWo7n",
        "outputId": "fcaddba8-2bb2-4e68-e02f-a2c272533fec"
      },
      "source": [
        "athlete"
      ],
      "execution_count": null,
      "outputs": [
        {
          "output_type": "execute_result",
          "data": {
            "text/html": [
              "<div>\n",
              "<style scoped>\n",
              "    .dataframe tbody tr th:only-of-type {\n",
              "        vertical-align: middle;\n",
              "    }\n",
              "\n",
              "    .dataframe tbody tr th {\n",
              "        vertical-align: top;\n",
              "    }\n",
              "\n",
              "    .dataframe thead th {\n",
              "        text-align: right;\n",
              "    }\n",
              "</style>\n",
              "<table border=\"1\" class=\"dataframe\">\n",
              "  <thead>\n",
              "    <tr style=\"text-align: right;\">\n",
              "      <th></th>\n",
              "      <th>ID</th>\n",
              "      <th>Name</th>\n",
              "      <th>Sex</th>\n",
              "      <th>Height</th>\n",
              "      <th>Weight</th>\n",
              "      <th>NOC</th>\n",
              "      <th>BirthYear</th>\n",
              "      <th>Country</th>\n",
              "    </tr>\n",
              "  </thead>\n",
              "  <tbody>\n",
              "    <tr>\n",
              "      <th>0</th>\n",
              "      <td>1</td>\n",
              "      <td>A Dijiang</td>\n",
              "      <td>M</td>\n",
              "      <td>180.0</td>\n",
              "      <td>80.0</td>\n",
              "      <td>CHN</td>\n",
              "      <td>1968</td>\n",
              "      <td>China</td>\n",
              "    </tr>\n",
              "    <tr>\n",
              "      <th>1</th>\n",
              "      <td>2</td>\n",
              "      <td>A Lamusi</td>\n",
              "      <td>M</td>\n",
              "      <td>170.0</td>\n",
              "      <td>60.0</td>\n",
              "      <td>CHN</td>\n",
              "      <td>1989</td>\n",
              "      <td>China</td>\n",
              "    </tr>\n",
              "    <tr>\n",
              "      <th>2</th>\n",
              "      <td>3</td>\n",
              "      <td>Gunnar Nielsen Aaby</td>\n",
              "      <td>M</td>\n",
              "      <td>NaN</td>\n",
              "      <td>NaN</td>\n",
              "      <td>DEN</td>\n",
              "      <td>1896</td>\n",
              "      <td>Denmark</td>\n",
              "    </tr>\n",
              "    <tr>\n",
              "      <th>3</th>\n",
              "      <td>4</td>\n",
              "      <td>Edgar Lindenau Aabye</td>\n",
              "      <td>M</td>\n",
              "      <td>NaN</td>\n",
              "      <td>NaN</td>\n",
              "      <td>DEN</td>\n",
              "      <td>1866</td>\n",
              "      <td>Denmark</td>\n",
              "    </tr>\n",
              "    <tr>\n",
              "      <th>4</th>\n",
              "      <td>5</td>\n",
              "      <td>Christine Jacoba Aaftink</td>\n",
              "      <td>F</td>\n",
              "      <td>185.0</td>\n",
              "      <td>82.0</td>\n",
              "      <td>NED</td>\n",
              "      <td>1967</td>\n",
              "      <td>Netherlands</td>\n",
              "    </tr>\n",
              "    <tr>\n",
              "      <th>...</th>\n",
              "      <td>...</td>\n",
              "      <td>...</td>\n",
              "      <td>...</td>\n",
              "      <td>...</td>\n",
              "      <td>...</td>\n",
              "      <td>...</td>\n",
              "      <td>...</td>\n",
              "      <td>...</td>\n",
              "    </tr>\n",
              "    <tr>\n",
              "      <th>259418</th>\n",
              "      <td>135567</td>\n",
              "      <td>Aleksandr Viktorovich Zyuzin</td>\n",
              "      <td>M</td>\n",
              "      <td>183.0</td>\n",
              "      <td>72.0</td>\n",
              "      <td>RUS</td>\n",
              "      <td>1976</td>\n",
              "      <td>Russian Federation</td>\n",
              "    </tr>\n",
              "    <tr>\n",
              "      <th>259420</th>\n",
              "      <td>135568</td>\n",
              "      <td>Olga Igorevna Zyuzkova</td>\n",
              "      <td>F</td>\n",
              "      <td>171.0</td>\n",
              "      <td>69.0</td>\n",
              "      <td>BLR</td>\n",
              "      <td>1983</td>\n",
              "      <td>Belarus</td>\n",
              "    </tr>\n",
              "    <tr>\n",
              "      <th>259421</th>\n",
              "      <td>135569</td>\n",
              "      <td>Andrzej ya</td>\n",
              "      <td>M</td>\n",
              "      <td>179.0</td>\n",
              "      <td>89.0</td>\n",
              "      <td>POL</td>\n",
              "      <td>1947</td>\n",
              "      <td>Poland</td>\n",
              "    </tr>\n",
              "    <tr>\n",
              "      <th>259422</th>\n",
              "      <td>135570</td>\n",
              "      <td>Piotr ya</td>\n",
              "      <td>M</td>\n",
              "      <td>176.0</td>\n",
              "      <td>59.0</td>\n",
              "      <td>POL</td>\n",
              "      <td>1987</td>\n",
              "      <td>Poland</td>\n",
              "    </tr>\n",
              "    <tr>\n",
              "      <th>259424</th>\n",
              "      <td>135571</td>\n",
              "      <td>Tomasz Ireneusz ya</td>\n",
              "      <td>M</td>\n",
              "      <td>185.0</td>\n",
              "      <td>96.0</td>\n",
              "      <td>POL</td>\n",
              "      <td>1968</td>\n",
              "      <td>Poland</td>\n",
              "    </tr>\n",
              "  </tbody>\n",
              "</table>\n",
              "<p>130682 rows × 8 columns</p>\n",
              "</div>"
            ],
            "text/plain": [
              "            ID                          Name  ... BirthYear             Country\n",
              "0            1                     A Dijiang  ...      1968               China\n",
              "1            2                      A Lamusi  ...      1989               China\n",
              "2            3           Gunnar Nielsen Aaby  ...      1896             Denmark\n",
              "3            4          Edgar Lindenau Aabye  ...      1866             Denmark\n",
              "4            5      Christine Jacoba Aaftink  ...      1967         Netherlands\n",
              "...        ...                           ...  ...       ...                 ...\n",
              "259418  135567  Aleksandr Viktorovich Zyuzin  ...      1976  Russian Federation\n",
              "259420  135568        Olga Igorevna Zyuzkova  ...      1983             Belarus\n",
              "259421  135569                    Andrzej ya  ...      1947              Poland\n",
              "259422  135570                      Piotr ya  ...      1987              Poland\n",
              "259424  135571            Tomasz Ireneusz ya  ...      1968              Poland\n",
              "\n",
              "[130682 rows x 8 columns]"
            ]
          },
          "metadata": {
            "tags": []
          },
          "execution_count": 26
        }
      ]
    },
    {
      "cell_type": "code",
      "metadata": {
        "id": "z5bg9tBSTU9d"
      },
      "source": [
        "# athlete[athlete.Country == 'ERR']['Team'].value_counts()"
      ],
      "execution_count": null,
      "outputs": []
    },
    {
      "cell_type": "code",
      "metadata": {
        "colab": {
          "base_uri": "https://localhost:8080/"
        },
        "id": "IYJQDwtCJLEv",
        "outputId": "c386b4b6-2b4f-4e0d-95ea-2dd9a1e867d1"
      },
      "source": [
        "athlete[athlete.Country == 'ERR']['NOC'].value_counts()"
      ],
      "execution_count": null,
      "outputs": [
        {
          "output_type": "execute_result",
          "data": {
            "text/plain": [
              "URS    2857\n",
              "TCH    1933\n",
              "FRG    1708\n",
              "GDR    1360\n",
              "YUG    1226\n",
              "EUN     601\n",
              "SCG     205\n",
              "IOA      76\n",
              "AHO      54\n",
              "ANZ      51\n",
              "BOH      49\n",
              "UAR      44\n",
              "SAA      36\n",
              "MAL      18\n",
              "WIF      13\n",
              "RHO      10\n",
              "ROT      10\n",
              "YAR      10\n",
              "KOS       8\n",
              "YMD       5\n",
              "NBO       2\n",
              "NFL       1\n",
              "Name: NOC, dtype: int64"
            ]
          },
          "metadata": {
            "tags": []
          },
          "execution_count": 28
        }
      ]
    },
    {
      "cell_type": "code",
      "metadata": {
        "colab": {
          "base_uri": "https://localhost:8080/"
        },
        "id": "DbbCpNGwfIBE",
        "outputId": "fc68a627-7f40-4f26-e326-6179c04e6aee"
      },
      "source": [
        "# athlete = athlete[athlete.Country != 'Invalid Code']\n",
        "athlete = athlete.drop_duplicates()\n",
        "athlete.shape"
      ],
      "execution_count": null,
      "outputs": [
        {
          "output_type": "execute_result",
          "data": {
            "text/plain": [
              "(130682, 8)"
            ]
          },
          "metadata": {
            "tags": []
          },
          "execution_count": 29
        }
      ]
    },
    {
      "cell_type": "code",
      "metadata": {
        "id": "GW3THj7ZkwHT"
      },
      "source": [
        "a = athlete[['Name', 'NOC', 'BirthYear']].duplicated()"
      ],
      "execution_count": null,
      "outputs": []
    },
    {
      "cell_type": "code",
      "metadata": {
        "colab": {
          "base_uri": "https://localhost:8080/",
          "height": 545
        },
        "id": "1I2bi6C1jNgX",
        "outputId": "b0a751eb-6a47-44cb-9196-3364be37a6e2"
      },
      "source": [
        "athlete.loc[a.values == True]"
      ],
      "execution_count": null,
      "outputs": [
        {
          "output_type": "execute_result",
          "data": {
            "text/html": [
              "<div>\n",
              "<style scoped>\n",
              "    .dataframe tbody tr th:only-of-type {\n",
              "        vertical-align: middle;\n",
              "    }\n",
              "\n",
              "    .dataframe tbody tr th {\n",
              "        vertical-align: top;\n",
              "    }\n",
              "\n",
              "    .dataframe thead th {\n",
              "        text-align: right;\n",
              "    }\n",
              "</style>\n",
              "<table border=\"1\" class=\"dataframe\">\n",
              "  <thead>\n",
              "    <tr style=\"text-align: right;\">\n",
              "      <th></th>\n",
              "      <th>ID</th>\n",
              "      <th>Name</th>\n",
              "      <th>Sex</th>\n",
              "      <th>Height</th>\n",
              "      <th>Weight</th>\n",
              "      <th>NOC</th>\n",
              "      <th>BirthYear</th>\n",
              "      <th>Country</th>\n",
              "    </tr>\n",
              "  </thead>\n",
              "  <tbody>\n",
              "    <tr>\n",
              "      <th>14912</th>\n",
              "      <td>8433</td>\n",
              "      <td>Muhammad Bashir</td>\n",
              "      <td>M</td>\n",
              "      <td>NaN</td>\n",
              "      <td>NaN</td>\n",
              "      <td>PAK</td>\n",
              "      <td>1935</td>\n",
              "      <td>Pakistan</td>\n",
              "    </tr>\n",
              "    <tr>\n",
              "      <th>94397</th>\n",
              "      <td>50092</td>\n",
              "      <td>Jzsef Horvth</td>\n",
              "      <td>M</td>\n",
              "      <td>165.0</td>\n",
              "      <td>60.0</td>\n",
              "      <td>HUN</td>\n",
              "      <td>1947</td>\n",
              "      <td>Hungary</td>\n",
              "    </tr>\n",
              "    <tr>\n",
              "      <th>101231</th>\n",
              "      <td>53642</td>\n",
              "      <td>Jang Seong-Ho</td>\n",
              "      <td>M</td>\n",
              "      <td>190.0</td>\n",
              "      <td>100.0</td>\n",
              "      <td>KOR</td>\n",
              "      <td>1978</td>\n",
              "      <td>Korea, Republic of</td>\n",
              "    </tr>\n",
              "    <tr>\n",
              "      <th>103513</th>\n",
              "      <td>54797</td>\n",
              "      <td>Jiang Wenwen</td>\n",
              "      <td>F</td>\n",
              "      <td>178.0</td>\n",
              "      <td>69.0</td>\n",
              "      <td>CHN</td>\n",
              "      <td>1987</td>\n",
              "      <td>China</td>\n",
              "    </tr>\n",
              "    <tr>\n",
              "      <th>113060</th>\n",
              "      <td>59858</td>\n",
              "      <td>Kim Eun-Hui</td>\n",
              "      <td>F</td>\n",
              "      <td>NaN</td>\n",
              "      <td>NaN</td>\n",
              "      <td>KOR</td>\n",
              "      <td>1973</td>\n",
              "      <td>Korea, Republic of</td>\n",
              "    </tr>\n",
              "    <tr>\n",
              "      <th>113091</th>\n",
              "      <td>59877</td>\n",
              "      <td>Kim Gi-Hun</td>\n",
              "      <td>M</td>\n",
              "      <td>177.0</td>\n",
              "      <td>93.0</td>\n",
              "      <td>KOR</td>\n",
              "      <td>1968</td>\n",
              "      <td>Korea, Republic of</td>\n",
              "    </tr>\n",
              "    <tr>\n",
              "      <th>113554</th>\n",
              "      <td>60148</td>\n",
              "      <td>Kim Min-Jeong</td>\n",
              "      <td>F</td>\n",
              "      <td>160.0</td>\n",
              "      <td>48.0</td>\n",
              "      <td>KOR</td>\n",
              "      <td>1986</td>\n",
              "      <td>Korea, Republic of</td>\n",
              "    </tr>\n",
              "    <tr>\n",
              "      <th>113998</th>\n",
              "      <td>60387</td>\n",
              "      <td>Kim Yun-Mi</td>\n",
              "      <td>F</td>\n",
              "      <td>168.0</td>\n",
              "      <td>65.0</td>\n",
              "      <td>KOR</td>\n",
              "      <td>1981</td>\n",
              "      <td>Korea, Republic of</td>\n",
              "    </tr>\n",
              "    <tr>\n",
              "      <th>132343</th>\n",
              "      <td>69496</td>\n",
              "      <td>Li Tao</td>\n",
              "      <td>M</td>\n",
              "      <td>175.0</td>\n",
              "      <td>61.0</td>\n",
              "      <td>CHN</td>\n",
              "      <td>1968</td>\n",
              "      <td>China</td>\n",
              "    </tr>\n",
              "    <tr>\n",
              "      <th>136479</th>\n",
              "      <td>71563</td>\n",
              "      <td>Ferenc Lrincz</td>\n",
              "      <td>M</td>\n",
              "      <td>NaN</td>\n",
              "      <td>NaN</td>\n",
              "      <td>HUN</td>\n",
              "      <td>1933</td>\n",
              "      <td>Hungary</td>\n",
              "    </tr>\n",
              "    <tr>\n",
              "      <th>150114</th>\n",
              "      <td>78836</td>\n",
              "      <td>David Mercer</td>\n",
              "      <td>M</td>\n",
              "      <td>170.0</td>\n",
              "      <td>89.0</td>\n",
              "      <td>GBR</td>\n",
              "      <td>1961</td>\n",
              "      <td>United Kingdom</td>\n",
              "    </tr>\n",
              "    <tr>\n",
              "      <th>208072</th>\n",
              "      <td>109249</td>\n",
              "      <td>Nimrod Shapira Bar-Or</td>\n",
              "      <td>M</td>\n",
              "      <td>NaN</td>\n",
              "      <td>NaN</td>\n",
              "      <td>ISR</td>\n",
              "      <td>1989</td>\n",
              "      <td>Israel</td>\n",
              "    </tr>\n",
              "    <tr>\n",
              "      <th>211427</th>\n",
              "      <td>111014</td>\n",
              "      <td>Balbir Singh</td>\n",
              "      <td>M</td>\n",
              "      <td>173.0</td>\n",
              "      <td>70.0</td>\n",
              "      <td>IND</td>\n",
              "      <td>1945</td>\n",
              "      <td>India</td>\n",
              "    </tr>\n",
              "    <tr>\n",
              "      <th>218721</th>\n",
              "      <td>114818</td>\n",
              "      <td>Walter Steiner</td>\n",
              "      <td>M</td>\n",
              "      <td>179.0</td>\n",
              "      <td>75.0</td>\n",
              "      <td>SUI</td>\n",
              "      <td>1947</td>\n",
              "      <td>Switzerland</td>\n",
              "    </tr>\n",
              "    <tr>\n",
              "      <th>222148</th>\n",
              "      <td>116471</td>\n",
              "      <td>Sun Jun</td>\n",
              "      <td>M</td>\n",
              "      <td>200.0</td>\n",
              "      <td>98.0</td>\n",
              "      <td>CHN</td>\n",
              "      <td>1975</td>\n",
              "      <td>China</td>\n",
              "    </tr>\n",
              "    <tr>\n",
              "      <th>245452</th>\n",
              "      <td>128503</td>\n",
              "      <td>Wang Lei</td>\n",
              "      <td>M</td>\n",
              "      <td>190.0</td>\n",
              "      <td>108.0</td>\n",
              "      <td>CHN</td>\n",
              "      <td>1981</td>\n",
              "      <td>China</td>\n",
              "    </tr>\n",
              "  </tbody>\n",
              "</table>\n",
              "</div>"
            ],
            "text/plain": [
              "            ID                   Name Sex  ...  NOC  BirthYear             Country\n",
              "14912     8433        Muhammad Bashir   M  ...  PAK       1935            Pakistan\n",
              "94397    50092           Jzsef Horvth   M  ...  HUN       1947             Hungary\n",
              "101231   53642          Jang Seong-Ho   M  ...  KOR       1978  Korea, Republic of\n",
              "103513   54797           Jiang Wenwen   F  ...  CHN       1987               China\n",
              "113060   59858            Kim Eun-Hui   F  ...  KOR       1973  Korea, Republic of\n",
              "113091   59877             Kim Gi-Hun   M  ...  KOR       1968  Korea, Republic of\n",
              "113554   60148          Kim Min-Jeong   F  ...  KOR       1986  Korea, Republic of\n",
              "113998   60387             Kim Yun-Mi   F  ...  KOR       1981  Korea, Republic of\n",
              "132343   69496                 Li Tao   M  ...  CHN       1968               China\n",
              "136479   71563          Ferenc Lrincz   M  ...  HUN       1933             Hungary\n",
              "150114   78836           David Mercer   M  ...  GBR       1961      United Kingdom\n",
              "208072  109249  Nimrod Shapira Bar-Or   M  ...  ISR       1989              Israel\n",
              "211427  111014           Balbir Singh   M  ...  IND       1945               India\n",
              "218721  114818         Walter Steiner   M  ...  SUI       1947         Switzerland\n",
              "222148  116471                Sun Jun   M  ...  CHN       1975               China\n",
              "245452  128503               Wang Lei   M  ...  CHN       1981               China\n",
              "\n",
              "[16 rows x 8 columns]"
            ]
          },
          "metadata": {
            "tags": []
          },
          "execution_count": 31
        }
      ]
    },
    {
      "cell_type": "code",
      "metadata": {
        "colab": {
          "base_uri": "https://localhost:8080/",
          "height": 142
        },
        "id": "wfR147k4lIod",
        "outputId": "88438eb0-8db2-49d7-af2c-5fc28a96b3f5"
      },
      "source": [
        "athlete[athlete.Name == \"Kim Min-Jeong\"]"
      ],
      "execution_count": null,
      "outputs": [
        {
          "output_type": "execute_result",
          "data": {
            "text/html": [
              "<div>\n",
              "<style scoped>\n",
              "    .dataframe tbody tr th:only-of-type {\n",
              "        vertical-align: middle;\n",
              "    }\n",
              "\n",
              "    .dataframe tbody tr th {\n",
              "        vertical-align: top;\n",
              "    }\n",
              "\n",
              "    .dataframe thead th {\n",
              "        text-align: right;\n",
              "    }\n",
              "</style>\n",
              "<table border=\"1\" class=\"dataframe\">\n",
              "  <thead>\n",
              "    <tr style=\"text-align: right;\">\n",
              "      <th></th>\n",
              "      <th>ID</th>\n",
              "      <th>Name</th>\n",
              "      <th>Sex</th>\n",
              "      <th>Height</th>\n",
              "      <th>Weight</th>\n",
              "      <th>NOC</th>\n",
              "      <th>BirthYear</th>\n",
              "      <th>Country</th>\n",
              "    </tr>\n",
              "  </thead>\n",
              "  <tbody>\n",
              "    <tr>\n",
              "      <th>113552</th>\n",
              "      <td>60147</td>\n",
              "      <td>Kim Min-Jeong</td>\n",
              "      <td>F</td>\n",
              "      <td>168.0</td>\n",
              "      <td>63.0</td>\n",
              "      <td>KOR</td>\n",
              "      <td>1986</td>\n",
              "      <td>Korea, Republic of</td>\n",
              "    </tr>\n",
              "    <tr>\n",
              "      <th>113554</th>\n",
              "      <td>60148</td>\n",
              "      <td>Kim Min-Jeong</td>\n",
              "      <td>F</td>\n",
              "      <td>160.0</td>\n",
              "      <td>48.0</td>\n",
              "      <td>KOR</td>\n",
              "      <td>1986</td>\n",
              "      <td>Korea, Republic of</td>\n",
              "    </tr>\n",
              "    <tr>\n",
              "      <th>113555</th>\n",
              "      <td>60149</td>\n",
              "      <td>Kim Min-Jeong</td>\n",
              "      <td>F</td>\n",
              "      <td>179.0</td>\n",
              "      <td>95.0</td>\n",
              "      <td>KOR</td>\n",
              "      <td>1989</td>\n",
              "      <td>Korea, Republic of</td>\n",
              "    </tr>\n",
              "  </tbody>\n",
              "</table>\n",
              "</div>"
            ],
            "text/plain": [
              "           ID           Name Sex  ...  NOC  BirthYear             Country\n",
              "113552  60147  Kim Min-Jeong   F  ...  KOR       1986  Korea, Republic of\n",
              "113554  60148  Kim Min-Jeong   F  ...  KOR       1986  Korea, Republic of\n",
              "113555  60149  Kim Min-Jeong   F  ...  KOR       1989  Korea, Republic of\n",
              "\n",
              "[3 rows x 8 columns]"
            ]
          },
          "metadata": {
            "tags": []
          },
          "execution_count": 32
        }
      ]
    },
    {
      "cell_type": "code",
      "metadata": {
        "id": "aQgfftnavDeR",
        "colab": {
          "base_uri": "https://localhost:8080/",
          "height": 168
        },
        "outputId": "2e4920e4-77ce-45a9-ed14-f017c3fc1b3c"
      },
      "source": [
        "athlete.to_csv('./athlete.csv')"
      ],
      "execution_count": null,
      "outputs": [
        {
          "output_type": "error",
          "ename": "NameError",
          "evalue": "ignored",
          "traceback": [
            "\u001b[0;31m---------------------------------------------------------------------------\u001b[0m",
            "\u001b[0;31mNameError\u001b[0m                                 Traceback (most recent call last)",
            "\u001b[0;32m<ipython-input-66-9a23cf3b268d>\u001b[0m in \u001b[0;36m<module>\u001b[0;34m()\u001b[0m\n\u001b[0;32m----> 1\u001b[0;31m \u001b[0mathlete\u001b[0m\u001b[0;34m.\u001b[0m\u001b[0mto_csv\u001b[0m\u001b[0;34m(\u001b[0m\u001b[0;34m'./athlete.csv'\u001b[0m\u001b[0;34m)\u001b[0m\u001b[0;34m\u001b[0m\u001b[0;34m\u001b[0m\u001b[0m\n\u001b[0m",
            "\u001b[0;31mNameError\u001b[0m: name 'athlete' is not defined"
          ]
        }
      ]
    },
    {
      "cell_type": "code",
      "metadata": {
        "id": "f8avl7OZ6g_5"
      },
      "source": [
        "p = pd.read_csv('/content/participates.csv')\n"
      ],
      "execution_count": null,
      "outputs": []
    },
    {
      "cell_type": "code",
      "metadata": {
        "id": "FyKUBY-8HlDq"
      },
      "source": [
        "p = p[~(p[['Athlete_ID', 'Olympic_ID', 'Event_ID']].duplicated(keep=False) & p.Medal.isnull())]"
      ],
      "execution_count": null,
      "outputs": []
    },
    {
      "cell_type": "code",
      "metadata": {
        "colab": {
          "base_uri": "https://localhost:8080/",
          "height": 80
        },
        "id": "rgqvQM2glTdb",
        "outputId": "1a7e110c-50e5-4855-f1bb-25ec2bfc49d7"
      },
      "source": [
        "p[(p.Olympic_ID == 1) & (p.Event_ID == 57) & (p.Athlete_ID == 5959)]"
      ],
      "execution_count": null,
      "outputs": [
        {
          "output_type": "execute_result",
          "data": {
            "text/html": [
              "<div>\n",
              "<style scoped>\n",
              "    .dataframe tbody tr th:only-of-type {\n",
              "        vertical-align: middle;\n",
              "    }\n",
              "\n",
              "    .dataframe tbody tr th {\n",
              "        vertical-align: top;\n",
              "    }\n",
              "\n",
              "    .dataframe thead th {\n",
              "        text-align: right;\n",
              "    }\n",
              "</style>\n",
              "<table border=\"1\" class=\"dataframe\">\n",
              "  <thead>\n",
              "    <tr style=\"text-align: right;\">\n",
              "      <th></th>\n",
              "      <th>Unnamed: 0</th>\n",
              "      <th>Olympic_ID</th>\n",
              "      <th>Event_ID</th>\n",
              "      <th>Athlete_ID</th>\n",
              "      <th>Medal</th>\n",
              "    </tr>\n",
              "  </thead>\n",
              "  <tbody>\n",
              "    <tr>\n",
              "      <th>242</th>\n",
              "      <td>242</td>\n",
              "      <td>1</td>\n",
              "      <td>57</td>\n",
              "      <td>5959</td>\n",
              "      <td>Gold</td>\n",
              "    </tr>\n",
              "  </tbody>\n",
              "</table>\n",
              "</div>"
            ],
            "text/plain": [
              "     Unnamed: 0  Olympic_ID  Event_ID  Athlete_ID Medal\n",
              "242         242           1        57        5959  Gold"
            ]
          },
          "metadata": {
            "tags": []
          },
          "execution_count": 93
        }
      ]
    },
    {
      "cell_type": "code",
      "metadata": {
        "id": "sB_cC1r6mfEI"
      },
      "source": [
        "p = p[~p[['Athlete_ID', 'Olympic_ID', 'Event_ID']].duplicated(keep=False)]"
      ],
      "execution_count": null,
      "outputs": []
    },
    {
      "cell_type": "code",
      "metadata": {
        "colab": {
          "base_uri": "https://localhost:8080/",
          "height": 49
        },
        "id": "XrmnsuBvnDuB",
        "outputId": "3cc1edd7-2ffa-43c9-e798-af174b368eb9"
      },
      "source": [
        "p[p[['Athlete_ID', 'Olympic_ID', 'Event_ID']].duplicated(keep=False)]"
      ],
      "execution_count": null,
      "outputs": [
        {
          "output_type": "execute_result",
          "data": {
            "text/html": [
              "<div>\n",
              "<style scoped>\n",
              "    .dataframe tbody tr th:only-of-type {\n",
              "        vertical-align: middle;\n",
              "    }\n",
              "\n",
              "    .dataframe tbody tr th {\n",
              "        vertical-align: top;\n",
              "    }\n",
              "\n",
              "    .dataframe thead th {\n",
              "        text-align: right;\n",
              "    }\n",
              "</style>\n",
              "<table border=\"1\" class=\"dataframe\">\n",
              "  <thead>\n",
              "    <tr style=\"text-align: right;\">\n",
              "      <th></th>\n",
              "      <th>Unnamed: 0</th>\n",
              "      <th>Olympic_ID</th>\n",
              "      <th>Event_ID</th>\n",
              "      <th>Athlete_ID</th>\n",
              "      <th>Medal</th>\n",
              "    </tr>\n",
              "  </thead>\n",
              "  <tbody>\n",
              "  </tbody>\n",
              "</table>\n",
              "</div>"
            ],
            "text/plain": [
              "Empty DataFrame\n",
              "Columns: [Unnamed: 0, Olympic_ID, Event_ID, Athlete_ID, Medal]\n",
              "Index: []"
            ]
          },
          "metadata": {
            "tags": []
          },
          "execution_count": 98
        }
      ]
    },
    {
      "cell_type": "code",
      "metadata": {
        "id": "vqjRz9soBwwX"
      },
      "source": [
        "p.to_csv('./participates.csv', index=False)"
      ],
      "execution_count": null,
      "outputs": []
    },
    {
      "cell_type": "code",
      "metadata": {
        "colab": {
          "base_uri": "https://localhost:8080/"
        },
        "id": "IFmqbVl68QfU",
        "outputId": "8223cbba-e2da-4e2c-ea56-7e32ca07c151"
      },
      "source": [
        "a[~a.NOC.isin(nocs)].NOC.value_counts()"
      ],
      "execution_count": null,
      "outputs": [
        {
          "output_type": "execute_result",
          "data": {
            "text/plain": [
              "Series([], Name: NOC, dtype: int64)"
            ]
          },
          "metadata": {
            "tags": []
          },
          "execution_count": 65
        }
      ]
    },
    {
      "cell_type": "code",
      "metadata": {
        "id": "HUKGlspUC7JX"
      },
      "source": [
        "a.loc[a.NOC == 'TPE', 'NOC'] = 'ERR'\n",
        "a.loc[a.NOC == 'TTO', 'NOC'] = 'TRI'\n",
        "a.loc[a.NOC == 'SGP', 'NOC'] = 'SIN'\n",
        "a.loc[a.NOC == 'CIV', 'NOC'] = 'ERR'\n",
        "a.loc[a.NOC == 'VNM', 'NOC'] = 'VIE'\n"
      ],
      "execution_count": null,
      "outputs": []
    },
    {
      "cell_type": "code",
      "metadata": {
        "colab": {
          "base_uri": "https://localhost:8080/",
          "height": 80
        },
        "id": "ggDfpCXBBrpL",
        "outputId": "5fd386c6-b2e2-43ce-e5ea-243ec889701b"
      },
      "source": [
        "c[c.Country_name=='Singapore']"
      ],
      "execution_count": null,
      "outputs": [
        {
          "output_type": "execute_result",
          "data": {
            "text/html": [
              "<div>\n",
              "<style scoped>\n",
              "    .dataframe tbody tr th:only-of-type {\n",
              "        vertical-align: middle;\n",
              "    }\n",
              "\n",
              "    .dataframe tbody tr th {\n",
              "        vertical-align: top;\n",
              "    }\n",
              "\n",
              "    .dataframe thead th {\n",
              "        text-align: right;\n",
              "    }\n",
              "</style>\n",
              "<table border=\"1\" class=\"dataframe\">\n",
              "  <thead>\n",
              "    <tr style=\"text-align: right;\">\n",
              "      <th></th>\n",
              "      <th>Unnamed: 0</th>\n",
              "      <th>Country_name</th>\n",
              "      <th>Area</th>\n",
              "      <th>Population</th>\n",
              "      <th>Sex_ratio</th>\n",
              "      <th>GDP</th>\n",
              "      <th>UnE_rate</th>\n",
              "      <th>NOC</th>\n",
              "    </tr>\n",
              "  </thead>\n",
              "  <tbody>\n",
              "    <tr>\n",
              "      <th>182</th>\n",
              "      <td>182</td>\n",
              "      <td>Singapore</td>\n",
              "      <td>719.0</td>\n",
              "      <td>5709.0</td>\n",
              "      <td>97.7</td>\n",
              "      <td>292734.0</td>\n",
              "      <td>2.0</td>\n",
              "      <td>SIN</td>\n",
              "    </tr>\n",
              "  </tbody>\n",
              "</table>\n",
              "</div>"
            ],
            "text/plain": [
              "     Unnamed: 0 Country_name   Area  ...       GDP  UnE_rate  NOC\n",
              "182         182    Singapore  719.0  ...  292734.0       2.0  SIN\n",
              "\n",
              "[1 rows x 8 columns]"
            ]
          },
          "metadata": {
            "tags": []
          },
          "execution_count": 63
        }
      ]
    },
    {
      "cell_type": "code",
      "metadata": {
        "colab": {
          "base_uri": "https://localhost:8080/"
        },
        "id": "19sx8EWFCRxk",
        "outputId": "725c6945-e7e3-4335-894a-9370c5e45411"
      },
      "source": [
        "c.Country_name"
      ],
      "execution_count": null,
      "outputs": [
        {
          "output_type": "execute_result",
          "data": {
            "text/plain": [
              "0          Afghanistan\n",
              "1              Albania\n",
              "2              Algeria\n",
              "3       American Samoa\n",
              "4              Andorra\n",
              "            ...       \n",
              "225     Western Sahara\n",
              "226              Yemen\n",
              "227             Zambia\n",
              "228           Zimbabwe\n",
              "229    No longer exist\n",
              "Name: Country_name, Length: 230, dtype: object"
            ]
          },
          "metadata": {
            "tags": []
          },
          "execution_count": 59
        }
      ]
    },
    {
      "cell_type": "code",
      "metadata": {
        "id": "ll5PWmLnCjZB"
      },
      "source": [
        "a.to_csv('./athlete.csv')"
      ],
      "execution_count": null,
      "outputs": []
    },
    {
      "cell_type": "code",
      "metadata": {
        "id": "ZE01_-cNFvPJ"
      },
      "source": [
        "\"\""
      ],
      "execution_count": null,
      "outputs": []
    }
  ]
}