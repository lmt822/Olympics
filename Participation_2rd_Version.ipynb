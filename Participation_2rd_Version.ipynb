{
  "nbformat": 4,
  "nbformat_minor": 0,
  "metadata": {
    "colab": {
      "name": "Participation_2rd_Version.ipynb",
      "provenance": [],
      "include_colab_link": true
    },
    "kernelspec": {
      "name": "python3",
      "display_name": "Python 3"
    }
  },
  "cells": [
    {
      "cell_type": "markdown",
      "metadata": {
        "id": "view-in-github",
        "colab_type": "text"
      },
      "source": [
        "<a href=\"https://colab.research.google.com/github/lmt822/Olympics/blob/main/Participation_2rd_Version.ipynb\" target=\"_parent\"><img src=\"https://colab.research.google.com/assets/colab-badge.svg\" alt=\"Open In Colab\"/></a>"
      ]
    },
    {
      "cell_type": "code",
      "metadata": {
        "colab": {
          "base_uri": "https://localhost:8080/"
        },
        "id": "79nXMQpVu_31",
        "outputId": "6798ff96-e96f-40ed-87e0-1f83e7a8197d"
      },
      "source": [
        "from google.colab import drive\n",
        "drive.mount('/content/drive')"
      ],
      "execution_count": null,
      "outputs": [
        {
          "output_type": "stream",
          "text": [
            "Drive already mounted at /content/drive; to attempt to forcibly remount, call drive.mount(\"/content/drive\", force_remount=True).\n"
          ],
          "name": "stdout"
        }
      ]
    },
    {
      "cell_type": "code",
      "metadata": {
        "id": "4BzACd-7TixC"
      },
      "source": [
        "import pandas as pd\n",
        "import os\n",
        "import numpy as np"
      ],
      "execution_count": null,
      "outputs": []
    },
    {
      "cell_type": "code",
      "metadata": {
        "colab": {
          "base_uri": "https://localhost:8080/",
          "height": 915
        },
        "id": "jCUsxejMvTDW",
        "outputId": "b9d9469a-31eb-4060-a799-b196270126c7"
      },
      "source": [
        "location = '/content/drive/My Drive/550 Project/Data'\n",
        "athlete_events = pd.read_csv('{}/athlete_events.csv'.format(location))\n",
        "athlete_events"
      ],
      "execution_count": null,
      "outputs": [
        {
          "output_type": "execute_result",
          "data": {
            "text/html": [
              "<div>\n",
              "<style scoped>\n",
              "    .dataframe tbody tr th:only-of-type {\n",
              "        vertical-align: middle;\n",
              "    }\n",
              "\n",
              "    .dataframe tbody tr th {\n",
              "        vertical-align: top;\n",
              "    }\n",
              "\n",
              "    .dataframe thead th {\n",
              "        text-align: right;\n",
              "    }\n",
              "</style>\n",
              "<table border=\"1\" class=\"dataframe\">\n",
              "  <thead>\n",
              "    <tr style=\"text-align: right;\">\n",
              "      <th></th>\n",
              "      <th>ID</th>\n",
              "      <th>Name</th>\n",
              "      <th>Sex</th>\n",
              "      <th>Age</th>\n",
              "      <th>Height</th>\n",
              "      <th>Weight</th>\n",
              "      <th>Team</th>\n",
              "      <th>NOC</th>\n",
              "      <th>Games</th>\n",
              "      <th>Year</th>\n",
              "      <th>Season</th>\n",
              "      <th>City</th>\n",
              "      <th>Sport</th>\n",
              "      <th>Event</th>\n",
              "      <th>Medal</th>\n",
              "    </tr>\n",
              "  </thead>\n",
              "  <tbody>\n",
              "    <tr>\n",
              "      <th>0</th>\n",
              "      <td>1</td>\n",
              "      <td>A Dijiang</td>\n",
              "      <td>M</td>\n",
              "      <td>24.0</td>\n",
              "      <td>180.0</td>\n",
              "      <td>80.0</td>\n",
              "      <td>China</td>\n",
              "      <td>CHN</td>\n",
              "      <td>1992 Summer</td>\n",
              "      <td>1992</td>\n",
              "      <td>Summer</td>\n",
              "      <td>Barcelona</td>\n",
              "      <td>Basketball</td>\n",
              "      <td>Basketball Men's Basketball</td>\n",
              "      <td>NaN</td>\n",
              "    </tr>\n",
              "    <tr>\n",
              "      <th>1</th>\n",
              "      <td>2</td>\n",
              "      <td>A Lamusi</td>\n",
              "      <td>M</td>\n",
              "      <td>23.0</td>\n",
              "      <td>170.0</td>\n",
              "      <td>60.0</td>\n",
              "      <td>China</td>\n",
              "      <td>CHN</td>\n",
              "      <td>2012 Summer</td>\n",
              "      <td>2012</td>\n",
              "      <td>Summer</td>\n",
              "      <td>London</td>\n",
              "      <td>Judo</td>\n",
              "      <td>Judo Men's Extra-Lightweight</td>\n",
              "      <td>NaN</td>\n",
              "    </tr>\n",
              "    <tr>\n",
              "      <th>2</th>\n",
              "      <td>3</td>\n",
              "      <td>Gunnar Nielsen Aaby</td>\n",
              "      <td>M</td>\n",
              "      <td>24.0</td>\n",
              "      <td>NaN</td>\n",
              "      <td>NaN</td>\n",
              "      <td>Denmark</td>\n",
              "      <td>DEN</td>\n",
              "      <td>1920 Summer</td>\n",
              "      <td>1920</td>\n",
              "      <td>Summer</td>\n",
              "      <td>Antwerpen</td>\n",
              "      <td>Football</td>\n",
              "      <td>Football Men's Football</td>\n",
              "      <td>NaN</td>\n",
              "    </tr>\n",
              "    <tr>\n",
              "      <th>3</th>\n",
              "      <td>4</td>\n",
              "      <td>Edgar Lindenau Aabye</td>\n",
              "      <td>M</td>\n",
              "      <td>34.0</td>\n",
              "      <td>NaN</td>\n",
              "      <td>NaN</td>\n",
              "      <td>Denmark/Sweden</td>\n",
              "      <td>DEN</td>\n",
              "      <td>1900 Summer</td>\n",
              "      <td>1900</td>\n",
              "      <td>Summer</td>\n",
              "      <td>Paris</td>\n",
              "      <td>Tug-Of-War</td>\n",
              "      <td>Tug-Of-War Men's Tug-Of-War</td>\n",
              "      <td>Gold</td>\n",
              "    </tr>\n",
              "    <tr>\n",
              "      <th>4</th>\n",
              "      <td>5</td>\n",
              "      <td>Christine Jacoba Aaftink</td>\n",
              "      <td>F</td>\n",
              "      <td>21.0</td>\n",
              "      <td>185.0</td>\n",
              "      <td>82.0</td>\n",
              "      <td>Netherlands</td>\n",
              "      <td>NED</td>\n",
              "      <td>1988 Winter</td>\n",
              "      <td>1988</td>\n",
              "      <td>Winter</td>\n",
              "      <td>Calgary</td>\n",
              "      <td>Speed Skating</td>\n",
              "      <td>Speed Skating Women's 500 metres</td>\n",
              "      <td>NaN</td>\n",
              "    </tr>\n",
              "    <tr>\n",
              "      <th>...</th>\n",
              "      <td>...</td>\n",
              "      <td>...</td>\n",
              "      <td>...</td>\n",
              "      <td>...</td>\n",
              "      <td>...</td>\n",
              "      <td>...</td>\n",
              "      <td>...</td>\n",
              "      <td>...</td>\n",
              "      <td>...</td>\n",
              "      <td>...</td>\n",
              "      <td>...</td>\n",
              "      <td>...</td>\n",
              "      <td>...</td>\n",
              "      <td>...</td>\n",
              "      <td>...</td>\n",
              "    </tr>\n",
              "    <tr>\n",
              "      <th>271111</th>\n",
              "      <td>135569</td>\n",
              "      <td>Andrzej ya</td>\n",
              "      <td>M</td>\n",
              "      <td>29.0</td>\n",
              "      <td>179.0</td>\n",
              "      <td>89.0</td>\n",
              "      <td>Poland-1</td>\n",
              "      <td>POL</td>\n",
              "      <td>1976 Winter</td>\n",
              "      <td>1976</td>\n",
              "      <td>Winter</td>\n",
              "      <td>Innsbruck</td>\n",
              "      <td>Luge</td>\n",
              "      <td>Luge Mixed (Men)'s Doubles</td>\n",
              "      <td>NaN</td>\n",
              "    </tr>\n",
              "    <tr>\n",
              "      <th>271112</th>\n",
              "      <td>135570</td>\n",
              "      <td>Piotr ya</td>\n",
              "      <td>M</td>\n",
              "      <td>27.0</td>\n",
              "      <td>176.0</td>\n",
              "      <td>59.0</td>\n",
              "      <td>Poland</td>\n",
              "      <td>POL</td>\n",
              "      <td>2014 Winter</td>\n",
              "      <td>2014</td>\n",
              "      <td>Winter</td>\n",
              "      <td>Sochi</td>\n",
              "      <td>Ski Jumping</td>\n",
              "      <td>Ski Jumping Men's Large Hill, Individual</td>\n",
              "      <td>NaN</td>\n",
              "    </tr>\n",
              "    <tr>\n",
              "      <th>271113</th>\n",
              "      <td>135570</td>\n",
              "      <td>Piotr ya</td>\n",
              "      <td>M</td>\n",
              "      <td>27.0</td>\n",
              "      <td>176.0</td>\n",
              "      <td>59.0</td>\n",
              "      <td>Poland</td>\n",
              "      <td>POL</td>\n",
              "      <td>2014 Winter</td>\n",
              "      <td>2014</td>\n",
              "      <td>Winter</td>\n",
              "      <td>Sochi</td>\n",
              "      <td>Ski Jumping</td>\n",
              "      <td>Ski Jumping Men's Large Hill, Team</td>\n",
              "      <td>NaN</td>\n",
              "    </tr>\n",
              "    <tr>\n",
              "      <th>271114</th>\n",
              "      <td>135571</td>\n",
              "      <td>Tomasz Ireneusz ya</td>\n",
              "      <td>M</td>\n",
              "      <td>30.0</td>\n",
              "      <td>185.0</td>\n",
              "      <td>96.0</td>\n",
              "      <td>Poland</td>\n",
              "      <td>POL</td>\n",
              "      <td>1998 Winter</td>\n",
              "      <td>1998</td>\n",
              "      <td>Winter</td>\n",
              "      <td>Nagano</td>\n",
              "      <td>Bobsleigh</td>\n",
              "      <td>Bobsleigh Men's Four</td>\n",
              "      <td>NaN</td>\n",
              "    </tr>\n",
              "    <tr>\n",
              "      <th>271115</th>\n",
              "      <td>135571</td>\n",
              "      <td>Tomasz Ireneusz ya</td>\n",
              "      <td>M</td>\n",
              "      <td>34.0</td>\n",
              "      <td>185.0</td>\n",
              "      <td>96.0</td>\n",
              "      <td>Poland</td>\n",
              "      <td>POL</td>\n",
              "      <td>2002 Winter</td>\n",
              "      <td>2002</td>\n",
              "      <td>Winter</td>\n",
              "      <td>Salt Lake City</td>\n",
              "      <td>Bobsleigh</td>\n",
              "      <td>Bobsleigh Men's Four</td>\n",
              "      <td>NaN</td>\n",
              "    </tr>\n",
              "  </tbody>\n",
              "</table>\n",
              "<p>271116 rows × 15 columns</p>\n",
              "</div>"
            ],
            "text/plain": [
              "            ID  ... Medal\n",
              "0            1  ...   NaN\n",
              "1            2  ...   NaN\n",
              "2            3  ...   NaN\n",
              "3            4  ...  Gold\n",
              "4            5  ...   NaN\n",
              "...        ...  ...   ...\n",
              "271111  135569  ...   NaN\n",
              "271112  135570  ...   NaN\n",
              "271113  135570  ...   NaN\n",
              "271114  135571  ...   NaN\n",
              "271115  135571  ...   NaN\n",
              "\n",
              "[271116 rows x 15 columns]"
            ]
          },
          "metadata": {
            "tags": []
          },
          "execution_count": 3
        }
      ]
    },
    {
      "cell_type": "code",
      "metadata": {
        "colab": {
          "base_uri": "https://localhost:8080/"
        },
        "id": "abfNQ-XpyDIP",
        "outputId": "72a9ec68-705a-4613-b928-dc690529ae05"
      },
      "source": [
        "athlete_events = athlete_events.drop_duplicates()\n",
        "athlete_events.shape"
      ],
      "execution_count": null,
      "outputs": [
        {
          "output_type": "execute_result",
          "data": {
            "text/plain": [
              "(269731, 15)"
            ]
          },
          "metadata": {
            "tags": []
          },
          "execution_count": 4
        }
      ]
    },
    {
      "cell_type": "code",
      "metadata": {
        "colab": {
          "base_uri": "https://localhost:8080/"
        },
        "id": "_JLRaXw3vYma",
        "outputId": "5de665e9-0c55-4a78-f5fc-e3e8b3920fa3"
      },
      "source": [
        "athlete_events.isnull().sum(axis = 0)"
      ],
      "execution_count": null,
      "outputs": [
        {
          "output_type": "execute_result",
          "data": {
            "text/plain": [
              "ID             0\n",
              "Name           0\n",
              "Sex            0\n",
              "Age         9315\n",
              "Height     58814\n",
              "Weight     61527\n",
              "Team           0\n",
              "NOC            0\n",
              "Games          0\n",
              "Year           0\n",
              "Season         0\n",
              "City           0\n",
              "Sport          0\n",
              "Event          0\n",
              "Medal     229959\n",
              "dtype: int64"
            ]
          },
          "metadata": {
            "tags": []
          },
          "execution_count": 5
        }
      ]
    },
    {
      "cell_type": "markdown",
      "metadata": {
        "id": "SL6ly8H47LLZ"
      },
      "source": [
        "**Creating Olympic_game.csv and Game_Event.csv.**"
      ]
    },
    {
      "cell_type": "code",
      "metadata": {
        "colab": {
          "base_uri": "https://localhost:8080/"
        },
        "id": "BfrmIguisyMw",
        "outputId": "41d50e41-dfbf-4278-94ca-4c79bcfc282f"
      },
      "source": [
        "athlete_events = athlete_events[athlete_events['Age'].notna()]\n",
        "athlete_events = athlete_events[athlete_events.Year != 1906]\n",
        "athlete_events.shape"
      ],
      "execution_count": null,
      "outputs": [
        {
          "output_type": "execute_result",
          "data": {
            "text/plain": [
              "(259426, 15)"
            ]
          },
          "metadata": {
            "tags": []
          },
          "execution_count": 6
        }
      ]
    },
    {
      "cell_type": "code",
      "metadata": {
        "id": "1NgZKHZvtFyJ"
      },
      "source": [
        "athlete_events.loc[athlete_events.City == \"Stockholm\", \"City\"] = \"Melbourne / Stockholm\"\n",
        "athlete_events.loc[athlete_events.City == \"Melbourne\", \"City\"] = \"Melbourne / Stockholm\""
      ],
      "execution_count": null,
      "outputs": []
    },
    {
      "cell_type": "code",
      "metadata": {
        "id": "XKj2fhv5oBmx",
        "colab": {
          "base_uri": "https://localhost:8080/",
          "height": 1000
        },
        "outputId": "2a40c9bf-2bcc-4346-c164-5beab4213252"
      },
      "source": [
        "olympic_game = athlete_events.copy()\n",
        "olympic_game = olympic_game[['City','Year','Season']].drop_duplicates()\n",
        "olympic_game = olympic_game.sort_values(by=['Year'])\n",
        "\n",
        "olympic_game = olympic_game.reset_index().drop(columns='index')\n",
        "olympic_game.reset_index(inplace=True)\n",
        "olympic_game.rename(columns={\"index\": \"Olympic_ID\"}, inplace=True)\n",
        "\n",
        "olympic_game"
      ],
      "execution_count": null,
      "outputs": [
        {
          "output_type": "execute_result",
          "data": {
            "text/html": [
              "<div>\n",
              "<style scoped>\n",
              "    .dataframe tbody tr th:only-of-type {\n",
              "        vertical-align: middle;\n",
              "    }\n",
              "\n",
              "    .dataframe tbody tr th {\n",
              "        vertical-align: top;\n",
              "    }\n",
              "\n",
              "    .dataframe thead th {\n",
              "        text-align: right;\n",
              "    }\n",
              "</style>\n",
              "<table border=\"1\" class=\"dataframe\">\n",
              "  <thead>\n",
              "    <tr style=\"text-align: right;\">\n",
              "      <th></th>\n",
              "      <th>Olympic_ID</th>\n",
              "      <th>City</th>\n",
              "      <th>Year</th>\n",
              "      <th>Season</th>\n",
              "    </tr>\n",
              "  </thead>\n",
              "  <tbody>\n",
              "    <tr>\n",
              "      <th>0</th>\n",
              "      <td>0</td>\n",
              "      <td>Athina</td>\n",
              "      <td>1896</td>\n",
              "      <td>Summer</td>\n",
              "    </tr>\n",
              "    <tr>\n",
              "      <th>1</th>\n",
              "      <td>1</td>\n",
              "      <td>Paris</td>\n",
              "      <td>1900</td>\n",
              "      <td>Summer</td>\n",
              "    </tr>\n",
              "    <tr>\n",
              "      <th>2</th>\n",
              "      <td>2</td>\n",
              "      <td>St. Louis</td>\n",
              "      <td>1904</td>\n",
              "      <td>Summer</td>\n",
              "    </tr>\n",
              "    <tr>\n",
              "      <th>3</th>\n",
              "      <td>3</td>\n",
              "      <td>London</td>\n",
              "      <td>1908</td>\n",
              "      <td>Summer</td>\n",
              "    </tr>\n",
              "    <tr>\n",
              "      <th>4</th>\n",
              "      <td>4</td>\n",
              "      <td>Melbourne / Stockholm</td>\n",
              "      <td>1912</td>\n",
              "      <td>Summer</td>\n",
              "    </tr>\n",
              "    <tr>\n",
              "      <th>5</th>\n",
              "      <td>5</td>\n",
              "      <td>Antwerpen</td>\n",
              "      <td>1920</td>\n",
              "      <td>Summer</td>\n",
              "    </tr>\n",
              "    <tr>\n",
              "      <th>6</th>\n",
              "      <td>6</td>\n",
              "      <td>Paris</td>\n",
              "      <td>1924</td>\n",
              "      <td>Summer</td>\n",
              "    </tr>\n",
              "    <tr>\n",
              "      <th>7</th>\n",
              "      <td>7</td>\n",
              "      <td>Chamonix</td>\n",
              "      <td>1924</td>\n",
              "      <td>Winter</td>\n",
              "    </tr>\n",
              "    <tr>\n",
              "      <th>8</th>\n",
              "      <td>8</td>\n",
              "      <td>Amsterdam</td>\n",
              "      <td>1928</td>\n",
              "      <td>Summer</td>\n",
              "    </tr>\n",
              "    <tr>\n",
              "      <th>9</th>\n",
              "      <td>9</td>\n",
              "      <td>Sankt Moritz</td>\n",
              "      <td>1928</td>\n",
              "      <td>Winter</td>\n",
              "    </tr>\n",
              "    <tr>\n",
              "      <th>10</th>\n",
              "      <td>10</td>\n",
              "      <td>Lake Placid</td>\n",
              "      <td>1932</td>\n",
              "      <td>Winter</td>\n",
              "    </tr>\n",
              "    <tr>\n",
              "      <th>11</th>\n",
              "      <td>11</td>\n",
              "      <td>Los Angeles</td>\n",
              "      <td>1932</td>\n",
              "      <td>Summer</td>\n",
              "    </tr>\n",
              "    <tr>\n",
              "      <th>12</th>\n",
              "      <td>12</td>\n",
              "      <td>Garmisch-Partenkirchen</td>\n",
              "      <td>1936</td>\n",
              "      <td>Winter</td>\n",
              "    </tr>\n",
              "    <tr>\n",
              "      <th>13</th>\n",
              "      <td>13</td>\n",
              "      <td>Berlin</td>\n",
              "      <td>1936</td>\n",
              "      <td>Summer</td>\n",
              "    </tr>\n",
              "    <tr>\n",
              "      <th>14</th>\n",
              "      <td>14</td>\n",
              "      <td>Sankt Moritz</td>\n",
              "      <td>1948</td>\n",
              "      <td>Winter</td>\n",
              "    </tr>\n",
              "    <tr>\n",
              "      <th>15</th>\n",
              "      <td>15</td>\n",
              "      <td>London</td>\n",
              "      <td>1948</td>\n",
              "      <td>Summer</td>\n",
              "    </tr>\n",
              "    <tr>\n",
              "      <th>16</th>\n",
              "      <td>16</td>\n",
              "      <td>Oslo</td>\n",
              "      <td>1952</td>\n",
              "      <td>Winter</td>\n",
              "    </tr>\n",
              "    <tr>\n",
              "      <th>17</th>\n",
              "      <td>17</td>\n",
              "      <td>Helsinki</td>\n",
              "      <td>1952</td>\n",
              "      <td>Summer</td>\n",
              "    </tr>\n",
              "    <tr>\n",
              "      <th>18</th>\n",
              "      <td>18</td>\n",
              "      <td>Melbourne / Stockholm</td>\n",
              "      <td>1956</td>\n",
              "      <td>Summer</td>\n",
              "    </tr>\n",
              "    <tr>\n",
              "      <th>19</th>\n",
              "      <td>19</td>\n",
              "      <td>Cortina d'Ampezzo</td>\n",
              "      <td>1956</td>\n",
              "      <td>Winter</td>\n",
              "    </tr>\n",
              "    <tr>\n",
              "      <th>20</th>\n",
              "      <td>20</td>\n",
              "      <td>Squaw Valley</td>\n",
              "      <td>1960</td>\n",
              "      <td>Winter</td>\n",
              "    </tr>\n",
              "    <tr>\n",
              "      <th>21</th>\n",
              "      <td>21</td>\n",
              "      <td>Roma</td>\n",
              "      <td>1960</td>\n",
              "      <td>Summer</td>\n",
              "    </tr>\n",
              "    <tr>\n",
              "      <th>22</th>\n",
              "      <td>22</td>\n",
              "      <td>Tokyo</td>\n",
              "      <td>1964</td>\n",
              "      <td>Summer</td>\n",
              "    </tr>\n",
              "    <tr>\n",
              "      <th>23</th>\n",
              "      <td>23</td>\n",
              "      <td>Innsbruck</td>\n",
              "      <td>1964</td>\n",
              "      <td>Winter</td>\n",
              "    </tr>\n",
              "    <tr>\n",
              "      <th>24</th>\n",
              "      <td>24</td>\n",
              "      <td>Grenoble</td>\n",
              "      <td>1968</td>\n",
              "      <td>Winter</td>\n",
              "    </tr>\n",
              "    <tr>\n",
              "      <th>25</th>\n",
              "      <td>25</td>\n",
              "      <td>Mexico City</td>\n",
              "      <td>1968</td>\n",
              "      <td>Summer</td>\n",
              "    </tr>\n",
              "    <tr>\n",
              "      <th>26</th>\n",
              "      <td>26</td>\n",
              "      <td>Munich</td>\n",
              "      <td>1972</td>\n",
              "      <td>Summer</td>\n",
              "    </tr>\n",
              "    <tr>\n",
              "      <th>27</th>\n",
              "      <td>27</td>\n",
              "      <td>Sapporo</td>\n",
              "      <td>1972</td>\n",
              "      <td>Winter</td>\n",
              "    </tr>\n",
              "    <tr>\n",
              "      <th>28</th>\n",
              "      <td>28</td>\n",
              "      <td>Montreal</td>\n",
              "      <td>1976</td>\n",
              "      <td>Summer</td>\n",
              "    </tr>\n",
              "    <tr>\n",
              "      <th>29</th>\n",
              "      <td>29</td>\n",
              "      <td>Innsbruck</td>\n",
              "      <td>1976</td>\n",
              "      <td>Winter</td>\n",
              "    </tr>\n",
              "    <tr>\n",
              "      <th>30</th>\n",
              "      <td>30</td>\n",
              "      <td>Lake Placid</td>\n",
              "      <td>1980</td>\n",
              "      <td>Winter</td>\n",
              "    </tr>\n",
              "    <tr>\n",
              "      <th>31</th>\n",
              "      <td>31</td>\n",
              "      <td>Moskva</td>\n",
              "      <td>1980</td>\n",
              "      <td>Summer</td>\n",
              "    </tr>\n",
              "    <tr>\n",
              "      <th>32</th>\n",
              "      <td>32</td>\n",
              "      <td>Sarajevo</td>\n",
              "      <td>1984</td>\n",
              "      <td>Winter</td>\n",
              "    </tr>\n",
              "    <tr>\n",
              "      <th>33</th>\n",
              "      <td>33</td>\n",
              "      <td>Los Angeles</td>\n",
              "      <td>1984</td>\n",
              "      <td>Summer</td>\n",
              "    </tr>\n",
              "    <tr>\n",
              "      <th>34</th>\n",
              "      <td>34</td>\n",
              "      <td>Calgary</td>\n",
              "      <td>1988</td>\n",
              "      <td>Winter</td>\n",
              "    </tr>\n",
              "    <tr>\n",
              "      <th>35</th>\n",
              "      <td>35</td>\n",
              "      <td>Seoul</td>\n",
              "      <td>1988</td>\n",
              "      <td>Summer</td>\n",
              "    </tr>\n",
              "    <tr>\n",
              "      <th>36</th>\n",
              "      <td>36</td>\n",
              "      <td>Albertville</td>\n",
              "      <td>1992</td>\n",
              "      <td>Winter</td>\n",
              "    </tr>\n",
              "    <tr>\n",
              "      <th>37</th>\n",
              "      <td>37</td>\n",
              "      <td>Barcelona</td>\n",
              "      <td>1992</td>\n",
              "      <td>Summer</td>\n",
              "    </tr>\n",
              "    <tr>\n",
              "      <th>38</th>\n",
              "      <td>38</td>\n",
              "      <td>Lillehammer</td>\n",
              "      <td>1994</td>\n",
              "      <td>Winter</td>\n",
              "    </tr>\n",
              "    <tr>\n",
              "      <th>39</th>\n",
              "      <td>39</td>\n",
              "      <td>Atlanta</td>\n",
              "      <td>1996</td>\n",
              "      <td>Summer</td>\n",
              "    </tr>\n",
              "    <tr>\n",
              "      <th>40</th>\n",
              "      <td>40</td>\n",
              "      <td>Nagano</td>\n",
              "      <td>1998</td>\n",
              "      <td>Winter</td>\n",
              "    </tr>\n",
              "    <tr>\n",
              "      <th>41</th>\n",
              "      <td>41</td>\n",
              "      <td>Sydney</td>\n",
              "      <td>2000</td>\n",
              "      <td>Summer</td>\n",
              "    </tr>\n",
              "    <tr>\n",
              "      <th>42</th>\n",
              "      <td>42</td>\n",
              "      <td>Salt Lake City</td>\n",
              "      <td>2002</td>\n",
              "      <td>Winter</td>\n",
              "    </tr>\n",
              "    <tr>\n",
              "      <th>43</th>\n",
              "      <td>43</td>\n",
              "      <td>Athina</td>\n",
              "      <td>2004</td>\n",
              "      <td>Summer</td>\n",
              "    </tr>\n",
              "    <tr>\n",
              "      <th>44</th>\n",
              "      <td>44</td>\n",
              "      <td>Torino</td>\n",
              "      <td>2006</td>\n",
              "      <td>Winter</td>\n",
              "    </tr>\n",
              "    <tr>\n",
              "      <th>45</th>\n",
              "      <td>45</td>\n",
              "      <td>Beijing</td>\n",
              "      <td>2008</td>\n",
              "      <td>Summer</td>\n",
              "    </tr>\n",
              "    <tr>\n",
              "      <th>46</th>\n",
              "      <td>46</td>\n",
              "      <td>Vancouver</td>\n",
              "      <td>2010</td>\n",
              "      <td>Winter</td>\n",
              "    </tr>\n",
              "    <tr>\n",
              "      <th>47</th>\n",
              "      <td>47</td>\n",
              "      <td>London</td>\n",
              "      <td>2012</td>\n",
              "      <td>Summer</td>\n",
              "    </tr>\n",
              "    <tr>\n",
              "      <th>48</th>\n",
              "      <td>48</td>\n",
              "      <td>Sochi</td>\n",
              "      <td>2014</td>\n",
              "      <td>Winter</td>\n",
              "    </tr>\n",
              "    <tr>\n",
              "      <th>49</th>\n",
              "      <td>49</td>\n",
              "      <td>Rio de Janeiro</td>\n",
              "      <td>2016</td>\n",
              "      <td>Summer</td>\n",
              "    </tr>\n",
              "  </tbody>\n",
              "</table>\n",
              "</div>"
            ],
            "text/plain": [
              "    Olympic_ID                    City  Year  Season\n",
              "0            0                  Athina  1896  Summer\n",
              "1            1                   Paris  1900  Summer\n",
              "2            2               St. Louis  1904  Summer\n",
              "3            3                  London  1908  Summer\n",
              "4            4   Melbourne / Stockholm  1912  Summer\n",
              "5            5               Antwerpen  1920  Summer\n",
              "6            6                   Paris  1924  Summer\n",
              "7            7                Chamonix  1924  Winter\n",
              "8            8               Amsterdam  1928  Summer\n",
              "9            9            Sankt Moritz  1928  Winter\n",
              "10          10             Lake Placid  1932  Winter\n",
              "11          11             Los Angeles  1932  Summer\n",
              "12          12  Garmisch-Partenkirchen  1936  Winter\n",
              "13          13                  Berlin  1936  Summer\n",
              "14          14            Sankt Moritz  1948  Winter\n",
              "15          15                  London  1948  Summer\n",
              "16          16                    Oslo  1952  Winter\n",
              "17          17                Helsinki  1952  Summer\n",
              "18          18   Melbourne / Stockholm  1956  Summer\n",
              "19          19       Cortina d'Ampezzo  1956  Winter\n",
              "20          20            Squaw Valley  1960  Winter\n",
              "21          21                    Roma  1960  Summer\n",
              "22          22                   Tokyo  1964  Summer\n",
              "23          23               Innsbruck  1964  Winter\n",
              "24          24                Grenoble  1968  Winter\n",
              "25          25             Mexico City  1968  Summer\n",
              "26          26                  Munich  1972  Summer\n",
              "27          27                 Sapporo  1972  Winter\n",
              "28          28                Montreal  1976  Summer\n",
              "29          29               Innsbruck  1976  Winter\n",
              "30          30             Lake Placid  1980  Winter\n",
              "31          31                  Moskva  1980  Summer\n",
              "32          32                Sarajevo  1984  Winter\n",
              "33          33             Los Angeles  1984  Summer\n",
              "34          34                 Calgary  1988  Winter\n",
              "35          35                   Seoul  1988  Summer\n",
              "36          36             Albertville  1992  Winter\n",
              "37          37               Barcelona  1992  Summer\n",
              "38          38             Lillehammer  1994  Winter\n",
              "39          39                 Atlanta  1996  Summer\n",
              "40          40                  Nagano  1998  Winter\n",
              "41          41                  Sydney  2000  Summer\n",
              "42          42          Salt Lake City  2002  Winter\n",
              "43          43                  Athina  2004  Summer\n",
              "44          44                  Torino  2006  Winter\n",
              "45          45                 Beijing  2008  Summer\n",
              "46          46               Vancouver  2010  Winter\n",
              "47          47                  London  2012  Summer\n",
              "48          48                   Sochi  2014  Winter\n",
              "49          49          Rio de Janeiro  2016  Summer"
            ]
          },
          "metadata": {
            "tags": []
          },
          "execution_count": 8
        }
      ]
    },
    {
      "cell_type": "code",
      "metadata": {
        "id": "2i25kOhJpcto"
      },
      "source": [
        "game_event = athlete_events.copy()\n",
        "game_event = olympic_game.merge(game_event, on=['City', 'Year', 'Season'], how='inner')"
      ],
      "execution_count": null,
      "outputs": []
    },
    {
      "cell_type": "code",
      "metadata": {
        "colab": {
          "base_uri": "https://localhost:8080/"
        },
        "id": "yZ1LiGVdptsV",
        "outputId": "3abd1125-39ee-4aac-9aab-3d56a2543aac"
      },
      "source": [
        "game_event.shape"
      ],
      "execution_count": null,
      "outputs": [
        {
          "output_type": "execute_result",
          "data": {
            "text/plain": [
              "(259426, 16)"
            ]
          },
          "metadata": {
            "tags": []
          },
          "execution_count": 10
        }
      ]
    },
    {
      "cell_type": "code",
      "metadata": {
        "colab": {
          "base_uri": "https://localhost:8080/"
        },
        "id": "XET89CgA28yj",
        "outputId": "6fb6b178-0e98-49f6-8ec0-f1f042308c8f"
      },
      "source": [
        "game_event = game_event.drop_duplicates()\n",
        "game_event.shape"
      ],
      "execution_count": null,
      "outputs": [
        {
          "output_type": "execute_result",
          "data": {
            "text/plain": [
              "(259426, 16)"
            ]
          },
          "metadata": {
            "tags": []
          },
          "execution_count": 11
        }
      ]
    },
    {
      "cell_type": "code",
      "metadata": {
        "colab": {
          "base_uri": "https://localhost:8080/"
        },
        "id": "Bm-VfNOp1GC0",
        "outputId": "4ef9cd61-daf9-4084-9ec2-0013f525db75"
      },
      "source": [
        "test = game_event.copy()\n",
        "test.shape"
      ],
      "execution_count": null,
      "outputs": [
        {
          "output_type": "execute_result",
          "data": {
            "text/plain": [
              "(259426, 16)"
            ]
          },
          "metadata": {
            "tags": []
          },
          "execution_count": 12
        }
      ]
    },
    {
      "cell_type": "code",
      "metadata": {
        "id": "ije9srHxzgJ9"
      },
      "source": [
        "game_event['Event_ID'] = pd.factorize(game_event.Sport+game_event.Event)[0]"
      ],
      "execution_count": null,
      "outputs": []
    },
    {
      "cell_type": "code",
      "metadata": {
        "colab": {
          "base_uri": "https://localhost:8080/"
        },
        "id": "rKV0gjemzlHx",
        "outputId": "03bf11d0-a0db-419b-f89e-74f8dbe4a965"
      },
      "source": [
        "game_event.shape "
      ],
      "execution_count": null,
      "outputs": [
        {
          "output_type": "execute_result",
          "data": {
            "text/plain": [
              "(259426, 17)"
            ]
          },
          "metadata": {
            "tags": []
          },
          "execution_count": 14
        }
      ]
    },
    {
      "cell_type": "code",
      "metadata": {
        "id": "AC3L3t4nz0LT"
      },
      "source": [
        "participates = game_event.copy()\n",
        "participates = participates[['Olympic_ID', 'Event_ID', 'ID', 'Medal']]\n",
        "participates = participates.rename(columns={\"ID\": \"Athlete_ID\"})"
      ],
      "execution_count": null,
      "outputs": []
    },
    {
      "cell_type": "code",
      "metadata": {
        "colab": {
          "base_uri": "https://localhost:8080/"
        },
        "id": "uWOiraF00NV1",
        "outputId": "5bc3e856-9dc5-4316-dcc4-03a967360e8a"
      },
      "source": [
        "participates.shape"
      ],
      "execution_count": null,
      "outputs": [
        {
          "output_type": "execute_result",
          "data": {
            "text/plain": [
              "(259426, 4)"
            ]
          },
          "metadata": {
            "tags": []
          },
          "execution_count": 16
        }
      ]
    },
    {
      "cell_type": "code",
      "metadata": {
        "colab": {
          "base_uri": "https://localhost:8080/",
          "height": 235
        },
        "id": "TP7bxzb6-yih",
        "outputId": "9c2fc706-03a9-4491-da29-0ada58968763"
      },
      "source": [
        "participates[participates.duplicated()]"
      ],
      "execution_count": null,
      "outputs": [
        {
          "output_type": "execute_result",
          "data": {
            "text/html": [
              "<div>\n",
              "<style scoped>\n",
              "    .dataframe tbody tr th:only-of-type {\n",
              "        vertical-align: middle;\n",
              "    }\n",
              "\n",
              "    .dataframe tbody tr th {\n",
              "        vertical-align: top;\n",
              "    }\n",
              "\n",
              "    .dataframe thead th {\n",
              "        text-align: right;\n",
              "    }\n",
              "</style>\n",
              "<table border=\"1\" class=\"dataframe\">\n",
              "  <thead>\n",
              "    <tr style=\"text-align: right;\">\n",
              "      <th></th>\n",
              "      <th>Olympic_ID</th>\n",
              "      <th>Event_ID</th>\n",
              "      <th>Athlete_ID</th>\n",
              "      <th>Medal</th>\n",
              "    </tr>\n",
              "  </thead>\n",
              "  <tbody>\n",
              "    <tr>\n",
              "      <th>254</th>\n",
              "      <td>1</td>\n",
              "      <td>56</td>\n",
              "      <td>8683</td>\n",
              "      <td>NaN</td>\n",
              "    </tr>\n",
              "    <tr>\n",
              "      <th>443</th>\n",
              "      <td>1</td>\n",
              "      <td>57</td>\n",
              "      <td>26037</td>\n",
              "      <td>NaN</td>\n",
              "    </tr>\n",
              "    <tr>\n",
              "      <th>795</th>\n",
              "      <td>1</td>\n",
              "      <td>56</td>\n",
              "      <td>67210</td>\n",
              "      <td>NaN</td>\n",
              "    </tr>\n",
              "    <tr>\n",
              "      <th>801</th>\n",
              "      <td>1</td>\n",
              "      <td>56</td>\n",
              "      <td>67492</td>\n",
              "      <td>NaN</td>\n",
              "    </tr>\n",
              "    <tr>\n",
              "      <th>885</th>\n",
              "      <td>1</td>\n",
              "      <td>56</td>\n",
              "      <td>75648</td>\n",
              "      <td>NaN</td>\n",
              "    </tr>\n",
              "    <tr>\n",
              "      <th>1278</th>\n",
              "      <td>1</td>\n",
              "      <td>89</td>\n",
              "      <td>125022</td>\n",
              "      <td>NaN</td>\n",
              "    </tr>\n",
              "  </tbody>\n",
              "</table>\n",
              "</div>"
            ],
            "text/plain": [
              "      Olympic_ID  Event_ID  Athlete_ID Medal\n",
              "254            1        56        8683   NaN\n",
              "443            1        57       26037   NaN\n",
              "795            1        56       67210   NaN\n",
              "801            1        56       67492   NaN\n",
              "885            1        56       75648   NaN\n",
              "1278           1        89      125022   NaN"
            ]
          },
          "metadata": {
            "tags": []
          },
          "execution_count": 17
        }
      ]
    },
    {
      "cell_type": "code",
      "metadata": {
        "colab": {
          "base_uri": "https://localhost:8080/",
          "height": 335
        },
        "id": "xC7nfW3-_FrO",
        "outputId": "a17042f5-c27f-4578-a5dd-5afbe693e927"
      },
      "source": [
        "game_event[game_event.ID == 125022]"
      ],
      "execution_count": null,
      "outputs": [
        {
          "output_type": "execute_result",
          "data": {
            "text/html": [
              "<div>\n",
              "<style scoped>\n",
              "    .dataframe tbody tr th:only-of-type {\n",
              "        vertical-align: middle;\n",
              "    }\n",
              "\n",
              "    .dataframe tbody tr th {\n",
              "        vertical-align: top;\n",
              "    }\n",
              "\n",
              "    .dataframe thead th {\n",
              "        text-align: right;\n",
              "    }\n",
              "</style>\n",
              "<table border=\"1\" class=\"dataframe\">\n",
              "  <thead>\n",
              "    <tr style=\"text-align: right;\">\n",
              "      <th></th>\n",
              "      <th>Olympic_ID</th>\n",
              "      <th>City</th>\n",
              "      <th>Year</th>\n",
              "      <th>Season</th>\n",
              "      <th>ID</th>\n",
              "      <th>Name</th>\n",
              "      <th>Sex</th>\n",
              "      <th>Age</th>\n",
              "      <th>Height</th>\n",
              "      <th>Weight</th>\n",
              "      <th>Team</th>\n",
              "      <th>NOC</th>\n",
              "      <th>Games</th>\n",
              "      <th>Sport</th>\n",
              "      <th>Event</th>\n",
              "      <th>Medal</th>\n",
              "      <th>Event_ID</th>\n",
              "    </tr>\n",
              "  </thead>\n",
              "  <tbody>\n",
              "    <tr>\n",
              "      <th>1277</th>\n",
              "      <td>1</td>\n",
              "      <td>Paris</td>\n",
              "      <td>1900</td>\n",
              "      <td>Summer</td>\n",
              "      <td>125022</td>\n",
              "      <td>Etienne Gustave Frdric Van Zuylen Van Nijevelt...</td>\n",
              "      <td>M</td>\n",
              "      <td>39.0</td>\n",
              "      <td>NaN</td>\n",
              "      <td>NaN</td>\n",
              "      <td>Belgium-1</td>\n",
              "      <td>BEL</td>\n",
              "      <td>1900 Summer</td>\n",
              "      <td>Equestrianism</td>\n",
              "      <td>Equestrianism Mixed Four-In-Hand Competition</td>\n",
              "      <td>NaN</td>\n",
              "      <td>89</td>\n",
              "    </tr>\n",
              "    <tr>\n",
              "      <th>1278</th>\n",
              "      <td>1</td>\n",
              "      <td>Paris</td>\n",
              "      <td>1900</td>\n",
              "      <td>Summer</td>\n",
              "      <td>125022</td>\n",
              "      <td>Etienne Gustave Frdric Van Zuylen Van Nijevelt...</td>\n",
              "      <td>M</td>\n",
              "      <td>39.0</td>\n",
              "      <td>NaN</td>\n",
              "      <td>NaN</td>\n",
              "      <td>Belgium-2</td>\n",
              "      <td>BEL</td>\n",
              "      <td>1900 Summer</td>\n",
              "      <td>Equestrianism</td>\n",
              "      <td>Equestrianism Mixed Four-In-Hand Competition</td>\n",
              "      <td>NaN</td>\n",
              "      <td>89</td>\n",
              "    </tr>\n",
              "  </tbody>\n",
              "</table>\n",
              "</div>"
            ],
            "text/plain": [
              "      Olympic_ID   City  ...  Medal Event_ID\n",
              "1277           1  Paris  ...    NaN       89\n",
              "1278           1  Paris  ...    NaN       89\n",
              "\n",
              "[2 rows x 17 columns]"
            ]
          },
          "metadata": {
            "tags": []
          },
          "execution_count": 18
        }
      ]
    },
    {
      "cell_type": "code",
      "metadata": {
        "colab": {
          "base_uri": "https://localhost:8080/"
        },
        "id": "NZrNDDI90Lz-",
        "outputId": "12bfaaa8-343a-45a1-9e47-c3adc807fcc7"
      },
      "source": [
        "participates = participates.drop_duplicates()\n",
        "participates.shape"
      ],
      "execution_count": null,
      "outputs": [
        {
          "output_type": "execute_result",
          "data": {
            "text/plain": [
              "(259420, 4)"
            ]
          },
          "metadata": {
            "tags": []
          },
          "execution_count": 19
        }
      ]
    },
    {
      "cell_type": "code",
      "metadata": {
        "id": "qzJZX07ErBJ6"
      },
      "source": [
        "game_event = game_event[['Olympic_ID', 'Event_ID', 'Sport', 'Event']]"
      ],
      "execution_count": null,
      "outputs": []
    },
    {
      "cell_type": "code",
      "metadata": {
        "id": "SwaC8rUVuyR0"
      },
      "source": [
        "game_event = game_event.drop_duplicates()"
      ],
      "execution_count": null,
      "outputs": []
    },
    {
      "cell_type": "code",
      "metadata": {
        "colab": {
          "base_uri": "https://localhost:8080/",
          "height": 419
        },
        "id": "1qVgWqNC8fcT",
        "outputId": "3eb4c084-f2db-4021-efd8-168202ed988a"
      },
      "source": [
        "game_event"
      ],
      "execution_count": null,
      "outputs": [
        {
          "output_type": "execute_result",
          "data": {
            "text/html": [
              "<div>\n",
              "<style scoped>\n",
              "    .dataframe tbody tr th:only-of-type {\n",
              "        vertical-align: middle;\n",
              "    }\n",
              "\n",
              "    .dataframe tbody tr th {\n",
              "        vertical-align: top;\n",
              "    }\n",
              "\n",
              "    .dataframe thead th {\n",
              "        text-align: right;\n",
              "    }\n",
              "</style>\n",
              "<table border=\"1\" class=\"dataframe\">\n",
              "  <thead>\n",
              "    <tr style=\"text-align: right;\">\n",
              "      <th></th>\n",
              "      <th>Olympic_ID</th>\n",
              "      <th>Event_ID</th>\n",
              "      <th>Sport</th>\n",
              "      <th>Event</th>\n",
              "    </tr>\n",
              "  </thead>\n",
              "  <tbody>\n",
              "    <tr>\n",
              "      <th>0</th>\n",
              "      <td>0</td>\n",
              "      <td>0</td>\n",
              "      <td>Athletics</td>\n",
              "      <td>Athletics Men's 1,500 metres</td>\n",
              "    </tr>\n",
              "    <tr>\n",
              "      <th>1</th>\n",
              "      <td>0</td>\n",
              "      <td>1</td>\n",
              "      <td>Athletics</td>\n",
              "      <td>Athletics Men's Marathon</td>\n",
              "    </tr>\n",
              "    <tr>\n",
              "      <th>2</th>\n",
              "      <td>0</td>\n",
              "      <td>2</td>\n",
              "      <td>Gymnastics</td>\n",
              "      <td>Gymnastics Men's Horse Vault</td>\n",
              "    </tr>\n",
              "    <tr>\n",
              "      <th>3</th>\n",
              "      <td>0</td>\n",
              "      <td>3</td>\n",
              "      <td>Gymnastics</td>\n",
              "      <td>Gymnastics Men's Parallel Bars</td>\n",
              "    </tr>\n",
              "    <tr>\n",
              "      <th>4</th>\n",
              "      <td>0</td>\n",
              "      <td>4</td>\n",
              "      <td>Gymnastics</td>\n",
              "      <td>Gymnastics Men's Parallel Bars, Teams</td>\n",
              "    </tr>\n",
              "    <tr>\n",
              "      <th>...</th>\n",
              "      <td>...</td>\n",
              "      <td>...</td>\n",
              "      <td>...</td>\n",
              "      <td>...</td>\n",
              "    </tr>\n",
              "    <tr>\n",
              "      <th>247712</th>\n",
              "      <td>49</td>\n",
              "      <td>586</td>\n",
              "      <td>Judo</td>\n",
              "      <td>Judo Women's Half-Heavyweight</td>\n",
              "    </tr>\n",
              "    <tr>\n",
              "      <th>247805</th>\n",
              "      <td>49</td>\n",
              "      <td>580</td>\n",
              "      <td>Badminton</td>\n",
              "      <td>Badminton Women's Doubles</td>\n",
              "    </tr>\n",
              "    <tr>\n",
              "      <th>247864</th>\n",
              "      <td>49</td>\n",
              "      <td>698</td>\n",
              "      <td>Table Tennis</td>\n",
              "      <td>Table Tennis Women's Team</td>\n",
              "    </tr>\n",
              "    <tr>\n",
              "      <th>247980</th>\n",
              "      <td>49</td>\n",
              "      <td>495</td>\n",
              "      <td>Canoeing</td>\n",
              "      <td>Canoeing Women's Kayak Singles, Slalom</td>\n",
              "    </tr>\n",
              "    <tr>\n",
              "      <th>250121</th>\n",
              "      <td>49</td>\n",
              "      <td>681</td>\n",
              "      <td>Wrestling</td>\n",
              "      <td>Wrestling Women's Middleweight, Freestyle</td>\n",
              "    </tr>\n",
              "  </tbody>\n",
              "</table>\n",
              "<p>6111 rows × 4 columns</p>\n",
              "</div>"
            ],
            "text/plain": [
              "        Olympic_ID  ...                                      Event\n",
              "0                0  ...               Athletics Men's 1,500 metres\n",
              "1                0  ...                   Athletics Men's Marathon\n",
              "2                0  ...               Gymnastics Men's Horse Vault\n",
              "3                0  ...             Gymnastics Men's Parallel Bars\n",
              "4                0  ...      Gymnastics Men's Parallel Bars, Teams\n",
              "...            ...  ...                                        ...\n",
              "247712          49  ...              Judo Women's Half-Heavyweight\n",
              "247805          49  ...                  Badminton Women's Doubles\n",
              "247864          49  ...                  Table Tennis Women's Team\n",
              "247980          49  ...     Canoeing Women's Kayak Singles, Slalom\n",
              "250121          49  ...  Wrestling Women's Middleweight, Freestyle\n",
              "\n",
              "[6111 rows x 4 columns]"
            ]
          },
          "metadata": {
            "tags": []
          },
          "execution_count": 22
        }
      ]
    },
    {
      "cell_type": "code",
      "metadata": {
        "colab": {
          "base_uri": "https://localhost:8080/"
        },
        "id": "SyhS20Ci0Dfq",
        "outputId": "99d88379-2e6a-4828-d59b-99e475b8626b"
      },
      "source": [
        "participates.dtypes"
      ],
      "execution_count": null,
      "outputs": [
        {
          "output_type": "execute_result",
          "data": {
            "text/plain": [
              "Olympic_ID     int64\n",
              "Event_ID       int64\n",
              "Athlete_ID     int64\n",
              "Medal         object\n",
              "dtype: object"
            ]
          },
          "metadata": {
            "tags": []
          },
          "execution_count": 23
        }
      ]
    },
    {
      "cell_type": "code",
      "metadata": {
        "colab": {
          "base_uri": "https://localhost:8080/"
        },
        "id": "cFpvR48r0EPM",
        "outputId": "3de3560e-eb64-41c5-bf7b-7c00f58ba119"
      },
      "source": [
        "olympic_game.dtypes"
      ],
      "execution_count": null,
      "outputs": [
        {
          "output_type": "execute_result",
          "data": {
            "text/plain": [
              "Olympic_ID     int64\n",
              "City          object\n",
              "Year           int64\n",
              "Season        object\n",
              "dtype: object"
            ]
          },
          "metadata": {
            "tags": []
          },
          "execution_count": 24
        }
      ]
    },
    {
      "cell_type": "code",
      "metadata": {
        "colab": {
          "base_uri": "https://localhost:8080/"
        },
        "id": "TkoQexlO0F70",
        "outputId": "aea628fd-2501-45fb-df82-7fb124ffb45e"
      },
      "source": [
        "game_event.dtypes"
      ],
      "execution_count": null,
      "outputs": [
        {
          "output_type": "execute_result",
          "data": {
            "text/plain": [
              "Olympic_ID     int64\n",
              "Event_ID       int64\n",
              "Sport         object\n",
              "Event         object\n",
              "dtype: object"
            ]
          },
          "metadata": {
            "tags": []
          },
          "execution_count": 25
        }
      ]
    },
    {
      "cell_type": "code",
      "metadata": {
        "id": "puf7l3gcqS0h"
      },
      "source": [
        "olympic_game.to_csv('./olympic_game.csv')\n",
        "game_event.to_csv('./game_event.csv')\n",
        "participates.to_csv('./participates.csv')"
      ],
      "execution_count": null,
      "outputs": []
    },
    {
      "cell_type": "markdown",
      "metadata": {
        "id": "jqzbMWoY-Nzd"
      },
      "source": [
        "**Creating Participate.csv**"
      ]
    },
    {
      "cell_type": "code",
      "metadata": {
        "id": "ERk1UCTJA66h"
      },
      "source": [
        "test = pd.merge(test, game_event, how=\"left\", on=[\"Olympic_ID\", \"Sport\", \"Event\"])"
      ],
      "execution_count": null,
      "outputs": []
    },
    {
      "cell_type": "code",
      "metadata": {
        "colab": {
          "base_uri": "https://localhost:8080/",
          "height": 898
        },
        "id": "aeEtpJfI1b6B",
        "outputId": "ca628638-6e92-4257-d446-f4613bd51c8d"
      },
      "source": [
        "test"
      ],
      "execution_count": null,
      "outputs": [
        {
          "output_type": "execute_result",
          "data": {
            "text/html": [
              "<div>\n",
              "<style scoped>\n",
              "    .dataframe tbody tr th:only-of-type {\n",
              "        vertical-align: middle;\n",
              "    }\n",
              "\n",
              "    .dataframe tbody tr th {\n",
              "        vertical-align: top;\n",
              "    }\n",
              "\n",
              "    .dataframe thead th {\n",
              "        text-align: right;\n",
              "    }\n",
              "</style>\n",
              "<table border=\"1\" class=\"dataframe\">\n",
              "  <thead>\n",
              "    <tr style=\"text-align: right;\">\n",
              "      <th></th>\n",
              "      <th>Olympic_ID</th>\n",
              "      <th>City</th>\n",
              "      <th>Year</th>\n",
              "      <th>Season</th>\n",
              "      <th>ID</th>\n",
              "      <th>Name</th>\n",
              "      <th>Sex</th>\n",
              "      <th>Age</th>\n",
              "      <th>Height</th>\n",
              "      <th>Weight</th>\n",
              "      <th>Team</th>\n",
              "      <th>NOC</th>\n",
              "      <th>Games</th>\n",
              "      <th>Sport</th>\n",
              "      <th>Event</th>\n",
              "      <th>Medal</th>\n",
              "      <th>Event_ID</th>\n",
              "    </tr>\n",
              "  </thead>\n",
              "  <tbody>\n",
              "    <tr>\n",
              "      <th>0</th>\n",
              "      <td>0</td>\n",
              "      <td>Athina</td>\n",
              "      <td>1896</td>\n",
              "      <td>Summer</td>\n",
              "      <td>12068</td>\n",
              "      <td>Arthur Charles Blake</td>\n",
              "      <td>M</td>\n",
              "      <td>24.0</td>\n",
              "      <td>NaN</td>\n",
              "      <td>NaN</td>\n",
              "      <td>United States</td>\n",
              "      <td>USA</td>\n",
              "      <td>1896 Summer</td>\n",
              "      <td>Athletics</td>\n",
              "      <td>Athletics Men's 1,500 metres</td>\n",
              "      <td>Silver</td>\n",
              "      <td>0</td>\n",
              "    </tr>\n",
              "    <tr>\n",
              "      <th>1</th>\n",
              "      <td>0</td>\n",
              "      <td>Athina</td>\n",
              "      <td>1896</td>\n",
              "      <td>Summer</td>\n",
              "      <td>12068</td>\n",
              "      <td>Arthur Charles Blake</td>\n",
              "      <td>M</td>\n",
              "      <td>24.0</td>\n",
              "      <td>NaN</td>\n",
              "      <td>NaN</td>\n",
              "      <td>United States</td>\n",
              "      <td>USA</td>\n",
              "      <td>1896 Summer</td>\n",
              "      <td>Athletics</td>\n",
              "      <td>Athletics Men's Marathon</td>\n",
              "      <td>NaN</td>\n",
              "      <td>1</td>\n",
              "    </tr>\n",
              "    <tr>\n",
              "      <th>2</th>\n",
              "      <td>0</td>\n",
              "      <td>Athina</td>\n",
              "      <td>1896</td>\n",
              "      <td>Summer</td>\n",
              "      <td>12563</td>\n",
              "      <td>Conrad Helmut Fritz Bcker</td>\n",
              "      <td>M</td>\n",
              "      <td>25.0</td>\n",
              "      <td>NaN</td>\n",
              "      <td>NaN</td>\n",
              "      <td>Germany</td>\n",
              "      <td>GER</td>\n",
              "      <td>1896 Summer</td>\n",
              "      <td>Gymnastics</td>\n",
              "      <td>Gymnastics Men's Horse Vault</td>\n",
              "      <td>NaN</td>\n",
              "      <td>2</td>\n",
              "    </tr>\n",
              "    <tr>\n",
              "      <th>3</th>\n",
              "      <td>0</td>\n",
              "      <td>Athina</td>\n",
              "      <td>1896</td>\n",
              "      <td>Summer</td>\n",
              "      <td>12563</td>\n",
              "      <td>Conrad Helmut Fritz Bcker</td>\n",
              "      <td>M</td>\n",
              "      <td>25.0</td>\n",
              "      <td>NaN</td>\n",
              "      <td>NaN</td>\n",
              "      <td>Germany</td>\n",
              "      <td>GER</td>\n",
              "      <td>1896 Summer</td>\n",
              "      <td>Gymnastics</td>\n",
              "      <td>Gymnastics Men's Parallel Bars</td>\n",
              "      <td>NaN</td>\n",
              "      <td>3</td>\n",
              "    </tr>\n",
              "    <tr>\n",
              "      <th>4</th>\n",
              "      <td>0</td>\n",
              "      <td>Athina</td>\n",
              "      <td>1896</td>\n",
              "      <td>Summer</td>\n",
              "      <td>12563</td>\n",
              "      <td>Conrad Helmut Fritz Bcker</td>\n",
              "      <td>M</td>\n",
              "      <td>25.0</td>\n",
              "      <td>NaN</td>\n",
              "      <td>NaN</td>\n",
              "      <td>Germany</td>\n",
              "      <td>GER</td>\n",
              "      <td>1896 Summer</td>\n",
              "      <td>Gymnastics</td>\n",
              "      <td>Gymnastics Men's Parallel Bars, Teams</td>\n",
              "      <td>Gold</td>\n",
              "      <td>4</td>\n",
              "    </tr>\n",
              "    <tr>\n",
              "      <th>...</th>\n",
              "      <td>...</td>\n",
              "      <td>...</td>\n",
              "      <td>...</td>\n",
              "      <td>...</td>\n",
              "      <td>...</td>\n",
              "      <td>...</td>\n",
              "      <td>...</td>\n",
              "      <td>...</td>\n",
              "      <td>...</td>\n",
              "      <td>...</td>\n",
              "      <td>...</td>\n",
              "      <td>...</td>\n",
              "      <td>...</td>\n",
              "      <td>...</td>\n",
              "      <td>...</td>\n",
              "      <td>...</td>\n",
              "      <td>...</td>\n",
              "    </tr>\n",
              "    <tr>\n",
              "      <th>259421</th>\n",
              "      <td>49</td>\n",
              "      <td>Rio de Janeiro</td>\n",
              "      <td>2016</td>\n",
              "      <td>Summer</td>\n",
              "      <td>135528</td>\n",
              "      <td>Marc Zwiebler</td>\n",
              "      <td>M</td>\n",
              "      <td>32.0</td>\n",
              "      <td>181.0</td>\n",
              "      <td>75.0</td>\n",
              "      <td>Germany</td>\n",
              "      <td>GER</td>\n",
              "      <td>2016 Summer</td>\n",
              "      <td>Badminton</td>\n",
              "      <td>Badminton Men's Singles</td>\n",
              "      <td>NaN</td>\n",
              "      <td>588</td>\n",
              "    </tr>\n",
              "    <tr>\n",
              "      <th>259422</th>\n",
              "      <td>49</td>\n",
              "      <td>Rio de Janeiro</td>\n",
              "      <td>2016</td>\n",
              "      <td>Summer</td>\n",
              "      <td>135547</td>\n",
              "      <td>Viktoriya Viktorovna Zyabkina</td>\n",
              "      <td>F</td>\n",
              "      <td>23.0</td>\n",
              "      <td>174.0</td>\n",
              "      <td>62.0</td>\n",
              "      <td>Kazakhstan</td>\n",
              "      <td>KAZ</td>\n",
              "      <td>2016 Summer</td>\n",
              "      <td>Athletics</td>\n",
              "      <td>Athletics Women's 100 metres</td>\n",
              "      <td>NaN</td>\n",
              "      <td>341</td>\n",
              "    </tr>\n",
              "    <tr>\n",
              "      <th>259423</th>\n",
              "      <td>49</td>\n",
              "      <td>Rio de Janeiro</td>\n",
              "      <td>2016</td>\n",
              "      <td>Summer</td>\n",
              "      <td>135547</td>\n",
              "      <td>Viktoriya Viktorovna Zyabkina</td>\n",
              "      <td>F</td>\n",
              "      <td>23.0</td>\n",
              "      <td>174.0</td>\n",
              "      <td>62.0</td>\n",
              "      <td>Kazakhstan</td>\n",
              "      <td>KAZ</td>\n",
              "      <td>2016 Summer</td>\n",
              "      <td>Athletics</td>\n",
              "      <td>Athletics Women's 200 metres</td>\n",
              "      <td>NaN</td>\n",
              "      <td>405</td>\n",
              "    </tr>\n",
              "    <tr>\n",
              "      <th>259424</th>\n",
              "      <td>49</td>\n",
              "      <td>Rio de Janeiro</td>\n",
              "      <td>2016</td>\n",
              "      <td>Summer</td>\n",
              "      <td>135547</td>\n",
              "      <td>Viktoriya Viktorovna Zyabkina</td>\n",
              "      <td>F</td>\n",
              "      <td>23.0</td>\n",
              "      <td>174.0</td>\n",
              "      <td>62.0</td>\n",
              "      <td>Kazakhstan</td>\n",
              "      <td>KAZ</td>\n",
              "      <td>2016 Summer</td>\n",
              "      <td>Athletics</td>\n",
              "      <td>Athletics Women's 4 x 100 metres Relay</td>\n",
              "      <td>NaN</td>\n",
              "      <td>342</td>\n",
              "    </tr>\n",
              "    <tr>\n",
              "      <th>259425</th>\n",
              "      <td>49</td>\n",
              "      <td>Rio de Janeiro</td>\n",
              "      <td>2016</td>\n",
              "      <td>Summer</td>\n",
              "      <td>135568</td>\n",
              "      <td>Olga Igorevna Zyuzkova</td>\n",
              "      <td>F</td>\n",
              "      <td>33.0</td>\n",
              "      <td>171.0</td>\n",
              "      <td>69.0</td>\n",
              "      <td>Belarus</td>\n",
              "      <td>BLR</td>\n",
              "      <td>2016 Summer</td>\n",
              "      <td>Basketball</td>\n",
              "      <td>Basketball Women's Basketball</td>\n",
              "      <td>NaN</td>\n",
              "      <td>507</td>\n",
              "    </tr>\n",
              "  </tbody>\n",
              "</table>\n",
              "<p>259426 rows × 17 columns</p>\n",
              "</div>"
            ],
            "text/plain": [
              "        Olympic_ID            City  ...   Medal Event_ID\n",
              "0                0          Athina  ...  Silver        0\n",
              "1                0          Athina  ...     NaN        1\n",
              "2                0          Athina  ...     NaN        2\n",
              "3                0          Athina  ...     NaN        3\n",
              "4                0          Athina  ...    Gold        4\n",
              "...            ...             ...  ...     ...      ...\n",
              "259421          49  Rio de Janeiro  ...     NaN      588\n",
              "259422          49  Rio de Janeiro  ...     NaN      341\n",
              "259423          49  Rio de Janeiro  ...     NaN      405\n",
              "259424          49  Rio de Janeiro  ...     NaN      342\n",
              "259425          49  Rio de Janeiro  ...     NaN      507\n",
              "\n",
              "[259426 rows x 17 columns]"
            ]
          },
          "metadata": {
            "tags": []
          },
          "execution_count": 28
        }
      ]
    },
    {
      "cell_type": "code",
      "metadata": {
        "colab": {
          "base_uri": "https://localhost:8080/"
        },
        "id": "6JJ6BtrMxgGq",
        "outputId": "6699c8d7-362e-4cd7-b577-96286a58220e"
      },
      "source": [
        "test.shape"
      ],
      "execution_count": null,
      "outputs": [
        {
          "output_type": "execute_result",
          "data": {
            "text/plain": [
              "(259426, 17)"
            ]
          },
          "metadata": {
            "tags": []
          },
          "execution_count": 29
        }
      ]
    },
    {
      "cell_type": "code",
      "metadata": {
        "id": "5x_chwfnADtN"
      },
      "source": [
        "test = test[['Olympic_ID', 'Event_ID', 'ID', 'Medal']]\n",
        "test = test.rename(columns={\"ID\": \"Athlete_ID\"})"
      ],
      "execution_count": null,
      "outputs": []
    },
    {
      "cell_type": "code",
      "metadata": {
        "colab": {
          "base_uri": "https://localhost:8080/"
        },
        "id": "GEpVMVUbyE5q",
        "outputId": "8cfe19a1-66f9-4b42-93e9-b87f0031d905"
      },
      "source": [
        "test = test.drop_duplicates()\n",
        "test.shape"
      ],
      "execution_count": null,
      "outputs": [
        {
          "output_type": "execute_result",
          "data": {
            "text/plain": [
              "(259420, 4)"
            ]
          },
          "metadata": {
            "tags": []
          },
          "execution_count": 31
        }
      ]
    }
  ]
}